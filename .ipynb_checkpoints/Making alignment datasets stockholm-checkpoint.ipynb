{
 "cells": [
  {
   "cell_type": "code",
   "execution_count": 1,
   "metadata": {
    "collapsed": true
   },
   "outputs": [],
   "source": [
    "import numpy as np\n",
    "from Bio import AlignIO\n",
    "import sys, h5py\n",
    "sys.path.append('../..')\n",
    "import mutagenesisfunctions as mf\n",
    "import time as time\n",
    "\n",
    "from __future__ import absolute_import\n",
    "from __future__ import division\n",
    "from __future__ import print_function\n",
    "\n",
    "\n",
    "def seq_bunchshuffle(Xpos, numdata, seqlen, bunchsize=(10, 75)):\n",
    "\n",
    "    #n = the number of bunches per sequence\n",
    "    smallbunch, largebunch = bunchsize\n",
    "    n_upper = seqlen//smallbunch\n",
    "    n_lower = seqlen//largebunch\n",
    "\n",
    "    Xshuffle = np.zeros((np.shape(Xpos)))\n",
    "    ns = []\n",
    "    for seq in range(numdata):\n",
    "        Xcopy = np.copy(Xpos[seq])\n",
    "\n",
    "        n = np.random.randint(n_lower, n_upper)\n",
    "\n",
    "        bunchidx = [i*(seqlen//n) for i in range(n)]\n",
    "        bunchidx.append(seqlen)\n",
    "\n",
    "        start=0\n",
    "        randidx = np.random.permutation(n)\n",
    "        for i in range(n):\n",
    "            idx = randidx[i]\n",
    "            space = bunchidx[idx+1]-bunchidx[idx]\n",
    "            Xshuffle[seq, start:start+space, :, :] = Xcopy[bunchidx[idx]:bunchidx[idx+1], :, :]\n",
    "            start = start + space\n",
    "            \n",
    "    return (Xshuffle)"
   ]
  },
  {
   "cell_type": "code",
   "execution_count": 10,
   "metadata": {
    "collapsed": false
   },
   "outputs": [
    {
     "name": "stdout",
     "output_type": "stream",
     "text": [
      "---------------glna-----------------\n",
      "Open positive control: 56.13s\n",
      "Making neg control emitted from frequency profile: 0.16s\n",
      "Making neg control as shuffled pos: 0.0s\n",
      "=================0.0=================\n",
      "Saving data: 0.0s\n",
      "Saving to: ../data_background/glna_100k_sh0.hdf5\n",
      "=================0.25=================\n",
      "Saving data: 0.0s\n",
      "Saving to: ../data_background/glna_100k_sh25.hdf5\n",
      "=================0.5=================\n",
      "Saving data: 0.0s\n",
      "Saving to: ../data_background/glna_100k_sh50.hdf5\n",
      "=================0.75=================\n",
      "Saving data: 0.0s\n",
      "Saving to: ../data_background/glna_100k_sh75.hdf5\n",
      "=================1.0=================\n",
      "Saving data: 0.0s\n",
      "Saving to: ../data_background/glna_100k_sh100.hdf5\n",
      "---------------trna-----------------\n"
     ]
    },
    {
     "ename": "KeyboardInterrupt",
     "evalue": "",
     "output_type": "error",
     "traceback": [
      "\u001b[0;31m---------------------------------------------------------------------------\u001b[0m",
      "\u001b[0;31mKeyboardInterrupt\u001b[0m                         Traceback (most recent call last)",
      "\u001b[0;32m<ipython-input-10-bd3701287b19>\u001b[0m in \u001b[0;36m<module>\u001b[0;34m()\u001b[0m\n\u001b[1;32m     10\u001b[0m     \u001b[0;31m#Open positive control simulated sequences\u001b[0m\u001b[0;34m\u001b[0m\u001b[0;34m\u001b[0m\u001b[0m\n\u001b[1;32m     11\u001b[0m     \u001b[0mstarttime\u001b[0m \u001b[0;34m=\u001b[0m \u001b[0mtime\u001b[0m\u001b[0;34m.\u001b[0m\u001b[0mtime\u001b[0m\u001b[0;34m(\u001b[0m\u001b[0;34m)\u001b[0m\u001b[0;34m\u001b[0m\u001b[0m\n\u001b[0;32m---> 12\u001b[0;31m     \u001b[0mXpos\u001b[0m \u001b[0;34m=\u001b[0m \u001b[0mmf\u001b[0m\u001b[0;34m.\u001b[0m\u001b[0msto_onehot\u001b[0m\u001b[0;34m(\u001b[0m\u001b[0msimalign_file\u001b[0m\u001b[0;34m,\u001b[0m \u001b[0;34m'rna'\u001b[0m\u001b[0;34m)\u001b[0m\u001b[0;34m\u001b[0m\u001b[0m\n\u001b[0m\u001b[1;32m     13\u001b[0m     \u001b[0mXpos\u001b[0m \u001b[0;34m=\u001b[0m \u001b[0mnp\u001b[0m\u001b[0;34m.\u001b[0m\u001b[0mexpand_dims\u001b[0m\u001b[0;34m(\u001b[0m\u001b[0mXpos\u001b[0m\u001b[0;34m,\u001b[0m \u001b[0maxis\u001b[0m\u001b[0;34m=\u001b[0m\u001b[0;36m2\u001b[0m\u001b[0;34m)\u001b[0m\u001b[0;34m[\u001b[0m\u001b[0;34m:\u001b[0m\u001b[0;36m10\u001b[0m\u001b[0;34m]\u001b[0m\u001b[0;34m\u001b[0m\u001b[0m\n\u001b[1;32m     14\u001b[0m     \u001b[0;32mprint\u001b[0m \u001b[0;34m(\u001b[0m\u001b[0;34m'Open positive control: '\u001b[0m \u001b[0;34m+\u001b[0m \u001b[0mmf\u001b[0m\u001b[0;34m.\u001b[0m\u001b[0msectotime\u001b[0m\u001b[0;34m(\u001b[0m\u001b[0mtime\u001b[0m\u001b[0;34m.\u001b[0m\u001b[0mtime\u001b[0m\u001b[0;34m(\u001b[0m\u001b[0;34m)\u001b[0m\u001b[0;34m-\u001b[0m\u001b[0mstarttime\u001b[0m\u001b[0;34m)\u001b[0m\u001b[0;34m)\u001b[0m\u001b[0;34m\u001b[0m\u001b[0m\n",
      "\u001b[0;32m/home/peter/steffan/mutagenesisfunctions.pyc\u001b[0m in \u001b[0;36msto_onehot\u001b[0;34m(simalign_file, alphabet, gaps)\u001b[0m\n\u001b[1;32m    781\u001b[0m     \u001b[0;32mfor\u001b[0m \u001b[0mrecord\u001b[0m \u001b[0;32min\u001b[0m \u001b[0malignment\u001b[0m\u001b[0;34m:\u001b[0m\u001b[0;34m\u001b[0m\u001b[0m\n\u001b[1;32m    782\u001b[0m         \u001b[0msequences\u001b[0m\u001b[0;34m.\u001b[0m\u001b[0mappend\u001b[0m\u001b[0;34m(\u001b[0m\u001b[0mrecord\u001b[0m\u001b[0;34m.\u001b[0m\u001b[0mseq\u001b[0m\u001b[0;34m)\u001b[0m\u001b[0;34m\u001b[0m\u001b[0m\n\u001b[0;32m--> 783\u001b[0;31m     \u001b[0mX_data\u001b[0m \u001b[0;34m=\u001b[0m \u001b[0mseq_onehot\u001b[0m\u001b[0;34m(\u001b[0m\u001b[0msequences\u001b[0m\u001b[0;34m=\u001b[0m\u001b[0msequences\u001b[0m\u001b[0;34m,\u001b[0m \u001b[0malphabet\u001b[0m\u001b[0;34m=\u001b[0m\u001b[0malphabet\u001b[0m\u001b[0;34m,\u001b[0m \u001b[0mgaps\u001b[0m\u001b[0;34m=\u001b[0m\u001b[0mgaps\u001b[0m\u001b[0;34m)\u001b[0m\u001b[0;34m\u001b[0m\u001b[0m\n\u001b[0m\u001b[1;32m    784\u001b[0m     \u001b[0;32mreturn\u001b[0m \u001b[0;34m(\u001b[0m\u001b[0mX_data\u001b[0m\u001b[0;34m)\u001b[0m\u001b[0;34m\u001b[0m\u001b[0m\n\u001b[1;32m    785\u001b[0m \u001b[0;34m\u001b[0m\u001b[0m\n",
      "\u001b[0;32m/home/peter/steffan/mutagenesisfunctions.pyc\u001b[0m in \u001b[0;36mseq_onehot\u001b[0;34m(sequences, alphabet, gaps)\u001b[0m\n\u001b[1;32m    876\u001b[0m     \u001b[0;32mfor\u001b[0m \u001b[0mi1\u001b[0m\u001b[0;34m,\u001b[0m\u001b[0mseq\u001b[0m \u001b[0;32min\u001b[0m \u001b[0menumerate\u001b[0m\u001b[0;34m(\u001b[0m\u001b[0msequences\u001b[0m\u001b[0;34m)\u001b[0m\u001b[0;34m:\u001b[0m\u001b[0;34m\u001b[0m\u001b[0m\n\u001b[1;32m    877\u001b[0m         \u001b[0;32mfor\u001b[0m \u001b[0mi2\u001b[0m\u001b[0;34m,\u001b[0m \u001b[0mn\u001b[0m \u001b[0;32min\u001b[0m \u001b[0menumerate\u001b[0m\u001b[0;34m(\u001b[0m\u001b[0mseq\u001b[0m\u001b[0;34m)\u001b[0m\u001b[0;34m:\u001b[0m\u001b[0;34m\u001b[0m\u001b[0m\n\u001b[0;32m--> 878\u001b[0;31m             \u001b[0monehot\u001b[0m\u001b[0;34m[\u001b[0m\u001b[0mi1\u001b[0m\u001b[0;34m]\u001b[0m\u001b[0;34m[\u001b[0m\u001b[0mi2\u001b[0m\u001b[0;34m]\u001b[0m\u001b[0;34m[\u001b[0m\u001b[0mndict\u001b[0m\u001b[0;34m[\u001b[0m\u001b[0mn\u001b[0m\u001b[0;34m]\u001b[0m\u001b[0;34m]\u001b[0m \u001b[0;34m=\u001b[0m \u001b[0;36m1.\u001b[0m\u001b[0;34m\u001b[0m\u001b[0m\n\u001b[0m\u001b[1;32m    879\u001b[0m     \u001b[0;32mif\u001b[0m \u001b[0mgaps\u001b[0m \u001b[0;34m==\u001b[0m \u001b[0mFalse\u001b[0m\u001b[0;34m:\u001b[0m\u001b[0;34m\u001b[0m\u001b[0m\n\u001b[1;32m    880\u001b[0m             \u001b[0monehot\u001b[0m \u001b[0;34m=\u001b[0m \u001b[0monehot\u001b[0m\u001b[0;34m[\u001b[0m\u001b[0;34m:\u001b[0m\u001b[0;34m,\u001b[0m \u001b[0;34m:\u001b[0m\u001b[0;34m,\u001b[0m \u001b[0;34m:\u001b[0m\u001b[0mdims\u001b[0m\u001b[0;34m]\u001b[0m\u001b[0;34m\u001b[0m\u001b[0m\n",
      "\u001b[0;31mKeyboardInterrupt\u001b[0m: "
     ]
    }
   ],
   "source": [
    "modelarch_list = ['glna', 'trna', 'riboswitch']\n",
    "simalign_file_list = ['../data_RFAM/glnAsim_100k.sto', '../data_RFAM/trnasim_100k.sto', '../data_RFAM/riboswitch_100k.sto']\n",
    "modeliters = zip(modelarch_list, simalign_file_list)\n",
    "\n",
    "shufflepercent_list = [0., 0.25, 0.5, 0.75, 1.0]\n",
    "\n",
    "for modelarch, simalign_file in modeliters:\n",
    "    print ('---------------%s-----------------'%(modelarch))\n",
    "\n",
    "    #Open positive control simulated sequences\n",
    "    starttime = time.time()\n",
    "    Xpos = mf.sto_onehot(simalign_file, 'rna')\n",
    "    Xpos = np.expand_dims(Xpos, axis=2)[:10]\n",
    "    print ('Open positive control: ' + mf.sectotime(time.time()-starttime))\n",
    "\n",
    "    starttime = time.time()\n",
    "\n",
    "    ################ PROFILE ##############################\n",
    "    #Emit sequences from the positive control profile\n",
    "    Xprofile = np.squeeze(np.mean(Xpos, axis=0))\n",
    "    numdata, seqlen, _, dims = Xpos.shape\n",
    "    dims = dims-1\n",
    "    Xnegprofile = mf.seq_generator_profile(Xprofile, numdata, seqlen, dims)\n",
    "\n",
    "    print ('Making neg control emitted from frequency profile: '\n",
    "           + mf.sectotime(time.time() - starttime))\n",
    "\n",
    "    starttime = time.time()\n",
    "\n",
    "    ################ SHUFFLE #######################\n",
    "    #Create a negative control of randomly suffled sequences\n",
    "    numdata, seqlen, _, dims = Xpos.shape\n",
    "    dims = dims-1\n",
    "\n",
    "    Xnegshuffle = seq_bunchshuffle(Xpos, numdata, seqlen)\n",
    "\n",
    "    print ('Making neg control as shuffled pos: ' + mf.sectotime(time.time() - starttime))\n",
    "\n",
    "    ################ COMBINE ######################\n",
    "    for shuff in shufflepercent_list:\n",
    "        print ('=================shufflepercent: %s================='%(str(shuff)))\n",
    "        #percent of shuffled negative controls\n",
    "        shufflepercent = shuff\n",
    "        numdata, seqlen, _, dims = Xpos.shape\n",
    "        dims = dims-1\n",
    "        shuffleportion = np.random.permutation(numdata)[:int(numdata*shufflepercent)]\n",
    "        Xneg = np.concatenate((Xnegprofile[:int(numdata*(1-shufflepercent))], Xnegshuffle[shuffleportion]))\n",
    "\n",
    "        #rejoin pos and neg controls\n",
    "        X_data = np.concatenate((Xpos, Xnegprofile), axis=0)\n",
    "        numdata, seqlen, _, dims = X_data.shape\n",
    "        dims = dims-1\n",
    "\n",
    "        ################ LABELS ####################\n",
    "        #make Y data\n",
    "        Y_data = np.zeros((numdata, 1))\n",
    "        Y_data[:numdata//2, :] = 1.\n",
    "\n",
    "        starttime = time.time()\n",
    "\n",
    "        ################ SAVE #######################\n",
    "        #Save dictionaries into h5py files\n",
    "        savepath = '../data_background/%s_100k_sh%0.f.hdf5'%(modelarch, shuff*100)\n",
    "        with h5py.File(savepath, 'w') as f:\n",
    "            f.create_dataset('X_data', data=X_data.astype(np.float32), compression='gzip')\n",
    "            f.create_dataset('Y_data', data=Y_data.astype(np.float32), compression='gzip')\n",
    "        print ('Saving data: ' + mf.sectotime(time.time() - starttime))\n",
    "        print ('Saving to: %s'%(savepath))"
   ]
  },
  {
   "cell_type": "code",
   "execution_count": 11,
   "metadata": {
    "collapsed": false
   },
   "outputs": [
    {
     "name": "stdout",
     "output_type": "stream",
     "text": [
      "Data extraction completed in: 0.00757884979248s\n"
     ]
    }
   ],
   "source": [
    "starttime = time.time()\n",
    "\n",
    "#Open data from h5py\n",
    "\n",
    "data_path = savepath\n",
    "with h5py.File(data_path, 'r') as dataset:\n",
    "    X_data = np.array(dataset['X_data'])\n",
    "    Y_data = np.array(dataset['Y_data'])\n",
    "    \n",
    "num_data, seq_length, _, dims = X_data.shape\n",
    "dims = dims-1\n",
    "    \n",
    "print ('Data extraction completed in: ' + str(time.time() - starttime) + 's')"
   ]
  },
  {
   "cell_type": "code",
   "execution_count": 12,
   "metadata": {
    "collapsed": false
   },
   "outputs": [
    {
     "data": {
      "text/plain": [
       "(20, 893, 1, 5)"
      ]
     },
     "execution_count": 12,
     "metadata": {},
     "output_type": "execute_result"
    }
   ],
   "source": [
    "X_data.shape"
   ]
  },
  {
   "cell_type": "code",
   "execution_count": null,
   "metadata": {
    "collapsed": true
   },
   "outputs": [],
   "source": [
    "#build model from seed\n",
    "! cmbuild ../../data_RFAM/RF01739.cm ../data_RFAM/seeds/RF01739.sto"
   ]
  },
  {
   "cell_type": "code",
   "execution_count": null,
   "metadata": {
    "collapsed": true
   },
   "outputs": [],
   "source": [
    "#emit sequences from alignment\n",
    "! cmemit -a -N 100000 --seed 274 -o ../../data_RFAM/glnAsim_100k.sto ../../data_RFAM/RF01739.cm"
   ]
  },
  {
   "cell_type": "code",
   "execution_count": 3,
   "metadata": {
    "collapsed": true
   },
   "outputs": [],
   "source": [
    "#open file\n",
    "filename = '../data_RFAM/glnAsim_100k.sto'\n",
    "alignment = AlignIO.read(open(filename), \"stockholm\")"
   ]
  },
  {
   "cell_type": "code",
   "execution_count": 2,
   "metadata": {
    "collapsed": false
   },
   "outputs": [
    {
     "name": "stdout",
     "output_type": "stream",
     "text": [
      "Open positive control: 50.14s\n"
     ]
    }
   ],
   "source": [
    "#Open positive control simulated sequences\n",
    "starttime = time.time()\n",
    "simalign_file = '../data_RFAM/riboswitch_100k.sto'\n",
    "Xpos = mf.sto_onehot(simalign_file, 'rna')\n",
    "Xpos = np.expand_dims(Xpos, axis=2)\n",
    "print ('Open positive control: ' + mf.sectotime(time.time()-starttime))"
   ]
  },
  {
   "cell_type": "code",
   "execution_count": 3,
   "metadata": {
    "collapsed": true
   },
   "outputs": [],
   "source": [
    "simalign_file = '../data_RFAM/trnasim_100k.sto'\n",
    "\n",
    "#Get the full secondary structure and sequence consensus from the emission\n",
    "SS = mf.getSSconsensus(simalign_file)\n",
    "SQ = mf.getSQconsensus(simalign_file)"
   ]
  },
  {
   "cell_type": "code",
   "execution_count": null,
   "metadata": {
    "collapsed": true
   },
   "outputs": [],
   "source": [
    "#Get the ungapped sequence and the indices of ungapped nucleotides\n",
    "_, ugSS, ugidx = mf.rm_consensus_gaps(X_data, SS)\n",
    "_, ugSQ, _ = mf.rm_consensus_gaps(X_data, SQ)\n",
    "len(ugidx)"
   ]
  },
  {
   "cell_type": "code",
   "execution_count": null,
   "metadata": {
    "collapsed": true
   },
   "outputs": [],
   "source": [
    "#Get the gapped indices in the consensus SS\n",
    "gapidx = mf.consensus_gaps(SS)\n",
    "len(gapidx)"
   ]
  },
  {
   "cell_type": "code",
   "execution_count": 26,
   "metadata": {
    "collapsed": true
   },
   "outputs": [],
   "source": [
    "#Get the sequence and indices of the conserved base pairs\n",
    "bpchars = ['(',')','<','>','{','}']\n",
    "sig_bpchars = ['<','>']\n",
    "bpidx, bpSS, nonbpidx = mf.sigbasepair(SS, bpchars)"
   ]
  },
  {
   "cell_type": "markdown",
   "metadata": {},
   "source": [
    "###### Negative control generated randomly"
   ]
  },
  {
   "cell_type": "code",
   "execution_count": null,
   "metadata": {
    "collapsed": true
   },
   "outputs": [],
   "source": [
    "#Make negative controls\n",
    "starttime = time.time()\n",
    "numdata, seqlen, _, dims = Xpos.shape\n",
    "dims = dims-1\n",
    "SS = mf.getSSconsensus(simalign_file)\n",
    "Xnegrandom = mf.seq_generator_gaps(SS, numdata, seqlen, dims, pgaps=(0.,0.))\n",
    "print ('Random sequence generation completed in: ' + mf.sectotime(time.time() - starttime))"
   ]
  },
  {
   "cell_type": "markdown",
   "metadata": {},
   "source": [
    "###### Negative control with copies of everything that is not a base pair"
   ]
  },
  {
   "cell_type": "code",
   "execution_count": 27,
   "metadata": {
    "collapsed": false
   },
   "outputs": [
    {
     "name": "stdout",
     "output_type": "stream",
     "text": [
      "Making neg control w/o base pairs: 6.71s\n",
      "Success!\n"
     ]
    }
   ],
   "source": [
    "starttime = time.time()\n",
    "\n",
    "#insert non base pair positive control things into negative control\n",
    "for s in range(Xpos.shape[0]):\n",
    "    Xneg[s, nonbpidx, :, :] = np.copy(Xpos[s, nonbpidx, :, :])\n",
    "\n",
    "print ('Making neg control w/o base pairs: ' + mf.sectotime(time.time() - starttime))\n",
    "\n",
    "#check\n",
    "if Xneg[:, gapidx, :, :].all() == Xpos[:, gapidx, :, :].all():\n",
    "    print ('Success!')"
   ]
  },
  {
   "cell_type": "markdown",
   "metadata": {},
   "source": [
    "###### Negative control with copies of just the gaps"
   ]
  },
  {
   "cell_type": "code",
   "execution_count": 5,
   "metadata": {
    "collapsed": false
   },
   "outputs": [
    {
     "name": "stdout",
     "output_type": "stream",
     "text": [
      "Making neg control w/ copy of pos control gaps: 1.05s\n",
      "Success\n"
     ]
    }
   ],
   "source": [
    "starttime = time.time()\n",
    "\n",
    "#insert gaps in the negative control where there were gaps in the positive control\n",
    "for s in range(Xpos.shape[0]):\n",
    "    gapidxcopy = np.where(Xpos[s,:,0,4]==1.)[0]\n",
    "    Xnegrandom[s, gapidxcopy, :, :] = np.array([0., 0. , 0. ,0., 1.])\n",
    "    \n",
    "print ('Making neg control w/ copy of pos control gaps: '\n",
    "       + mf.sectotime(time.time() - starttime))\n",
    "\n",
    "#check\n",
    "if np.sum(Xneg[:,:,:,4]) == np.sum(Xpos[:,:,:,4]):\n",
    "    print ('Success')"
   ]
  },
  {
   "cell_type": "markdown",
   "metadata": {},
   "source": [
    "###### Negative control emmitted from a mean profile of the data"
   ]
  },
  {
   "cell_type": "code",
   "execution_count": 3,
   "metadata": {
    "collapsed": false
   },
   "outputs": [
    {
     "name": "stdout",
     "output_type": "stream",
     "text": [
      "Making neg control emitted from frequency profile: 23min 44.319999999999936s\n"
     ]
    }
   ],
   "source": [
    "starttime = time.time()\n",
    "\n",
    "#Emit sequences from the positive control profile\n",
    "Xprofile = np.squeeze(np.mean(Xpos, axis=0))\n",
    "numdata, seqlen, _, dims = Xpos.shape\n",
    "dims = dims-1\n",
    "Xnegprofile = mf.seq_generator_profile(Xprofile, numdata, seqlen, dims)\n",
    "\n",
    "print ('Making neg control emitted from frequency profile: '\n",
    "       + mf.sectotime(time.time() - starttime))"
   ]
  },
  {
   "cell_type": "markdown",
   "metadata": {},
   "source": [
    "###### Negative control as a shuffled positive set"
   ]
  },
  {
   "cell_type": "code",
   "execution_count": 4,
   "metadata": {
    "collapsed": false,
    "scrolled": true
   },
   "outputs": [
    {
     "name": "stdout",
     "output_type": "stream",
     "text": [
      "Making neg control as shuffled pos: 8.22s\n"
     ]
    }
   ],
   "source": [
    "starttime = time.time()\n",
    "\n",
    "#Create a negative control of randomly suffled sequences\n",
    "numdata, seqlen, _, dims = Xpos.shape\n",
    "dims = dims-1\n",
    "\n",
    "def seq_bunchshuffle(Xpos, numdata, seqlen, bunchsize=(10, 75)):\n",
    "\n",
    "    #n = the number of bunches\n",
    "    smallbunch, largebunch = bunchsize\n",
    "    n_upper = seqlen//smallbunch\n",
    "    n_lower = seqlen//largebunch\n",
    "\n",
    "    Xshuffle = np.zeros((np.shape(Xpos)))\n",
    "    ns = []\n",
    "    for seq in range(numdata):\n",
    "        Xcopy = np.copy(Xpos[seq])\n",
    "\n",
    "        n = np.random.randint(n_lower, n_upper)\n",
    "\n",
    "        bunchidx = [i*(seqlen//n) for i in range(n)]\n",
    "        bunchidx.append(seqlen)\n",
    "\n",
    "        start=0\n",
    "        randidx = np.random.permutation(n)\n",
    "        for i in range(n):\n",
    "            idx = randidx[i]\n",
    "            space = bunchidx[idx+1]-bunchidx[idx]\n",
    "            Xshuffle[seq, start:start+space, :, :] = Xcopy[bunchidx[idx]:bunchidx[idx+1], :, :]\n",
    "            start = start + space\n",
    "            \n",
    "    return (Xshuffle)\n",
    "\n",
    "\n",
    "Xnegshuffle = seq_bunchshuffle(Xpos, numdata, seqlen)\n",
    "\n",
    "print ('Making neg control as shuffled pos: ' + mf.sectotime(time.time() - starttime))"
   ]
  },
  {
   "cell_type": "markdown",
   "metadata": {},
   "source": [
    "###### Combine some combination of profile emitted and shuffled sequences"
   ]
  },
  {
   "cell_type": "code",
   "execution_count": 11,
   "metadata": {
    "collapsed": true
   },
   "outputs": [],
   "source": [
    "#percent of shuffled negative controls\n",
    "shufflepercent = 0.25\n",
    "numdata, seqlen, _, dims = Xpos.shape\n",
    "dims = dims-1\n",
    "shuffleportion = np.random.permutation(numdata)[:int(numdata*shufflepercent)]\n",
    "Xneg = np.concatenate((Xnegprofile[:int(numdata*(1-shufflepercent))], Xnegshuffle[shuffleportion]))"
   ]
  },
  {
   "cell_type": "code",
   "execution_count": 15,
   "metadata": {
    "collapsed": true
   },
   "outputs": [],
   "source": [
    "#rejoin pos and neg controls\n",
    "X_data = np.concatenate((Xpos, Xnegprofile), axis=0)\n",
    "numdata, seqlen, _, dims = X_data.shape\n",
    "dims = dims-1"
   ]
  },
  {
   "cell_type": "code",
   "execution_count": 16,
   "metadata": {
    "collapsed": true
   },
   "outputs": [],
   "source": [
    "#make Y data\n",
    "Y_data = np.zeros((numdata, 1))\n",
    "Y_data[:numdata//2, :] = 1."
   ]
  },
  {
   "cell_type": "code",
   "execution_count": 17,
   "metadata": {
    "collapsed": false
   },
   "outputs": [
    {
     "name": "stdout",
     "output_type": "stream",
     "text": [
      "Saving data: 18.24s\n"
     ]
    }
   ],
   "source": [
    "starttime = time.time()\n",
    "\n",
    "#Save dictionaries into h5py files\n",
    "hdf5path = '../data_RFAM/riboswitch_100k_d5.hdf5'\n",
    "with h5py.File(hdf5path, 'w') as f:\n",
    "    f.create_dataset('X_data', data=X_data.astype(np.float32), compression='gzip')\n",
    "    f.create_dataset('Y_data', data=Y_data.astype(np.float32), compression='gzip')\n",
    "print ('Saving data: ' + mf.sectotime(time.time() - starttime))"
   ]
  },
  {
   "cell_type": "code",
   "execution_count": 2,
   "metadata": {
    "collapsed": false
   },
   "outputs": [
    {
     "name": "stdout",
     "output_type": "stream",
     "text": [
      "Data extraction completed in: 9.35376906395s\n"
     ]
    }
   ],
   "source": [
    "starttime = time.time()\n",
    "\n",
    "#Open data from h5py\n",
    "\n",
    "data_path = '../data_RFAM/trna_100k_d3.hdf5'\n",
    "with h5py.File(data_path, 'r') as dataset:\n",
    "    X_data = np.array(dataset['X_data'])\n",
    "    Y_data = np.array(dataset['Y_data'])\n",
    "    \n",
    "num_data, seq_length, _, dims = X_data.shape\n",
    "dims = dims-1\n",
    "    \n",
    "print ('Data extraction completed in: ' + str(time.time() - starttime) + 's')"
   ]
  },
  {
   "cell_type": "code",
   "execution_count": 3,
   "metadata": {
    "collapsed": true
   },
   "outputs": [],
   "source": [
    "Xpos = X_data[:100000]"
   ]
  },
  {
   "cell_type": "code",
   "execution_count": 5,
   "metadata": {
    "collapsed": true
   },
   "outputs": [],
   "source": [
    "shuffleportion = np.random.permutation(100000)[:25000]\n",
    "X_data[100000:125000] = Xnegshuffle[shuffleportion]"
   ]
  },
  {
   "cell_type": "code",
   "execution_count": 10,
   "metadata": {
    "collapsed": false
   },
   "outputs": [
    {
     "data": {
      "text/plain": [
       "(200000, 513, 1, 5)"
      ]
     },
     "execution_count": 10,
     "metadata": {},
     "output_type": "execute_result"
    }
   ],
   "source": [
    "X_data.shape"
   ]
  },
  {
   "cell_type": "code",
   "execution_count": null,
   "metadata": {
    "collapsed": true
   },
   "outputs": [],
   "source": [
    "#remove gaps from sequences\n",
    "ungapped = True\n",
    "if ungapped:\n",
    "    X_data = X_data[:, :, :, :dims]"
   ]
  },
  {
   "cell_type": "code",
   "execution_count": null,
   "metadata": {
    "collapsed": true
   },
   "outputs": [],
   "source": [
    "# get validation and test set from training set\n",
    "test_frac = 0.3\n",
    "valid_frac = 0.1\n",
    "N = numdata\n",
    "split_1 = int(N*(1-valid_frac-test_frac))\n",
    "split_2 = int(N*(1-test_frac))\n",
    "shuffle = np.random.permutation(N)\n",
    "\n",
    "#set up dictionaries\n",
    "train = {'inputs': X_data[shuffle[:split_1]], \n",
    "         'targets': Y_data[shuffle[:split_1]]}\n",
    "valid = {'inputs': X_data[shuffle[split_1:split_2]], \n",
    "         'targets': Y_data[shuffle[split_1:split_2]]}\n",
    "test = {'inputs': X_data[shuffle[split_2:]], \n",
    "         'targets': Y_data[shuffle[split_2:]]}"
   ]
  },
  {
   "cell_type": "code",
   "execution_count": 6,
   "metadata": {
    "collapsed": false
   },
   "outputs": [
    {
     "name": "stdout",
     "output_type": "stream",
     "text": [
      "Data extraction and dict construction completed in: 2s\n"
     ]
    }
   ],
   "source": [
    "print ('Data extraction and dict construction completed in: %ds' %2)"
   ]
  },
  {
   "cell_type": "code",
   "execution_count": null,
   "metadata": {
    "collapsed": true
   },
   "outputs": [],
   "source": []
  }
 ],
 "metadata": {
  "kernelspec": {
   "display_name": "Python 2",
   "language": "python",
   "name": "python2"
  },
  "language_info": {
   "codemirror_mode": {
    "name": "ipython",
    "version": 2
   },
   "file_extension": ".py",
   "mimetype": "text/x-python",
   "name": "python",
   "nbconvert_exporter": "python",
   "pygments_lexer": "ipython2",
   "version": "2.7.13"
  }
 },
 "nbformat": 4,
 "nbformat_minor": 1
}
