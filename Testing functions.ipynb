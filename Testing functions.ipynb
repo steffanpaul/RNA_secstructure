{
 "cells": [
  {
   "cell_type": "code",
   "execution_count": 1,
   "metadata": {
    "collapsed": false
   },
   "outputs": [],
   "source": [
    "from __future__ import absolute_import\n",
    "from __future__ import division\n",
    "from __future__ import print_function\n",
    "\n",
    "import os, sys, h5py\n",
    "import numpy as np\n",
    "import matplotlib.pyplot as plt\n",
    "%matplotlib inline\n",
    "import seaborn as sb\n",
    "import tensorflow as tf\n",
    "from deepomics import neuralnetwork as nn\n",
    "from deepomics import utils, fit, visualize, saliency\n",
    "\n",
    "import mutagenesis_functions as mf\n",
    "import time as time"
   ]
  },
  {
   "cell_type": "code",
   "execution_count": 2,
   "metadata": {
    "collapsed": false
   },
   "outputs": [],
   "source": [
    "# load hairpin data\n",
    "data_path = '../data_toyhairpin/random_sequences_with_custom_hl.hdf5'\n",
    "with h5py.File(data_path) as dataset:\n",
    "    X_train_seq = np.expand_dims(np.array(dataset['train_seq']).transpose([0, 2, 1]), axis=2)\n",
    "    X_train_struct = np.expand_dims(np.array(dataset['train_structures']).transpose([0, 2, 1]), axis=2)\n",
    "    Y_train = np.expand_dims(np.array(dataset['train_targets']), axis=1)\n",
    "    X_test_seq = np.expand_dims(np.array(dataset['test_seq']).transpose([0, 2, 1]), axis=2)\n",
    "    X_test_struct = np.expand_dims(np.array(dataset['test_structures']).transpose([0, 2, 1]), axis=2)\n",
    "    Y_test = np.expand_dims(np.array(dataset['test_targets']), axis=1)\n",
    "\n",
    "num_data, seq_length, _, num_alphabet = X_train_seq.shape\n",
    "\n",
    "# get validation set from training set\n",
    "valid_frac = 0.2\n",
    "N = len(X_train_seq)\n",
    "split_index = int(N*valid_frac)\n",
    "shuffle = np.random.permutation(N)\n",
    "\n",
    "# put in a dictionary for deepomics\n",
    "train = {'inputs': X_train_seq[shuffle[split_index:]], \n",
    "         'targets': Y_train[shuffle[split_index:]]}\n",
    "valid = {'inputs': X_train_seq[shuffle[:split_index]], \n",
    "         'targets': Y_train[shuffle[:split_index]]}\n",
    "test = {'inputs': X_test_seq, 'targets': Y_test}\n",
    "\n"
   ]
  },
  {
   "cell_type": "code",
   "execution_count": 3,
   "metadata": {
    "collapsed": false
   },
   "outputs": [],
   "source": [
    "def cnn_model(input_shape, output_shape):\n",
    "\n",
    "    # create model\n",
    "    layer1 = {'layer': 'input', #41\n",
    "            'input_shape': input_shape\n",
    "            }\n",
    "    \n",
    "    layer2 = {'layer': 'dense',        # input, conv1d, dense, conv1d_residual, dense_residual, conv1d_transpose,\n",
    "                                        # concat, embedding, variational_normal, variational_softmax, + more\n",
    "              'num_units': 196,\n",
    "              'norm': 'batch',          # if removed, automatically adds bias instead\n",
    "              'activation': 'relu',     # or leaky_relu, prelu, sigmoid, tanh, etc\n",
    "              'dropout': 0.5,           # if removed, default is no dropout\n",
    "             }\n",
    "    \n",
    "    layer3 = {'layer': 'dense',\n",
    "            'num_units': output_shape[1],\n",
    "            'activation': 'sigmoid'\n",
    "            }\n",
    "\n",
    "    model_layers = [layer1, layer2, layer3]\n",
    "\n",
    "    # optimization parameters\n",
    "    optimization = {\"objective\": \"binary\",\n",
    "                  \"optimizer\": \"adam\",\n",
    "                  \"learning_rate\": 0.0003,\n",
    "                  \"l2\": 1e-5,\n",
    "                  #\"label_smoothing\": 0.05,\n",
    "                  #\"l1\": 1e-6,\n",
    "                  }\n",
    "    return model_layers, optimization\n",
    "\n",
    "tf.reset_default_graph()\n",
    "\n",
    "# get shapes of inputs and targets\n",
    "input_shape = list(train['inputs'].shape)\n",
    "input_shape[0] = None\n",
    "output_shape = train['targets'].shape\n",
    "\n",
    "# load model parameters\n",
    "model_layers, optimization = cnn_model(input_shape, output_shape)\n",
    "\n",
    "# build neural network class\n",
    "nnmodel = nn.NeuralNet(seed=247)\n",
    "nnmodel.build_layers(model_layers, optimization)\n",
    "\n",
    "# compile neural trainer\n",
    "save_path = '../results/toyhairpin'\n",
    "param_path = os.path.join(save_path, 'fullyconnected_1_196')\n",
    "nntrainer = nn.NeuralTrainer(nnmodel, save='best', file_path=param_path)"
   ]
  },
  {
   "cell_type": "code",
   "execution_count": 4,
   "metadata": {
    "collapsed": false
   },
   "outputs": [
    {
     "name": "stdout",
     "output_type": "stream",
     "text": [
      "----------------------------------------------------------------------------\n",
      "Network architecture:\n",
      "----------------------------------------------------------------------------\n",
      "layer1: inputs\n",
      "(?, 41, 1, 4)\n",
      "layer2: dense_0\n",
      "(?, 196)\n",
      "layer3: dense_0_batch\n",
      "(?, 196)\n",
      "layer4: dense_0_active\n",
      "(?, 196)\n",
      "layer5: dense_0_dropout\n",
      "(?, 196)\n",
      "layer6: dense_1\n",
      "(?, 1)\n",
      "layer7: dense_1_bias\n",
      "(?, 1)\n",
      "layer8: output\n",
      "(?, 1)\n",
      "----------------------------------------------------------------------------\n"
     ]
    }
   ],
   "source": [
    "# look at the shapes of each layer\n",
    "nnmodel.inspect_layers()"
   ]
  },
  {
   "cell_type": "code",
   "execution_count": 5,
   "metadata": {
    "collapsed": false
   },
   "outputs": [
    {
     "name": "stdout",
     "output_type": "stream",
     "text": [
      "loading model from:  ../results/toyhairpin/fullyconnected_1_196_best.ckpt\n",
      "INFO:tensorflow:Restoring parameters from ../results/toyhairpin/fullyconnected_1_196_best.ckpt\n",
      "  test  loss:\t\t0.00263\n",
      "  test  accuracy:\t0.99998+/-0.00000\n",
      "  test  auc-roc:\t1.00000+/-0.00000\n",
      "  test  auc-pr:\t\t1.00000+/-0.00000\n"
     ]
    }
   ],
   "source": [
    "# initialize session\n",
    "sess = utils.initialize_session()\n",
    "\n",
    "# set best parameters\n",
    "nntrainer.set_best_parameters(sess)\n",
    "\n",
    "# test model\n",
    "loss, mean_vals, std_vals = nntrainer.test_model(sess, test, name='test')"
   ]
  },
  {
   "cell_type": "code",
   "execution_count": 6,
   "metadata": {
    "collapsed": true
   },
   "outputs": [],
   "source": [
    "#Get Predictions\n",
    "\n",
    "# calculate activations\n",
    "#predictionsoutput = nntrainer.get_activations(sess, test, layer='output')\n",
    "#predictionslogits = nntrainer.get_activations(sess, test, layer='dense_0_bias')"
   ]
  },
  {
   "cell_type": "code",
   "execution_count": 7,
   "metadata": {
    "collapsed": false
   },
   "outputs": [],
   "source": [
    "import mutagenesis_functions as mf\n"
   ]
  },
  {
   "cell_type": "code",
   "execution_count": 8,
   "metadata": {
    "collapsed": false,
    "scrolled": true
   },
   "outputs": [
    {
     "name": "stdout",
     "output_type": "stream",
     "text": [
      "loading model from:  ../results/toyhairpin/fullyconnected_1_196_best.ckpt\n",
      "INFO:tensorflow:Restoring parameters from ../results/toyhairpin/fullyconnected_1_196_best.ckpt\n"
     ]
    }
   ],
   "source": [
    "# initialize session\n",
    "sess = utils.initialize_session()\n",
    "\n",
    "# set best parameters\n",
    "nntrainer.set_best_parameters(sess)\n"
   ]
  },
  {
   "cell_type": "code",
   "execution_count": 9,
   "metadata": {
    "collapsed": false
   },
   "outputs": [
    {
     "name": "stdout",
     "output_type": "stream",
     "text": [
      "----------------Summing complete----------------\n"
     ]
    }
   ],
   "source": [
    "num_summary= 9\n",
    "X = test['inputs'][:num_summary]\n",
    "\n",
    "sumscores = mf.som_average(X, savepath = False, nntrainer=nntrainer, sess=sess, progress='off', save=False)\n",
    "\n",
    "mean_mut2 = sumscores/num_summary\n",
    "\n",
    "#Reshape into a holistic tensor organizing the mutations into 4*4\n",
    "meanhol_mut2 = mean_mut2.reshape(X.shape[1],X.shape[1],4,4)"
   ]
  },
  {
   "cell_type": "code",
   "execution_count": 10,
   "metadata": {
    "collapsed": false
   },
   "outputs": [
    {
     "name": "stderr",
     "output_type": "stream",
     "text": [
      "/home/peter/anaconda2/envs/tensorflow/lib/python2.7/site-packages/matplotlib/figure.py:1742: UserWarning: This figure includes Axes that are not compatible with tight_layout, so its results might be incorrect.\n",
      "  warnings.warn(\"This figure includes Axes that are not \"\n"
     ]
    },
    {
     "data": {
      "image/png": "[encoded data removed]",
      "text/plain": [
       "<matplotlib.figure.Figure at 0x7fb21526bc90>"
      ]
     },
     "metadata": {},
     "output_type": "display_data"
    }
   ],
   "source": [
    "mf.square_holplot(meanhol_mut2, num=3, alphabet='rna', title=True)"
   ]
  },
  {
   "cell_type": "code",
   "execution_count": null,
   "metadata": {
    "collapsed": true
   },
   "outputs": [],
   "source": []
  }
 ],
 "metadata": {
  "kernelspec": {
   "display_name": "Python 2",
   "language": "python",
   "name": "python2"
  },
  "language_info": {
   "codemirror_mode": {
    "name": "ipython",
    "version": 2
   },
   "file_extension": ".py",
   "mimetype": "text/x-python",
   "name": "python",
   "nbconvert_exporter": "python",
   "pygments_lexer": "ipython2",
   "version": "2.7.13"
  }
 },
 "nbformat": 4,
 "nbformat_minor": 2
}
