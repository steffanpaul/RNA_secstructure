{
 "cells": [
  {
   "cell_type": "code",
   "execution_count": 1,
   "metadata": {
    "collapsed": false
   },
   "outputs": [],
   "source": [
    "from __future__ import absolute_import\n",
    "from __future__ import division\n",
    "from __future__ import print_function\n",
    "\n",
    "import os, sys, h5py\n",
    "import numpy as np\n",
    "import matplotlib.pyplot as plt\n",
    "%matplotlib inline\n",
    "import seaborn as sb\n",
    "import tensorflow as tf\n",
    "from deepomics import neuralnetwork as nn\n",
    "from deepomics import utils, fit, visualize, saliency\n",
    "import scipy\n",
    "\n",
    "import sys\n",
    "sys.path.append('../../../..')\n",
    "import mutagenesisfunctions as mf\n",
    "import time as time"
   ]
  },
  {
   "cell_type": "code",
   "execution_count": 2,
   "metadata": {
    "collapsed": false
   },
   "outputs": [],
   "source": [
    "# load hairpin data\n",
    "data_path = '../../../data_toyhairpin/random_sequences_with_custom_hl.hdf5'\n",
    "with h5py.File(data_path) as dataset:\n",
    "    X_train_seq = np.expand_dims(np.array(dataset['train_seq']).transpose([0, 2, 1]), axis=2)\n",
    "    X_train_struct = np.expand_dims(np.array(dataset['train_structures']).transpose([0, 2, 1]), axis=2)\n",
    "    Y_train = np.expand_dims(np.array(dataset['train_targets']), axis=1)\n",
    "    X_test_seq = np.expand_dims(np.array(dataset['test_seq']).transpose([0, 2, 1]), axis=2)\n",
    "    X_test_struct = np.expand_dims(np.array(dataset['test_structures']).transpose([0, 2, 1]), axis=2)\n",
    "    Y_test = np.expand_dims(np.array(dataset['test_targets']), axis=1)\n",
    "\n",
    "num_data, seq_length, _, num_alphabet = X_train_seq.shape\n",
    "\n",
    "# get validation set from training set\n",
    "valid_frac = 0.2\n",
    "N = len(X_train_seq)\n",
    "split_index = int(N*valid_frac)\n",
    "shuffle = np.random.permutation(N)\n",
    "\n",
    "# put in a dictionary for deepomics\n",
    "train = {'inputs': X_train_seq[shuffle[split_index:]], \n",
    "         'targets': Y_train[shuffle[split_index:]]}\n",
    "valid = {'inputs': X_train_seq[shuffle[:split_index]], \n",
    "         'targets': Y_train[shuffle[:split_index]]}\n",
    "test = {'inputs': X_test_seq, 'targets': Y_test}\n",
    "\n",
    "\n"
   ]
  },
  {
   "cell_type": "code",
   "execution_count": 3,
   "metadata": {
    "collapsed": false
   },
   "outputs": [
    {
     "name": "stdout",
     "output_type": "stream",
     "text": [
      "----------------------------------------------------------------------------\n",
      "Network architecture:\n",
      "----------------------------------------------------------------------------\n",
      "layer1: inputs\n",
      "(?, 41, 1, 4)\n",
      "layer2: conv1d_0\n",
      "(?, 30, 1, 96)\n",
      "layer3: conv1d_0_batch\n",
      "(?, 30, 1, 96)\n",
      "layer4: conv1d_0_active\n",
      "(?, 30, 1, 96)\n",
      "layer5: conv1d_0_dropout\n",
      "(?, 30, 1, 96)\n",
      "layer6: conv1d_residual_0_1resid\n",
      "(?, 30, 1, 96)\n",
      "layer7: conv1d_residual_0_1resid_norm\n",
      "(?, 30, 1, 96)\n",
      "layer8: conv1d_residual_0_1resid_active\n",
      "(?, 30, 1, 96)\n",
      "layer9: conv1d_residual_0_dropout1\n",
      "(?, 30, 1, 96)\n",
      "layer10: conv1d_residual_0_2resid\n",
      "(?, 30, 1, 96)\n",
      "layer11: conv1d_residual_0_2resid_norm\n",
      "(?, 30, 1, 96)\n",
      "layer12: conv1d_residual_0_resid_sum\n",
      "(?, 30, 1, 96)\n",
      "layer13: conv1d_residual_0_resid\n",
      "(?, 30, 1, 96)\n",
      "layer14: conv1d_residual_0_meanpool\n",
      "(?, 3, 1, 96)\n",
      "layer15: conv1d_residual_0_dropout\n",
      "(?, 3, 1, 96)\n",
      "layer16: dense_0\n",
      "(?, 196)\n",
      "layer17: dense_0_batch\n",
      "(?, 196)\n",
      "layer18: dense_0_active\n",
      "(?, 196)\n",
      "layer19: dense_0_dropout\n",
      "(?, 196)\n",
      "layer20: dense_1\n",
      "(?, 1)\n",
      "layer21: dense_1_bias\n",
      "(?, 1)\n",
      "layer22: output\n",
      "(?, 1)\n",
      "----------------------------------------------------------------------------\n"
     ]
    }
   ],
   "source": [
    "def cnn_model(input_shape, output_shape):\n",
    "\n",
    "    # create model\n",
    "    layer1 = {'layer': 'input', #41\n",
    "            'input_shape': input_shape\n",
    "            }\n",
    "    layer2 = {'layer': 'conv1d',\n",
    "            'num_filters': 96,\n",
    "            'filter_size': input_shape[1]-29,\n",
    "            'norm': 'batch',\n",
    "            'activation': 'relu',\n",
    "            'dropout': 0.3,\n",
    "            'padding': 'VALID',\n",
    "            }\n",
    "    layer3 = {'layer': 'conv1d_residual',\n",
    "            'filter_size': 5,\n",
    "            'function': 'relu',\n",
    "            'dropout_block': 0.1,\n",
    "            'dropout': 0.3,\n",
    "            'mean_pool': 10,\n",
    "            }\n",
    "    \n",
    "    layer4 = {'layer': 'dense',        # input, conv1d, dense, conv1d_residual, dense_residual, conv1d_transpose,\n",
    "                                    # concat, embedding, variational_normal, variational_softmax, + more\n",
    "          'num_units': 196,\n",
    "          'norm': 'batch',          # if removed, automatically adds bias instead\n",
    "          'activation': 'relu',     # or leaky_relu, prelu, sigmoid, tanh, etc\n",
    "          'dropout': 0.5,           # if removed, default is no dropout\n",
    "             }\n",
    "\n",
    "    \n",
    "    layer5 = {'layer': 'dense',\n",
    "            'num_units': output_shape[1],\n",
    "            'activation': 'sigmoid'\n",
    "            }\n",
    "\n",
    "    model_layers = [layer1, layer2, layer3, layer4, layer5]\n",
    "\n",
    "    # optimization parameters\n",
    "    optimization = {\"objective\": \"binary\",\n",
    "                  \"optimizer\": \"adam\",\n",
    "                  \"learning_rate\": 0.0003,\n",
    "                  \"l2\": 1e-5,\n",
    "                  #\"label_smoothing\": 0.05,\n",
    "                  #\"l1\": 1e-6,\n",
    "                  }\n",
    "    return model_layers, optimization\n",
    "\n",
    "tf.reset_default_graph()\n",
    "\n",
    "# get shapes of inputs and targets\n",
    "input_shape = list(train['inputs'].shape)\n",
    "input_shape[0] = None\n",
    "output_shape = train['targets'].shape\n",
    "\n",
    "# load model parameters\n",
    "model_layers, optimization = cnn_model(input_shape, output_shape)\n",
    "\n",
    "# build neural network class\n",
    "nnmodel = nn.NeuralNet(seed=247)\n",
    "nnmodel.build_layers(model_layers, optimization)\n",
    "\n",
    "# compile neural trainer\n",
    "save_path = '../../../results/toyhairpin'\n",
    "param_path = os.path.join(save_path, 'resbindx')\n",
    "nntrainer = nn.NeuralTrainer(nnmodel, save='best', file_path=param_path)\n",
    "\n",
    "# look at the shapes of each layer\n",
    "nnmodel.inspect_layers()"
   ]
  },
  {
   "cell_type": "code",
   "execution_count": 4,
   "metadata": {
    "collapsed": false
   },
   "outputs": [],
   "source": [
    "# initialize session\n",
    "#sess.close()\n",
    "sess = utils.initialize_session()"
   ]
  },
  {
   "cell_type": "code",
   "execution_count": null,
   "metadata": {
    "collapsed": false
   },
   "outputs": [],
   "source": [
    "#Train the model\n",
    "\n",
    "data = {'train': train, 'valid': valid}\n",
    "fit.train_minibatch(sess, nntrainer, data, \n",
    "                    batch_size=100, \n",
    "                    num_epochs=100,\n",
    "                    patience=20, \n",
    "                    verbose=2, \n",
    "                    shuffle=True, \n",
    "                    save_all=False)"
   ]
  },
  {
   "cell_type": "code",
   "execution_count": 5,
   "metadata": {
    "collapsed": false
   },
   "outputs": [
    {
     "name": "stdout",
     "output_type": "stream",
     "text": [
      "loading model from:  ../../../results/toyhairpin/resbindx_best.ckpt\n",
      "INFO:tensorflow:Restoring parameters from ../../../results/toyhairpin/resbindx_best.ckpt\n",
      "  test  loss:\t\t0.04233\n",
      "  test  accuracy:\t0.99338+/-0.00000\n",
      "  test  auc-roc:\t0.99974+/-0.00000\n",
      "  test  auc-pr:\t\t0.99903+/-0.00000\n"
     ]
    }
   ],
   "source": [
    "# set best parameters\n",
    "nntrainer.set_best_parameters(sess)\n",
    "\n",
    "# test model\n",
    "loss, mean_vals, std_vals = nntrainer.test_model(sess, test, name='test')"
   ]
  },
  {
   "cell_type": "code",
   "execution_count": 6,
   "metadata": {
    "collapsed": true
   },
   "outputs": [],
   "source": [
    "# sort activations\n",
    "predictionsoutput = nntrainer.get_activations(sess, test, layer='output')\n",
    "top_outputs = np.argsort(predictionsoutput[:,0])[::-1]"
   ]
  },
  {
   "cell_type": "markdown",
   "metadata": {},
   "source": [
    "## Progression of layer output for highest predicted sequence\n"
   ]
  },
  {
   "cell_type": "code",
   "execution_count": 9,
   "metadata": {
    "collapsed": false
   },
   "outputs": [],
   "source": [
    "#get sequence\n",
    "seq=0\n",
    "X = np.expand_dims(test['inputs'][top_outputs[seq]], axis=0)"
   ]
  },
  {
   "cell_type": "code",
   "execution_count": 35,
   "metadata": {
    "collapsed": false
   },
   "outputs": [
    {
     "name": "stdout",
     "output_type": "stream",
     "text": [
      "INFO:tensorflow:Restoring parameters from ../../../results/toyhairpin/resbindx_best.ckpt\n"
     ]
    },
    {
     "data": {
      "image/png": "[encoded data removed]",
      "text/plain": [
       "<matplotlib.figure.Figure at 0x7f6428da31d0>"
      ]
     },
     "metadata": {},
     "output_type": "display_data"
    },
    {
     "data": {
      "image/png": "[encoded data removed]",
      "text/plain": [
       "<matplotlib.figure.Figure at 0x7f63560a57d0>"
      ]
     },
     "metadata": {},
     "output_type": "display_data"
    }
   ],
   "source": [
    "# saliency parameters  <-- neccessary because we need to rebuild graph using different gradient ops\n",
    "params = {'genome_model': cnn_model, \n",
    "          'input_shape': input_shape, \n",
    "          'output_shape': output_shape, \n",
    "          'optimization': optimization,\n",
    "          'model_path': param_path+'_best.ckpt',\n",
    "         }\n",
    "\n",
    "# guided backprop\n",
    "guided_saliency = saliency.guided_backprop(X, layer='output', class_index=None, params=params)\n",
    "\n",
    "# plot and save saliency\n",
    "fig = plt.figure(figsize=(10,3))\n",
    "visualize.plot_seq_pos_saliency(np.squeeze(X).T, \n",
    "                                np.squeeze(guided_saliency[0]).T, \n",
    "                                alphabet='rna', \n",
    "                                nt_width=400)\n",
    "\n",
    "mf.fom_saliency(X, layer='dense_1_bias', alphabet='rna',\n",
    "                nntrainer=nntrainer, sess=sess, figsize=(10,3))"
   ]
  },
  {
   "cell_type": "code",
   "execution_count": 14,
   "metadata": {
    "collapsed": false
   },
   "outputs": [
    {
     "data": {
      "text/plain": [
       "(1, 41, 1, 4)"
      ]
     },
     "execution_count": 14,
     "metadata": {},
     "output_type": "execute_result"
    }
   ],
   "source": [
    "guided_saliency.shape"
   ]
  },
  {
   "cell_type": "code",
   "execution_count": 100,
   "metadata": {
    "collapsed": false
   },
   "outputs": [],
   "source": [
    "def backprop(X, layer='output', class_index=None, params=None):\n",
    "\ttf.reset_default_graph()\n",
    "\tif 'use_scope' not in params:\n",
    "\t\tparams['use_scope'] = True\n",
    "\n",
    "\t# build new graph\n",
    "\tmodel_layers, optimization = params['genome_model'](params['input_shape'], params['output_shape'])\n",
    "\tnnmodel = nn.NeuralNet()\n",
    "\tnnmodel.build_layers(model_layers, optimization, use_scope=params['use_scope'])\n",
    "\tnntrainer = nn.NeuralTrainer(nnmodel, save='best', filepath=params['model_path'])\n",
    "\n",
    "\t# setup session and restore optimal parameters\n",
    "\tsess = utils.initialize_session(nnmodel.placeholders)\n",
    "\tnntrainer.set_best_parameters(sess, params['model_path'], verbose=0)\n",
    "\n",
    "\t# backprop saliency\n",
    "\tif layer == 'output':\n",
    "\t\tlayer = list(nnmodel.network.keys())[-2]\n",
    "\t\tsaliency = nntrainer.get_saliency(sess, X, nnmodel.network[layer], class_index=class_index, batch_size=128)\n",
    "\t\tsaliency = saliency[0]\n",
    "\telse:\n",
    "\t\tdata = {'inputs': X}\n",
    "\t\tlayer_activations = nntrainer.get_activations(sess, data, layer)\n",
    "\t\tmax_activations = np.squeeze(np.max(layer_activations, axis=1))\n",
    "\t\tactive_indices = np.where(max_activations > 0)[0]\n",
    "\t\tactive_indices = active_indices[np.argsort(max_activations[active_indices])[::-1]]\n",
    "\n",
    "\t\tsaliency = []\n",
    "\t\tfor neuron_index in active_indices:\n",
    "\t\t\tval = nntrainer.get_saliency(sess, X, nnmodel.network[layer], class_index=None, batch_size=128)\n",
    "\t\t\tsaliency.append(val)\n",
    "\n",
    "\tsess.close()\n",
    "\ttf.reset_default_graph()\n",
    "\treturn saliency"
   ]
  },
  {
   "cell_type": "code",
   "execution_count": 101,
   "metadata": {
    "collapsed": false
   },
   "outputs": [
    {
     "name": "stdout",
     "output_type": "stream",
     "text": [
      "INFO:tensorflow:Restoring parameters from ../../../results/toyhairpin/resbindx_best.ckpt\n"
     ]
    },
    {
     "data": {
      "image/png": "[encoded data removed]",
      "text/plain": [
       "<matplotlib.figure.Figure at 0x7f641cb92f10>"
      ]
     },
     "metadata": {},
     "output_type": "display_data"
    }
   ],
   "source": [
    "# saliency parameters  <-- neccessary because we need to rebuild graph using different gradient ops\n",
    "params = {'genome_model': cnn_model, \n",
    "          'input_shape': input_shape, \n",
    "          'output_shape': output_shape, \n",
    "          'optimization': optimization,\n",
    "          'model_path': param_path+'_best.ckpt',\n",
    "         }\n",
    "\n",
    "# guided backprop\n",
    "guided_saliency= backprop(X, layer='conv1d_0_active', class_index=0, params=params)\n",
    "\n",
    "# plot and save saliency\n",
    "fig = plt.figure(figsize=(10,3))\n",
    "visualize.plot_seq_pos_saliency(np.squeeze(X).T, \n",
    "                                np.squeeze(guided_saliency[0]).T, \n",
    "                                alphabet='rna', \n",
    "                                nt_width=400)"
   ]
  },
  {
   "cell_type": "code",
   "execution_count": 91,
   "metadata": {
    "collapsed": false
   },
   "outputs": [
    {
     "name": "stdout",
     "output_type": "stream",
     "text": [
      "INFO:tensorflow:Restoring parameters from ../../../results/toyhairpin/resbindx_best.ckpt\n"
     ]
    },
    {
     "ename": "TypeError",
     "evalue": "'ActivationLayer' object has no attribute '__getitem__'",
     "output_type": "error",
     "traceback": [
      "\u001b[0;31m---------------------------------------------------------------------------\u001b[0m",
      "\u001b[0;31mTypeError\u001b[0m                                 Traceback (most recent call last)",
      "\u001b[0;32m<ipython-input-91-c274e9d4e808>\u001b[0m in \u001b[0;36m<module>\u001b[0;34m()\u001b[0m\n\u001b[1;32m      8\u001b[0m \u001b[0;34m\u001b[0m\u001b[0m\n\u001b[1;32m      9\u001b[0m \u001b[0;31m# guided backprop\u001b[0m\u001b[0;34m\u001b[0m\u001b[0;34m\u001b[0m\u001b[0m\n\u001b[0;32m---> 10\u001b[0;31m \u001b[0mguided_saliency\u001b[0m\u001b[0;34m=\u001b[0m \u001b[0msaliency\u001b[0m\u001b[0;34m.\u001b[0m\u001b[0mguided_backprop\u001b[0m\u001b[0;34m(\u001b[0m\u001b[0mX\u001b[0m\u001b[0;34m,\u001b[0m \u001b[0mlayer\u001b[0m\u001b[0;34m=\u001b[0m\u001b[0;34m'conv1d_0_active'\u001b[0m\u001b[0;34m,\u001b[0m \u001b[0mclass_index\u001b[0m\u001b[0;34m=\u001b[0m\u001b[0mNone\u001b[0m\u001b[0;34m,\u001b[0m \u001b[0mparams\u001b[0m\u001b[0;34m=\u001b[0m\u001b[0mparams\u001b[0m\u001b[0;34m)\u001b[0m\u001b[0;34m\u001b[0m\u001b[0m\n\u001b[0m\u001b[1;32m     11\u001b[0m \u001b[0;34m\u001b[0m\u001b[0m\n\u001b[1;32m     12\u001b[0m \u001b[0;31m# plot and save saliency\u001b[0m\u001b[0;34m\u001b[0m\u001b[0;34m\u001b[0m\u001b[0m\n",
      "\u001b[0;32m/home/peter/steffan/rna_secstructure/rna_secstructure_code/Toy hairpin/CNN/deepomics/saliency.pyc\u001b[0m in \u001b[0;36mguided_backprop\u001b[0;34m(X, layer, class_index, params, batch_size)\u001b[0m\n\u001b[1;32m     78\u001b[0m                 \u001b[0msaliency\u001b[0m \u001b[0;34m=\u001b[0m \u001b[0;34m[\u001b[0m\u001b[0;34m]\u001b[0m\u001b[0;34m\u001b[0m\u001b[0m\n\u001b[1;32m     79\u001b[0m                 \u001b[0;32mfor\u001b[0m \u001b[0mneuron_index\u001b[0m \u001b[0;32min\u001b[0m \u001b[0mactive_indices\u001b[0m\u001b[0;34m:\u001b[0m\u001b[0;34m\u001b[0m\u001b[0m\n\u001b[0;32m---> 80\u001b[0;31m                         \u001b[0mval\u001b[0m \u001b[0;34m=\u001b[0m \u001b[0mnntrainer\u001b[0m\u001b[0;34m.\u001b[0m\u001b[0mget_saliency\u001b[0m\u001b[0;34m(\u001b[0m\u001b[0msess\u001b[0m\u001b[0;34m,\u001b[0m \u001b[0mX\u001b[0m\u001b[0;34m,\u001b[0m \u001b[0mnnmodel\u001b[0m\u001b[0;34m.\u001b[0m\u001b[0mnetwork\u001b[0m\u001b[0;34m[\u001b[0m\u001b[0mlayer\u001b[0m\u001b[0;34m]\u001b[0m\u001b[0;34m[\u001b[0m\u001b[0;34m:\u001b[0m\u001b[0;34m,\u001b[0m\u001b[0;34m:\u001b[0m\u001b[0;34m,\u001b[0m\u001b[0;34m:\u001b[0m\u001b[0;34m,\u001b[0m\u001b[0mneuron_index\u001b[0m\u001b[0;34m]\u001b[0m\u001b[0;34m,\u001b[0m \u001b[0mclass_index\u001b[0m\u001b[0;34m=\u001b[0m\u001b[0mNone\u001b[0m\u001b[0;34m,\u001b[0m \u001b[0mbatch_size\u001b[0m\u001b[0;34m=\u001b[0m\u001b[0mbatch_size\u001b[0m\u001b[0;34m)\u001b[0m\u001b[0;34m\u001b[0m\u001b[0m\n\u001b[0m\u001b[1;32m     81\u001b[0m                         \u001b[0msaliency\u001b[0m\u001b[0;34m.\u001b[0m\u001b[0mappend\u001b[0m\u001b[0;34m(\u001b[0m\u001b[0mval\u001b[0m\u001b[0;34m)\u001b[0m\u001b[0;34m\u001b[0m\u001b[0m\n\u001b[1;32m     82\u001b[0m \u001b[0;34m\u001b[0m\u001b[0m\n",
      "\u001b[0;31mTypeError\u001b[0m: 'ActivationLayer' object has no attribute '__getitem__'"
     ]
    }
   ],
   "source": [
    "# saliency parameters  <-- neccessary because we need to rebuild graph using different gradient ops\n",
    "params = {'genome_model': cnn_model, \n",
    "          'input_shape': input_shape, \n",
    "          'output_shape': output_shape, \n",
    "          'optimization': optimization,\n",
    "          'model_path': param_path+'_best.ckpt',\n",
    "         }\n",
    "\n",
    "# guided backprop\n",
    "guided_saliency= saliency.guided_backprop(X, layer='conv1d_0_active', class_index=None, params=params)\n",
    "\n",
    "# plot and save saliency\n",
    "fig = plt.figure(figsize=(10,3))\n",
    "visualize.plot_seq_pos_saliency(np.squeeze(X).T, \n",
    "                                np.squeeze(guided_saliency[0]).T, \n",
    "                                alphabet='rna', \n",
    "                                nt_width=400)"
   ]
  },
  {
   "cell_type": "code",
   "execution_count": 54,
   "metadata": {
    "collapsed": false
   },
   "outputs": [
    {
     "data": {
      "text/plain": [
       "(1, 30, 1, 96)"
      ]
     },
     "execution_count": 54,
     "metadata": {},
     "output_type": "execute_result"
    }
   ],
   "source": [
    "data = {'inputs': X}\n",
    "layer_activations = nntrainer.get_activations(sess, data, 'conv1d_0_active')\n",
    "layer_activations.shape"
   ]
  },
  {
   "cell_type": "code",
   "execution_count": 56,
   "metadata": {
    "collapsed": false
   },
   "outputs": [
    {
     "data": {
      "text/plain": [
       "array([0.5227205 , 0.8299161 , 0.21115088, 0.49531162, 0.38082317,\n",
       "       0.3345267 , 0.44474968, 0.39367932, 0.5755929 , 0.02580696,\n",
       "       0.4600293 , 0.50078326, 0.5737284 , 0.43209857, 0.14235234,\n",
       "       0.93255395, 0.4588964 , 0.14181662, 0.33831823, 0.42420214,\n",
       "       0.28827727, 0.        , 0.33894318, 0.264509  , 0.4281989 ,\n",
       "       0.5253453 , 0.4173791 , 0.3298798 , 0.45918882, 0.2599916 ,\n",
       "       0.33295798, 0.45035893, 0.6704818 , 0.94423735, 0.36079612,\n",
       "       0.43329883, 0.8908853 , 0.6040352 , 0.29720533, 0.09825432,\n",
       "       0.29458702, 0.48733345, 0.5193491 , 0.37987757, 0.1271944 ,\n",
       "       0.47787905, 0.69847906, 0.4587218 , 0.46278176, 0.38586038,\n",
       "       0.56389225, 0.        , 0.36873198, 0.05584174, 0.39640093,\n",
       "       0.5985725 , 0.29816106, 0.0207113 , 0.45534328, 0.49291664,\n",
       "       0.31995463, 0.50374866, 0.2988782 , 0.3512668 , 0.39078033,\n",
       "       0.3248546 , 0.23440744, 0.56132454, 0.44022012, 0.01569766,\n",
       "       0.3776108 , 0.42655936, 0.861426  , 0.5567671 , 0.00873327,\n",
       "       0.        , 0.36272812, 0.31589246, 0.28884915, 0.52364206,\n",
       "       0.7162568 , 0.3773188 , 0.02637452, 0.6465504 , 0.49591768,\n",
       "       0.40190986, 0.22432813, 0.4171576 , 0.36355537, 0.48554397,\n",
       "       0.2787261 , 0.8098396 , 0.        , 0.699076  , 0.4159068 ,\n",
       "       0.01446143], dtype=float32)"
      ]
     },
     "execution_count": 56,
     "metadata": {},
     "output_type": "execute_result"
    }
   ],
   "source": [
    "max_activations"
   ]
  },
  {
   "cell_type": "code",
   "execution_count": 58,
   "metadata": {
    "collapsed": false
   },
   "outputs": [
    {
     "data": {
      "text/plain": [
       "array([ 0,  1,  2,  3,  4,  5,  6,  7,  8,  9, 10, 11, 12, 13, 14, 15, 16,\n",
       "       17, 18, 19, 20, 22, 23, 24, 25, 26, 27, 28, 29, 30, 31, 32, 33, 34,\n",
       "       35, 36, 37, 38, 39, 40, 41, 42, 43, 44, 45, 46, 47, 48, 49, 50, 52,\n",
       "       53, 54, 55, 56, 57, 58, 59, 60, 61, 62, 63, 64, 65, 66, 67, 68, 69,\n",
       "       70, 71, 72, 73, 74, 76, 77, 78, 79, 80, 81, 82, 83, 84, 85, 86, 87,\n",
       "       88, 89, 90, 91, 93, 94, 95])"
      ]
     },
     "execution_count": 58,
     "metadata": {},
     "output_type": "execute_result"
    }
   ],
   "source": [
    "active_indices1"
   ]
  },
  {
   "cell_type": "code",
   "execution_count": 84,
   "metadata": {
    "collapsed": false
   },
   "outputs": [
    {
     "ename": "TypeError",
     "evalue": "'ActivationLayer' object does not support indexing",
     "output_type": "error",
     "traceback": [
      "\u001b[0;31m---------------------------------------------------------------------------\u001b[0m",
      "\u001b[0;31mTypeError\u001b[0m                                 Traceback (most recent call last)",
      "\u001b[0;32m<ipython-input-84-bf1f8ea7fb71>\u001b[0m in \u001b[0;36m<module>\u001b[0;34m()\u001b[0m\n\u001b[0;32m----> 1\u001b[0;31m \u001b[0mnnmodel\u001b[0m\u001b[0;34m.\u001b[0m\u001b[0mnetwork\u001b[0m\u001b[0;34m[\u001b[0m\u001b[0;34m'conv1d_0_active'\u001b[0m\u001b[0;34m]\u001b[0m\u001b[0;34m[\u001b[0m\u001b[0;36m0\u001b[0m\u001b[0;34m]\u001b[0m\u001b[0;34m\u001b[0m\u001b[0m\n\u001b[0m",
      "\u001b[0;31mTypeError\u001b[0m: 'ActivationLayer' object does not support indexing"
     ]
    }
   ],
   "source": [
    "nnmodel.network['conv1d_0_active'][0]"
   ]
  },
  {
   "cell_type": "code",
   "execution_count": null,
   "metadata": {
    "collapsed": true
   },
   "outputs": [],
   "source": []
  }
 ],
 "metadata": {
  "kernelspec": {
   "display_name": "Python 2",
   "language": "python",
   "name": "python2"
  },
  "language_info": {
   "codemirror_mode": {
    "name": "ipython",
    "version": 2
   },
   "file_extension": ".py",
   "mimetype": "text/x-python",
   "name": "python",
   "nbconvert_exporter": "python",
   "pygments_lexer": "ipython2",
   "version": "2.7.13"
  }
 },
 "nbformat": 4,
 "nbformat_minor": 2
}
