{
 "cells": [
  {
   "cell_type": "code",
   "execution_count": 1,
   "metadata": {},
   "outputs": [
    {
     "name": "stderr",
     "output_type": "stream",
     "text": [
      "/Users/steffanpaul/anaconda/envs/tensorflow/lib/python3.6/site-packages/h5py/__init__.py:34: FutureWarning: Conversion of the second argument of issubdtype from `float` to `np.floating` is deprecated. In future, it will be treated as `np.float64 == np.dtype(float).type`.\n",
      "  from ._conv import register_converters as _register_converters\n"
     ]
    }
   ],
   "source": [
    "from __future__ import absolute_import\n",
    "from __future__ import division\n",
    "from __future__ import print_function\n",
    "\n",
    "import os, sys, h5py\n",
    "import numpy as np\n",
    "import matplotlib.pyplot as plt\n",
    "%matplotlib inline\n",
    "import seaborn as sb\n",
    "import tensorflow as tf\n",
    "import scipy\n",
    "\n",
    "import sys\n",
    "sys.path.append('../../..')\n",
    "import mutagenesisfunctions as mf\n",
    "from deepomics import neuralnetwork as nn\n",
    "from deepomics import utils, fit, visualize, saliency\n",
    "import time as time\n",
    "import pandas as pd"
   ]
  },
  {
   "cell_type": "code",
   "execution_count": 2,
   "metadata": {},
   "outputs": [
    {
     "name": "stdout",
     "output_type": "stream",
     "text": [
      "Data extraction and dict construction completed in: 28.31s\n"
     ]
    }
   ],
   "source": [
    "starttime = time.time()\n",
    "\n",
    "#Open data from h5py\n",
    "\n",
    "data_path = '../../data_RFAM/trna_100k_d5.hdf5'\n",
    "with h5py.File(data_path, 'r') as dataset:\n",
    "    X_data = np.array(dataset['X_data'])\n",
    "    Y_data = np.array(dataset['Y_data'])\n",
    "    \n",
    "numdata, seqlen, _, dims = X_data.shape\n",
    "dims = dims-1\n",
    "\n",
    "#remove gaps from sequences\n",
    "ungapped = True\n",
    "if ungapped:\n",
    "    X_data = X_data[:, :, :, :dims]\n",
    "    \n",
    "# get validation and test set from training set\n",
    "test_frac = 0.3\n",
    "valid_frac = 0.1\n",
    "N = numdata\n",
    "split_1 = int(N*(1-valid_frac-test_frac))\n",
    "split_2 = int(N*(1-test_frac))\n",
    "shuffle = np.random.permutation(N)\n",
    "\n",
    "#set up dictionaries\n",
    "train = {'inputs': X_data[shuffle[:split_1]], \n",
    "         'targets': Y_data[shuffle[:split_1]]}\n",
    "valid = {'inputs': X_data[shuffle[split_1:split_2]], \n",
    "         'targets': Y_data[shuffle[split_1:split_2]]}\n",
    "test = {'inputs': X_data[shuffle[split_2:]], \n",
    "         'targets': Y_data[shuffle[split_2:]]}\n",
    "    \n",
    "print ('Data extraction and dict construction completed in: ' + mf.sectotime(time.time() - starttime))"
   ]
  },
  {
   "cell_type": "code",
   "execution_count": 3,
   "metadata": {},
   "outputs": [
    {
     "data": {
      "text/plain": [
       "'(((((((<<<<>>>><<<<<>>>>><<<<<>>>>>)))))))'"
      ]
     },
     "execution_count": 3,
     "metadata": {},
     "output_type": "execute_result"
    }
   ],
   "source": [
    "simalign_file = '../../data_RFAM/trnasim_100k.sto'\n",
    "\n",
    "#Get the full secondary structure and sequence consensus from the emission\n",
    "SS = mf.getSSconsensus(simalign_file)\n",
    "SQ = mf.getSQconsensus(simalign_file)\n",
    "\n",
    "#Get the ungapped sequence and the indices of ungapped nucleotides\n",
    "_, ugSS, ugidx = mf.rm_consensus_gaps(X_data, SS)\n",
    "_, ugSQ, _ = mf.rm_consensus_gaps(X_data, SQ)\n",
    "\n",
    "\n",
    "#Get the sequence and indices of the conserved base pairs\n",
    "bpchars = ['(',')','<','>','{','}']\n",
    "sig_bpchars = ['<','>']\n",
    "bpidx, bpSS, nonbpidx = mf.sigbasepair(SS, bpchars)\n",
    "numbp = len(bpidx)\n",
    "numug = len(ugidx)\n",
    "\n",
    "#Get the bpug information\n",
    "bpugSQ, bpugidx = mf.bpug(ugidx, bpidx, SQ)\n",
    "\n",
    "bpSS"
   ]
  },
  {
   "cell_type": "code",
   "execution_count": 4,
   "metadata": {},
   "outputs": [
    {
     "data": {
      "text/plain": [
       "'(((((((,,<<<<_______>>>>,<<<<<_______>>>>>,,,,<<<<<_______>>>>>))))))):'"
      ]
     },
     "execution_count": 4,
     "metadata": {},
     "output_type": "execute_result"
    }
   ],
   "source": [
    "ugSS"
   ]
  },
  {
   "cell_type": "code",
   "execution_count": 5,
   "metadata": {},
   "outputs": [
    {
     "name": "stdout",
     "output_type": "stream",
     "text": [
      "0 (\n",
      "1 (\n",
      "2 (\n",
      "3 (\n",
      "4 (\n",
      "5 (\n",
      "6 (\n",
      "7 ,\n",
      "8 ,\n",
      "9 <\n",
      "10 <\n",
      "11 <\n",
      "12 <\n",
      "13 _\n",
      "14 _\n",
      "15 _\n",
      "16 _\n",
      "17 _\n",
      "18 _\n",
      "19 _\n",
      "20 >\n",
      "21 >\n",
      "22 >\n",
      "23 >\n",
      "24 ,\n",
      "25 <\n",
      "26 <\n",
      "27 <\n",
      "28 <\n",
      "29 <\n",
      "30 _\n",
      "31 _\n",
      "32 _\n",
      "33 _\n",
      "34 _\n",
      "35 _\n",
      "36 _\n",
      "37 >\n",
      "38 >\n",
      "39 >\n",
      "40 >\n",
      "41 >\n",
      "42 ,\n",
      "43 ,\n",
      "44 ,\n",
      "45 ,\n",
      "46 <\n",
      "47 <\n",
      "48 <\n",
      "49 <\n",
      "50 <\n",
      "51 _\n",
      "52 _\n",
      "53 _\n",
      "54 _\n",
      "55 _\n",
      "56 _\n",
      "57 _\n",
      "58 >\n",
      "59 >\n",
      "60 >\n",
      "61 >\n",
      "62 >\n",
      "63 )\n",
      "64 )\n",
      "65 )\n",
      "66 )\n",
      "67 )\n",
      "68 )\n",
      "69 )\n",
      "70 :\n"
     ]
    }
   ],
   "source": [
    "for i,s in enumerate(ugSS):\n",
    "    print (i,s)"
   ]
  },
  {
   "cell_type": "markdown",
   "metadata": {},
   "source": [
    "I need to make a function that takes the ugSS and returns the coordinates of the base pairs. From there I can make a secondary function to get the mirror image coordinates to get all of the base paired holistic coordinates from a SoM results array"
   ]
  },
  {
   "cell_type": "code",
   "execution_count": 12,
   "metadata": {
    "scrolled": false
   },
   "outputs": [
    {
     "data": {
      "text/plain": [
       "array([[20, 12],\n",
       "       [21, 11],\n",
       "       [22, 10],\n",
       "       [23,  9],\n",
       "       [37, 29],\n",
       "       [38, 28],\n",
       "       [39, 27],\n",
       "       [40, 26],\n",
       "       [41, 25],\n",
       "       [58, 50],\n",
       "       [59, 49],\n",
       "       [60, 48],\n",
       "       [61, 47],\n",
       "       [62, 46],\n",
       "       [63,  6],\n",
       "       [64,  5],\n",
       "       [65,  4],\n",
       "       [66,  3],\n",
       "       [67,  2],\n",
       "       [68,  1],\n",
       "       [69,  0]])"
      ]
     },
     "execution_count": 12,
     "metadata": {},
     "output_type": "execute_result"
    }
   ],
   "source": [
    "np.asarray(basepairs)[:, ::-1]"
   ]
  },
  {
   "cell_type": "code",
   "execution_count": 18,
   "metadata": {},
   "outputs": [
    {
     "data": {
      "text/plain": [
       "array([[12, 20],\n",
       "       [11, 21],\n",
       "       [10, 22],\n",
       "       [ 9, 23],\n",
       "       [29, 37],\n",
       "       [28, 38],\n",
       "       [27, 39],\n",
       "       [26, 40],\n",
       "       [25, 41],\n",
       "       [50, 58],\n",
       "       [49, 59],\n",
       "       [48, 60],\n",
       "       [47, 61],\n",
       "       [46, 62],\n",
       "       [ 6, 63],\n",
       "       [ 5, 64],\n",
       "       [ 4, 65],\n",
       "       [ 3, 66],\n",
       "       [ 2, 67],\n",
       "       [ 1, 68],\n",
       "       [ 0, 69],\n",
       "       [20, 12],\n",
       "       [21, 11],\n",
       "       [22, 10],\n",
       "       [23,  9],\n",
       "       [37, 29],\n",
       "       [38, 28],\n",
       "       [39, 27],\n",
       "       [40, 26],\n",
       "       [41, 25],\n",
       "       [58, 50],\n",
       "       [59, 49],\n",
       "       [60, 48],\n",
       "       [61, 47],\n",
       "       [62, 46],\n",
       "       [63,  6],\n",
       "       [64,  5],\n",
       "       [65,  4],\n",
       "       [66,  3],\n",
       "       [67,  2],\n",
       "       [68,  1],\n",
       "       [69,  0]])"
      ]
     },
     "execution_count": 18,
     "metadata": {},
     "output_type": "execute_result"
    }
   ],
   "source": [
    "bp_coords(ugSS)"
   ]
  },
  {
   "cell_type": "code",
   "execution_count": 17,
   "metadata": {
    "collapsed": true
   },
   "outputs": [],
   "source": [
    "def bp_coords(ugSS):\n",
    "    '''\n",
    "    Function that takes in an ungapped Sequence string and\n",
    "    outputs a list of lists with the coordinates base pairs.\n",
    "    Optionally it can also output the list extended with the \n",
    "    reflections of the coordinates for use with holistics \n",
    "    plots.\n",
    "    '''\n",
    "\n",
    "    bp_openers = ['(', '<', '{']\n",
    "    bp_closers = [')', '>', '}']\n",
    "\n",
    "    basepairs = [] #list to hold the base pair coords\n",
    "    opened = np.array([]) # holds the integers of chars and keeps track of how close they are to being closed\n",
    "    counter = 0\n",
    "    for char in ugSS:\n",
    "\n",
    "        if char in bp_openers:\n",
    "            #open a base pair and start counting till its closed\n",
    "            opened = np.append(opened, 0)\n",
    "            opened += 1\n",
    "\n",
    "        elif char in bp_closers: \n",
    "            #get closer to closing if we find a closing bracket\n",
    "            opened -= 1\n",
    "            if 0 in opened:\n",
    "                #check if we've successfuly closed a pair\n",
    "                op = np.where(opened ==0)[0][0]\n",
    "                basepairs.append([op, counter]) #add the pair to our list\n",
    "                opened[np.where(opened ==0)] = 1000 # make the recently closed char negligible\n",
    "            opened = np.append(opened, 1000) #treat closing brackets as negligible\n",
    "\n",
    "\n",
    "        else:\n",
    "            opened = np.append(opened, 1000) #non-base-paired chars are negligible\n",
    "\n",
    "        counter += 1\n",
    "    \n",
    "    basepairs = np.asarray(basepairs)\n",
    "    \n",
    "    #Optional reflection\n",
    "    reflect = basepairs[:, ::-1]\n",
    "    basepairs = np.vstack([basepairs, reflect])\n",
    "    \n",
    "    return (basepairs)\n",
    "    \n",
    "    \n",
    "    \n"
   ]
  },
  {
   "cell_type": "code",
   "execution_count": null,
   "metadata": {
    "collapsed": true
   },
   "outputs": [],
   "source": []
  }
 ],
 "metadata": {
  "kernelspec": {
   "display_name": "Python 3",
   "language": "python",
   "name": "python3"
  },
  "language_info": {
   "codemirror_mode": {
    "name": "ipython",
    "version": 3
   },
   "file_extension": ".py",
   "mimetype": "text/x-python",
   "name": "python",
   "nbconvert_exporter": "python",
   "pygments_lexer": "ipython3",
   "version": "3.6.2"
  }
 },
 "nbformat": 4,
 "nbformat_minor": 2
}
