{
 "cells": [
  {
   "cell_type": "code",
   "execution_count": 43,
   "metadata": {
    "collapsed": true
   },
   "outputs": [],
   "source": [
    "from __future__ import absolute_import\n",
    "from __future__ import division\n",
    "from __future__ import print_function\n",
    "\n",
    "import os, sys, h5py\n",
    "import numpy as np\n",
    "import matplotlib.pyplot as plt\n",
    "%matplotlib inline\n",
    "import seaborn as sb\n",
    "import tensorflow as tf\n",
    "import scipy\n",
    "\n",
    "import sys\n",
    "sys.path.append('../../..')\n",
    "import mutagenesisfunctions as mf\n",
    "from deepomics import neuralnetwork as nn\n",
    "from deepomics import utils, fit, visualize, saliency\n",
    "#from Bio import AlignIO\n",
    "import time as time\n",
    "import pandas as pd\n",
    "import bpdev as bp"
   ]
  },
  {
   "cell_type": "code",
   "execution_count": 44,
   "metadata": {
    "collapsed": true
   },
   "outputs": [],
   "source": [
    "def bp_coords(ugSS, mir = True):\n",
    "    '''\n",
    "    Function that takes in an ungapped Sequence string and\n",
    "    outputs a list of lists with the coordinates base pairs.\n",
    "    Optionally it can also output the list extended with the \n",
    "    reflections of the coordinates for use with holistics \n",
    "    plots.\n",
    "    '''\n",
    "\n",
    "    bp_openers = ['(', '<', '{']\n",
    "    bp_closers = [')', '>', '}']\n",
    "\n",
    "    basepairs = [] #list to hold the base pair coords\n",
    "    opened = np.array([]) # holds the integers of chars and keeps track of how close they are to being closed\n",
    "    counter = 0\n",
    "    for char in ugSS:\n",
    "\n",
    "        if char in bp_openers:\n",
    "            #open a base pair and start counting till its closed\n",
    "            opened = np.append(opened, 0)\n",
    "            opened += 1\n",
    "\n",
    "        elif char in bp_closers: \n",
    "            #get closer to closing if we find a closing bracket\n",
    "            opened -= 1\n",
    "            if 0 in opened:\n",
    "                #check if we've successfuly closed a pair\n",
    "                op = np.where(opened ==0)[0][0]\n",
    "                basepairs.append([op, counter]) #add the pair to our list\n",
    "                opened[np.where(opened ==0)] = 1000 # make the recently closed char negligible\n",
    "            opened = np.append(opened, 1000) #treat closing brackets as negligible\n",
    "\n",
    "\n",
    "        else:\n",
    "            opened = np.append(opened, 1000) #non-base-paired chars are negligible\n",
    "\n",
    "        counter += 1\n",
    "    \n",
    "    basepairs = np.asarray(basepairs)\n",
    "    \n",
    "    #Optional reflection\n",
    "    if mir:\n",
    "        reflect = basepairs[:, ::-1]\n",
    "        basepairs = np.vstack([basepairs, reflect])\n",
    "    \n",
    "    return (basepairs)"
   ]
  },
  {
   "cell_type": "code",
   "execution_count": 3,
   "metadata": {
    "collapsed": false
   },
   "outputs": [
    {
     "name": "stdout",
     "output_type": "stream",
     "text": [
      "Data extraction and dict construction completed in: 6.18s\n"
     ]
    }
   ],
   "source": [
    "starttime = time.time()\n",
    "\n",
    "#Open data from h5py\n",
    "\n",
    "data_path = '../../data_RFAM/trna_100k_d5.hdf5'\n",
    "with h5py.File(data_path, 'r') as dataset:\n",
    "    X_data = np.array(dataset['X_data'])\n",
    "    Y_data = np.array(dataset['Y_data'])\n",
    "    \n",
    "numdata, seqlen, _, dims = X_data.shape\n",
    "dims = dims-1\n",
    "\n",
    "#remove gaps from sequences\n",
    "ungapped = True\n",
    "if ungapped:\n",
    "    X_data = X_data[:, :, :, :dims]\n",
    "    \n",
    "# get validation and test set from training set\n",
    "test_frac = 0.3\n",
    "valid_frac = 0.1\n",
    "N = numdata\n",
    "split_1 = int(N*(1-valid_frac-test_frac))\n",
    "split_2 = int(N*(1-test_frac))\n",
    "shuffle = np.random.permutation(N)\n",
    "\n",
    "#set up dictionaries\n",
    "train = {'inputs': X_data[shuffle[:split_1]], \n",
    "         'targets': Y_data[shuffle[:split_1]]}\n",
    "valid = {'inputs': X_data[shuffle[split_1:split_2]], \n",
    "         'targets': Y_data[shuffle[split_1:split_2]]}\n",
    "test = {'inputs': X_data[shuffle[split_2:]], \n",
    "         'targets': Y_data[shuffle[split_2:]]}\n",
    "    \n",
    "print ('Data extraction and dict construction completed in: ' + mf.sectotime(time.time() - starttime))"
   ]
  },
  {
   "cell_type": "code",
   "execution_count": 4,
   "metadata": {
    "collapsed": false
   },
   "outputs": [
    {
     "data": {
      "text/plain": [
       "'(((((((<<<<>>>><<<<<>>>>><<<<<>>>>>)))))))'"
      ]
     },
     "execution_count": 4,
     "metadata": {},
     "output_type": "execute_result"
    }
   ],
   "source": [
    "simalign_file = '../../data_RFAM/trnasim_100k.sto'\n",
    "\n",
    "#Get the full secondary structure and sequence consensus from the emission\n",
    "SS = mf.getSSconsensus(simalign_file)\n",
    "SQ = mf.getSQconsensus(simalign_file)\n",
    "\n",
    "#Get the ungapped sequence and the indices of ungapped nucleotides\n",
    "_, ugSS, ugidx = mf.rm_consensus_gaps(X_data, SS)\n",
    "_, ugSQ, _ = mf.rm_consensus_gaps(X_data, SQ)\n",
    "\n",
    "\n",
    "#Get the sequence and indices of the conserved base pairs\n",
    "bpchars = ['(',')','<','>','{','}']\n",
    "sig_bpchars = ['<','>']\n",
    "bpidx, bpSS, nonbpidx = mf.sigbasepair(SS, bpchars)\n",
    "numbp = len(bpidx)\n",
    "numug = len(ugidx)\n",
    "\n",
    "#Get the bpug information\n",
    "bpugSQ, bpugidx = mf.bpug(ugidx, bpidx, SQ)\n",
    "\n",
    "bpSS"
   ]
  },
  {
   "cell_type": "code",
   "execution_count": 5,
   "metadata": {
    "collapsed": false
   },
   "outputs": [
    {
     "data": {
      "text/plain": [
       "'(((((((,,<<<<_______>>>>,<<<<<_______>>>>>,,,,<<<<<_______>>>>>))))))):'"
      ]
     },
     "execution_count": 5,
     "metadata": {},
     "output_type": "execute_result"
    }
   ],
   "source": [
    "ugSS"
   ]
  },
  {
   "cell_type": "code",
   "execution_count": 6,
   "metadata": {
    "collapsed": false
   },
   "outputs": [
    {
     "name": "stdout",
     "output_type": "stream",
     "text": [
      "----------------------------------------------------------------------------\n",
      "Network architecture:\n",
      "----------------------------------------------------------------------------\n",
      "layer1: inputs\n",
      "(?, 513, 1, 4)\n",
      "layer2: conv1d_0\n",
      "(?, 30, 1, 96)\n",
      "layer3: conv1d_0_batch\n",
      "(?, 30, 1, 96)\n",
      "layer4: conv1d_0_active\n",
      "(?, 30, 1, 96)\n",
      "layer5: conv1d_0_dropout\n",
      "(?, 30, 1, 96)\n",
      "layer6: conv1d_residual_0_1resid\n",
      "(?, 30, 1, 96)\n",
      "layer7: conv1d_residual_0_1resid_norm\n",
      "(?, 30, 1, 96)\n",
      "layer8: conv1d_residual_0_1resid_active\n",
      "(?, 30, 1, 96)\n",
      "layer9: conv1d_residual_0_dropout1\n",
      "(?, 30, 1, 96)\n",
      "layer10: conv1d_residual_0_2resid\n",
      "(?, 30, 1, 96)\n",
      "layer11: conv1d_residual_0_2resid_norm\n",
      "(?, 30, 1, 96)\n",
      "layer12: conv1d_residual_0_resid_sum\n",
      "(?, 30, 1, 96)\n",
      "layer13: conv1d_residual_0_resid\n",
      "(?, 30, 1, 96)\n",
      "layer14: conv1d_residual_0_meanpool\n",
      "(?, 3, 1, 96)\n",
      "layer15: conv1d_residual_0_dropout\n",
      "(?, 3, 1, 96)\n",
      "layer16: dense_0\n",
      "(?, 196)\n",
      "layer17: dense_0_batch\n",
      "(?, 196)\n",
      "layer18: dense_0_active\n",
      "(?, 196)\n",
      "layer19: dense_0_dropout\n",
      "(?, 196)\n",
      "layer20: dense_1\n",
      "(?, 1)\n",
      "layer21: dense_1_bias\n",
      "(?, 1)\n",
      "layer22: output\n",
      "(?, 1)\n",
      "----------------------------------------------------------------------------\n"
     ]
    }
   ],
   "source": [
    "def cnn_model(input_shape, output_shape):\n",
    "\n",
    "    # create model\n",
    "    layer1 = {'layer': 'input', #41\n",
    "            'input_shape': input_shape\n",
    "            }\n",
    "    layer2 = {'layer': 'conv1d',\n",
    "            'num_filters': 96,\n",
    "            'filter_size': input_shape[1]-29,\n",
    "            'norm': 'batch',\n",
    "            'activation': 'relu',\n",
    "            'dropout': 0.3,\n",
    "            'padding': 'VALID',\n",
    "            }\n",
    "    layer3 = {'layer': 'conv1d_residual',\n",
    "            'filter_size': 5,\n",
    "            'function': 'relu',\n",
    "            'dropout_block': 0.1,\n",
    "            'dropout': 0.3,\n",
    "            'mean_pool': 10,\n",
    "            }\n",
    "    \n",
    "    layer4 = {'layer': 'dense',        # input, conv1d, dense, conv1d_residual, dense_residual, conv1d_transpose,\n",
    "                                    # concat, embedding, variational_normal, variational_softmax, + more\n",
    "          'num_units': 196,\n",
    "          'norm': 'batch',          # if removed, automatically adds bias instead\n",
    "          'activation': 'relu',     # or leaky_relu, prelu, sigmoid, tanh, etc\n",
    "          'dropout': 0.5,           # if removed, default is no dropout\n",
    "             }\n",
    "\n",
    "    \n",
    "    layer5 = {'layer': 'dense',\n",
    "            'num_units': output_shape[1],\n",
    "            'activation': 'sigmoid'\n",
    "            }\n",
    "\n",
    "    model_layers = [layer1, layer2, layer3, layer4, layer5]\n",
    "\n",
    "    # optimization parameters\n",
    "    optimization = {\"objective\": \"binary\",\n",
    "                  \"optimizer\": \"adam\",\n",
    "                  \"learning_rate\": 0.0003,\n",
    "                  \"l2\": 1e-5,\n",
    "                  #\"label_smoothing\": 0.05,\n",
    "                  #\"l1\": 1e-6,\n",
    "                  }\n",
    "    return model_layers, optimization\n",
    "\n",
    "tf.reset_default_graph()\n",
    "\n",
    "# get shapes of inputs and targets\n",
    "input_shape = list(train['inputs'].shape)\n",
    "input_shape[0] = None\n",
    "output_shape = train['targets'].shape\n",
    "\n",
    "# load model parameters\n",
    "model_layers, optimization = cnn_model(input_shape, output_shape)\n",
    "\n",
    "# build neural network class\n",
    "nnmodel = nn.NeuralNet(seed=247)\n",
    "nnmodel.build_layers(model_layers, optimization)\n",
    "\n",
    "# compile neural trainer\n",
    "save_path = '../../results/trna'\n",
    "param_path = os.path.join(save_path, 'resbind_t5')\n",
    "nntrainer = nn.NeuralTrainer(nnmodel, save='best', file_path=param_path)\n",
    "\n",
    "# look at the shapes of each layer\n",
    "nnmodel.inspect_layers()"
   ]
  },
  {
   "cell_type": "code",
   "execution_count": 7,
   "metadata": {
    "collapsed": true
   },
   "outputs": [],
   "source": [
    "# initialize session\n",
    "sess = utils.initialize_session()"
   ]
  },
  {
   "cell_type": "code",
   "execution_count": 8,
   "metadata": {
    "collapsed": false
   },
   "outputs": [
    {
     "name": "stdout",
     "output_type": "stream",
     "text": [
      "loading model from:  ../../results/trna/resbind_t5_best.ckpt\n",
      "INFO:tensorflow:Restoring parameters from ../../results/trna/resbind_t5_best.ckpt\n",
      "  test  loss:\t\t0.01415\n",
      "  test  accuracy:\t0.99950+/-0.00000\n",
      "  test  auc-roc:\t0.99998+/-0.00000\n",
      "  test  auc-pr:\t\t0.99997+/-0.00000\n"
     ]
    }
   ],
   "source": [
    "# set best parameters\n",
    "nntrainer.set_best_parameters(sess)\n",
    "\n",
    "# test model\n",
    "loss, mean_vals, std_vals = nntrainer.test_model(sess, test, name='test')"
   ]
  },
  {
   "cell_type": "code",
   "execution_count": 9,
   "metadata": {
    "collapsed": true
   },
   "outputs": [],
   "source": [
    "# sort activations\n",
    "predictionsoutput = nntrainer.get_activations(sess, test, layer='output')\n",
    "plot_index = np.argsort(predictionsoutput[:,0])[::-1]\n"
   ]
  },
  {
   "cell_type": "code",
   "execution_count": 10,
   "metadata": {
    "collapsed": true
   },
   "outputs": [],
   "source": [
    "savepath = 'Arrays/trna_resbind_o_1k.npy'\n",
    "savepath = 'Arrays/trna_resbind_l_1k.npy'\n",
    "savepath = 'Arrays/trna_resbind_o_log_1k.npy'\n",
    "savepath = 'Arrays/trna_resbind_l_log_1k.npy'\n"
   ]
  },
  {
   "cell_type": "markdown",
   "metadata": {},
   "source": [
    "## Reference"
   ]
  },
  {
   "cell_type": "code",
   "execution_count": 11,
   "metadata": {
    "collapsed": false
   },
   "outputs": [
    {
     "data": {
      "text/plain": [
       "<matplotlib.text.Text at 0x7f9d38a4f150>"
      ]
     },
     "execution_count": 11,
     "metadata": {},
     "output_type": "execute_result"
    },
    {
     "name": "stderr",
     "output_type": "stream",
     "text": [
      "/home/peter/anaconda2/envs/tensorflow/lib/python2.7/site-packages/matplotlib/figure.py:1742: UserWarning: This figure includes Axes that are not compatible with tight_layout, so its results might be incorrect.\n",
      "  warnings.warn(\"This figure includes Axes that are not \"\n"
     ]
    },
    {
     "data": {
      "image/png": "[encoded data removed]",
      "text/plain": [
       "<matplotlib.figure.Figure at 0x7f9e65054450>"
      ]
     },
     "metadata": {},
     "output_type": "display_data"
    }
   ],
   "source": [
    "#load values\n",
    "#savepath = 'Arrays/trna_resbindt5_ug_so1000.npy'\n",
    "savepath = 'Arrays/trna_resbind_l_1k.npy'\n",
    "sum_mut2 = np.load(savepath)\n",
    "\n",
    "#average the values\n",
    "num_summary = 1\n",
    "mean_mut2 = sum_mut2/num_summary\n",
    "\n",
    "#Reshape into a holistic tensor organizing the mutations into 4*4 matrices\n",
    "meanhol_mut2 = mean_mut2.reshape(numug,numug,dims,dims)\n",
    "\n",
    "normalize = True\n",
    "if normalize:\n",
    "    meanhol_mut2 = mf.normalize_mut_hol(meanhol_mut2, nntrainer, sess, maxreduce=True, normfactor = 1)\n",
    "    \n",
    "    #Let's try something weird\n",
    "bpfilter = np.ones((4,4))*0\n",
    "for i,j in zip(range(4), range(4)):\n",
    "    bpfilter[i, -(j+1)] = 1.\n",
    "    \n",
    "C = np.sum((meanhol_mut2*bpfilter).reshape(numug,numug,dims*dims), axis=2)\n",
    "\n",
    "\n",
    "plt.figure(figsize=(15,6))\n",
    "plt.subplot(1,2,1)\n",
    "sb.heatmap(C, xticklabels=bpugSQ, yticklabels=bpugSQ, vmin=None, cmap='RdPu', linewidth=0.0)\n",
    "plt.title('Base Pair score for the ungapped consensus regions given by infernal')\n",
    "plt.xlabel('Ungapped nucleotides: pos 1')\n",
    "plt.ylabel('Ungapped nucleotides: pos 2')\n"
   ]
  },
  {
   "cell_type": "markdown",
   "metadata": {
    "collapsed": true
   },
   "source": [
    "### True Base Pairs as comparison"
   ]
  },
  {
   "cell_type": "code",
   "execution_count": 39,
   "metadata": {
    "collapsed": true
   },
   "outputs": [],
   "source": [
    "#Get the base pair coords\n",
    "bp_rc = bp_coords(ugSS)\n",
    "\n",
    "#make sure that these are what we expect\n",
    "s = np.ones_like(C)*0\n",
    "\n",
    "for r in bp_rc:\n",
    "    s[r[0], r[1]] = 1"
   ]
  },
  {
   "cell_type": "code",
   "execution_count": 40,
   "metadata": {
    "collapsed": false
   },
   "outputs": [
    {
     "data": {
      "text/plain": [
       "<matplotlib.text.Text at 0x7f9d306d8850>"
      ]
     },
     "execution_count": 40,
     "metadata": {},
     "output_type": "execute_result"
    },
    {
     "data": {
      "image/png": "[encoded data removed]",
      "text/plain": [
       "<matplotlib.figure.Figure at 0x7f9d3072cd90>"
      ]
     },
     "metadata": {},
     "output_type": "display_data"
    }
   ],
   "source": [
    "plt.figure(figsize=(15,6))\n",
    "plt.subplot(1,2,1)\n",
    "sb.heatmap(s, xticklabels=bpugSQ, yticklabels=bpugSQ, vmin=None, cmap='RdPu', linewidth=0.0)\n",
    "plt.title('Base Pair score for the ungapped consensus regions given by infernal')\n",
    "plt.xlabel('Ungapped nucleotides: pos 1')\n",
    "plt.ylabel('Ungapped nucleotides: pos 2')"
   ]
  },
  {
   "cell_type": "code",
   "execution_count": 41,
   "metadata": {
    "collapsed": true
   },
   "outputs": [],
   "source": [
    "#pull out the base pairs from the holistic scores array\n",
    "bp_hols = np.zeros((numbp, dims, dims))\n",
    "  \n",
    "for i,r in enumerate(bp_rc):\n",
    "    bp_hols[i] = meanhol_mut2[r[0],r[1]]"
   ]
  },
  {
   "cell_type": "code",
   "execution_count": 45,
   "metadata": {
    "collapsed": false
   },
   "outputs": [
    {
     "data": {
      "text/plain": [
       "<matplotlib.axes._subplots.AxesSubplot at 0x7f9ebbfbe750>"
      ]
     },
     "execution_count": 45,
     "metadata": {},
     "output_type": "execute_result"
    },
    {
     "data": {
      "image/png": "[encoded data removed]",
      "text/plain": [
       "<matplotlib.figure.Figure at 0x7f9d3033c850>"
      ]
     },
     "metadata": {},
     "output_type": "display_data"
    }
   ],
   "source": [
    "bp_hols_avg = np.mean(bp_hols, axis=0)\n",
    "plt.figure()\n",
    "sb.heatmap(bp.makeprob(bp_hols_avg))"
   ]
  },
  {
   "cell_type": "markdown",
   "metadata": {},
   "source": [
    "## Peter's idea"
   ]
  },
  {
   "cell_type": "code",
   "execution_count": 46,
   "metadata": {
    "collapsed": false
   },
   "outputs": [
    {
     "data": {
      "text/plain": [
       "42"
      ]
     },
     "execution_count": 46,
     "metadata": {},
     "output_type": "execute_result"
    }
   ],
   "source": [
    "numbp"
   ]
  },
  {
   "cell_type": "code",
   "execution_count": 71,
   "metadata": {
    "collapsed": false
   },
   "outputs": [],
   "source": [
    "#unravel the wc plot\n",
    "bp_stretch = np.ravel(C)\n",
    "#get the highest scores indices\n",
    "bp_index = np.argsort(bp_stretch)[::-1]\n",
    "#get the ranking of each score\n",
    "bp_rank = np.argsort(bp_index)\n",
    "#reshape into the wc shape\n",
    "bp_rank = bp_rank.reshape(C.shape)"
   ]
  },
  {
   "cell_type": "code",
   "execution_count": 72,
   "metadata": {
    "collapsed": false
   },
   "outputs": [
    {
     "data": {
      "text/plain": [
       "<matplotlib.axes._subplots.AxesSubplot at 0x7f9d30ab1b90>"
      ]
     },
     "execution_count": 72,
     "metadata": {},
     "output_type": "execute_result"
    },
    {
     "data": {
      "image/png": "[encoded data removed]",
      "text/plain": [
       "<matplotlib.figure.Figure at 0x7f9d0bc329d0>"
      ]
     },
     "metadata": {},
     "output_type": "display_data"
    }
   ],
   "source": [
    "#open a new matrix that will show the coloring of the ranks in two groups\n",
    "bp_shade = np.zeros_like(bp_rank)\n",
    "#shade in the high ranked\n",
    "bp_shade[np.where(bp_rank>numbp)] = 1.\n",
    "\n",
    "#visualize\n",
    "plt.figure()\n",
    "sb.heatmap(bp_shade)"
   ]
  },
  {
   "cell_type": "code",
   "execution_count": 49,
   "metadata": {
    "collapsed": false
   },
   "outputs": [
    {
     "data": {
      "text/plain": [
       "array([0.28726377, 0.28726377, 0.28131318, ..., 0.24691069, 0.2467142 ,\n",
       "       0.24671417])"
      ]
     },
     "execution_count": 49,
     "metadata": {},
     "output_type": "execute_result"
    }
   ],
   "source": [
    "bp_stretch[bp_index]"
   ]
  },
  {
   "cell_type": "code",
   "execution_count": 55,
   "metadata": {
    "collapsed": false
   },
   "outputs": [
    {
     "data": {
      "text/plain": [
       "42"
      ]
     },
     "execution_count": 55,
     "metadata": {},
     "output_type": "execute_result"
    }
   ],
   "source": [
    "numbp"
   ]
  },
  {
   "cell_type": "code",
   "execution_count": 61,
   "metadata": {
    "collapsed": false
   },
   "outputs": [
    {
     "data": {
      "text/plain": [
       "5041"
      ]
     },
     "execution_count": 61,
     "metadata": {},
     "output_type": "execute_result"
    }
   ],
   "source": [
    "len(bp_stretch)"
   ]
  },
  {
   "cell_type": "code",
   "execution_count": 60,
   "metadata": {
    "collapsed": false
   },
   "outputs": [
    {
     "data": {
      "text/plain": [
       "42.0"
      ]
     },
     "execution_count": 60,
     "metadata": {},
     "output_type": "execute_result"
    }
   ],
   "source": [
    "np.sum(ac_stretch[bp_index][:numbp*500])"
   ]
  },
  {
   "cell_type": "code",
   "execution_count": 70,
   "metadata": {
    "collapsed": false
   },
   "outputs": [
    {
     "data": {
      "text/plain": [
       "[<matplotlib.lines.Line2D at 0x7f9d0bef9310>]"
      ]
     },
     "execution_count": 70,
     "metadata": {},
     "output_type": "execute_result"
    },
    {
     "data": {
      "image/png": "[encoded data removed]",
      "text/plain": [
       "<matplotlib.figure.Figure at 0x7f9e0142bd90>"
      ]
     },
     "metadata": {},
     "output_type": "display_data"
    }
   ],
   "source": [
    "hits = [np.sum(ac_stretch[bp_index][:i]) for i in range(1,len(bp_stretch))]\n",
    "hits = np.cumsum(ac_stretch[bp_index])\n",
    "plt.figure()\n",
    "plt.plot(range(len(bp_stretch)), hits)"
   ]
  },
  {
   "cell_type": "code",
   "execution_count": 64,
   "metadata": {
    "collapsed": false
   },
   "outputs": [
    {
     "data": {
      "text/plain": [
       "0.8571428571428571"
      ]
     },
     "execution_count": 64,
     "metadata": {},
     "output_type": "execute_result"
    }
   ],
   "source": [
    "PPV = np.sum(ac_stretch[bp_index][:numbp])/(numbp)\n",
    "PPV"
   ]
  },
  {
   "cell_type": "code",
   "execution_count": 65,
   "metadata": {
    "collapsed": true
   },
   "outputs": [],
   "source": [
    "bp_stretch = np.ravel(C)\n",
    "ac_stretch = np.ravel(s)\n",
    "\n",
    "bp_index = np.argsort(bp_stretch)[::-1]\n",
    "metricstore = []\n",
    "for bp in bp_index:\n",
    "    metricstore.append(bp_stretch[bp]*ac_stretch[bp])\n",
    "\n",
    "metricstore = np.cumsum(metricstore)"
   ]
  },
  {
   "cell_type": "code",
   "execution_count": 68,
   "metadata": {
    "collapsed": false
   },
   "outputs": [
    {
     "data": {
      "text/plain": [
       "[<matplotlib.lines.Line2D at 0x7f9d30a4c690>]"
      ]
     },
     "execution_count": 68,
     "metadata": {},
     "output_type": "execute_result"
    },
    {
     "data": {
      "image/png": "[encoded data removed]",
      "text/plain": [
       "<matplotlib.figure.Figure at 0x7f9d30068150>"
      ]
     },
     "metadata": {},
     "output_type": "display_data"
    }
   ],
   "source": [
    "plt.figure()\n",
    "plt.plot(range(len(metricstore[:])), metricstore[:])"
   ]
  },
  {
   "cell_type": "code",
   "execution_count": 45,
   "metadata": {
    "collapsed": false
   },
   "outputs": [
    {
     "data": {
      "text/plain": [
       "0.28726376593112946"
      ]
     },
     "execution_count": 45,
     "metadata": {},
     "output_type": "execute_result"
    }
   ],
   "source": [
    "bp_stretch[bp_index[0]]"
   ]
  },
  {
   "cell_type": "code",
   "execution_count": null,
   "metadata": {
    "collapsed": true
   },
   "outputs": [],
   "source": []
  }
 ],
 "metadata": {
  "kernelspec": {
   "display_name": "Python 2",
   "language": "python",
   "name": "python2"
  },
  "language_info": {
   "codemirror_mode": {
    "name": "ipython",
    "version": 2
   },
   "file_extension": ".py",
   "mimetype": "text/x-python",
   "name": "python",
   "nbconvert_exporter": "python",
   "pygments_lexer": "ipython2",
   "version": "2.7.13"
  }
 },
 "nbformat": 4,
 "nbformat_minor": 2
}
