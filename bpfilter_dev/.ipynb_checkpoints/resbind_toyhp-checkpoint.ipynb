{
 "cells": [
  {
   "cell_type": "code",
   "execution_count": 2,
   "metadata": {
    "collapsed": true
   },
   "outputs": [],
   "source": [
    "from __future__ import absolute_import\n",
    "from __future__ import division\n",
    "from __future__ import print_function\n",
    "\n",
    "import os, sys, h5py\n",
    "import numpy as np\n",
    "import matplotlib.pyplot as plt\n",
    "import seaborn as sb\n",
    "import tensorflow as tf\n",
    "import scipy\n",
    "\n",
    "import sys\n",
    "sys.path.append('../../..')\n",
    "import mutagenesisfunctions as mf\n",
    "import helper \n",
    "from deepomics import neuralnetwork as nn\n",
    "from deepomics import utils, fit, visualize, saliency\n",
    "\n",
    "#from Bio import AlignIO\n",
    "import time as time\n",
    "import pandas as pd"
   ]
  },
  {
   "cell_type": "code",
   "execution_count": 4,
   "metadata": {},
   "outputs": [
    {
     "name": "stdout",
     "output_type": "stream",
     "text": [
      "Data extraction and dict construction completed in: 1.18s\n"
     ]
    }
   ],
   "source": [
    "\n",
    "\n",
    "'''OPEN DATA'''\n",
    "\n",
    "starttime = time.time()\n",
    "\n",
    "exp = 'toyhp'  #for both the data folder and the params folder\n",
    "exp_data = 'data_%s'%(exp)\n",
    "t = 'med'\n",
    "\n",
    "#Open data from h5py\n",
    "filename = '%s_50k_%s.hdf5'%(exp, t)\n",
    "data_path = os.path.join('../..', exp_data, filename)\n",
    "with h5py.File(data_path, 'r') as dataset:\n",
    "    X_data = np.array(dataset['X_data'])\n",
    "    Y_data = np.array(dataset['Y_data'])\n",
    "\n",
    "numdata, seqlen, dims = X_data.shape\n",
    "X_data = np.expand_dims(X_data, axis=2)\n",
    "\n",
    "# get validation and test set from training set\n",
    "test_frac = 0.3\n",
    "valid_frac = 0.1\n",
    "N = numdata\n",
    "split_1 = int(N*(1-valid_frac-test_frac))\n",
    "split_2 = int(N*(1-test_frac))\n",
    "shuffle = np.random.permutation(N)\n",
    "\n",
    "#set up dictionaries\n",
    "train = {'inputs': X_data[shuffle[:split_1]], \n",
    "       'targets': Y_data[shuffle[:split_1]]}\n",
    "valid = {'inputs': X_data[shuffle[split_1:split_2]], \n",
    "       'targets': Y_data[shuffle[split_1:split_2]]}\n",
    "test = {'inputs': X_data[shuffle[split_2:]], \n",
    "       'targets': Y_data[shuffle[split_2:]]}\n",
    "\n",
    "print ('Data extraction and dict construction completed in: ' + mf.sectotime(time.time() - starttime))\n",
    "\n"
   ]
  },
  {
   "cell_type": "code",
   "execution_count": 11,
   "metadata": {},
   "outputs": [
    {
     "name": "stderr",
     "output_type": "stream",
     "text": [
      "/Users/steffanpaul/anaconda/envs/tensorflow/lib/python3.6/site-packages/matplotlib/figure.py:1743: UserWarning: This figure includes Axes that are not compatible with tight_layout, so its results might be incorrect.\n",
      "  warnings.warn(\"This figure includes Axes that are not \"\n"
     ]
    },
    {
     "data": {
      "image/png": "[encoded data removed]",
      "text/plain": [
       "<matplotlib.figure.Figure at 0x12f606a58>"
      ]
     },
     "metadata": {},
     "output_type": "display_data"
    }
   ],
   "source": [
    "#Load the saved data\n",
    "num_summary = 2000\n",
    "\n",
    "arrayspath = 'Arrays/toyhp_resbindmed_so2k.npy'\n",
    "mean_mut2 = np.load(arrayspath)\n",
    "\n",
    "#Reshape into a holistic tensor organizing the mutations into 4*4\n",
    "meanhol_mut2 = mean_mut2.reshape(seqlen,seqlen,4,4)\n",
    "\n",
    "#Normalize\n",
    "normalize = False\n",
    "if normalize:\n",
    "    norm_meanhol_mut2 = mf.normalize_mut_hol(meanhol_mut2, nntrainer=0, sess=0, normfactor=1)\n",
    "\n",
    "#Let's try something weird\n",
    "bpfilter = np.ones((4,4))*0.\n",
    "for i,j in zip(range(4), range(4)):\n",
    "    bpfilter[i, -(j+1)] = +1.\n",
    "\n",
    "nofilter = np.ones((4,4))\n",
    "\n",
    "C = (meanhol_mut2*bpfilter)\n",
    "C = np.sum((C).reshape(seqlen,seqlen,dims*dims), axis=2)\n",
    "#C = C - np.mean(C)\n",
    "#C = C/np.max(C)\n",
    "\n",
    "plt.figure(figsize=(15,6))\n",
    "plt.subplot(1,2,1)\n",
    "sb.heatmap(C,vmin=None, cmap='Blues', linewidth=0.0)\n",
    "plt.show()\n"
   ]
  },
  {
   "cell_type": "code",
   "execution_count": null,
   "metadata": {
    "collapsed": true
   },
   "outputs": [],
   "source": [
    "import bpdev as bp\n",
    "\n",
    "bp.plotKLDscores(meanhol_mut2)"
   ]
  },
  {
   "cell_type": "code",
   "execution_count": null,
   "metadata": {
    "collapsed": true
   },
   "outputs": [],
   "source": [
    "#pull out the base pairs from the holistic scores array\n",
    "\n",
    "\n",
    "bp_hols = np.zeros((numbp, dims, dims))\n",
    "  \n",
    "for i,r in enumerate(bp_rc):\n",
    "    bp_hols[i] = meanhol_mut2[r[0],r[1]]\n",
    "    \n",
    "bp_hols_avg = np.mean(bp_hols, axis=0)\n",
    "plt.figure()\n",
    "sb.heatmap(makeprob(bp_hols_avg))"
   ]
  }
 ],
 "metadata": {
  "kernelspec": {
   "display_name": "Python 3",
   "language": "python",
   "name": "python3"
  },
  "language_info": {
   "codemirror_mode": {
    "name": "ipython",
    "version": 3
   },
   "file_extension": ".py",
   "mimetype": "text/x-python",
   "name": "python",
   "nbconvert_exporter": "python",
   "pygments_lexer": "ipython3",
   "version": "3.6.7"
  }
 },
 "nbformat": 4,
 "nbformat_minor": 2
}
