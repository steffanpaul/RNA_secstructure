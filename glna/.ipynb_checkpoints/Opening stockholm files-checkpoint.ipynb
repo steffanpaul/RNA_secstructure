{
 "cells": [
  {
   "cell_type": "code",
   "execution_count": 1,
   "metadata": {
    "collapsed": false
   },
   "outputs": [],
   "source": [
    "import numpy as np\n",
    "from Bio import AlignIO"
   ]
  },
  {
   "cell_type": "code",
   "execution_count": 2,
   "metadata": {
    "collapsed": false
   },
   "outputs": [
    {
     "name": "stdout",
     "output_type": "stream",
     "text": [
      "# cmbuild :: covariance model construction from multiple sequence alignments\n",
      "# INFERNAL 1.1.2 (July 2016)\n",
      "# Copyright (C) 2016 Howard Hughes Medical Institute.\n",
      "# Freely distributed under a BSD open source license.\n",
      "# - - - - - - - - - - - - - - - - - - - - - - - - - - - - - - - - - - - -\n",
      "# CM file:                                            ../../data_RFAM/RF01739.cm\n",
      "# alignment file:                                     ../../data_RFAM/seeds/RF01739.sto\n",
      "# - - - - - - - - - - - - - - - - - - - - - - - - - - - - - - - - - - - -\n",
      "#                                                                      rel entropy\n",
      "#                                                                      -----------\n",
      "# idx    name                     nseq eff_nseq   alen  clen  bps bifs    CM   HMM description\n",
      "# ------ -------------------- -------- -------- ------ ----- ---- ---- ----- ----- -----------\n",
      "       1 glnA                      956     7.25    274    61   16    1 0.916 0.708 glnA RNA\n",
      "#\n",
      "# CPU time: 0.32u 0.00s 00:00:00.32 Elapsed: 00:00:00.32\n"
     ]
    }
   ],
   "source": [
    "#build model from seed\n",
    "! cmbuild ../../data_RFAM/RF01739.cm ../../data_RFAM/seeds/RF01739.sto"
   ]
  },
  {
   "cell_type": "code",
   "execution_count": 117,
   "metadata": {
    "collapsed": false
   },
   "outputs": [],
   "source": [
    "#emit sequences from alignment\n",
    "! cmemit -a -N 100000 --seed 274 -o ../../data_RFAM/glnAsim_100k.sto ../../data_RFAM/RF01739.cm"
   ]
  },
  {
   "cell_type": "code",
   "execution_count": 118,
   "metadata": {
    "collapsed": false
   },
   "outputs": [],
   "source": [
    "#open file\n",
    "filename = '../../data_RFAM/glnAsim_100k.sto'\n",
    "alignment = AlignIO.read(open(filename), \"stockholm\")"
   ]
  },
  {
   "cell_type": "code",
   "execution_count": 120,
   "metadata": {
    "collapsed": false
   },
   "outputs": [],
   "source": [
    "#get SS consensus\n",
    "def getSSconsensus(simalign_file):\n",
    "    SS = ''\n",
    "    with open(simalign_file) as f1:\n",
    "        for line in f1:\n",
    "            if '#=GC SS_cons' in line:\n",
    "                line = line.strip()\n",
    "                line = line.split()\n",
    "                SS = SS + line[-1]\n",
    "    return (SS)"
   ]
  },
  {
   "cell_type": "code",
   "execution_count": null,
   "metadata": {
    "collapsed": true
   },
   "outputs": [],
   "source": [
    "#Open positive control simulated sequences\n",
    "starttime = time.time()\n",
    "simalign_file = '../../../data_RFAM/glnAsim_100k.sto'\n",
    "X_pos = mf.sto_onehot(simalign_file, 'rna')\n",
    "X_pos = np.expand_dims(X_pos, axis=2)\n",
    "print (time.time() - starttime)\n",
    "\n",
    "#Make negative controls\n",
    "starttime = time.time()\n",
    "num_data, seq_length, _, dims = X_pos.shape\n",
    "dims = dims-1\n",
    "SS = mf.getSSconsensus(simalign_file)\n",
    "X_neg = mf.seq_generator_gaps(SS, num_data, seq_length, dims)\n",
    "print (time.time() - starttime)"
   ]
  },
  {
   "cell_type": "code",
   "execution_count": 125,
   "metadata": {
    "collapsed": false
   },
   "outputs": [
    {
     "data": {
      "text/plain": [
       "'.....:.........:....(..(.....(...(....(......,....<...<....<....<...<....<...<.................................................................._........_....._....._......_......................................................................................................................................>.....>....>....>...>....>....>.....,.......,.......,.......,.....,......,......,.....,....<....<...<.....<......................................................._........_........_....._........_.......................................................................................................................................................................................................................................................................................................>....>.....>....>....,.....,....,.....,......)....)...)...)....).....:....:.....:.....:........'"
      ]
     },
     "execution_count": 125,
     "metadata": {},
     "output_type": "execute_result"
    }
   ],
   "source": [
    "SS = getSSconsensus(filename)\n",
    "SS"
   ]
  },
  {
   "cell_type": "code",
   "execution_count": 127,
   "metadata": {
    "collapsed": false
   },
   "outputs": [
    {
     "data": {
      "text/plain": [
       "893"
      ]
     },
     "execution_count": 127,
     "metadata": {},
     "output_type": "execute_result"
    }
   ],
   "source": [
    "len(alignment[0])"
   ]
  },
  {
   "cell_type": "code",
   "execution_count": 124,
   "metadata": {
    "collapsed": false
   },
   "outputs": [
    {
     "name": "stdout",
     "output_type": "stream",
     "text": [
      "-----A--------------C--G-----U---U----C------A----G---U----A----U---C----U---Uu---------------------------------------------------------------guU--------C-----A-------------uucgugccgugu-------------------------------------------------------------------------------------------------------------ugucuaauaguagA-----A----G----A---U----A----C-----C-------G-------A-------A-----A------G------U-----A----G----G---U-----Uc-----------------------------------------------------uA--------A--------A-----C--------Acaauccguagacugaaagucaagauau------------------------------------------------------------------------------------------------------------------------------------------------------------------------------------------------------------------------------------------------aguucaguugcgggaagaucauggguccA----G-----C----C----G-----A----A-----G------G----A---A---C----G-----C----A--------------------\n"
     ]
    }
   ],
   "source": [
    "print (alignment[0].seq)"
   ]
  },
  {
   "cell_type": "code",
   "execution_count": 16,
   "metadata": {
    "collapsed": false
   },
   "outputs": [],
   "source": [
    "rnadict = {'A':0, 'C':1, 'G':2, 'U':3, 'a':0, 'c':1, 'g':2, 'u':3, '-':4, '.':4}\n"
   ]
  },
  {
   "cell_type": "code",
   "execution_count": 36,
   "metadata": {
    "collapsed": false
   },
   "outputs": [],
   "source": [
    "def seq_onehot(sequences, dims, alphabet, gaps=True):\n",
    "    if alphabet == 'rna':\n",
    "        ndict = rnadict\n",
    "    onehot = np.zeros((len(sequences), len(sequences[0]), dims+1))\n",
    "    for i1,seq in enumerate(sequences):\n",
    "        for i2, n in enumerate(seq):\n",
    "            onehot[i1][i2][ndict[n]] = 1.    \n",
    "    if gaps == False:\n",
    "            onehot = onehot[:, :, :dims]\n",
    "    return onehot\n",
    "        "
   ]
  },
  {
   "cell_type": "code",
   "execution_count": 140,
   "metadata": {
    "collapsed": false
   },
   "outputs": [],
   "source": [
    "X_data = seq_onehot(sequences, 4, 'rna')\n"
   ]
  },
  {
   "cell_type": "code",
   "execution_count": 141,
   "metadata": {
    "collapsed": false
   },
   "outputs": [
    {
     "data": {
      "text/plain": [
       "(100, 240, 5)"
      ]
     },
     "execution_count": 141,
     "metadata": {},
     "output_type": "execute_result"
    }
   ],
   "source": [
    "X_data.shape"
   ]
  },
  {
   "cell_type": "markdown",
   "metadata": {},
   "source": [
    "Figure out how to remove areas where gaps are in majority"
   ]
  },
  {
   "cell_type": "code",
   "execution_count": 128,
   "metadata": {
    "collapsed": false
   },
   "outputs": [],
   "source": [
    "#remove gaps in the consensus SS from the simulated sequences\n",
    "def consensus_gaps(SS, gapchar='.'):\n",
    "    idx = []\n",
    "    for i,s in enumerate(SS):\n",
    "        if s == gapchar:\n",
    "            idx.append(i)\n",
    "    return (idx)\n",
    "\n",
    "def rm_consensus_gaps(X_data, SS, gapchar='.'):\n",
    "    idx = []\n",
    "    for i,s in enumerate(SS):\n",
    "        if s != gapchar:\n",
    "            idx.append(i)\n",
    "\n",
    "    return (X_data[:, idx, :])"
   ]
  },
  {
   "cell_type": "code",
   "execution_count": 87,
   "metadata": {
    "collapsed": false
   },
   "outputs": [
    {
     "data": {
      "text/plain": [
       "(array([], dtype=int64),)"
      ]
     },
     "execution_count": 87,
     "metadata": {},
     "output_type": "execute_result"
    }
   ],
   "source": [
    "idx = np.where(SS == '.')\n",
    "idx"
   ]
  },
  {
   "cell_type": "code",
   "execution_count": 142,
   "metadata": {
    "collapsed": true
   },
   "outputs": [],
   "source": [
    "#generate random negative control sequences\n",
    "seed=274\n",
    "num_data = len(alignment)\n",
    "seq_length = len(alignment[0])\n",
    "dims = 4\n",
    "pgap_ungapped = 0.05\n",
    "pgap_gapped = 0.8\n",
    "SS = SS\n",
    "gapchar = '.'\n",
    "\n",
    "\n",
    "def seq_generator_gaps(SS, num_data, seq_length, dims, pgaps=(0.05,0.8), seed=274, gapchar='.')\n",
    "    np.random.seed(seed)\n",
    "    Xsim = np.zeros((num_data, seq_length, 1, dims+1))\n",
    "    p,q = pgaps\n",
    "\n",
    "    for d in range(num_data):\n",
    "\n",
    "        #ungapped random nucleotides\n",
    "        Xsim_seq = np.random.choice(dims+1, seq_length, [(1-p)/4, (1-p)/4, (1-p)/4, (1-p)/4, p])\n",
    "        #gapped random nucleotides\n",
    "        Xsim_gaps = np.random.choice(dims+1, seq_length, [(1-q)/4, (1-q)/4, (1-q)/4, (1-q)/4, q])\n",
    "        #merge\n",
    "        gapidx = consensus_gaps(SS, gapchar)\n",
    "        Xsim_seq[gapidx] = np.copy(Xsim_gaps[gapidx])\n",
    "\n",
    "\n",
    "        Xsim_hp = np.zeros((seq_length,1, dims+1))\n",
    "        for (idx,nuc) in enumerate(Xsim_seq):\n",
    "            Xsim_hp[idx][0][nuc] = 1\n",
    "        Xsim[d] = Xsim_hp\n",
    "        \n",
    "    return (Xsim)"
   ]
  },
  {
   "cell_type": "code",
   "execution_count": 133,
   "metadata": {
    "collapsed": false
   },
   "outputs": [],
   "source": [
    "#generate random negative control sequences\n",
    "seed=274\n",
    "num_data = len(alignment)\n",
    "seq_length = len(alignment[0])\n",
    "dims = 4\n",
    "pgap_ungapped = 0.05\n",
    "pgap_gapped = 0.8\n",
    "SS = SS\n",
    "gapchar = '.'\n",
    "\n",
    "\n",
    "np.random.seed(seed)\n",
    "Xsim = np.zeros((num_data, seq_length, 1, dims+1))\n",
    "p = pgap_ungapped\n",
    "q = pgap_gapped\n",
    "\n",
    "\n",
    "#ungapped random nucleotides\n",
    "Xsim_seq = np.random.choice(dims+1, seq_length, [(1-p)/4, (1-p)/4, (1-p)/4, (1-p)/4, p])\n",
    "#gapped random nucleotides\n",
    "Xsim_gaps = np.random.choice(dims+1, seq_length, [(1-q)/4, (1-q)/4, (1-q)/4, (1-q)/4, q])\n",
    "#merge\n",
    "gapidx = consensus_gaps(SS, gapchar)\n",
    "Xsim_seq[gapidx] = np.copy(Xsim_gaps[gapidx])"
   ]
  },
  {
   "cell_type": "code",
   "execution_count": 144,
   "metadata": {
    "collapsed": false
   },
   "outputs": [
    {
     "data": {
      "text/plain": [
       "array([[[[0., 0., 0., 0., 1.]],\n",
       "\n",
       "        [[0., 1., 0., 0., 0.]],\n",
       "\n",
       "        [[0., 0., 0., 0., 1.]],\n",
       "\n",
       "        ...,\n",
       "\n",
       "        [[0., 0., 1., 0., 0.]],\n",
       "\n",
       "        [[0., 1., 0., 0., 0.]],\n",
       "\n",
       "        [[1., 0., 0., 0., 0.]]],\n",
       "\n",
       "\n",
       "       [[[0., 0., 1., 0., 0.]],\n",
       "\n",
       "        [[1., 0., 0., 0., 0.]],\n",
       "\n",
       "        [[0., 0., 0., 1., 0.]],\n",
       "\n",
       "        ...,\n",
       "\n",
       "        [[0., 1., 0., 0., 0.]],\n",
       "\n",
       "        [[0., 1., 0., 0., 0.]],\n",
       "\n",
       "        [[0., 0., 1., 0., 0.]]],\n",
       "\n",
       "\n",
       "       [[[0., 0., 1., 0., 0.]],\n",
       "\n",
       "        [[0., 0., 1., 0., 0.]],\n",
       "\n",
       "        [[0., 0., 0., 0., 1.]],\n",
       "\n",
       "        ...,\n",
       "\n",
       "        [[0., 0., 1., 0., 0.]],\n",
       "\n",
       "        [[0., 0., 0., 0., 1.]],\n",
       "\n",
       "        [[0., 0., 1., 0., 0.]]],\n",
       "\n",
       "\n",
       "       ...,\n",
       "\n",
       "\n",
       "       [[[0., 1., 0., 0., 0.]],\n",
       "\n",
       "        [[0., 0., 0., 0., 1.]],\n",
       "\n",
       "        [[0., 0., 1., 0., 0.]],\n",
       "\n",
       "        ...,\n",
       "\n",
       "        [[0., 0., 0., 0., 1.]],\n",
       "\n",
       "        [[0., 0., 0., 0., 1.]],\n",
       "\n",
       "        [[0., 1., 0., 0., 0.]]],\n",
       "\n",
       "\n",
       "       [[[0., 0., 1., 0., 0.]],\n",
       "\n",
       "        [[0., 0., 0., 1., 0.]],\n",
       "\n",
       "        [[1., 0., 0., 0., 0.]],\n",
       "\n",
       "        ...,\n",
       "\n",
       "        [[1., 0., 0., 0., 0.]],\n",
       "\n",
       "        [[0., 0., 0., 0., 1.]],\n",
       "\n",
       "        [[1., 0., 0., 0., 0.]]],\n",
       "\n",
       "\n",
       "       [[[1., 0., 0., 0., 0.]],\n",
       "\n",
       "        [[1., 0., 0., 0., 0.]],\n",
       "\n",
       "        [[0., 0., 0., 1., 0.]],\n",
       "\n",
       "        ...,\n",
       "\n",
       "        [[0., 0., 0., 0., 1.]],\n",
       "\n",
       "        [[0., 0., 0., 1., 0.]],\n",
       "\n",
       "        [[0., 0., 0., 0., 1.]]]])"
      ]
     },
     "execution_count": 144,
     "metadata": {},
     "output_type": "execute_result"
    }
   ],
   "source": [
    "Xsim"
   ]
  },
  {
   "cell_type": "code",
   "execution_count": 137,
   "metadata": {
    "collapsed": false
   },
   "outputs": [
    {
     "data": {
      "text/plain": [
       "832"
      ]
     },
     "execution_count": 137,
     "metadata": {},
     "output_type": "execute_result"
    }
   ],
   "source": [
    "len(gapidx)"
   ]
  },
  {
   "cell_type": "code",
   "execution_count": null,
   "metadata": {
    "collapsed": true
   },
   "outputs": [],
   "source": []
  }
 ],
 "metadata": {
  "kernelspec": {
   "display_name": "Python 2",
   "language": "python",
   "name": "python2"
  },
  "language_info": {
   "codemirror_mode": {
    "name": "ipython",
    "version": 2
   },
   "file_extension": ".py",
   "mimetype": "text/x-python",
   "name": "python",
   "nbconvert_exporter": "python",
   "pygments_lexer": "ipython2",
   "version": "2.7.13"
  }
 },
 "nbformat": 4,
 "nbformat_minor": 0
}
