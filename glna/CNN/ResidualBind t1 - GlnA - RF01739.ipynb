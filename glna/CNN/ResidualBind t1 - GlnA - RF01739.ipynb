{
 "cells": [
  {
   "cell_type": "code",
   "execution_count": 2,
   "metadata": {
    "collapsed": false
   },
   "outputs": [],
   "source": [
    "from __future__ import absolute_import\n",
    "from __future__ import division\n",
    "from __future__ import print_function\n",
    "\n",
    "import os, sys, h5py\n",
    "import numpy as np\n",
    "import matplotlib.pyplot as plt\n",
    "%matplotlib inline\n",
    "import seaborn as sb\n",
    "import tensorflow as tf\n",
    "from deepomics import neuralnetwork as nn\n",
    "from deepomics import utils, fit, visualize, saliency\n",
    "import scipy\n",
    "\n",
    "import sys\n",
    "sys.path.append('../../../..')\n",
    "import mutagenesisfunctions as mf\n",
    "from Bio import AlignIO\n",
    "import time as time"
   ]
  },
  {
   "cell_type": "code",
   "execution_count": 3,
   "metadata": {
    "collapsed": false
   },
   "outputs": [
    {
     "name": "stdout",
     "output_type": "stream",
     "text": [
      "50.4781110287\n"
     ]
    }
   ],
   "source": [
    "#Open positive control simulated sequences\n",
    "starttime = time.time()\n",
    "simalign_file = '../../../data_RFAM/glnAsim_100k.sto'\n",
    "X_pos = mf.sto_onehot(simalign_file, 'rna')\n",
    "X_pos = np.expand_dims(X_pos, axis=2)\n",
    "print (time.time() - starttime)"
   ]
  },
  {
   "cell_type": "code",
   "execution_count": 5,
   "metadata": {
    "collapsed": false
   },
   "outputs": [
    {
     "name": "stdout",
     "output_type": "stream",
     "text": [
      "45.9538650513\n"
     ]
    }
   ],
   "source": [
    "#Make negative controls\n",
    "starttime = time.time()\n",
    "num_data, seq_length, _, dims = X_pos.shape\n",
    "dims = dims-1\n",
    "SS = mf.getSSconsensus(simalign_file)\n",
    "X_neg = mf.seq_generator_gaps(SS, num_data, seq_length, dims)\n",
    "print (time.time() - starttime)"
   ]
  },
  {
   "cell_type": "code",
   "execution_count": 32,
   "metadata": {
    "collapsed": false
   },
   "outputs": [],
   "source": [
    "#Set up data dictionaries\n",
    "Y_pos = np.ones((num_data, 1))*1.\n",
    "Y_neg = np.ones((num_data, 1))*0.\n",
    "\n",
    "X_data = np.concatenate((X_pos, X_neg), axis=0)\n",
    "Y_data = np.concatenate((Y_pos, Y_neg), axis=0)\n",
    "\n",
    "ungapped = True\n",
    "if ungapped:\n",
    "    X_data = X_data[:, :, :, :dims]\n",
    "    \n",
    "# get validation and test set from training set\n",
    "test_frac = 0.2\n",
    "valid_frac = 0.1\n",
    "N = X_data.shape[0]\n",
    "split_1 = int(N*(1-valid_frac-test_frac))\n",
    "split_2 = split_1 + int(N*(valid_frac))\n",
    "shuffle = np.random.permutation(N)\n",
    "\n",
    "#set up dictionaries\n",
    "train = {'inputs': X_data[shuffle[:split_1]], \n",
    "         'targets': Y_data[shuffle[:split_1]]}\n",
    "valid = {'inputs': X_data[shuffle[split_1:split_2]], \n",
    "         'targets': Y_data[shuffle[split_1:split_2]]}\n",
    "test = {'inputs': X_data[shuffle[split_2:]], \n",
    "         'targets': Y_data[shuffle[split_2:]]}\n"
   ]
  },
  {
   "cell_type": "code",
   "execution_count": 33,
   "metadata": {
    "collapsed": false
   },
   "outputs": [
    {
     "name": "stdout",
     "output_type": "stream",
     "text": [
      "----------------------------------------------------------------------------\n",
      "Network architecture:\n",
      "----------------------------------------------------------------------------\n",
      "layer1: inputs\n",
      "(?, 893, 1, 4)\n",
      "layer2: conv1d_0\n",
      "(?, 30, 1, 96)\n",
      "layer3: conv1d_0_batch\n",
      "(?, 30, 1, 96)\n",
      "layer4: conv1d_0_active\n",
      "(?, 30, 1, 96)\n",
      "layer5: conv1d_0_dropout\n",
      "(?, 30, 1, 96)\n",
      "layer6: conv1d_residual_0_1resid\n",
      "(?, 30, 1, 96)\n",
      "layer7: conv1d_residual_0_1resid_norm\n",
      "(?, 30, 1, 96)\n",
      "layer8: conv1d_residual_0_1resid_active\n",
      "(?, 30, 1, 96)\n",
      "layer9: conv1d_residual_0_dropout1\n",
      "(?, 30, 1, 96)\n",
      "layer10: conv1d_residual_0_2resid\n",
      "(?, 30, 1, 96)\n",
      "layer11: conv1d_residual_0_2resid_norm\n",
      "(?, 30, 1, 96)\n",
      "layer12: conv1d_residual_0_resid_sum\n",
      "(?, 30, 1, 96)\n",
      "layer13: conv1d_residual_0_resid\n",
      "(?, 30, 1, 96)\n",
      "layer14: conv1d_residual_0_meanpool\n",
      "(?, 3, 1, 96)\n",
      "layer15: conv1d_residual_0_dropout\n",
      "(?, 3, 1, 96)\n",
      "layer16: dense_0\n",
      "(?, 196)\n",
      "layer17: dense_0_batch\n",
      "(?, 196)\n",
      "layer18: dense_0_active\n",
      "(?, 196)\n",
      "layer19: dense_0_dropout\n",
      "(?, 196)\n",
      "layer20: dense_1\n",
      "(?, 1)\n",
      "layer21: dense_1_bias\n",
      "(?, 1)\n",
      "layer22: output\n",
      "(?, 1)\n",
      "----------------------------------------------------------------------------\n"
     ]
    }
   ],
   "source": [
    "def cnn_model(input_shape, output_shape):\n",
    "\n",
    "    # create model\n",
    "    layer1 = {'layer': 'input', #41\n",
    "            'input_shape': input_shape\n",
    "            }\n",
    "    layer2 = {'layer': 'conv1d',\n",
    "            'num_filters': 96,\n",
    "            'filter_size': input_shape[1]-29,\n",
    "            'norm': 'batch',\n",
    "            'activation': 'relu',\n",
    "            'dropout': 0.3,\n",
    "            'padding': 'VALID',\n",
    "            }\n",
    "    layer3 = {'layer': 'conv1d_residual',\n",
    "            'filter_size': 5,\n",
    "            'function': 'relu',\n",
    "            'dropout_block': 0.1,\n",
    "            'dropout': 0.3,\n",
    "            'mean_pool': 10,\n",
    "            }\n",
    "    \n",
    "    layer4 = {'layer': 'dense',        # input, conv1d, dense, conv1d_residual, dense_residual, conv1d_transpose,\n",
    "                                    # concat, embedding, variational_normal, variational_softmax, + more\n",
    "          'num_units': 196,\n",
    "          'norm': 'batch',          # if removed, automatically adds bias instead\n",
    "          'activation': 'relu',     # or leaky_relu, prelu, sigmoid, tanh, etc\n",
    "          'dropout': 0.5,           # if removed, default is no dropout\n",
    "             }\n",
    "\n",
    "    \n",
    "    layer5 = {'layer': 'dense',\n",
    "            'num_units': output_shape[1],\n",
    "            'activation': 'sigmoid'\n",
    "            }\n",
    "\n",
    "    model_layers = [layer1, layer2, layer3, layer4, layer5]\n",
    "\n",
    "    # optimization parameters\n",
    "    optimization = {\"objective\": \"binary\",\n",
    "                  \"optimizer\": \"adam\",\n",
    "                  \"learning_rate\": 0.0003,\n",
    "                  \"l2\": 1e-5,\n",
    "                  #\"label_smoothing\": 0.05,\n",
    "                  #\"l1\": 1e-6,\n",
    "                  }\n",
    "    return model_layers, optimization\n",
    "\n",
    "tf.reset_default_graph()\n",
    "\n",
    "# get shapes of inputs and targets\n",
    "input_shape = list(train['inputs'].shape)\n",
    "input_shape[0] = None\n",
    "output_shape = train['targets'].shape\n",
    "\n",
    "# load model parameters\n",
    "model_layers, optimization = cnn_model(input_shape, output_shape)\n",
    "\n",
    "# build neural network class\n",
    "nnmodel = nn.NeuralNet(seed=247)\n",
    "nnmodel.build_layers(model_layers, optimization)\n",
    "\n",
    "# compile neural trainer\n",
    "save_path = '../../../results/glnA'\n",
    "param_path = os.path.join(save_path, 'resbind')\n",
    "nntrainer = nn.NeuralTrainer(nnmodel, save='best', file_path=param_path)\n",
    "\n",
    "# look at the shapes of each layer\n",
    "nnmodel.inspect_layers()"
   ]
  },
  {
   "cell_type": "code",
   "execution_count": 37,
   "metadata": {
    "collapsed": true
   },
   "outputs": [],
   "source": [
    "# initialize session\n",
    "sess.close()\n",
    "sess = utils.initialize_session()"
   ]
  },
  {
   "cell_type": "code",
   "execution_count": 36,
   "metadata": {
    "collapsed": false
   },
   "outputs": [
    {
     "name": "stdout",
     "output_type": "stream",
     "text": [
      "Epoch 1 out of 100 \n",
      "[==============================] 100.0% -- elapsed time=16.67s -- loss=0.00263 -- acc=100.00000%  \n",
      " \n",
      "  valid loss:\t\t0.00204\n",
      "  valid accuracy:\t1.00000+/-0.00000\n",
      "  valid auc-roc:\t1.00000+/-0.00000\n",
      "  valid auc-pr:\t\t1.00000+/-0.00000\n",
      "Epoch 2 out of 100 \n",
      "[==============================] 100.0% -- elapsed time=16.69s -- loss=0.00157 -- acc=100.00000%  \n",
      " \n",
      "  valid loss:\t\t0.00114\n",
      "  valid accuracy:\t1.00000+/-0.00000\n",
      "  valid auc-roc:\t1.00000+/-0.00000\n",
      "  valid auc-pr:\t\t1.00000+/-0.00000\n",
      "Epoch 3 out of 100 \n",
      "[==============================] 100.0% -- elapsed time=16.77s -- loss=0.00089 -- acc=100.00000%  \n",
      " \n",
      "  valid loss:\t\t0.00067\n",
      "  valid accuracy:\t1.00000+/-0.00000\n",
      "  valid auc-roc:\t1.00000+/-0.00000\n",
      "  valid auc-pr:\t\t1.00000+/-0.00000\n",
      "  lower cross-validation found\n",
      "  saving model to:  ../../../results/glnA/resbind_best.ckpt\n",
      "Epoch 4 out of 100 \n",
      "[==============================] 100.0% -- elapsed time=17.06s -- loss=0.00041 -- acc=100.00000%  \n",
      " \n",
      "  valid loss:\t\t0.00024\n",
      "  valid accuracy:\t1.00000+/-0.00000\n",
      "  valid auc-roc:\t1.00000+/-0.00000\n",
      "  valid auc-pr:\t\t1.00000+/-0.00000\n",
      "  lower cross-validation found\n",
      "  saving model to:  ../../../results/glnA/resbind_best.ckpt\n",
      "Epoch 5 out of 100 \n",
      "[==============================] 100.0% -- elapsed time=17.40s -- loss=0.00618 -- acc=99.97643%  \n",
      " \n",
      "  valid loss:\t\t0.00429\n",
      "  valid accuracy:\t1.00000+/-0.00000\n",
      "  valid auc-roc:\t1.00000+/-0.00000\n",
      "  valid auc-pr:\t\t1.00000+/-0.00000\n",
      "Epoch 6 out of 100 \n",
      "[==============================] 100.0% -- elapsed time=17.40s -- loss=0.00382 -- acc=100.00000%  \n",
      " \n",
      "  valid loss:\t\t0.00330\n",
      "  valid accuracy:\t1.00000+/-0.00000\n",
      "  valid auc-roc:\t1.00000+/-0.00000\n",
      "  valid auc-pr:\t\t1.00000+/-0.00000\n",
      "Epoch 7 out of 100 \n",
      "[==============================] 100.0% -- elapsed time=17.28s -- loss=0.00281 -- acc=100.00000%  \n",
      " \n",
      "  valid loss:\t\t0.00232\n",
      "  valid accuracy:\t1.00000+/-0.00000\n",
      "  valid auc-roc:\t1.00000+/-0.00000\n",
      "  valid auc-pr:\t\t1.00000+/-0.00000\n",
      "Epoch 8 out of 100 \n",
      "[==============================] 100.0% -- elapsed time=17.33s -- loss=0.00232 -- acc=99.998570%  \n",
      " \n",
      "  valid loss:\t\t0.00227\n",
      "  valid accuracy:\t1.00000+/-0.00000\n",
      "  valid auc-roc:\t1.00000+/-0.00000\n",
      "  valid auc-pr:\t\t1.00000+/-0.00000\n",
      "Epoch 9 out of 100 \n",
      "[==============================] 100.0% -- elapsed time=17.37s -- loss=0.00159 -- acc=100.00000%  \n",
      " \n",
      "  valid loss:\t\t0.00106\n",
      "  valid accuracy:\t1.00000+/-0.00000\n",
      "  valid auc-roc:\t1.00000+/-0.00000\n",
      "  valid auc-pr:\t\t1.00000+/-0.00000\n",
      "Epoch 10 out of 100 \n",
      "[==============================] 100.0% -- elapsed time=17.29s -- loss=0.00150 -- acc=99.998570%  \n",
      " \n",
      "  valid loss:\t\t0.00196\n",
      "  valid accuracy:\t1.00000+/-0.00000\n",
      "  valid auc-roc:\t1.00000+/-0.00000\n",
      "  valid auc-pr:\t\t1.00000+/-0.00000\n",
      "Epoch 11 out of 100 \n",
      "[==============================] 100.0% -- elapsed time=17.29s -- loss=0.00116 -- acc=100.00000%  \n",
      " \n",
      "  valid loss:\t\t0.00062\n",
      "  valid accuracy:\t1.00000+/-0.00000\n",
      "  valid auc-roc:\t1.00000+/-0.00000\n",
      "  valid auc-pr:\t\t1.00000+/-0.00000\n",
      "Epoch 12 out of 100 \n",
      "[==============================] 100.0% -- elapsed time=17.28s -- loss=0.00038 -- acc=100.00000%  \n",
      " \n",
      "  valid loss:\t\t0.00021\n",
      "  valid accuracy:\t1.00000+/-0.00000\n",
      "  valid auc-roc:\t1.00000+/-0.00000\n",
      "  valid auc-pr:\t\t1.00000+/-0.00000\n",
      "  lower cross-validation found\n",
      "  saving model to:  ../../../results/glnA/resbind_best.ckpt\n",
      "Epoch 13 out of 100 \n",
      "[==============================] 100.0% -- elapsed time=17.19s -- loss=0.00013 -- acc=100.00000%  \n",
      " \n",
      "  valid loss:\t\t0.00013\n",
      "  valid accuracy:\t1.00000+/-0.00000\n",
      "  valid auc-roc:\t1.00000+/-0.00000\n",
      "  valid auc-pr:\t\t1.00000+/-0.00000\n",
      "  lower cross-validation found\n",
      "  saving model to:  ../../../results/glnA/resbind_best.ckpt\n",
      "Epoch 14 out of 100 \n",
      "[==============================] 100.0% -- elapsed time=17.21s -- loss=0.00005 -- acc=100.00000%  \n",
      " \n",
      "  valid loss:\t\t0.00003\n",
      "  valid accuracy:\t1.00000+/-0.00000\n",
      "  valid auc-roc:\t1.00000+/-0.00000\n",
      "  valid auc-pr:\t\t1.00000+/-0.00000\n",
      "  lower cross-validation found\n",
      "  saving model to:  ../../../results/glnA/resbind_best.ckpt\n",
      "Epoch 15 out of 100 \n",
      "[==============================] 100.0% -- elapsed time=16.98s -- loss=0.00358 -- acc=99.99500%   \n",
      " \n",
      "  valid loss:\t\t0.00362\n",
      "  valid accuracy:\t1.00000+/-0.00000\n",
      "  valid auc-roc:\t1.00000+/-0.00000\n",
      "  valid auc-pr:\t\t1.00000+/-0.00000\n",
      "Epoch 16 out of 100 \n",
      "[==============================] 100.0% -- elapsed time=16.98s -- loss=0.00292 -- acc=100.00000%  \n",
      " \n",
      "  valid loss:\t\t0.00224\n",
      "  valid accuracy:\t1.00000+/-0.00000\n",
      "  valid auc-roc:\t1.00000+/-0.00000\n",
      "  valid auc-pr:\t\t1.00000+/-0.00000\n",
      "Epoch 17 out of 100 \n",
      "[==============================] 100.0% -- elapsed time=16.97s -- loss=0.00174 -- acc=100.00000%  \n",
      " \n",
      "  valid loss:\t\t0.00125\n",
      "  valid accuracy:\t1.00000+/-0.00000\n",
      "  valid auc-roc:\t1.00000+/-0.00000\n",
      "  valid auc-pr:\t\t1.00000+/-0.00000\n",
      "Epoch 18 out of 100 \n",
      "[==============================] 100.0% -- elapsed time=17.03s -- loss=0.00090 -- acc=100.00000%  \n",
      " \n",
      "  valid loss:\t\t0.00059\n",
      "  valid accuracy:\t1.00000+/-0.00000\n",
      "  valid auc-roc:\t1.00000+/-0.00000\n",
      "  valid auc-pr:\t\t1.00000+/-0.00000\n",
      "Epoch 19 out of 100 \n",
      "[==============================] 100.0% -- elapsed time=17.02s -- loss=0.00125 -- acc=100.00000%  \n",
      " \n",
      "  valid loss:\t\t0.00078\n",
      "  valid accuracy:\t1.00000+/-0.00000\n",
      "  valid auc-roc:\t1.00000+/-0.00000\n",
      "  valid auc-pr:\t\t1.00000+/-0.00000\n",
      "Epoch 20 out of 100 \n",
      "[==============================] 100.0% -- elapsed time=17.01s -- loss=0.00038 -- acc=100.00000%  \n",
      " \n",
      "  valid loss:\t\t0.00016\n",
      "  valid accuracy:\t1.00000+/-0.00000\n",
      "  valid auc-roc:\t1.00000+/-0.00000\n",
      "  valid auc-pr:\t\t1.00000+/-0.00000\n",
      "Epoch 21 out of 100 \n",
      "[==============================] 100.0% -- elapsed time=17.04s -- loss=0.00008 -- acc=100.00000%  \n",
      " \n",
      "  valid loss:\t\t0.00004\n",
      "  valid accuracy:\t1.00000+/-0.00000\n",
      "  valid auc-roc:\t1.00000+/-0.00000\n",
      "  valid auc-pr:\t\t1.00000+/-0.00000\n",
      "Epoch 22 out of 100 \n",
      "[==============================] 100.0% -- elapsed time=17.01s -- loss=0.00002 -- acc=100.00000%  \n",
      " \n",
      "  valid loss:\t\t0.00002\n",
      "  valid accuracy:\t1.00000+/-0.00000\n",
      "  valid auc-roc:\t1.00000+/-0.00000\n",
      "  valid auc-pr:\t\t1.00000+/-0.00000\n",
      "  lower cross-validation found\n",
      "  saving model to:  ../../../results/glnA/resbind_best.ckpt\n",
      "Epoch 23 out of 100 \n",
      "[==============================] 100.0% -- elapsed time=17.13s -- loss=0.00294 -- acc=99.98000%   \n",
      " \n",
      "  valid loss:\t\t0.00488\n",
      "  valid accuracy:\t1.00000+/-0.00000\n",
      "  valid auc-roc:\t1.00000+/-0.00000\n",
      "  valid auc-pr:\t\t1.00000+/-0.00000\n",
      "Epoch 24 out of 100 \n",
      "[==============================] 100.0% -- elapsed time=16.96s -- loss=0.00462 -- acc=100.00000%  \n",
      " \n",
      "  valid loss:\t\t0.00429\n",
      "  valid accuracy:\t1.00000+/-0.00000\n",
      "  valid auc-roc:\t1.00000+/-0.00000\n",
      "  valid auc-pr:\t\t1.00000+/-0.00000\n",
      "Epoch 25 out of 100 \n",
      "[==============================] 100.0% -- elapsed time=17.06s -- loss=0.00396 -- acc=100.00000%  \n",
      " \n",
      "  valid loss:\t\t0.00358\n",
      "  valid accuracy:\t1.00000+/-0.00000\n",
      "  valid auc-roc:\t1.00000+/-0.00000\n",
      "  valid auc-pr:\t\t1.00000+/-0.00000\n",
      "Epoch 26 out of 100 \n",
      "[==============================] 100.0% -- elapsed time=17.06s -- loss=0.00316 -- acc=100.00000%  \n",
      " \n",
      "  valid loss:\t\t0.00272\n",
      "  valid accuracy:\t1.00000+/-0.00000\n",
      "  valid auc-roc:\t1.00000+/-0.00000\n",
      "  valid auc-pr:\t\t1.00000+/-0.00000\n",
      "Epoch 27 out of 100 \n",
      "[==============================] 100.0% -- elapsed time=17.03s -- loss=0.00228 -- acc=100.00000%  \n",
      " \n",
      "  valid loss:\t\t0.00184\n",
      "  valid accuracy:\t1.00000+/-0.00000\n",
      "  valid auc-roc:\t1.00000+/-0.00000\n",
      "  valid auc-pr:\t\t1.00000+/-0.00000\n",
      "Epoch 28 out of 100 \n",
      "[==============================] 100.0% -- elapsed time=17.08s -- loss=0.00144 -- acc=100.00000%  \n",
      " \n",
      "  valid loss:\t\t0.00107\n",
      "  valid accuracy:\t1.00000+/-0.00000\n",
      "  valid auc-roc:\t1.00000+/-0.00000\n",
      "  valid auc-pr:\t\t1.00000+/-0.00000\n",
      "Epoch 29 out of 100 \n",
      "[==============================] 100.0% -- elapsed time=17.06s -- loss=0.00077 -- acc=100.00000%  \n",
      " \n",
      "  valid loss:\t\t0.00052\n",
      "  valid accuracy:\t1.00000+/-0.00000\n",
      "  valid auc-roc:\t1.00000+/-0.00000\n",
      "  valid auc-pr:\t\t1.00000+/-0.00000\n",
      "Epoch 30 out of 100 \n",
      "[==============================] 100.0% -- elapsed time=17.15s -- loss=0.00046 -- acc=100.00000%  \n",
      " \n",
      "  valid loss:\t\t0.00037\n",
      "  valid accuracy:\t1.00000+/-0.00000\n",
      "  valid auc-roc:\t1.00000+/-0.00000\n",
      "  valid auc-pr:\t\t1.00000+/-0.00000\n",
      "Epoch 31 out of 100 \n",
      "[==============================] 100.0% -- elapsed time=17.10s -- loss=0.00128 -- acc=99.999290%  \n",
      " \n",
      "  valid loss:\t\t0.00391\n",
      "  valid accuracy:\t1.00000+/-0.00000\n",
      "  valid auc-roc:\t1.00000+/-0.00000\n",
      "  valid auc-pr:\t\t1.00000+/-0.00000\n",
      "Epoch 32 out of 100 \n",
      "[==============================] 100.0% -- elapsed time=17.10s -- loss=0.00332 -- acc=99.997860%  \n",
      " \n",
      "  valid loss:\t\t0.00330\n",
      "  valid accuracy:\t1.00000+/-0.00000\n",
      "  valid auc-roc:\t1.00000+/-0.00000\n",
      "  valid auc-pr:\t\t1.00000+/-0.00000\n",
      "Patience ran out... Early stopping.\n"
     ]
    }
   ],
   "source": [
    "#Train the model\n",
    "\n",
    "data = {'train': train, 'valid': valid}\n",
    "fit.train_minibatch(sess, nntrainer, data, \n",
    "                    batch_size=100, \n",
    "                    num_epochs=100,\n",
    "                    patience=10, \n",
    "                    verbose=2, \n",
    "                    shuffle=True, \n",
    "                    save_all=False)"
   ]
  },
  {
   "cell_type": "code",
   "execution_count": 38,
   "metadata": {
    "collapsed": false
   },
   "outputs": [
    {
     "name": "stdout",
     "output_type": "stream",
     "text": [
      "loading model from:  ../../../results/glnA/resbind_best.ckpt\n",
      "INFO:tensorflow:Restoring parameters from ../../../results/glnA/resbind_best.ckpt\n",
      "  test  loss:\t\t0.00002\n",
      "  test  accuracy:\t1.00000+/-0.00000\n",
      "  test  auc-roc:\t1.00000+/-0.00000\n",
      "  test  auc-pr:\t\t1.00000+/-0.00000\n"
     ]
    }
   ],
   "source": [
    "# set best parameters\n",
    "nntrainer.set_best_parameters(sess)\n",
    "\n",
    "# test model\n",
    "loss, mean_vals, std_vals = nntrainer.test_model(sess, test, name='test')"
   ]
  },
  {
   "cell_type": "code",
   "execution_count": 39,
   "metadata": {
    "collapsed": true
   },
   "outputs": [],
   "source": [
    "# sort activations\n",
    "predictionsoutput = nntrainer.get_activations(sess, test, layer='output')\n",
    "plot_index = np.argsort(predictionsoutput[:,0])[::-1]"
   ]
  },
  {
   "cell_type": "code",
   "execution_count": 42,
   "metadata": {
    "collapsed": false
   },
   "outputs": [
    {
     "name": "stderr",
     "output_type": "stream",
     "text": [
      "/home/peter/anaconda2/envs/tensorflow/lib/python2.7/site-packages/scipy/misc/pilutil.py:482: FutureWarning: Conversion of the second argument of issubdtype from `int` to `np.signedinteger` is deprecated. In future, it will be treated as `np.int64 == np.dtype(int).type`.\n",
      "  if issubdtype(ts, int):\n",
      "/home/peter/anaconda2/envs/tensorflow/lib/python2.7/site-packages/scipy/misc/pilutil.py:485: FutureWarning: Conversion of the second argument of issubdtype from `float` to `np.floating` is deprecated. In future, it will be treated as `np.float64 == np.dtype(float).type`.\n",
      "  elif issubdtype(type(size), float):\n",
      "/home/peter/anaconda2/envs/tensorflow/lib/python2.7/site-packages/matplotlib/figure.py:1742: UserWarning: This figure includes Axes that are not compatible with tight_layout, so its results might be incorrect.\n",
      "  warnings.warn(\"This figure includes Axes that are not \"\n"
     ]
    },
    {
     "data": {
      "image/png": "[encoded data removed]",
      "text/plain": [
       "<matplotlib.figure.Figure at 0x7f8ab083cd10>"
      ]
     },
     "metadata": {},
     "output_type": "display_data"
    },
    {
     "data": {
      "image/png": "[encoded data removed]",
      "text/plain": [
       "<matplotlib.figure.Figure at 0x7f8b2c194250>"
      ]
     },
     "metadata": {},
     "output_type": "display_data"
    },
    {
     "data": {
      "image/png": "[encoded data removed]",
      "text/plain": [
       "<matplotlib.figure.Figure at 0x7f8aaf99b490>"
      ]
     },
     "metadata": {},
     "output_type": "display_data"
    },
    {
     "data": {
      "image/png": "[encoded data removed]",
      "text/plain": [
       "<matplotlib.figure.Figure at 0x7f8ab0872c90>"
      ]
     },
     "metadata": {},
     "output_type": "display_data"
    },
    {
     "data": {
      "image/png": "[encoded data removed]",
      "text/plain": [
       "<matplotlib.figure.Figure at 0x7f8ab0db5ed0>"
      ]
     },
     "metadata": {},
     "output_type": "display_data"
    }
   ],
   "source": [
    "numplots=5\n",
    "\n",
    "for ii in range(numplots): \n",
    "\n",
    "    X = np.expand_dims(test['inputs'][plot_index[ii]], axis=0)\n",
    "    \n",
    "    mf.fom_saliency(X, layer='dense_1_bias', alphabet='rna', nntrainer=nntrainer, sess=sess, figsize=(15,1.5))\n",
    "    "
   ]
  },
  {
   "cell_type": "code",
   "execution_count": 43,
   "metadata": {
    "collapsed": false
   },
   "outputs": [
    {
     "data": {
      "text/plain": [
       "'.....:.........:....(..(.....(...(....(......,....<...<....<....<...<....<...<.................................................................._........_....._....._......_......................................................................................................................................>.....>....>....>...>....>....>.....,.......,.......,.......,.....,......,......,.....,....<....<...<.....<......................................................._........_........_....._........_.......................................................................................................................................................................................................................................................................................................>....>.....>....>....,.....,....,.....,......)....)...)...)....).....:....:.....:.....:........'"
      ]
     },
     "execution_count": 43,
     "metadata": {},
     "output_type": "execute_result"
    }
   ],
   "source": [
    "SS"
   ]
  },
  {
   "cell_type": "code",
   "execution_count": null,
   "metadata": {
    "collapsed": true
   },
   "outputs": [],
   "source": []
  }
 ],
 "metadata": {
  "kernelspec": {
   "display_name": "Python 2",
   "language": "python",
   "name": "python2"
  },
  "language_info": {
   "codemirror_mode": {
    "name": "ipython",
    "version": 2
   },
   "file_extension": ".py",
   "mimetype": "text/x-python",
   "name": "python",
   "nbconvert_exporter": "python",
   "pygments_lexer": "ipython2",
   "version": "2.7.13"
  }
 },
 "nbformat": 4,
 "nbformat_minor": 2
}
