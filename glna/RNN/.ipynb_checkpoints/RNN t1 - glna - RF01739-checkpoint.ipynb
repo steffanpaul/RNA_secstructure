{
 "cells": [
  {
   "cell_type": "code",
   "execution_count": 1,
   "metadata": {
    "collapsed": false
   },
   "outputs": [],
   "source": [
    "from __future__ import absolute_import\n",
    "from __future__ import division\n",
    "from __future__ import print_function\n",
    "\n",
    "import os, sys, h5py\n",
    "import numpy as np\n",
    "import matplotlib.pyplot as plt\n",
    "%matplotlib inline\n",
    "import seaborn as sb\n",
    "import tensorflow as tf\n",
    "import scipy\n",
    "\n",
    "from sklearn.metrics import roc_curve, auc, precision_recall_curve\n",
    "\n",
    "import sys\n",
    "sys.path.append('../../../..')\n",
    "import mutagenesisfunctions as mf\n",
    "import helper \n",
    "\n",
    "from Bio import AlignIO\n",
    "import time as time\n",
    "import pandas as pd"
   ]
  },
  {
   "cell_type": "markdown",
   "metadata": {},
   "source": [
    "# Load Data, get base paired indices and remove gaps"
   ]
  },
  {
   "cell_type": "code",
   "execution_count": 2,
   "metadata": {
    "collapsed": false
   },
   "outputs": [
    {
     "name": "stdout",
     "output_type": "stream",
     "text": [
      "Data extraction and dict construction completed in: 10.8s\n"
     ]
    }
   ],
   "source": [
    "starttime = time.time()\n",
    "\n",
    "#Open data from h5py\n",
    "\n",
    "data_path = '../../../data_RFAM/glna_100k_d8.hdf5'\n",
    "with h5py.File(data_path, 'r') as dataset:\n",
    "    X_data = np.array(dataset['X_data'])\n",
    "    Y_data = np.array(dataset['Y_data'])\n",
    "    \n",
    "numdata, seqlen, _, dims = X_data.shape\n",
    "dims = dims-1\n",
    "\n",
    "#remove gaps from sequences\n",
    "ungapped = True\n",
    "if ungapped:\n",
    "    X_data = X_data[:, :, :, :dims]\n",
    "    \n",
    "# get validation and test set from training set\n",
    "test_frac = 0.3\n",
    "valid_frac = 0.1\n",
    "N = numdata\n",
    "split_1 = int(N*(1-valid_frac-test_frac))\n",
    "split_2 = int(N*(1-test_frac))\n",
    "shuffle = np.random.permutation(N)\n",
    "\n",
    "X_train = X_data[shuffle[:split_1], :, 0, :]\n",
    "X_valid = X_data[shuffle[split_1:split_2], :, 0, :]\n",
    "X_test = X_data[shuffle[split_2:], :, 0, :]\n",
    "\n",
    "Y_train = Y_data[shuffle[:split_1]]\n",
    "Y_valid = Y_data[shuffle[split_1:split_2]]\n",
    "Y_test = Y_data[shuffle[split_2:]]\n",
    "    \n",
    "print ('Data extraction and dict construction completed in: ' + mf.sectotime(time.time() - starttime))"
   ]
  },
  {
   "cell_type": "code",
   "execution_count": 3,
   "metadata": {
    "collapsed": false
   },
   "outputs": [],
   "source": [
    "simalign_file = '../../../data_RFAM/glnAsim_100k.sto'\n",
    "\n",
    "#Get the full secondary structure and sequence consensus from the emission\n",
    "SS = mf.getSSconsensus(simalign_file)\n",
    "SQ = mf.getSQconsensus(simalign_file)\n",
    "\n",
    "#Get the ungapped sequence and the indices of ungapped nucleotides\n",
    "_, ugSS, ugidx = mf.rm_consensus_gaps(X_data, SS)\n",
    "_, ugSQ, _ = mf.rm_consensus_gaps(X_data, SQ)\n",
    "\n",
    "\n",
    "#Get the sequence and indices of the conserved base pairs\n",
    "bpchars = ['(',')','<','>','{','}']\n",
    "sig_bpchars = ['<','>']\n",
    "bpidx, bpSS, nonbpidx = mf.sigbasepair(SS, bpchars)\n",
    "numbp = len(bpidx)\n",
    "numug = len(ugidx)\n",
    "\n",
    "#Get the bpug information\n",
    "bpugSQ, bpugidx = mf.bpug(ugidx, bpidx, SQ)"
   ]
  },
  {
   "cell_type": "code",
   "execution_count": 4,
   "metadata": {
    "collapsed": true
   },
   "outputs": [],
   "source": [
    "def unalign(X):\n",
    "    nuc_index = np.where(np.sum(X, axis=1)!=0)\n",
    "    return (X[nuc_index])\n",
    "\n",
    "X_train_unalign = [unalign(X) for X in X_train]\n",
    "X_valid_unalign = [unalign(X) for X in X_valid]\n",
    "X_test_unalign = [unalign(X) for X in X_test]"
   ]
  },
  {
   "cell_type": "code",
   "execution_count": null,
   "metadata": {
    "collapsed": true
   },
   "outputs": [],
   "source": []
  },
  {
   "cell_type": "markdown",
   "metadata": {},
   "source": [
    "# Build the bi-directional LSTM"
   ]
  },
  {
   "cell_type": "code",
   "execution_count": 52,
   "metadata": {
    "collapsed": false
   },
   "outputs": [],
   "source": [
    "#The LSTM\n",
    "\n",
    "tf.reset_default_graph()\n",
    "\n",
    "num_hidden = 128\n",
    "num_layers = 2\n",
    "num_classes = Y_train.shape[1]\n",
    "\n",
    "# tf Graph input\n",
    "X = tf.placeholder(tf.float32, [None, None, dims], name='inputs')\n",
    "Y = tf.placeholder(tf.float32, [None, 1], name='ouputs')\n",
    "keep_prob = tf.placeholder(tf.float32, name='keep_prob')\n",
    "\n",
    "lstm_fw_cell = tf.nn.rnn_cell.LSTMCell(num_hidden)#, forget_bias=1.0)\n",
    "lstm_bw_cell = tf.nn.rnn_cell.LSTMCell(num_hidden)#, forget_bias=1.0)\n",
    "\n",
    "lstm_fw_cell = tf.contrib.rnn.DropoutWrapper(lstm_fw_cell, \n",
    "                                         output_keep_prob=keep_prob, \n",
    "                                         state_keep_prob=1.0,\n",
    "                                         variational_recurrent=False,\n",
    "                                         dtype=tf.float32)\n",
    "lstm_bw_cell = tf.contrib.rnn.DropoutWrapper(lstm_bw_cell, \n",
    "                                         output_keep_prob=keep_prob, \n",
    "                                         state_keep_prob=1.0,\n",
    "                                         variational_recurrent=False,\n",
    "                                         dtype=tf.float32)\n",
    "\n",
    "outputs, states = tf.nn.bidirectional_dynamic_rnn(lstm_fw_cell, lstm_bw_cell, X, \n",
    "                                                   sequence_length=helper.length(X), dtype=tf.float32)\n",
    "\n",
    "states_forward, states_backward = states\n",
    "\n",
    "# states_forward is a tuple of (c is the hidden state and h is the output)\n",
    "concat_states = tf.concat([states_forward[1], states_backward[1]], axis=1, name='output')\n",
    "\n",
    "\n",
    "# Linear activation, using rnn inner loop last output\n",
    "W_out = tf.Variable(tf.random_normal([num_hidden*2, num_classes]))\n",
    "b_out = tf.Variable(tf.random_normal([num_classes]))\n",
    "\n",
    "#last = tf.gather(outputs, int(outputs.get_shape()[1])-1)  \n",
    "#last = int(outputs.get_shape()[1]) - 1\n",
    "logits = tf.matmul(concat_states, W_out) + b_out\n",
    "#predictions = tf.nn.softmax(logits)\n",
    "predictions = tf.nn.sigmoid(logits)"
   ]
  },
  {
   "cell_type": "code",
   "execution_count": 53,
   "metadata": {
    "collapsed": true
   },
   "outputs": [],
   "source": [
    "# The Optimizer\n",
    "\n",
    "learning_rate = tf.placeholder(tf.float32, name='learning_rate')\n",
    "\n",
    "# Define loss and optimizer\n",
    "predictions = tf.clip_by_value(predictions, clip_value_max=1-1e-7, clip_value_min=1e-7)\n",
    "#cost = tf.reduce_sum(Y*tf.log(predictions), axis=1)\n",
    "cost = tf.reduce_sum(Y*tf.log(predictions)+(1-Y)*tf.log(1-predictions), axis=1)\n",
    "\n",
    "total_loss = tf.reduce_mean(-cost)\n",
    "\n",
    "optimizer = tf.train.AdamOptimizer(learning_rate=learning_rate)\n",
    "grads = optimizer.compute_gradients(total_loss)\n",
    "\n",
    "# Apply gradients.\n",
    "apply_gradient_op = optimizer.apply_gradients(grads)\n",
    "\n",
    "# Track the moving averages of all trainable variables.\n",
    "variable_averages = tf.train.ExponentialMovingAverage(0.9)\n",
    "variables_averages_op = variable_averages.apply(tf.trainable_variables())\n",
    "\n",
    "with tf.control_dependencies([apply_gradient_op, variables_averages_op]):\n",
    "    train_op = tf.no_op(name='train')\n",
    "\n",
    "# Evaluate model (with test logits, for dropout to be disabled)\n",
    "#correct_pred = tf.equal(tf.argmax(predictions, 1), tf.argmax(Y, 1))\n",
    "correct_pred = tf.equal(tf.round(predictions), Y)\n",
    "accuracy = tf.reduce_mean(tf.cast(correct_pred, tf.float32))"
   ]
  },
  {
   "cell_type": "markdown",
   "metadata": {},
   "source": [
    "# Train model"
   ]
  },
  {
   "cell_type": "code",
   "execution_count": 54,
   "metadata": {
    "collapsed": true
   },
   "outputs": [],
   "source": [
    "# start session\n",
    "sess = tf.Session()\n",
    "sess.run(tf.global_variables_initializer())"
   ]
  },
  {
   "cell_type": "code",
   "execution_count": 57,
   "metadata": {
    "collapsed": false
   },
   "outputs": [
    {
     "name": "stdout",
     "output_type": "stream",
     "text": [
      "epoch: 1\n",
      "[=========================] 99.9% -- elapsed time=55.79s -- loss=0.30164 -- acc=0.8756224\n",
      "\n",
      "  valid loss  = 0.3675779386358276\n",
      "  valid acc   = 0.85475\n",
      "  valid AUROC = 0.945293679824609\n",
      "  valid AUPRC = 0.9530540189017873\n",
      "  Lower validation loss found. Saving parameters to: ../../../results/glnA/RNN_t1_best\n",
      "epoch: 2\n",
      "[=========================] 99.9% -- elapsed time=55.69s -- loss=0.26646 -- acc=0.8932007\n",
      "\n",
      "  valid loss  = 0.2599741943228017\n",
      "  valid acc   = 0.89685\n",
      "  valid AUROC = 0.957835370943491\n",
      "  valid AUPRC = 0.9630156857727143\n",
      "  Lower validation loss found. Saving parameters to: ../../../results/glnA/RNN_t1_best\n",
      "epoch: 3\n",
      "[=========================] 99.9% -- elapsed time=55.51s -- loss=0.23472 -- acc=0.9075881\n",
      "\n",
      "  valid loss  = 0.22125800180539584\n",
      "  valid acc   = 0.91405\n",
      "  valid AUROC = 0.9674507924878153\n",
      "  valid AUPRC = 0.971830749906795\n",
      "  Lower validation loss found. Saving parameters to: ../../../results/glnA/RNN_t1_best\n",
      "epoch: 4\n",
      "[=========================] 99.9% -- elapsed time=55.78s -- loss=0.20784 -- acc=0.9200665\n",
      "\n",
      "  valid loss  = 0.19613510974131193\n",
      "  valid acc   = 0.92455\n",
      "  valid AUROC = 0.9741059840660302\n",
      "  valid AUPRC = 0.977544498128867\n",
      "  Lower validation loss found. Saving parameters to: ../../../results/glnA/RNN_t1_best\n",
      "epoch: 5\n",
      "[=========================] 99.9% -- elapsed time=56.84s -- loss=0.18856 -- acc=0.9291445\n",
      "\n",
      "  valid loss  = 0.19148834502905798\n",
      "  valid acc   = 0.9278\n",
      "  valid AUROC = 0.9765144114279583\n",
      "  valid AUPRC = 0.9799752033820148\n",
      "  Lower validation loss found. Saving parameters to: ../../../results/glnA/RNN_t1_best\n",
      "epoch: 6\n",
      "[=========================] 99.9% -- elapsed time=57.86s -- loss=0.18005 -- acc=0.9323889\n",
      "\n",
      "  valid loss  = 0.170404247049788\n",
      "  valid acc   = 0.9376\n",
      "  valid AUROC = 0.9799008990667357\n",
      "  valid AUPRC = 0.9827464088915316\n",
      "  Lower validation loss found. Saving parameters to: ../../../results/glnA/RNN_t1_best\n",
      "epoch: 7\n",
      "[=========================] 99.9% -- elapsed time=55.70s -- loss=0.17009 -- acc=0.9362229\n",
      "\n",
      "  valid loss  = 0.15817543485789162\n",
      "  valid acc   = 0.9411\n",
      "  valid AUROC = 0.9824325309886197\n",
      "  valid AUPRC = 0.9848568811073645\n",
      "  Lower validation loss found. Saving parameters to: ../../../results/glnA/RNN_t1_best\n",
      "epoch: 8\n",
      "[=========================] 99.9% -- elapsed time=55.77s -- loss=0.15903 -- acc=0.9408330\n",
      "\n",
      "  valid loss  = 0.16240028210672414\n",
      "  valid acc   = 0.9404\n",
      "  valid AUROC = 0.983757641363143\n",
      "  valid AUPRC = 0.9860004018665602\n",
      "epoch: 9\n",
      "[=========================] 99.9% -- elapsed time=55.78s -- loss=0.15218 -- acc=0.9434668\n",
      "\n",
      "  valid loss  = 0.14800421427490462\n",
      "  valid acc   = 0.946\n",
      "  valid AUROC = 0.9846782225146063\n",
      "  valid AUPRC = 0.9868967623095061\n",
      "  Lower validation loss found. Saving parameters to: ../../../results/glnA/RNN_t1_best\n",
      "epoch: 10\n",
      "[=========================] 99.9% -- elapsed time=56.32s -- loss=0.14698 -- acc=0.9452331\n",
      "\n",
      "  valid loss  = 0.14534539042877118\n",
      "  valid acc   = 0.9451\n",
      "  valid AUROC = 0.9851733311180484\n",
      "  valid AUPRC = 0.9872565656611875\n",
      "  Lower validation loss found. Saving parameters to: ../../../results/glnA/RNN_t1_best\n",
      "epoch: 11\n",
      "[=========================] 99.9% -- elapsed time=56.44s -- loss=0.13878 -- acc=0.9483338\n",
      "\n",
      "  valid loss  = 0.13950783047664933\n",
      "  valid acc   = 0.9489\n",
      "  valid AUROC = 0.9860291019802305\n",
      "  valid AUPRC = 0.9878640860077985\n",
      "  Lower validation loss found. Saving parameters to: ../../../results/glnA/RNN_t1_best\n",
      "epoch: 12\n",
      "[=========================] 99.9% -- elapsed time=56.25s -- loss=0.13335 -- acc=0.9503119\n",
      "\n",
      "  valid loss  = 0.13685133034410846\n",
      "  valid acc   = 0.9495\n",
      "  valid AUROC = 0.9867514566612596\n",
      "  valid AUPRC = 0.9887163642284859\n",
      "  Lower validation loss found. Saving parameters to: ../../../results/glnA/RNN_t1_best\n",
      "epoch: 13\n",
      "[=========================] 99.9% -- elapsed time=56.23s -- loss=0.13075 -- acc=0.9515669\n",
      "\n",
      "  valid loss  = 0.13019998189044085\n",
      "  valid acc   = 0.9518\n",
      "  valid AUROC = 0.9878139703459321\n",
      "  valid AUPRC = 0.9895085498716935\n",
      "  Lower validation loss found. Saving parameters to: ../../../results/glnA/RNN_t1_best\n",
      "epoch: 14\n",
      "[=========================] 99.9% -- elapsed time=56.31s -- loss=0.12783 -- acc=0.9526337\n",
      "\n",
      "  valid loss  = 0.12962737276106123\n",
      "  valid acc   = 0.95405\n",
      "  valid AUROC = 0.9879136711744356\n",
      "  valid AUPRC = 0.989798403511126\n",
      "  Lower validation loss found. Saving parameters to: ../../../results/glnA/RNN_t1_best\n",
      "epoch: 15\n",
      "[=========================] 99.9% -- elapsed time=55.99s -- loss=0.12362 -- acc=0.9539886\n",
      "\n",
      "  valid loss  = 0.1265088460500097\n",
      "  valid acc   = 0.9538\n",
      "  valid AUROC = 0.9884185363268273\n",
      "  valid AUPRC = 0.9900783292660573\n",
      "  Lower validation loss found. Saving parameters to: ../../../results/glnA/RNN_t1_best\n",
      "epoch: 16\n",
      "[=========================] 99.9% -- elapsed time=55.91s -- loss=0.12053 -- acc=0.9548997\n",
      "\n",
      "  valid loss  = 0.12764148709399828\n",
      "  valid acc   = 0.9531\n",
      "  valid AUROC = 0.9881701268893449\n",
      "  valid AUPRC = 0.9899536620504018\n",
      "epoch: 17\n",
      "[=========================] 99.9% -- elapsed time=55.95s -- loss=0.11591 -- acc=0.9569441\n",
      "\n",
      "  valid loss  = 0.12934669857743866\n",
      "  valid acc   = 0.95245\n",
      "  valid AUROC = 0.9887772832814938\n",
      "  valid AUPRC = 0.9903929601840564\n",
      "epoch: 18\n",
      "[=========================] 99.9% -- elapsed time=56.43s -- loss=0.11279 -- acc=0.9582000\n",
      "\n",
      "  valid loss  = 0.12031069003448934\n",
      "  valid acc   = 0.95545\n",
      "  valid AUROC = 0.9894624170533315\n",
      "  valid AUPRC = 0.9908576951511169\n",
      "  Lower validation loss found. Saving parameters to: ../../../results/glnA/RNN_t1_best\n",
      "epoch: 19\n",
      "[=========================] 99.9% -- elapsed time=56.09s -- loss=0.10872 -- acc=0.9594773\n",
      "\n",
      "  valid loss  = 0.11870467336700079\n",
      "  valid acc   = 0.9571\n",
      "  valid AUROC = 0.9901000932908108\n",
      "  valid AUPRC = 0.9914163792435763\n",
      "  Lower validation loss found. Saving parameters to: ../../../results/glnA/RNN_t1_best\n",
      "epoch: 20\n",
      "[=========================] 99.9% -- elapsed time=56.05s -- loss=0.10774 -- acc=0.9598113\n",
      "\n",
      "  valid loss  = 0.11717300825740454\n",
      "  valid acc   = 0.9574\n",
      "  valid AUROC = 0.990448253564736\n",
      "  valid AUPRC = 0.9917506690427552\n",
      "  Lower validation loss found. Saving parameters to: ../../../results/glnA/RNN_t1_best\n",
      "epoch: 21\n",
      "[=========================] 99.9% -- elapsed time=56.13s -- loss=0.10599 -- acc=0.9603223\n",
      "\n",
      "  valid loss  = 0.11880519785206456\n",
      "  valid acc   = 0.9552\n",
      "  valid AUROC = 0.9899936763960646\n",
      "  valid AUPRC = 0.9913133961357244\n",
      "epoch: 22\n",
      "[=========================] 99.9% -- elapsed time=56.06s -- loss=0.10076 -- acc=0.9621449\n",
      "\n",
      "  valid loss  = 0.11988177799299407\n",
      "  valid acc   = 0.9561\n",
      "  valid AUROC = 0.9910216395955023\n",
      "  valid AUPRC = 0.9921487707491752\n",
      "epoch: 23\n",
      "[=========================] 99.9% -- elapsed time=55.92s -- loss=0.09805 -- acc=0.9631555\n",
      "\n",
      "  valid loss  = 0.1120977866564207\n",
      "  valid acc   = 0.95955\n",
      "  valid AUROC = 0.9912127999441191\n",
      "  valid AUPRC = 0.9923336983416146\n",
      "  Lower validation loss found. Saving parameters to: ../../../results/glnA/RNN_t1_best\n",
      "epoch: 24\n",
      "[=========================] 99.9% -- elapsed time=55.93s -- loss=0.09423 -- acc=0.9647331\n",
      "\n",
      "  valid loss  = 0.11369141230691865\n",
      "  valid acc   = 0.9573\n",
      "  valid AUROC = 0.9912668435240778\n",
      "  valid AUPRC = 0.9923591503307638\n",
      "epoch: 25\n",
      "[======================== ] 96.6% -- remaining time=1.85s -- loss=0.09143 -- acc=0.966134"
     ]
    },
    {
     "ename": "KeyboardInterrupt",
     "evalue": "",
     "output_type": "error",
     "traceback": [
      "\u001b[0;31m---------------------------------------------------------------------------\u001b[0m",
      "\u001b[0;31mKeyboardInterrupt\u001b[0m                         Traceback (most recent call last)",
      "\u001b[0;32m<ipython-input-57-67f4409f1ed4>\u001b[0m in \u001b[0;36m<module>\u001b[0;34m()\u001b[0m\n\u001b[1;32m     32\u001b[0m                                                                                       \u001b[0mY\u001b[0m\u001b[0;34m:\u001b[0m \u001b[0mbatch\u001b[0m\u001b[0;34m[\u001b[0m\u001b[0;36m1\u001b[0m\u001b[0;34m]\u001b[0m\u001b[0;34m,\u001b[0m\u001b[0;34m\u001b[0m\u001b[0m\n\u001b[1;32m     33\u001b[0m                                                                                       \u001b[0mkeep_prob\u001b[0m\u001b[0;34m:\u001b[0m \u001b[0;36m0.5\u001b[0m\u001b[0;34m,\u001b[0m\u001b[0;34m\u001b[0m\u001b[0m\n\u001b[0;32m---> 34\u001b[0;31m                                                                                       learning_rate: 0.0003})            \n\u001b[0m\u001b[1;32m     35\u001b[0m         \u001b[0mloss\u001b[0m \u001b[0;34m+=\u001b[0m \u001b[0mbatch_loss\u001b[0m\u001b[0;34m\u001b[0m\u001b[0m\n\u001b[1;32m     36\u001b[0m         \u001b[0macc\u001b[0m \u001b[0;34m+=\u001b[0m \u001b[0mbatch_acc\u001b[0m\u001b[0;34m\u001b[0m\u001b[0m\n",
      "\u001b[0;32m/home/peter/anaconda2/envs/tensorflow/lib/python2.7/site-packages/tensorflow/python/client/session.pyc\u001b[0m in \u001b[0;36mrun\u001b[0;34m(self, fetches, feed_dict, options, run_metadata)\u001b[0m\n\u001b[1;32m    787\u001b[0m     \u001b[0;32mtry\u001b[0m\u001b[0;34m:\u001b[0m\u001b[0;34m\u001b[0m\u001b[0m\n\u001b[1;32m    788\u001b[0m       result = self._run(None, fetches, feed_dict, options_ptr,\n\u001b[0;32m--> 789\u001b[0;31m                          run_metadata_ptr)\n\u001b[0m\u001b[1;32m    790\u001b[0m       \u001b[0;32mif\u001b[0m \u001b[0mrun_metadata\u001b[0m\u001b[0;34m:\u001b[0m\u001b[0;34m\u001b[0m\u001b[0m\n\u001b[1;32m    791\u001b[0m         \u001b[0mproto_data\u001b[0m \u001b[0;34m=\u001b[0m \u001b[0mtf_session\u001b[0m\u001b[0;34m.\u001b[0m\u001b[0mTF_GetBuffer\u001b[0m\u001b[0;34m(\u001b[0m\u001b[0mrun_metadata_ptr\u001b[0m\u001b[0;34m)\u001b[0m\u001b[0;34m\u001b[0m\u001b[0m\n",
      "\u001b[0;32m/home/peter/anaconda2/envs/tensorflow/lib/python2.7/site-packages/tensorflow/python/client/session.pyc\u001b[0m in \u001b[0;36m_run\u001b[0;34m(self, handle, fetches, feed_dict, options, run_metadata)\u001b[0m\n\u001b[1;32m    995\u001b[0m     \u001b[0;32mif\u001b[0m \u001b[0mfinal_fetches\u001b[0m \u001b[0;32mor\u001b[0m \u001b[0mfinal_targets\u001b[0m\u001b[0;34m:\u001b[0m\u001b[0;34m\u001b[0m\u001b[0m\n\u001b[1;32m    996\u001b[0m       results = self._do_run(handle, final_targets, final_fetches,\n\u001b[0;32m--> 997\u001b[0;31m                              feed_dict_string, options, run_metadata)\n\u001b[0m\u001b[1;32m    998\u001b[0m     \u001b[0;32melse\u001b[0m\u001b[0;34m:\u001b[0m\u001b[0;34m\u001b[0m\u001b[0m\n\u001b[1;32m    999\u001b[0m       \u001b[0mresults\u001b[0m \u001b[0;34m=\u001b[0m \u001b[0;34m[\u001b[0m\u001b[0;34m]\u001b[0m\u001b[0;34m\u001b[0m\u001b[0m\n",
      "\u001b[0;32m/home/peter/anaconda2/envs/tensorflow/lib/python2.7/site-packages/tensorflow/python/client/session.pyc\u001b[0m in \u001b[0;36m_do_run\u001b[0;34m(self, handle, target_list, fetch_list, feed_dict, options, run_metadata)\u001b[0m\n\u001b[1;32m   1130\u001b[0m     \u001b[0;32mif\u001b[0m \u001b[0mhandle\u001b[0m \u001b[0;32mis\u001b[0m \u001b[0mNone\u001b[0m\u001b[0;34m:\u001b[0m\u001b[0;34m\u001b[0m\u001b[0m\n\u001b[1;32m   1131\u001b[0m       return self._do_call(_run_fn, self._session, feed_dict, fetch_list,\n\u001b[0;32m-> 1132\u001b[0;31m                            target_list, options, run_metadata)\n\u001b[0m\u001b[1;32m   1133\u001b[0m     \u001b[0;32melse\u001b[0m\u001b[0;34m:\u001b[0m\u001b[0;34m\u001b[0m\u001b[0m\n\u001b[1;32m   1134\u001b[0m       return self._do_call(_prun_fn, self._session, handle, feed_dict,\n",
      "\u001b[0;32m/home/peter/anaconda2/envs/tensorflow/lib/python2.7/site-packages/tensorflow/python/client/session.pyc\u001b[0m in \u001b[0;36m_do_call\u001b[0;34m(self, fn, *args)\u001b[0m\n\u001b[1;32m   1137\u001b[0m   \u001b[0;32mdef\u001b[0m \u001b[0m_do_call\u001b[0m\u001b[0;34m(\u001b[0m\u001b[0mself\u001b[0m\u001b[0;34m,\u001b[0m \u001b[0mfn\u001b[0m\u001b[0;34m,\u001b[0m \u001b[0;34m*\u001b[0m\u001b[0margs\u001b[0m\u001b[0;34m)\u001b[0m\u001b[0;34m:\u001b[0m\u001b[0;34m\u001b[0m\u001b[0m\n\u001b[1;32m   1138\u001b[0m     \u001b[0;32mtry\u001b[0m\u001b[0;34m:\u001b[0m\u001b[0;34m\u001b[0m\u001b[0m\n\u001b[0;32m-> 1139\u001b[0;31m       \u001b[0;32mreturn\u001b[0m \u001b[0mfn\u001b[0m\u001b[0;34m(\u001b[0m\u001b[0;34m*\u001b[0m\u001b[0margs\u001b[0m\u001b[0;34m)\u001b[0m\u001b[0;34m\u001b[0m\u001b[0m\n\u001b[0m\u001b[1;32m   1140\u001b[0m     \u001b[0;32mexcept\u001b[0m \u001b[0merrors\u001b[0m\u001b[0;34m.\u001b[0m\u001b[0mOpError\u001b[0m \u001b[0;32mas\u001b[0m \u001b[0me\u001b[0m\u001b[0;34m:\u001b[0m\u001b[0;34m\u001b[0m\u001b[0m\n\u001b[1;32m   1141\u001b[0m       \u001b[0mmessage\u001b[0m \u001b[0;34m=\u001b[0m \u001b[0mcompat\u001b[0m\u001b[0;34m.\u001b[0m\u001b[0mas_text\u001b[0m\u001b[0;34m(\u001b[0m\u001b[0me\u001b[0m\u001b[0;34m.\u001b[0m\u001b[0mmessage\u001b[0m\u001b[0;34m)\u001b[0m\u001b[0;34m\u001b[0m\u001b[0m\n",
      "\u001b[0;32m/home/peter/anaconda2/envs/tensorflow/lib/python2.7/site-packages/tensorflow/python/client/session.pyc\u001b[0m in \u001b[0;36m_run_fn\u001b[0;34m(session, feed_dict, fetch_list, target_list, options, run_metadata)\u001b[0m\n\u001b[1;32m   1119\u001b[0m         return tf_session.TF_Run(session, options,\n\u001b[1;32m   1120\u001b[0m                                  \u001b[0mfeed_dict\u001b[0m\u001b[0;34m,\u001b[0m \u001b[0mfetch_list\u001b[0m\u001b[0;34m,\u001b[0m \u001b[0mtarget_list\u001b[0m\u001b[0;34m,\u001b[0m\u001b[0;34m\u001b[0m\u001b[0m\n\u001b[0;32m-> 1121\u001b[0;31m                                  status, run_metadata)\n\u001b[0m\u001b[1;32m   1122\u001b[0m \u001b[0;34m\u001b[0m\u001b[0m\n\u001b[1;32m   1123\u001b[0m     \u001b[0;32mdef\u001b[0m \u001b[0m_prun_fn\u001b[0m\u001b[0;34m(\u001b[0m\u001b[0msession\u001b[0m\u001b[0;34m,\u001b[0m \u001b[0mhandle\u001b[0m\u001b[0;34m,\u001b[0m \u001b[0mfeed_dict\u001b[0m\u001b[0;34m,\u001b[0m \u001b[0mfetch_list\u001b[0m\u001b[0;34m)\u001b[0m\u001b[0;34m:\u001b[0m\u001b[0;34m\u001b[0m\u001b[0m\n",
      "\u001b[0;31mKeyboardInterrupt\u001b[0m: "
     ]
    }
   ],
   "source": [
    "batch_size = 128\n",
    "train_batches = helper.bucket_generator(X_train_unalign, Y_train, batch_size)\n",
    "valid_batches = helper.bucket_generator(X_valid_unalign, Y_valid, batch_size)\n",
    "num_epochs = 50\n",
    "bar_length = 25\n",
    "patience = 10\n",
    "\n",
    "\n",
    "# path to save results\n",
    "save_path = '../../../results/glnA'\n",
    "if not os.path.isdir(save_path):\n",
    "    os.mkdir(save_path)\n",
    "    print(\"making directory: \" + save_path)\n",
    "params_filename = 'RNN_t1' + '_best'\n",
    "params_path = os.path.join(save_path, params_filename)\n",
    "    \n",
    "wait=0\n",
    "min_loss = 1e10\n",
    "for epoch in range(num_epochs):\n",
    "    print('epoch: '+ str(epoch+1))\n",
    "    \n",
    "    num_batches = len(train_batches)\n",
    "    shuffled_batches = []\n",
    "    for i in np.random.permutation(num_batches):\n",
    "        shuffled_batches.append(train_batches[i])\n",
    "        \n",
    "    loss = 0\n",
    "    acc = 0\n",
    "    start_time = time.time()\n",
    "    for i, batch in enumerate(shuffled_batches):\n",
    "        batch_loss, batch_acc, _ = sess.run([total_loss, accuracy, train_op], feed_dict={X: batch[0], \n",
    "                                                                                      Y: batch[1], \n",
    "                                                                                      keep_prob: 0.5,\n",
    "                                                                                      learning_rate: 0.0003})            \n",
    "        loss += batch_loss\n",
    "        acc += batch_acc\n",
    "\n",
    "        remaining_time = (time.time()-start_time)*(num_batches-(i+1))/(i+1)\n",
    "        percent = float(i)/num_batches\n",
    "        progress = '='*int(round(percent*bar_length))\n",
    "        spaces = ' '*int(bar_length-round(percent*bar_length))\n",
    "        sys.stdout.write(\"\\r[%s] %.1f%% -- remaining time=%.2fs -- loss=%.5f -- acc=%.5f\" \\\n",
    "        %(progress+spaces, percent*100, remaining_time, loss/(i+1), acc/(i+1)))\n",
    "        \n",
    "    sys.stdout.write(\"\\r[%s] %.1f%% -- elapsed time=%.2fs -- loss=%.5f -- acc=%.5f\\n\" \\\n",
    "    %(progress+spaces, percent*100, time.time()-start_time, loss/(i+1), acc/(i+1)))\n",
    "    sys.stdout.write(\"\\n\")\n",
    "    \n",
    "    \n",
    "    num_batches = len(valid_batches)\n",
    "    loss = 0\n",
    "    acc = 0\n",
    "    valid_predictions = []\n",
    "    valid_truth = []\n",
    "    start_time = time.time()\n",
    "    for i, batch in enumerate(valid_batches):\n",
    "        batch_loss, batch_predict = sess.run([total_loss, predictions], feed_dict={X: batch[0], \n",
    "                                                                                Y: batch[1], \n",
    "                                                                                keep_prob: 1.0})            \n",
    "        loss += batch_loss\n",
    "        valid_predictions.append(batch_predict)\n",
    "        valid_truth.append(batch[1])\n",
    "    valid_loss = loss/num_batches\n",
    "    valid_predictions = np.vstack(valid_predictions)\n",
    "    valid_truth = np.vstack(valid_truth)\n",
    "    \n",
    "    correct = np.mean(np.equal(valid_truth, np.round(valid_predictions)))\n",
    "    auc_roc, roc_curves = helper.roc(valid_truth, valid_predictions)\n",
    "    auc_pr, pr_curves = helper.pr(valid_truth, valid_predictions)\n",
    "    print(\"  valid loss  = \"+str(loss/num_batches))\n",
    "    print(\"  valid acc   = \"+str(np.nanmean(correct)))\n",
    "    print(\"  valid AUROC = \"+str(np.nanmean(auc_roc)))\n",
    "    print(\"  valid AUPRC = \"+str(np.nanmean(auc_pr)))\n",
    "    \n",
    "    # check if current validation loss is lower, if so, save parameters, if not check patience\n",
    "    if valid_loss < min_loss:\n",
    "        print(\"  Lower validation loss found. Saving parameters to: \"+params_path)\n",
    "        \n",
    "        # save model parameters\n",
    "        saver = tf.train.Saver()\n",
    "        saver.save(sess, save_path=params_path)\n",
    "        \n",
    "        # set minimum loss to the current validation loss\n",
    "        min_loss = valid_loss\n",
    "        \n",
    "        # reset wait time\n",
    "        wait = 0\n",
    "    else:\n",
    "        \n",
    "        # add to wait time\n",
    "        wait += 1\n",
    "        \n",
    "        # check to see if patience has run out\n",
    "        if wait == patience:\n",
    "            print(\"Patience ran out... early stopping!\")\n",
    "            break"
   ]
  },
  {
   "cell_type": "code",
   "execution_count": 58,
   "metadata": {
    "collapsed": true
   },
   "outputs": [],
   "source": [
    "# close tensorflow session (Note, the graph is still open)\n",
    "sess.close()"
   ]
  },
  {
   "cell_type": "markdown",
   "metadata": {},
   "source": [
    "# Test Model"
   ]
  },
  {
   "cell_type": "code",
   "execution_count": 88,
   "metadata": {
    "collapsed": false
   },
   "outputs": [
    {
     "name": "stdout",
     "output_type": "stream",
     "text": [
      "INFO:tensorflow:Restoring parameters from ../../../results/glnA/RNN_t1_best\n"
     ]
    }
   ],
   "source": [
    "# create a new session\n",
    "sess = tf.Session()\n",
    "sess.run(tf.global_variables_initializer())\n",
    "\n",
    "# path to save results\n",
    "save_path = '../../../results/glnA'\n",
    "params_filename = 'RNN_t1' + '_best'\n",
    "params_path = os.path.join(save_path, params_filename)\n",
    "\n",
    "# restore trained parameters\n",
    "saver = tf.train.Saver()\n",
    "saver.restore(sess, save_path=params_path)"
   ]
  },
  {
   "cell_type": "code",
   "execution_count": 63,
   "metadata": {
    "collapsed": false
   },
   "outputs": [
    {
     "name": "stdout",
     "output_type": "stream",
     "text": [
      "[=========================] 99.8% -- elapsed time=9.27s -- loss=0.10573 -- acc=0.0000000\n",
      "\n",
      "  test loss  = 0.10573099626400478\n",
      "  test acc   = 0.9609833333333333\n",
      "  test AUROC = 0.9925334428111183\n",
      "  test AUPRC = 0.9935761504270171\n"
     ]
    }
   ],
   "source": [
    "batches = helper.bucket_generator(X_test_unalign, Y_test, batch_size)\n",
    "num_batches = len(batches)\n",
    "\n",
    "loss = 0\n",
    "acc = 0\n",
    "valid_predictions = []\n",
    "valid_truth = []\n",
    "start_time = time.time()\n",
    "num_batches = len(batches)\n",
    "bar_length = 25\n",
    "\n",
    "for i, batch in enumerate(batches):\n",
    "\n",
    "    batch_loss, batch_predict = sess.run([total_loss, predictions], feed_dict={X: batch[0], \n",
    "                                                                            Y: batch[1], \n",
    "                                                                            keep_prob: 1.0})            \n",
    "    loss += batch_loss\n",
    "    valid_predictions.append(batch_predict)\n",
    "    valid_truth.append(batch[1])\n",
    "    \n",
    "    remaining_time = (time.time()-start_time)*(num_batches-(i+1))/(i+1)\n",
    "    percent = float(i)/num_batches\n",
    "    progress = '='*int(round(percent*bar_length))\n",
    "    spaces = ' '*int(bar_length-round(percent*bar_length))\n",
    "    sys.stdout.write(\"\\r[%s] %.1f%% -- remaining time=%.2fs -- loss=%.5f -- acc=%.5f\" \\\n",
    "    %(progress+spaces, percent*100, remaining_time, loss/(i+1), acc/(i+1)))\n",
    "\n",
    "sys.stdout.write(\"\\r[%s] %.1f%% -- elapsed time=%.2fs -- loss=%.5f -- acc=%.5f\\n\" \\\n",
    "%(progress+spaces, percent*100, time.time()-start_time, loss/(i+1), acc/(i+1)))\n",
    "sys.stdout.write(\"\\n\")\n",
    "\n",
    "valid_predictions = np.vstack(valid_predictions)\n",
    "valid_truth = np.vstack(valid_truth)\n",
    "\n",
    "correct = np.mean(np.equal(valid_truth, np.round(valid_predictions)))\n",
    "auc_roc, roc_curves = helper.roc(valid_truth, valid_predictions)\n",
    "auc_pr, pr_curves = helper.pr(valid_truth, valid_predictions)\n",
    "mean = [np.nanmean(correct), np.nanmean(auc_roc), np.nanmean(auc_pr)]\n",
    "std = [np.nanstd(correct), np.nanstd(auc_roc), np.nanstd(auc_pr)]\n",
    "\n",
    "print(\"  test loss  = \"+str(loss/num_batches))\n",
    "print(\"  test acc   = \"+str(np.nanmean(correct)))\n",
    "print(\"  test AUROC = \"+str(np.nanmean(auc_roc)))\n",
    "print(\"  test AUPRC = \"+str(np.nanmean(auc_pr)))"
   ]
  },
  {
   "cell_type": "code",
   "execution_count": 125,
   "metadata": {
    "collapsed": false
   },
   "outputs": [
    {
     "name": "stdout",
     "output_type": "stream",
     "text": [
      "8.95271015167\n"
     ]
    }
   ],
   "source": [
    "starttime = time.time()\n",
    "# add zero padding\n",
    "lengths = []\n",
    "for x in X_test_unalign:\n",
    "    lengths.append(x.shape[0])\n",
    "lengths = np.array(lengths)\n",
    "\n",
    "# sort the lengths\n",
    "sort_index = np.argsort(lengths)\n",
    "MAX = len(X_test_unalign[sort_index[-1]])\n",
    "\n",
    "test_predict = sess.run(predictions, feed_dict={X: helper.pad_inputs(X_test_unalign, MAX)[0], keep_prob: 1.0})   \n",
    "plot_index = np.argsort(test_predict[:,0])[::-1]\n",
    "\n",
    "print (time.time() - starttime)"
   ]
  },
  {
   "cell_type": "markdown",
   "metadata": {},
   "source": [
    "# Second Order Mutagenesis"
   ]
  },
  {
   "cell_type": "code",
   "execution_count": 1,
   "metadata": {
    "collapsed": false
   },
   "outputs": [],
   "source": [
    "def second_order_mutagenesis(sess, predictions, X_val, ugidx):\n",
    "    seqlen, dims = X_val.shape\n",
    "    idxlen = len(ugidx)\n",
    "\n",
    "    # get wild-type score\n",
    "    wt_score = sess.run(predictions, feed_dict={X: np.expand_dims(X_val, axis=0), keep_prob: 1.0})[0]     \n",
    "\n",
    "    # generate mutagenesis sequences\n",
    "    num_mut = idxlen**2*dims**2\n",
    "    X_mut = np.einsum('nl,lka->nka', np.ones((num_mut, 1)), np.expand_dims(X_val, axis=0))\n",
    "\n",
    "    k=0\n",
    "    for position1 in ugidx:\n",
    "        for position2 in ugidx:\n",
    "            for nuc1 in range(dims):\n",
    "                for nuc2 in range(dims):\n",
    "                    X_mut[k, position1, :] = 0\n",
    "                    X_mut[k, position1, nuc1] = 1        \n",
    "                    X_mut[k, position2, :] = 0\n",
    "                    X_mut[k, position2, nuc2] = 1        \n",
    "                    k += 1\n",
    "\n",
    "    # get second order mutagenesis score\n",
    "    X_mut_unalign = [unalign(x) for x in X_mut]\n",
    "    mut_scores = []\n",
    "    batches = helper.batch_generator(X_mut_unalign, batch_size=512, MAX=None, shuffle_data=False)\n",
    "    for i, batch in enumerate(batches):\n",
    "        batch_predict = sess.run(predictions, feed_dict={X: batch, keep_prob: 1.0})            \n",
    "        mut_scores.append(batch_predict)\n",
    "    mut_scores = np.vstack(mut_scores)\n",
    "    \n",
    "    # calculate log-odds score\n",
    "    log_odds = np.log(mut_scores + 1e-7) - np.log(wt_score + 1e-7)\n",
    "\n",
    "\n",
    "    # reshape second order scores\n",
    "    second_mutagenesis = np.zeros((idxlen, idxlen, dims, dims))\n",
    "    k = 0\n",
    "    for i in range(idxlen):\n",
    "        for j in range(idxlen):\n",
    "            for m in range(dims):\n",
    "                for n in range(dims):\n",
    "                    second_mutagenesis[i,j,m,n] = log_odds[k,0]\n",
    "                    k += 1\n",
    "    return second_mutagenesis"
   ]
  },
  {
   "cell_type": "code",
   "execution_count": 2,
   "metadata": {
    "collapsed": false
   },
   "outputs": [
    {
     "ename": "NameError",
     "evalue": "name 'time' is not defined",
     "output_type": "error",
     "traceback": [
      "\u001b[0;31m---------------------------------------------------------------------------\u001b[0m",
      "\u001b[0;31mNameError\u001b[0m                                 Traceback (most recent call last)",
      "\u001b[0;32m<ipython-input-2-fca4a7f407ec>\u001b[0m in \u001b[0;36m<module>\u001b[0;34m()\u001b[0m\n\u001b[0;32m----> 1\u001b[0;31m \u001b[0mstarttime\u001b[0m \u001b[0;34m=\u001b[0m \u001b[0mtime\u001b[0m\u001b[0;34m.\u001b[0m\u001b[0mtime\u001b[0m\u001b[0;34m(\u001b[0m\u001b[0;34m)\u001b[0m\u001b[0;34m\u001b[0m\u001b[0m\n\u001b[0m\u001b[1;32m      2\u001b[0m \u001b[0mN\u001b[0m \u001b[0;34m=\u001b[0m \u001b[0;36m20\u001b[0m\u001b[0;31m#len(pos_index)\u001b[0m\u001b[0;34m\u001b[0m\u001b[0m\n\u001b[1;32m      3\u001b[0m \u001b[0mmutagenesis\u001b[0m \u001b[0;34m=\u001b[0m \u001b[0;34m[\u001b[0m\u001b[0;34m]\u001b[0m\u001b[0;31m# np.zeros((N, seq_length, seq_length, num_alphabet, num_alphabet))\u001b[0m\u001b[0;34m\u001b[0m\u001b[0m\n\u001b[1;32m      4\u001b[0m \u001b[0;32mfor\u001b[0m \u001b[0mi\u001b[0m\u001b[0;34m,\u001b[0m \u001b[0mindex\u001b[0m \u001b[0;32min\u001b[0m \u001b[0menumerate\u001b[0m\u001b[0;34m(\u001b[0m\u001b[0mplot_index\u001b[0m\u001b[0;34m[\u001b[0m\u001b[0;34m:\u001b[0m\u001b[0mN\u001b[0m\u001b[0;34m]\u001b[0m\u001b[0;34m)\u001b[0m\u001b[0;34m:\u001b[0m\u001b[0;34m\u001b[0m\u001b[0m\n\u001b[1;32m      5\u001b[0m     \u001b[0mmutagenesis\u001b[0m\u001b[0;34m.\u001b[0m\u001b[0mappend\u001b[0m\u001b[0;34m(\u001b[0m\u001b[0msecond_order_mutagenesis\u001b[0m\u001b[0;34m(\u001b[0m\u001b[0msess\u001b[0m\u001b[0;34m,\u001b[0m \u001b[0mpredictions\u001b[0m\u001b[0;34m,\u001b[0m \u001b[0mX_test\u001b[0m\u001b[0;34m[\u001b[0m\u001b[0mindex\u001b[0m\u001b[0;34m]\u001b[0m\u001b[0;34m,\u001b[0m \u001b[0mugidx\u001b[0m\u001b[0;34m)\u001b[0m\u001b[0;34m)\u001b[0m\u001b[0;34m\u001b[0m\u001b[0m\n",
      "\u001b[0;31mNameError\u001b[0m: name 'time' is not defined"
     ]
    }
   ],
   "source": [
    "starttime = time.time()\n",
    "N = 20#len(pos_index)\n",
    "mutagenesis = []# np.zeros((N, seq_length, seq_length, num_alphabet, num_alphabet))\n",
    "for i, index in enumerate(plot_index[:N]):\n",
    "    mutagenesis.append(second_order_mutagenesis(sess, predictions, X_test[index], ugidx))\n",
    "    #if np.mod(i+1, 100) == 0:\n",
    "    print(\"%d out of %d\"%(i+1,N))\n",
    "    print(time.time() - starttime)"
   ]
  },
  {
   "cell_type": "code",
   "execution_count": 142,
   "metadata": {
    "collapsed": false
   },
   "outputs": [
    {
     "data": {
      "text/plain": [
       "(20, 61, 61, 4, 4)"
      ]
     },
     "execution_count": 142,
     "metadata": {},
     "output_type": "execute_result"
    }
   ],
   "source": [
    "np.shape(mutagenesis)"
   ]
  },
  {
   "cell_type": "code",
   "execution_count": 143,
   "metadata": {
    "collapsed": true
   },
   "outputs": [],
   "source": [
    "#average the values\n",
    "mean_mut2 = np.mean(mutagenesis, axis=0)\n",
    "\n",
    "#Reshape into a holistic tensor organizing the mutations into 4*4 matrices\n",
    "meanhol_mut2 = mean_mut2.reshape(numug,numug,dims,dims)"
   ]
  },
  {
   "cell_type": "code",
   "execution_count": 152,
   "metadata": {
    "collapsed": true
   },
   "outputs": [],
   "source": [
    "def normalize_mut_hol(hol_mut, WTmean, normfactor=None):\n",
    "    norm_hol_mut = np.copy(hol_mut) - WTmean\n",
    "    for one in range(hol_mut.shape[0]):\n",
    "        for two in range(hol_mut.shape[0]):\n",
    "            norm_hol_mut[one, two] = mf.normalize_hol(hol_mut[one, two], factor=normfactor)\n",
    "    return norm_hol_mut"
   ]
  },
  {
   "cell_type": "code",
   "execution_count": 153,
   "metadata": {
    "collapsed": false
   },
   "outputs": [],
   "source": [
    "#normalize the holistic mutation scores\n",
    "WT_mean = np.mean(test_predict[plot_index[:20]])\n",
    "\n",
    "norm_meanhol_mut2 = normalize_mut_hol(meanhol_mut2, WT_mean)"
   ]
  },
  {
   "cell_type": "code",
   "execution_count": 154,
   "metadata": {
    "collapsed": false
   },
   "outputs": [
    {
     "data": {
      "text/plain": [
       "<function matplotlib.pyplot.show>"
      ]
     },
     "execution_count": 154,
     "metadata": {},
     "output_type": "execute_result"
    },
    {
     "data": {
      "image/png": "[encoded data removed]",
      "text/plain": [
       "<matplotlib.figure.Figure at 0x7f1b9003c510>"
      ]
     },
     "metadata": {},
     "output_type": "display_data"
    }
   ],
   "source": [
    "#Let's try something weird\n",
    "bpfilter = np.ones((4,4))*-1\n",
    "for i,j in zip(range(4), range(4)):\n",
    "    bpfilter[i, -(j+1)] = 1.\n",
    "    \n",
    "C = np.sum((meanhol_mut2*bpfilter).reshape(numug,numug,dims*dims), axis=2)\n",
    "C = C - np.mean(C)\n",
    "C = C/np.max(C)\n",
    "\n",
    "plt.figure(figsize=(15,6))\n",
    "plt.subplot(1,2,1)\n",
    "sb.heatmap(C, xticklabels=bpugSQ, yticklabels=bpugSQ, vmin=0.2, cmap='Reds', linewidth=0.01)\n",
    "plt.title('Base Pair score for the ungapped consensus regions given by infernal')\n",
    "plt.xlabel('Ungapped nucleotides: pos 1')\n",
    "plt.ylabel('Ungapped nucleotides: pos 2')\n",
    "plt.subplot(1,2,2)\n",
    "sb.heatmap(C[bpugidx][:, bpugidx], xticklabels=bpSS, yticklabels=bpSS, vmin=0.2, vmax=1.0, cmap='Reds', linewidth=0.01)\n",
    "plt.title('Base Pair score for the base paired consensus regions given by infernal')\n",
    "plt.xlabel('Base Paired nucleotides: pos 1')\n",
    "plt.ylabel('Base Paired nucleotides: pos 2')\n",
    "plt.show"
   ]
  },
  {
   "cell_type": "code",
   "execution_count": null,
   "metadata": {
    "collapsed": true
   },
   "outputs": [],
   "source": []
  }
 ],
 "metadata": {
  "kernelspec": {
   "display_name": "Python 2",
   "language": "python",
   "name": "python2"
  },
  "language_info": {
   "codemirror_mode": {
    "name": "ipython",
    "version": 2
   },
   "file_extension": ".py",
   "mimetype": "text/x-python",
   "name": "python",
   "nbconvert_exporter": "python",
   "pygments_lexer": "ipython2",
   "version": "2.7.13"
  }
 },
 "nbformat": 4,
 "nbformat_minor": 2
}
