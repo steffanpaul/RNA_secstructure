{
 "cells": [
  {
   "cell_type": "code",
   "execution_count": 2,
   "metadata": {
    "collapsed": false
   },
   "outputs": [],
   "source": [
    "from __future__ import absolute_import\n",
    "from __future__ import division\n",
    "from __future__ import print_function\n",
    "\n",
    "import os, sys, h5py\n",
    "import numpy as np\n",
    "import matplotlib.pyplot as plt\n",
    "%matplotlib inline\n",
    "import seaborn as sb\n",
    "import tensorflow as tf\n",
    "import scipy\n",
    "\n",
    "from sklearn.metrics import roc_curve, auc, precision_recall_curve\n",
    "\n",
    "import sys\n",
    "sys.path.append('../../../..')\n",
    "import mutagenesisfunctions as mf\n",
    "import helper \n",
    "\n",
    "from Bio import AlignIO\n",
    "import time as time\n",
    "import pandas as pd"
   ]
  },
  {
   "cell_type": "markdown",
   "metadata": {},
   "source": [
    "# Load Data, get base paired indices and remove gaps"
   ]
  },
  {
   "cell_type": "code",
   "execution_count": 3,
   "metadata": {
    "collapsed": false
   },
   "outputs": [
    {
     "name": "stdout",
     "output_type": "stream",
     "text": [
      "Data extraction and dict construction completed in: 11.12s\n"
     ]
    }
   ],
   "source": [
    "starttime = time.time()\n",
    "\n",
    "#Open data from h5py\n",
    "\n",
    "data_path = '../../../data_RFAM/glna_100k_d8.hdf5'\n",
    "with h5py.File(data_path, 'r') as dataset:\n",
    "    X_data = np.array(dataset['X_data'])\n",
    "    Y_data = np.array(dataset['Y_data'])\n",
    "    \n",
    "numdata, seqlen, _, dims = X_data.shape\n",
    "dims = dims-1\n",
    "\n",
    "#remove gaps from sequences\n",
    "ungapped = True\n",
    "if ungapped:\n",
    "    X_data = X_data[:, :, :, :dims]\n",
    "    \n",
    "# get validation and test set from training set\n",
    "test_frac = 0.3\n",
    "valid_frac = 0.1\n",
    "N = numdata\n",
    "split_1 = int(N*(1-valid_frac-test_frac))\n",
    "split_2 = int(N*(1-test_frac))\n",
    "shuffle = np.random.permutation(N)\n",
    "\n",
    "X_train = X_data[shuffle[:split_1], :, 0, :]\n",
    "X_valid = X_data[shuffle[split_1:split_2], :, 0, :]\n",
    "X_test = X_data[shuffle[split_2:], :, 0, :]\n",
    "\n",
    "Y_train = Y_data[shuffle[:split_1]]\n",
    "Y_valid = Y_data[shuffle[split_1:split_2]]\n",
    "Y_test = Y_data[shuffle[split_2:]]\n",
    "    \n",
    "print ('Data extraction and dict construction completed in: ' + mf.sectotime(time.time() - starttime))"
   ]
  },
  {
   "cell_type": "code",
   "execution_count": 4,
   "metadata": {
    "collapsed": false
   },
   "outputs": [],
   "source": [
    "simalign_file = '../../../data_RFAM/glnAsim_100k.sto'\n",
    "\n",
    "#Get the full secondary structure and sequence consensus from the emission\n",
    "SS = mf.getSSconsensus(simalign_file)\n",
    "SQ = mf.getSQconsensus(simalign_file)\n",
    "\n",
    "#Get the ungapped sequence and the indices of ungapped nucleotides\n",
    "_, ugSS, ugidx = mf.rm_consensus_gaps(X_data, SS)\n",
    "_, ugSQ, _ = mf.rm_consensus_gaps(X_data, SQ)\n",
    "\n",
    "\n",
    "#Get the sequence and indices of the conserved base pairs\n",
    "bpchars = ['(',')','<','>','{','}']\n",
    "sig_bpchars = ['<','>']\n",
    "bpidx, bpSS, nonbpidx = mf.sigbasepair(SS, bpchars)\n",
    "numbp = len(bpidx)\n",
    "numug = len(ugidx)\n",
    "\n",
    "#Get the bpug information\n",
    "bpugSQ, bpugidx = mf.bpug(ugidx, bpidx, SQ)"
   ]
  },
  {
   "cell_type": "code",
   "execution_count": 5,
   "metadata": {
    "collapsed": true
   },
   "outputs": [],
   "source": [
    "def unalign(X):\n",
    "    nuc_index = np.where(np.sum(X, axis=1)!=0)\n",
    "    return (X[nuc_index])\n",
    "\n",
    "X_train_unalign = [unalign(X) for X in X_train]\n",
    "X_valid_unalign = [unalign(X) for X in X_valid]\n",
    "X_test_unalign = [unalign(X) for X in X_test]"
   ]
  },
  {
   "cell_type": "code",
   "execution_count": 6,
   "metadata": {
    "collapsed": false
   },
   "outputs": [
    {
     "data": {
      "text/plain": [
       "(120000, 893, 4)"
      ]
     },
     "execution_count": 6,
     "metadata": {},
     "output_type": "execute_result"
    }
   ],
   "source": [
    "X_train.shape"
   ]
  },
  {
   "cell_type": "markdown",
   "metadata": {},
   "source": [
    "# Build the 2 layer LSTM"
   ]
  },
  {
   "cell_type": "code",
   "execution_count": 19,
   "metadata": {
    "collapsed": false
   },
   "outputs": [],
   "source": [
    "# tf Graph input\n",
    "tf.reset_default_graph()\n",
    "\n",
    "num_hidden = 64\n",
    "num_layers = 2\n",
    "num_classes = Y_train.shape[1]\n",
    "\n",
    "X = tf.placeholder(tf.float32, [None, None, X_train[0].shape[1]], name='inputs')\n",
    "Y = tf.placeholder(tf.float32, [None, num_classes], name='ouputs')\n",
    "keep_prob = tf.placeholder(tf.float32, name='keep_prob')\n",
    "\n",
    "def getmodel(modelname):\n",
    "    if modelname == 'name':\n",
    "\n",
    "\n",
    "        num_hidden = 64\n",
    "        num_layers = 2\n",
    "        num_classes = Y_train.shape[1]\n",
    "\n",
    "\n",
    "\n",
    "\n",
    "        lstm1_fw_cell = tf.nn.rnn_cell.LSTMCell(num_hidden)#, forget_bias=1.0)\n",
    "        lstm1_fw_cell = tf.contrib.rnn.DropoutWrapper(lstm1_fw_cell, \n",
    "                                                 output_keep_prob=keep_prob, \n",
    "                                                 state_keep_prob=1.0,\n",
    "                                                 variational_recurrent=False,\n",
    "                                                 dtype=tf.float32)\n",
    "\n",
    "        lstm1_bw_cell = tf.nn.rnn_cell.LSTMCell(num_hidden)#, forget_bias=1.0)\n",
    "        lstm1_bw_cell = tf.contrib.rnn.DropoutWrapper(lstm1_bw_cell, \n",
    "                                                 output_keep_prob=keep_prob, \n",
    "                                                 state_keep_prob=1.0,\n",
    "                                                 variational_recurrent=False,\n",
    "                                                 dtype=tf.float32)\n",
    "\n",
    "        outputs1, states1 = tf.nn.bidirectional_dynamic_rnn(lstm1_fw_cell, lstm1_bw_cell, X, \n",
    "                                                           sequence_length=helper.length(X), dtype=tf.float32,\n",
    "                                                           scope='BLSTM_1')\n",
    "\n",
    "        outputs_forward, outputs_backward = outputs1\n",
    "\n",
    "        # states_forward is a tuple of (c is the hidden state and h is the output)\n",
    "        concat_outputs = tf.concat([outputs_forward, outputs_backward], axis=2, name='intermediate')\n",
    "\n",
    "        lstm2_fw_cell = tf.nn.rnn_cell.LSTMCell(num_hidden)#, forget_bias=1.0)\n",
    "        lstm2_fw_cell = tf.contrib.rnn.DropoutWrapper(lstm2_fw_cell, \n",
    "                                                 output_keep_prob=keep_prob, \n",
    "                                                 state_keep_prob=1.0,\n",
    "                                                 variational_recurrent=False,\n",
    "                                                 dtype=tf.float32)\n",
    "\n",
    "        lstm2_bw_cell = tf.nn.rnn_cell.LSTMCell(num_hidden)#, forget_bias=1.0)\n",
    "        lstm2_bw_cell = tf.contrib.rnn.DropoutWrapper(lstm2_bw_cell, \n",
    "                                                 output_keep_prob=keep_prob, \n",
    "                                                 state_keep_prob=1.0,\n",
    "                                                 variational_recurrent=False,\n",
    "                                                 dtype=tf.float32)\n",
    "\n",
    "        outputs2, states2 = tf.nn.bidirectional_dynamic_rnn(lstm2_fw_cell, lstm2_bw_cell, concat_outputs,\n",
    "                                                            scope='BLSTM_2', dtype=tf.float32)\n",
    "\n",
    "        states_forward, states_backward = states2\n",
    "\n",
    "        # states_forward is a tuple of (c is the hidden state and h is the output)\n",
    "        concat_states = tf.concat([states_forward[1], states_backward[1]], axis=1, name='output')\n",
    "\n",
    "        # Linear activation, using rnn inner loop last output\n",
    "        W_out = tf.Variable(tf.random_normal([num_hidden*2, num_classes]))\n",
    "        b_out = tf.Variable(tf.random_normal([num_classes]))\n",
    "\n",
    "        #last = tf.gather(outputs, int(outputs.get_shape()[1])-1)  \n",
    "        #last = int(outputs.get_shape()[1]) - 1\n",
    "        logits = tf.matmul(concat_states, W_out) + b_out\n",
    "        predictions = tf.nn.sigmoid(logits)\n",
    "\n",
    "        # Define loss and optimizer\n",
    "        predictions = tf.clip_by_value(predictions, clip_value_max=1-1e-7, clip_value_min=1e-7)\n",
    "        #cost = tf.reduce_sum(Y*tf.log(predictions), axis=1)\n",
    "        cost = tf.reduce_sum(Y*tf.log(predictions)+(1-Y)*tf.log(1-predictions), axis=1)\n",
    "\n",
    "        total_loss = tf.reduce_mean(-cost)\n",
    "\n",
    "        optimizer = tf.train.AdamOptimizer(learning_rate=0.0003)\n",
    "        grads = optimizer.compute_gradients(total_loss)\n",
    "\n",
    "        # Apply gradients.\n",
    "        apply_gradient_op = optimizer.apply_gradients(grads)\n",
    "\n",
    "        # Track the moving averages of all trainable variables.\n",
    "        variable_averages = tf.train.ExponentialMovingAverage(0.9)\n",
    "        variables_averages_op = variable_averages.apply(tf.trainable_variables())\n",
    "\n",
    "        with tf.control_dependencies([apply_gradient_op, variables_averages_op]):\n",
    "            train_op = tf.no_op(name='train')\n",
    "\n",
    "        # Evaluate model (with test logits, for dropout to be disabled)\n",
    "        #correct_pred = tf.equal(tf.argmax(predictions, 1), tf.argmax(Y, 1))\n",
    "        correct_pred = tf.equal(tf.round(predictions), Y)\n",
    "        accuracy = tf.reduce_mean(tf.cast(correct_pred, tf.float32))\n",
    "\n",
    "    return (total_loss, accuracy, train_op, predictions, logits)"
   ]
  },
  {
   "cell_type": "code",
   "execution_count": null,
   "metadata": {
    "collapsed": true
   },
   "outputs": [],
   "source": []
  },
  {
   "cell_type": "markdown",
   "metadata": {},
   "source": [
    "# Train model"
   ]
  },
  {
   "cell_type": "code",
   "execution_count": 20,
   "metadata": {
    "collapsed": true
   },
   "outputs": [],
   "source": [
    "# start session\n",
    "sess = tf.Session()\n",
    "sess.run(tf.global_variables_initializer())"
   ]
  },
  {
   "cell_type": "code",
   "execution_count": 21,
   "metadata": {
    "collapsed": false
   },
   "outputs": [
    {
     "name": "stdout",
     "output_type": "stream",
     "text": [
      "epoch: 1\n"
     ]
    },
    {
     "ename": "FailedPreconditionError",
     "evalue": "Attempting to use uninitialized value BLSTM_1/fw/lstm_cell/kernel\n\t [[Node: BLSTM_1/fw/lstm_cell/kernel/read = Identity[T=DT_FLOAT, _device=\"/job:localhost/replica:0/task:0/gpu:0\"](BLSTM_1/fw/lstm_cell/kernel)]]\n\t [[Node: Mean/_67 = _Recv[client_terminated=false, recv_device=\"/job:localhost/replica:0/task:0/cpu:0\", send_device=\"/job:localhost/replica:0/task:0/gpu:0\", send_device_incarnation=1, tensor_name=\"edge_3643_Mean\", tensor_type=DT_FLOAT, _device=\"/job:localhost/replica:0/task:0/cpu:0\"]()]]\n\nCaused by op u'BLSTM_1/fw/lstm_cell/kernel/read', defined at:\n  File \"/home/peter/anaconda2/envs/tensorflow/lib/python2.7/runpy.py\", line 174, in _run_module_as_main\n    \"__main__\", fname, loader, pkg_name)\n  File \"/home/peter/anaconda2/envs/tensorflow/lib/python2.7/runpy.py\", line 72, in _run_code\n    exec code in run_globals\n  File \"/home/peter/anaconda2/envs/tensorflow/lib/python2.7/site-packages/ipykernel/__main__.py\", line 3, in <module>\n    app.launch_new_instance()\n  File \"/home/peter/anaconda2/envs/tensorflow/lib/python2.7/site-packages/traitlets/config/application.py\", line 658, in launch_instance\n    app.start()\n  File \"/home/peter/anaconda2/envs/tensorflow/lib/python2.7/site-packages/ipykernel/kernelapp.py\", line 474, in start\n    ioloop.IOLoop.instance().start()\n  File \"/home/peter/anaconda2/envs/tensorflow/lib/python2.7/site-packages/zmq/eventloop/ioloop.py\", line 177, in start\n    super(ZMQIOLoop, self).start()\n  File \"/home/peter/anaconda2/envs/tensorflow/lib/python2.7/site-packages/tornado/ioloop.py\", line 887, in start\n    handler_func(fd_obj, events)\n  File \"/home/peter/anaconda2/envs/tensorflow/lib/python2.7/site-packages/tornado/stack_context.py\", line 275, in null_wrapper\n    return fn(*args, **kwargs)\n  File \"/home/peter/anaconda2/envs/tensorflow/lib/python2.7/site-packages/zmq/eventloop/zmqstream.py\", line 440, in _handle_events\n    self._handle_recv()\n  File \"/home/peter/anaconda2/envs/tensorflow/lib/python2.7/site-packages/zmq/eventloop/zmqstream.py\", line 472, in _handle_recv\n    self._run_callback(callback, msg)\n  File \"/home/peter/anaconda2/envs/tensorflow/lib/python2.7/site-packages/zmq/eventloop/zmqstream.py\", line 414, in _run_callback\n    callback(*args, **kwargs)\n  File \"/home/peter/anaconda2/envs/tensorflow/lib/python2.7/site-packages/tornado/stack_context.py\", line 275, in null_wrapper\n    return fn(*args, **kwargs)\n  File \"/home/peter/anaconda2/envs/tensorflow/lib/python2.7/site-packages/ipykernel/kernelbase.py\", line 276, in dispatcher\n    return self.dispatch_shell(stream, msg)\n  File \"/home/peter/anaconda2/envs/tensorflow/lib/python2.7/site-packages/ipykernel/kernelbase.py\", line 228, in dispatch_shell\n    handler(stream, idents, msg)\n  File \"/home/peter/anaconda2/envs/tensorflow/lib/python2.7/site-packages/ipykernel/kernelbase.py\", line 390, in execute_request\n    user_expressions, allow_stdin)\n  File \"/home/peter/anaconda2/envs/tensorflow/lib/python2.7/site-packages/ipykernel/ipkernel.py\", line 196, in do_execute\n    res = shell.run_cell(code, store_history=store_history, silent=silent)\n  File \"/home/peter/anaconda2/envs/tensorflow/lib/python2.7/site-packages/ipykernel/zmqshell.py\", line 501, in run_cell\n    return super(ZMQInteractiveShell, self).run_cell(*args, **kwargs)\n  File \"/home/peter/anaconda2/envs/tensorflow/lib/python2.7/site-packages/IPython/core/interactiveshell.py\", line 2717, in run_cell\n    interactivity=interactivity, compiler=compiler, result=result)\n  File \"/home/peter/anaconda2/envs/tensorflow/lib/python2.7/site-packages/IPython/core/interactiveshell.py\", line 2821, in run_ast_nodes\n    if self.run_code(code, result):\n  File \"/home/peter/anaconda2/envs/tensorflow/lib/python2.7/site-packages/IPython/core/interactiveshell.py\", line 2881, in run_code\n    exec(code_obj, self.user_global_ns, self.user_ns)\n  File \"<ipython-input-21-d3cabb6eabee>\", line 8, in <module>\n    total_loss, accuracy, train_op, predictions, logits = getmodel('name')\n  File \"<ipython-input-19-2902d2cd8fe0>\", line 39, in getmodel\n    scope='BLSTM_1')\n  File \"/home/peter/anaconda2/envs/tensorflow/lib/python2.7/site-packages/tensorflow/python/ops/rnn.py\", line 375, in bidirectional_dynamic_rnn\n    time_major=time_major, scope=fw_scope)\n  File \"/home/peter/anaconda2/envs/tensorflow/lib/python2.7/site-packages/tensorflow/python/ops/rnn.py\", line 574, in dynamic_rnn\n    dtype=dtype)\n  File \"/home/peter/anaconda2/envs/tensorflow/lib/python2.7/site-packages/tensorflow/python/ops/rnn.py\", line 737, in _dynamic_rnn_loop\n    swap_memory=swap_memory)\n  File \"/home/peter/anaconda2/envs/tensorflow/lib/python2.7/site-packages/tensorflow/python/ops/control_flow_ops.py\", line 2770, in while_loop\n    result = context.BuildLoop(cond, body, loop_vars, shape_invariants)\n  File \"/home/peter/anaconda2/envs/tensorflow/lib/python2.7/site-packages/tensorflow/python/ops/control_flow_ops.py\", line 2599, in BuildLoop\n    pred, body, original_loop_vars, loop_vars, shape_invariants)\n  File \"/home/peter/anaconda2/envs/tensorflow/lib/python2.7/site-packages/tensorflow/python/ops/control_flow_ops.py\", line 2549, in _BuildLoop\n    body_result = body(*packed_vars_for_body)\n  File \"/home/peter/anaconda2/envs/tensorflow/lib/python2.7/site-packages/tensorflow/python/ops/rnn.py\", line 720, in _time_step\n    skip_conditionals=True)\n  File \"/home/peter/anaconda2/envs/tensorflow/lib/python2.7/site-packages/tensorflow/python/ops/rnn.py\", line 206, in _rnn_step\n    new_output, new_state = call_cell()\n  File \"/home/peter/anaconda2/envs/tensorflow/lib/python2.7/site-packages/tensorflow/python/ops/rnn.py\", line 708, in <lambda>\n    call_cell = lambda: cell(input_t, state)\n  File \"/home/peter/anaconda2/envs/tensorflow/lib/python2.7/site-packages/tensorflow/python/ops/rnn_cell_impl.py\", line 752, in __call__\n    output, new_state = self._cell(inputs, state, scope)\n  File \"/home/peter/anaconda2/envs/tensorflow/lib/python2.7/site-packages/tensorflow/python/ops/rnn_cell_impl.py\", line 180, in __call__\n    return super(RNNCell, self).__call__(inputs, state)\n  File \"/home/peter/anaconda2/envs/tensorflow/lib/python2.7/site-packages/tensorflow/python/layers/base.py\", line 441, in __call__\n    outputs = self.call(inputs, *args, **kwargs)\n  File \"/home/peter/anaconda2/envs/tensorflow/lib/python2.7/site-packages/tensorflow/python/ops/rnn_cell_impl.py\", line 542, in call\n    lstm_matrix = _linear([inputs, m_prev], 4 * self._num_units, bias=True)\n  File \"/home/peter/anaconda2/envs/tensorflow/lib/python2.7/site-packages/tensorflow/python/ops/rnn_cell_impl.py\", line 1017, in _linear\n    initializer=kernel_initializer)\n  File \"/home/peter/anaconda2/envs/tensorflow/lib/python2.7/site-packages/tensorflow/python/ops/variable_scope.py\", line 1065, in get_variable\n    use_resource=use_resource, custom_getter=custom_getter)\n  File \"/home/peter/anaconda2/envs/tensorflow/lib/python2.7/site-packages/tensorflow/python/ops/variable_scope.py\", line 962, in get_variable\n    use_resource=use_resource, custom_getter=custom_getter)\n  File \"/home/peter/anaconda2/envs/tensorflow/lib/python2.7/site-packages/tensorflow/python/ops/variable_scope.py\", line 360, in get_variable\n    validate_shape=validate_shape, use_resource=use_resource)\n  File \"/home/peter/anaconda2/envs/tensorflow/lib/python2.7/site-packages/tensorflow/python/ops/rnn_cell_impl.py\", line 183, in _rnn_get_variable\n    variable = getter(*args, **kwargs)\n  File \"/home/peter/anaconda2/envs/tensorflow/lib/python2.7/site-packages/tensorflow/python/ops/variable_scope.py\", line 352, in _true_getter\n    use_resource=use_resource)\n  File \"/home/peter/anaconda2/envs/tensorflow/lib/python2.7/site-packages/tensorflow/python/ops/variable_scope.py\", line 725, in _get_single_variable\n    validate_shape=validate_shape)\n  File \"/home/peter/anaconda2/envs/tensorflow/lib/python2.7/site-packages/tensorflow/python/ops/variables.py\", line 200, in __init__\n    expected_shape=expected_shape)\n  File \"/home/peter/anaconda2/envs/tensorflow/lib/python2.7/site-packages/tensorflow/python/ops/variables.py\", line 316, in _init_from_args\n    self._snapshot = array_ops.identity(self._variable, name=\"read\")\n  File \"/home/peter/anaconda2/envs/tensorflow/lib/python2.7/site-packages/tensorflow/python/ops/gen_array_ops.py\", line 1303, in identity\n    result = _op_def_lib.apply_op(\"Identity\", input=input, name=name)\n  File \"/home/peter/anaconda2/envs/tensorflow/lib/python2.7/site-packages/tensorflow/python/framework/op_def_library.py\", line 767, in apply_op\n    op_def=op_def)\n  File \"/home/peter/anaconda2/envs/tensorflow/lib/python2.7/site-packages/tensorflow/python/framework/ops.py\", line 2506, in create_op\n    original_op=self._default_original_op, op_def=op_def)\n  File \"/home/peter/anaconda2/envs/tensorflow/lib/python2.7/site-packages/tensorflow/python/framework/ops.py\", line 1269, in __init__\n    self._traceback = _extract_stack()\n\nFailedPreconditionError (see above for traceback): Attempting to use uninitialized value BLSTM_1/fw/lstm_cell/kernel\n\t [[Node: BLSTM_1/fw/lstm_cell/kernel/read = Identity[T=DT_FLOAT, _device=\"/job:localhost/replica:0/task:0/gpu:0\"](BLSTM_1/fw/lstm_cell/kernel)]]\n\t [[Node: Mean/_67 = _Recv[client_terminated=false, recv_device=\"/job:localhost/replica:0/task:0/cpu:0\", send_device=\"/job:localhost/replica:0/task:0/gpu:0\", send_device_incarnation=1, tensor_name=\"edge_3643_Mean\", tensor_type=DT_FLOAT, _device=\"/job:localhost/replica:0/task:0/cpu:0\"]()]]\n",
     "output_type": "error",
     "traceback": [
      "\u001b[0;31m---------------------------------------------------------------------------\u001b[0m",
      "\u001b[0;31mFailedPreconditionError\u001b[0m                   Traceback (most recent call last)",
      "\u001b[0;32m<ipython-input-21-d3cabb6eabee>\u001b[0m in \u001b[0;36m<module>\u001b[0;34m()\u001b[0m\n\u001b[1;32m     32\u001b[0m         batch_loss, batch_acc, _ = sess.run([total_loss, accuracy, train_op], feed_dict={X: batch[0], \n\u001b[1;32m     33\u001b[0m                                                                                       \u001b[0mY\u001b[0m\u001b[0;34m:\u001b[0m \u001b[0mbatch\u001b[0m\u001b[0;34m[\u001b[0m\u001b[0;36m1\u001b[0m\u001b[0;34m]\u001b[0m\u001b[0;34m,\u001b[0m\u001b[0;34m\u001b[0m\u001b[0m\n\u001b[0;32m---> 34\u001b[0;31m                                                                                       keep_prob: 0.4})            \n\u001b[0m\u001b[1;32m     35\u001b[0m         \u001b[0mloss\u001b[0m \u001b[0;34m+=\u001b[0m \u001b[0mbatch_loss\u001b[0m\u001b[0;34m\u001b[0m\u001b[0m\n\u001b[1;32m     36\u001b[0m         \u001b[0macc\u001b[0m \u001b[0;34m+=\u001b[0m \u001b[0mbatch_acc\u001b[0m\u001b[0;34m\u001b[0m\u001b[0m\n",
      "\u001b[0;32m/home/peter/anaconda2/envs/tensorflow/lib/python2.7/site-packages/tensorflow/python/client/session.pyc\u001b[0m in \u001b[0;36mrun\u001b[0;34m(self, fetches, feed_dict, options, run_metadata)\u001b[0m\n\u001b[1;32m    787\u001b[0m     \u001b[0;32mtry\u001b[0m\u001b[0;34m:\u001b[0m\u001b[0;34m\u001b[0m\u001b[0m\n\u001b[1;32m    788\u001b[0m       result = self._run(None, fetches, feed_dict, options_ptr,\n\u001b[0;32m--> 789\u001b[0;31m                          run_metadata_ptr)\n\u001b[0m\u001b[1;32m    790\u001b[0m       \u001b[0;32mif\u001b[0m \u001b[0mrun_metadata\u001b[0m\u001b[0;34m:\u001b[0m\u001b[0;34m\u001b[0m\u001b[0m\n\u001b[1;32m    791\u001b[0m         \u001b[0mproto_data\u001b[0m \u001b[0;34m=\u001b[0m \u001b[0mtf_session\u001b[0m\u001b[0;34m.\u001b[0m\u001b[0mTF_GetBuffer\u001b[0m\u001b[0;34m(\u001b[0m\u001b[0mrun_metadata_ptr\u001b[0m\u001b[0;34m)\u001b[0m\u001b[0;34m\u001b[0m\u001b[0m\n",
      "\u001b[0;32m/home/peter/anaconda2/envs/tensorflow/lib/python2.7/site-packages/tensorflow/python/client/session.pyc\u001b[0m in \u001b[0;36m_run\u001b[0;34m(self, handle, fetches, feed_dict, options, run_metadata)\u001b[0m\n\u001b[1;32m    995\u001b[0m     \u001b[0;32mif\u001b[0m \u001b[0mfinal_fetches\u001b[0m \u001b[0;32mor\u001b[0m \u001b[0mfinal_targets\u001b[0m\u001b[0;34m:\u001b[0m\u001b[0;34m\u001b[0m\u001b[0m\n\u001b[1;32m    996\u001b[0m       results = self._do_run(handle, final_targets, final_fetches,\n\u001b[0;32m--> 997\u001b[0;31m                              feed_dict_string, options, run_metadata)\n\u001b[0m\u001b[1;32m    998\u001b[0m     \u001b[0;32melse\u001b[0m\u001b[0;34m:\u001b[0m\u001b[0;34m\u001b[0m\u001b[0m\n\u001b[1;32m    999\u001b[0m       \u001b[0mresults\u001b[0m \u001b[0;34m=\u001b[0m \u001b[0;34m[\u001b[0m\u001b[0;34m]\u001b[0m\u001b[0;34m\u001b[0m\u001b[0m\n",
      "\u001b[0;32m/home/peter/anaconda2/envs/tensorflow/lib/python2.7/site-packages/tensorflow/python/client/session.pyc\u001b[0m in \u001b[0;36m_do_run\u001b[0;34m(self, handle, target_list, fetch_list, feed_dict, options, run_metadata)\u001b[0m\n\u001b[1;32m   1130\u001b[0m     \u001b[0;32mif\u001b[0m \u001b[0mhandle\u001b[0m \u001b[0;32mis\u001b[0m \u001b[0mNone\u001b[0m\u001b[0;34m:\u001b[0m\u001b[0;34m\u001b[0m\u001b[0m\n\u001b[1;32m   1131\u001b[0m       return self._do_call(_run_fn, self._session, feed_dict, fetch_list,\n\u001b[0;32m-> 1132\u001b[0;31m                            target_list, options, run_metadata)\n\u001b[0m\u001b[1;32m   1133\u001b[0m     \u001b[0;32melse\u001b[0m\u001b[0;34m:\u001b[0m\u001b[0;34m\u001b[0m\u001b[0m\n\u001b[1;32m   1134\u001b[0m       return self._do_call(_prun_fn, self._session, handle, feed_dict,\n",
      "\u001b[0;32m/home/peter/anaconda2/envs/tensorflow/lib/python2.7/site-packages/tensorflow/python/client/session.pyc\u001b[0m in \u001b[0;36m_do_call\u001b[0;34m(self, fn, *args)\u001b[0m\n\u001b[1;32m   1150\u001b[0m         \u001b[0;32mexcept\u001b[0m \u001b[0mKeyError\u001b[0m\u001b[0;34m:\u001b[0m\u001b[0;34m\u001b[0m\u001b[0m\n\u001b[1;32m   1151\u001b[0m           \u001b[0;32mpass\u001b[0m\u001b[0;34m\u001b[0m\u001b[0m\n\u001b[0;32m-> 1152\u001b[0;31m       \u001b[0;32mraise\u001b[0m \u001b[0mtype\u001b[0m\u001b[0;34m(\u001b[0m\u001b[0me\u001b[0m\u001b[0;34m)\u001b[0m\u001b[0;34m(\u001b[0m\u001b[0mnode_def\u001b[0m\u001b[0;34m,\u001b[0m \u001b[0mop\u001b[0m\u001b[0;34m,\u001b[0m \u001b[0mmessage\u001b[0m\u001b[0;34m)\u001b[0m\u001b[0;34m\u001b[0m\u001b[0m\n\u001b[0m\u001b[1;32m   1153\u001b[0m \u001b[0;34m\u001b[0m\u001b[0m\n\u001b[1;32m   1154\u001b[0m   \u001b[0;32mdef\u001b[0m \u001b[0m_extend_graph\u001b[0m\u001b[0;34m(\u001b[0m\u001b[0mself\u001b[0m\u001b[0;34m)\u001b[0m\u001b[0;34m:\u001b[0m\u001b[0;34m\u001b[0m\u001b[0m\n",
      "\u001b[0;31mFailedPreconditionError\u001b[0m: Attempting to use uninitialized value BLSTM_1/fw/lstm_cell/kernel\n\t [[Node: BLSTM_1/fw/lstm_cell/kernel/read = Identity[T=DT_FLOAT, _device=\"/job:localhost/replica:0/task:0/gpu:0\"](BLSTM_1/fw/lstm_cell/kernel)]]\n\t [[Node: Mean/_67 = _Recv[client_terminated=false, recv_device=\"/job:localhost/replica:0/task:0/cpu:0\", send_device=\"/job:localhost/replica:0/task:0/gpu:0\", send_device_incarnation=1, tensor_name=\"edge_3643_Mean\", tensor_type=DT_FLOAT, _device=\"/job:localhost/replica:0/task:0/cpu:0\"]()]]\n\nCaused by op u'BLSTM_1/fw/lstm_cell/kernel/read', defined at:\n  File \"/home/peter/anaconda2/envs/tensorflow/lib/python2.7/runpy.py\", line 174, in _run_module_as_main\n    \"__main__\", fname, loader, pkg_name)\n  File \"/home/peter/anaconda2/envs/tensorflow/lib/python2.7/runpy.py\", line 72, in _run_code\n    exec code in run_globals\n  File \"/home/peter/anaconda2/envs/tensorflow/lib/python2.7/site-packages/ipykernel/__main__.py\", line 3, in <module>\n    app.launch_new_instance()\n  File \"/home/peter/anaconda2/envs/tensorflow/lib/python2.7/site-packages/traitlets/config/application.py\", line 658, in launch_instance\n    app.start()\n  File \"/home/peter/anaconda2/envs/tensorflow/lib/python2.7/site-packages/ipykernel/kernelapp.py\", line 474, in start\n    ioloop.IOLoop.instance().start()\n  File \"/home/peter/anaconda2/envs/tensorflow/lib/python2.7/site-packages/zmq/eventloop/ioloop.py\", line 177, in start\n    super(ZMQIOLoop, self).start()\n  File \"/home/peter/anaconda2/envs/tensorflow/lib/python2.7/site-packages/tornado/ioloop.py\", line 887, in start\n    handler_func(fd_obj, events)\n  File \"/home/peter/anaconda2/envs/tensorflow/lib/python2.7/site-packages/tornado/stack_context.py\", line 275, in null_wrapper\n    return fn(*args, **kwargs)\n  File \"/home/peter/anaconda2/envs/tensorflow/lib/python2.7/site-packages/zmq/eventloop/zmqstream.py\", line 440, in _handle_events\n    self._handle_recv()\n  File \"/home/peter/anaconda2/envs/tensorflow/lib/python2.7/site-packages/zmq/eventloop/zmqstream.py\", line 472, in _handle_recv\n    self._run_callback(callback, msg)\n  File \"/home/peter/anaconda2/envs/tensorflow/lib/python2.7/site-packages/zmq/eventloop/zmqstream.py\", line 414, in _run_callback\n    callback(*args, **kwargs)\n  File \"/home/peter/anaconda2/envs/tensorflow/lib/python2.7/site-packages/tornado/stack_context.py\", line 275, in null_wrapper\n    return fn(*args, **kwargs)\n  File \"/home/peter/anaconda2/envs/tensorflow/lib/python2.7/site-packages/ipykernel/kernelbase.py\", line 276, in dispatcher\n    return self.dispatch_shell(stream, msg)\n  File \"/home/peter/anaconda2/envs/tensorflow/lib/python2.7/site-packages/ipykernel/kernelbase.py\", line 228, in dispatch_shell\n    handler(stream, idents, msg)\n  File \"/home/peter/anaconda2/envs/tensorflow/lib/python2.7/site-packages/ipykernel/kernelbase.py\", line 390, in execute_request\n    user_expressions, allow_stdin)\n  File \"/home/peter/anaconda2/envs/tensorflow/lib/python2.7/site-packages/ipykernel/ipkernel.py\", line 196, in do_execute\n    res = shell.run_cell(code, store_history=store_history, silent=silent)\n  File \"/home/peter/anaconda2/envs/tensorflow/lib/python2.7/site-packages/ipykernel/zmqshell.py\", line 501, in run_cell\n    return super(ZMQInteractiveShell, self).run_cell(*args, **kwargs)\n  File \"/home/peter/anaconda2/envs/tensorflow/lib/python2.7/site-packages/IPython/core/interactiveshell.py\", line 2717, in run_cell\n    interactivity=interactivity, compiler=compiler, result=result)\n  File \"/home/peter/anaconda2/envs/tensorflow/lib/python2.7/site-packages/IPython/core/interactiveshell.py\", line 2821, in run_ast_nodes\n    if self.run_code(code, result):\n  File \"/home/peter/anaconda2/envs/tensorflow/lib/python2.7/site-packages/IPython/core/interactiveshell.py\", line 2881, in run_code\n    exec(code_obj, self.user_global_ns, self.user_ns)\n  File \"<ipython-input-21-d3cabb6eabee>\", line 8, in <module>\n    total_loss, accuracy, train_op, predictions, logits = getmodel('name')\n  File \"<ipython-input-19-2902d2cd8fe0>\", line 39, in getmodel\n    scope='BLSTM_1')\n  File \"/home/peter/anaconda2/envs/tensorflow/lib/python2.7/site-packages/tensorflow/python/ops/rnn.py\", line 375, in bidirectional_dynamic_rnn\n    time_major=time_major, scope=fw_scope)\n  File \"/home/peter/anaconda2/envs/tensorflow/lib/python2.7/site-packages/tensorflow/python/ops/rnn.py\", line 574, in dynamic_rnn\n    dtype=dtype)\n  File \"/home/peter/anaconda2/envs/tensorflow/lib/python2.7/site-packages/tensorflow/python/ops/rnn.py\", line 737, in _dynamic_rnn_loop\n    swap_memory=swap_memory)\n  File \"/home/peter/anaconda2/envs/tensorflow/lib/python2.7/site-packages/tensorflow/python/ops/control_flow_ops.py\", line 2770, in while_loop\n    result = context.BuildLoop(cond, body, loop_vars, shape_invariants)\n  File \"/home/peter/anaconda2/envs/tensorflow/lib/python2.7/site-packages/tensorflow/python/ops/control_flow_ops.py\", line 2599, in BuildLoop\n    pred, body, original_loop_vars, loop_vars, shape_invariants)\n  File \"/home/peter/anaconda2/envs/tensorflow/lib/python2.7/site-packages/tensorflow/python/ops/control_flow_ops.py\", line 2549, in _BuildLoop\n    body_result = body(*packed_vars_for_body)\n  File \"/home/peter/anaconda2/envs/tensorflow/lib/python2.7/site-packages/tensorflow/python/ops/rnn.py\", line 720, in _time_step\n    skip_conditionals=True)\n  File \"/home/peter/anaconda2/envs/tensorflow/lib/python2.7/site-packages/tensorflow/python/ops/rnn.py\", line 206, in _rnn_step\n    new_output, new_state = call_cell()\n  File \"/home/peter/anaconda2/envs/tensorflow/lib/python2.7/site-packages/tensorflow/python/ops/rnn.py\", line 708, in <lambda>\n    call_cell = lambda: cell(input_t, state)\n  File \"/home/peter/anaconda2/envs/tensorflow/lib/python2.7/site-packages/tensorflow/python/ops/rnn_cell_impl.py\", line 752, in __call__\n    output, new_state = self._cell(inputs, state, scope)\n  File \"/home/peter/anaconda2/envs/tensorflow/lib/python2.7/site-packages/tensorflow/python/ops/rnn_cell_impl.py\", line 180, in __call__\n    return super(RNNCell, self).__call__(inputs, state)\n  File \"/home/peter/anaconda2/envs/tensorflow/lib/python2.7/site-packages/tensorflow/python/layers/base.py\", line 441, in __call__\n    outputs = self.call(inputs, *args, **kwargs)\n  File \"/home/peter/anaconda2/envs/tensorflow/lib/python2.7/site-packages/tensorflow/python/ops/rnn_cell_impl.py\", line 542, in call\n    lstm_matrix = _linear([inputs, m_prev], 4 * self._num_units, bias=True)\n  File \"/home/peter/anaconda2/envs/tensorflow/lib/python2.7/site-packages/tensorflow/python/ops/rnn_cell_impl.py\", line 1017, in _linear\n    initializer=kernel_initializer)\n  File \"/home/peter/anaconda2/envs/tensorflow/lib/python2.7/site-packages/tensorflow/python/ops/variable_scope.py\", line 1065, in get_variable\n    use_resource=use_resource, custom_getter=custom_getter)\n  File \"/home/peter/anaconda2/envs/tensorflow/lib/python2.7/site-packages/tensorflow/python/ops/variable_scope.py\", line 962, in get_variable\n    use_resource=use_resource, custom_getter=custom_getter)\n  File \"/home/peter/anaconda2/envs/tensorflow/lib/python2.7/site-packages/tensorflow/python/ops/variable_scope.py\", line 360, in get_variable\n    validate_shape=validate_shape, use_resource=use_resource)\n  File \"/home/peter/anaconda2/envs/tensorflow/lib/python2.7/site-packages/tensorflow/python/ops/rnn_cell_impl.py\", line 183, in _rnn_get_variable\n    variable = getter(*args, **kwargs)\n  File \"/home/peter/anaconda2/envs/tensorflow/lib/python2.7/site-packages/tensorflow/python/ops/variable_scope.py\", line 352, in _true_getter\n    use_resource=use_resource)\n  File \"/home/peter/anaconda2/envs/tensorflow/lib/python2.7/site-packages/tensorflow/python/ops/variable_scope.py\", line 725, in _get_single_variable\n    validate_shape=validate_shape)\n  File \"/home/peter/anaconda2/envs/tensorflow/lib/python2.7/site-packages/tensorflow/python/ops/variables.py\", line 200, in __init__\n    expected_shape=expected_shape)\n  File \"/home/peter/anaconda2/envs/tensorflow/lib/python2.7/site-packages/tensorflow/python/ops/variables.py\", line 316, in _init_from_args\n    self._snapshot = array_ops.identity(self._variable, name=\"read\")\n  File \"/home/peter/anaconda2/envs/tensorflow/lib/python2.7/site-packages/tensorflow/python/ops/gen_array_ops.py\", line 1303, in identity\n    result = _op_def_lib.apply_op(\"Identity\", input=input, name=name)\n  File \"/home/peter/anaconda2/envs/tensorflow/lib/python2.7/site-packages/tensorflow/python/framework/op_def_library.py\", line 767, in apply_op\n    op_def=op_def)\n  File \"/home/peter/anaconda2/envs/tensorflow/lib/python2.7/site-packages/tensorflow/python/framework/ops.py\", line 2506, in create_op\n    original_op=self._default_original_op, op_def=op_def)\n  File \"/home/peter/anaconda2/envs/tensorflow/lib/python2.7/site-packages/tensorflow/python/framework/ops.py\", line 1269, in __init__\n    self._traceback = _extract_stack()\n\nFailedPreconditionError (see above for traceback): Attempting to use uninitialized value BLSTM_1/fw/lstm_cell/kernel\n\t [[Node: BLSTM_1/fw/lstm_cell/kernel/read = Identity[T=DT_FLOAT, _device=\"/job:localhost/replica:0/task:0/gpu:0\"](BLSTM_1/fw/lstm_cell/kernel)]]\n\t [[Node: Mean/_67 = _Recv[client_terminated=false, recv_device=\"/job:localhost/replica:0/task:0/cpu:0\", send_device=\"/job:localhost/replica:0/task:0/gpu:0\", send_device_incarnation=1, tensor_name=\"edge_3643_Mean\", tensor_type=DT_FLOAT, _device=\"/job:localhost/replica:0/task:0/cpu:0\"]()]]\n"
     ]
    }
   ],
   "source": [
    "batch_size = 128\n",
    "train_batches = helper.bucket_generator(X_train_unalign, Y_train, batch_size)\n",
    "valid_batches = helper.bucket_generator(X_valid_unalign, Y_valid, batch_size)\n",
    "num_epochs = 1\n",
    "bar_length = 25\n",
    "patience = 10\n",
    "\n",
    "total_loss, accuracy, train_op, predictions, logits = getmodel('name')\n",
    "\n",
    "# path to save results\n",
    "save_path = '../../../results/glnA'\n",
    "if not os.path.isdir(save_path):\n",
    "    os.mkdir(save_path)\n",
    "    print(\"making directory: \" + save_path)\n",
    "params_filename = 'RNN_t4' + '_best'\n",
    "params_path = os.path.join(save_path, params_filename)\n",
    "    \n",
    "wait=0\n",
    "min_loss = 1e10\n",
    "for epoch in range(num_epochs):\n",
    "    print('epoch: '+ str(epoch+1))\n",
    "    \n",
    "    num_batches = len(train_batches)\n",
    "    shuffled_batches = []\n",
    "    for i in np.random.permutation(num_batches):\n",
    "        shuffled_batches.append(train_batches[i])\n",
    "        \n",
    "    loss = 0\n",
    "    acc = 0\n",
    "    start_time = time.time()\n",
    "    for i, batch in enumerate(shuffled_batches):\n",
    "        batch_loss, batch_acc, _ = sess.run([total_loss, accuracy, train_op], feed_dict={X: batch[0], \n",
    "                                                                                      Y: batch[1], \n",
    "                                                                                      keep_prob: 0.4})            \n",
    "        loss += batch_loss\n",
    "        acc += batch_acc\n",
    "\n",
    "        remaining_time = (time.time()-start_time)*(num_batches-(i+1))/(i+1)\n",
    "        percent = float(i)/num_batches\n",
    "        progress = '='*int(round(percent*bar_length))\n",
    "        spaces = ' '*int(bar_length-round(percent*bar_length))\n",
    "        sys.stdout.write(\"\\r[%s] %.1f%% -- remaining time=%.2fs -- loss=%.5f -- acc=%.5f\" \\\n",
    "        %(progress+spaces, percent*100, remaining_time, loss/(i+1), acc/(i+1)))\n",
    "        \n",
    "    sys.stdout.write(\"\\r[%s] %.1f%% -- elapsed time=%.2fs -- loss=%.5f -- acc=%.5f\\n\" \\\n",
    "    %(progress+spaces, percent*100, time.time()-start_time, loss/(i+1), acc/(i+1)))\n",
    "    sys.stdout.write(\"\\n\")\n",
    "    \n",
    "    \n",
    "    num_batches = len(valid_batches)\n",
    "    loss = 0\n",
    "    acc = 0\n",
    "    valid_predictions = []\n",
    "    valid_truth = []\n",
    "    start_time = time.time()\n",
    "    for i, batch in enumerate(valid_batches):\n",
    "        batch_loss, batch_predict = sess.run([total_loss, predictions], feed_dict={X: batch[0], \n",
    "                                                                                Y: batch[1], \n",
    "                                                                                keep_prob: 1.0})            \n",
    "        loss += batch_loss\n",
    "        valid_predictions.append(batch_predict)\n",
    "        valid_truth.append(batch[1])\n",
    "    valid_loss = loss/num_batches\n",
    "    valid_predictions = np.vstack(valid_predictions)\n",
    "    valid_truth = np.vstack(valid_truth)\n",
    "    \n",
    "    correct = np.mean(np.equal(valid_truth, np.round(valid_predictions)))\n",
    "    auc_roc, roc_curves = helper.roc(valid_truth, valid_predictions)\n",
    "    auc_pr, pr_curves = helper.pr(valid_truth, valid_predictions)\n",
    "    print(\"  valid loss  = \"+str(loss/num_batches))\n",
    "    print(\"  valid acc   = \"+str(np.nanmean(correct)))\n",
    "    print(\"  valid AUROC = \"+str(np.nanmean(auc_roc)))\n",
    "    print(\"  valid AUPRC = \"+str(np.nanmean(auc_pr)))\n",
    "    \n",
    "    # check if current validation loss is lower, if so, save parameters, if not check patience\n",
    "    if valid_loss < min_loss:\n",
    "        print(\"  Lower validation loss found. Saving parameters to: \"+params_path)\n",
    "        \n",
    "        # save model parameters\n",
    "        saver = tf.train.Saver()\n",
    "        saver.save(sess, save_path=params_path)\n",
    "        \n",
    "        # set minimum loss to the current validation loss\n",
    "        min_loss = valid_loss\n",
    "        \n",
    "        # reset wait time\n",
    "        wait = 0\n",
    "    else:\n",
    "        \n",
    "        # add to wait time\n",
    "        wait += 1\n",
    "        \n",
    "        # check to see if patience has run out\n",
    "        if wait == patience:\n",
    "            print(\"Patience ran out... early stopping!\")\n",
    "            break"
   ]
  },
  {
   "cell_type": "code",
   "execution_count": 18,
   "metadata": {
    "collapsed": true
   },
   "outputs": [],
   "source": [
    "# close tensorflow session (Note, the graph is still open)\n",
    "sess.close()"
   ]
  },
  {
   "cell_type": "markdown",
   "metadata": {},
   "source": [
    "# Test Model"
   ]
  },
  {
   "cell_type": "code",
   "execution_count": 17,
   "metadata": {
    "collapsed": false
   },
   "outputs": [
    {
     "name": "stdout",
     "output_type": "stream",
     "text": [
      "INFO:tensorflow:Restoring parameters from ../../../results/glnA/RNN_t3_best\n"
     ]
    }
   ],
   "source": [
    "# create a new session\n",
    "sess = tf.Session()\n",
    "sess.run(tf.global_variables_initializer())\n",
    "\n",
    "# path to save results\n",
    "save_path = '../../../results/glnA'\n",
    "params_filename = 'RNN_t3' + '_best'\n",
    "params_path = os.path.join(save_path, params_filename)\n",
    "\n",
    "# restore trained parameters\n",
    "saver = tf.train.Saver()\n",
    "saver.restore(sess, save_path=params_path)"
   ]
  },
  {
   "cell_type": "code",
   "execution_count": 18,
   "metadata": {
    "collapsed": false
   },
   "outputs": [
    {
     "name": "stdout",
     "output_type": "stream",
     "text": [
      "[=========================] 99.8% -- elapsed time=17.50s -- loss=0.08793 -- acc=0.0000000\n",
      "\n",
      "  test loss  = 0.08793317839355101\n",
      "  test acc   = 0.9674166666666667\n",
      "  test AUROC = 0.9946694959789713\n",
      "  test AUPRC = 0.9953706480870013\n"
     ]
    }
   ],
   "source": [
    "batch_size = 128\n",
    "batches = helper.bucket_generator(X_test_unalign, Y_test, batch_size)\n",
    "num_batches = len(batches)\n",
    "\n",
    "loss = 0\n",
    "acc = 0\n",
    "valid_predictions = []\n",
    "valid_truth = []\n",
    "start_time = time.time()\n",
    "num_batches = len(batches)\n",
    "bar_length = 25\n",
    "\n",
    "for i, batch in enumerate(batches):\n",
    "\n",
    "    batch_loss, batch_predict = sess.run([total_loss, predictions], feed_dict={X: batch[0], \n",
    "                                                                            Y: batch[1], \n",
    "                                                                            keep_prob: 1.0})            \n",
    "    loss += batch_loss\n",
    "    valid_predictions.append(batch_predict)\n",
    "    valid_truth.append(batch[1])\n",
    "    \n",
    "    remaining_time = (time.time()-start_time)*(num_batches-(i+1))/(i+1)\n",
    "    percent = float(i)/num_batches\n",
    "    progress = '='*int(round(percent*bar_length))\n",
    "    spaces = ' '*int(bar_length-round(percent*bar_length))\n",
    "    sys.stdout.write(\"\\r[%s] %.1f%% -- remaining time=%.2fs -- loss=%.5f -- acc=%.5f\" \\\n",
    "    %(progress+spaces, percent*100, remaining_time, loss/(i+1), acc/(i+1)))\n",
    "\n",
    "sys.stdout.write(\"\\r[%s] %.1f%% -- elapsed time=%.2fs -- loss=%.5f -- acc=%.5f\\n\" \\\n",
    "%(progress+spaces, percent*100, time.time()-start_time, loss/(i+1), acc/(i+1)))\n",
    "sys.stdout.write(\"\\n\")\n",
    "\n",
    "valid_predictions = np.vstack(valid_predictions)\n",
    "valid_truth = np.vstack(valid_truth)\n",
    "\n",
    "correct = np.mean(np.equal(valid_truth, np.round(valid_predictions)))\n",
    "auc_roc, roc_curves = helper.roc(valid_truth, valid_predictions)\n",
    "auc_pr, pr_curves = helper.pr(valid_truth, valid_predictions)\n",
    "mean = [np.nanmean(correct), np.nanmean(auc_roc), np.nanmean(auc_pr)]\n",
    "std = [np.nanstd(correct), np.nanstd(auc_roc), np.nanstd(auc_pr)]\n",
    "\n",
    "print(\"  test loss  = \"+str(loss/num_batches))\n",
    "print(\"  test acc   = \"+str(np.nanmean(correct)))\n",
    "print(\"  test AUROC = \"+str(np.nanmean(auc_roc)))\n",
    "print(\"  test AUPRC = \"+str(np.nanmean(auc_pr)))"
   ]
  },
  {
   "cell_type": "code",
   "execution_count": 10,
   "metadata": {
    "collapsed": false
   },
   "outputs": [
    {
     "name": "stdout",
     "output_type": "stream",
     "text": [
      "[==================================================] 99.2% -- elapsed time=26.71sss\n",
      "26.7084941864\n"
     ]
    }
   ],
   "source": [
    "start_time = time.time()\n",
    "\n",
    "batch_size = 512\n",
    "batches = helper.batch_generator(X_test_unalign, batch_size, shuffle_data=False)\n",
    "num_batches = len(batches)\n",
    "bar_length = 50\n",
    "\n",
    "WT_logits = []\n",
    "WT_predictions = []\n",
    "for i, batch in enumerate(batches):\n",
    "    batch_predict, batch_logits = sess.run([predictions, logits], feed_dict={X: batch, \n",
    "                                                    keep_prob: 1.0}) \n",
    "    WT_predictions.append(batch_predict)\n",
    "    WT_logits.append(batch_logits)\n",
    "    \n",
    "    remaining_time = (time.time()-start_time)*(num_batches-(i+1))/(i+1)\n",
    "    percent = float(i)/num_batches\n",
    "    progress = '='*int(round(percent*bar_length))\n",
    "    spaces = ' '*int(bar_length-round(percent*bar_length))\n",
    "    sys.stdout.write(\"\\r[%s] %.1f%% -- remaining time=%.2fs\" \\\n",
    "    %(progress+spaces, percent*100, remaining_time))\n",
    "\n",
    "sys.stdout.write(\"\\r[%s] %.1f%% -- elapsed time=%.2fs\" \\\n",
    "%(progress+spaces, percent*100, time.time()-start_time))\n",
    "sys.stdout.write(\"\\n\")\n",
    "\n",
    "\n",
    "print (time.time() - start_time)"
   ]
  },
  {
   "cell_type": "code",
   "execution_count": 13,
   "metadata": {
    "collapsed": false
   },
   "outputs": [],
   "source": [
    "WT_logits = np.vstack(WT_logits)\n",
    "WT_predictions = np.vstack(WT_predictions)\n",
    "plot_index = np.argsort(WT_predictions[:,0])[::-1]"
   ]
  },
  {
   "cell_type": "code",
   "execution_count": 11,
   "metadata": {
    "collapsed": false
   },
   "outputs": [
    {
     "ename": "NameError",
     "evalue": "name 'MAX' is not defined",
     "output_type": "error",
     "traceback": [
      "\u001b[0;31m---------------------------------------------------------------------------\u001b[0m",
      "\u001b[0;31mNameError\u001b[0m                                 Traceback (most recent call last)",
      "\u001b[0;32m<ipython-input-11-6608879e5fc0>\u001b[0m in \u001b[0;36m<module>\u001b[0;34m()\u001b[0m\n\u001b[1;32m     12\u001b[0m \u001b[0;34m\u001b[0m\u001b[0m\n\u001b[1;32m     13\u001b[0m \u001b[0;31m# add zero padding to all sequences\u001b[0m\u001b[0;34m\u001b[0m\u001b[0;34m\u001b[0m\u001b[0m\n\u001b[0;32m---> 14\u001b[0;31m \u001b[0;32mif\u001b[0m \u001b[0;32mnot\u001b[0m \u001b[0mMAX\u001b[0m\u001b[0;34m:\u001b[0m\u001b[0;34m\u001b[0m\u001b[0m\n\u001b[0m\u001b[1;32m     15\u001b[0m     \u001b[0mMAX\u001b[0m \u001b[0;34m=\u001b[0m \u001b[0mnp\u001b[0m\u001b[0;34m.\u001b[0m\u001b[0mmax\u001b[0m\u001b[0;34m(\u001b[0m\u001b[0mlengths\u001b[0m\u001b[0;34m)\u001b[0m\u001b[0;34m\u001b[0m\u001b[0m\n\u001b[1;32m     16\u001b[0m \u001b[0mX_val_padded\u001b[0m\u001b[0;34m,\u001b[0m \u001b[0m_\u001b[0m \u001b[0;34m=\u001b[0m \u001b[0mhelper\u001b[0m\u001b[0;34m.\u001b[0m\u001b[0mpad_inputs\u001b[0m\u001b[0;34m(\u001b[0m\u001b[0mX_val\u001b[0m\u001b[0;34m,\u001b[0m \u001b[0mMAX\u001b[0m\u001b[0;34m)\u001b[0m\u001b[0;34m\u001b[0m\u001b[0m\n",
      "\u001b[0;31mNameError\u001b[0m: name 'MAX' is not defined"
     ]
    }
   ],
   "source": [
    "# calculate lengths of each sequence\n",
    "N= 20\n",
    "plot_index = np.random.permutation(np.where(Y_test == 1)[0])\n",
    "\n",
    "X_val = []\n",
    "for i in plot_index[:N]:\n",
    "    X_val.append(X_test_unalign[i])\n",
    "lengths = []\n",
    "for x in X_val:\n",
    "    lengths.append(x.shape[0])\n",
    "lengths = np.array(lengths)\n",
    "\n",
    "# add zero padding to all sequences\n",
    "if not MAX:\n",
    "    MAX = np.max(lengths)\n",
    "X_val_padded, _ = helper.pad_inputs(X_val, MAX)\n",
    "\n",
    "WT_logits=sess.run(logits, feed_dict={X: X_val_padded, keep_prob: 1.0})\n",
    "WT_predictions=sess.run(predictions, feed_dict={X: X_val_padded, keep_prob: 1.0})\n"
   ]
  },
  {
   "cell_type": "markdown",
   "metadata": {},
   "source": [
    "# Second Order Mutagenesis"
   ]
  },
  {
   "cell_type": "code",
   "execution_count": 15,
   "metadata": {
    "collapsed": false
   },
   "outputs": [],
   "source": [
    "def second_order_mutagenesis(sess, predictions, X_val, ugidx):\n",
    "    seqlen, dims = X_val.shape\n",
    "    idxlen = len(ugidx)\n",
    "\n",
    "    # get wild-type score\n",
    "    wt_score = sess.run(predictions, feed_dict={X: np.expand_dims(unalign(X_val), axis=0), keep_prob: 1.0})[0]     \n",
    "\n",
    "    # generate mutagenesis sequences\n",
    "    num_mut = idxlen**2*dims**2\n",
    "    X_mut = np.einsum('nl,lka->nka', np.ones((num_mut, 1)), np.expand_dims(X_val, axis=0))\n",
    "\n",
    "    k=0\n",
    "    for position1 in ugidx:\n",
    "        for position2 in ugidx:\n",
    "            for nuc1 in range(dims):\n",
    "                for nuc2 in range(dims):\n",
    "                    X_mut[k, position1, :] = 0\n",
    "                    X_mut[k, position1, nuc1] = 1        \n",
    "                    X_mut[k, position2, :] = 0\n",
    "                    X_mut[k, position2, nuc2] = 1        \n",
    "                    k += 1\n",
    "\n",
    "    # get second order mutagenesis score\n",
    "    X_mut_unalign = [unalign(x) for x in X_mut]\n",
    "    mut_scores = []\n",
    "    batches = helper.batch_generator(X_mut_unalign, batch_size=512, MAX=None, shuffle_data=False)\n",
    "    for i, batch in enumerate(batches):\n",
    "        batch_predict = sess.run(predictions, feed_dict={X: batch, keep_prob: 1.0})            \n",
    "        mut_scores.append(batch_predict)\n",
    "    mut_scores = np.vstack(mut_scores)\n",
    "    \n",
    "    # calculate log-odds score\n",
    "    log_odds = np.log(mut_scores + 1e-7) - np.log(wt_score + 1e-7)\n",
    "\n",
    "\n",
    "    # reshape second order scores\n",
    "    second_mutagenesis_logodds = np.zeros((idxlen, idxlen, dims, dims))\n",
    "    second_mutagenesis_just = np.zeros((idxlen, idxlen, dims, dims))\n",
    "    k = 0\n",
    "    for i in range(idxlen):\n",
    "        for j in range(idxlen):\n",
    "            for m in range(dims):\n",
    "                for n in range(dims):\n",
    "                    second_mutagenesis_logodds[i,j,m,n] = log_odds[k,0]\n",
    "                    second_mutagenesis_just[i,j,m,n] = mut_scores[k,0]\n",
    "                    k += 1\n",
    "    return second_mutagenesis_logodds, second_mutagenesis_just"
   ]
  },
  {
   "cell_type": "code",
   "execution_count": 16,
   "metadata": {
    "collapsed": false
   },
   "outputs": [
    {
     "name": "stdout",
     "output_type": "stream",
     "text": [
      "[==================================================] 99.8% -- elapsed time=3658.98sss\n"
     ]
    }
   ],
   "source": [
    "start_time = time.time()\n",
    "np.random.seed(274)\n",
    "plot_index = np.random.permutation(np.where(Y_test == 1)[0])\n",
    "\n",
    "bar_length = 50\n",
    "N = 500\n",
    "mutagenesis_logodds = []\n",
    "mutagenesis_just = []\n",
    "for i, index in enumerate(plot_index[:N]):\n",
    "    logresult, justresult = second_order_mutagenesis(sess, predictions, X_test[index], ugidx)\n",
    "    mutagenesis_logodds.append(logresult)\n",
    "    mutagenesis_just.append(justresult)\n",
    "    \n",
    "    \n",
    "    remaining_time = (time.time()-start_time)*(N-(i+1))/(i+1)\n",
    "    percent = float(i)/N\n",
    "    progress = '='*int(round(percent*bar_length))\n",
    "    spaces = ' '*int(bar_length-round(percent*bar_length))\n",
    "    sys.stdout.write(\"\\r[%s] %.1f%% -- remaining time=%.2fs\" \\\n",
    "    %(progress+spaces, percent*100, remaining_time))\n",
    "\n",
    "sys.stdout.write(\"\\r[%s] %.1f%% -- elapsed time=%.2fs\" \\\n",
    "%(progress+spaces, percent*100, time.time()-start_time))\n",
    "sys.stdout.write(\"\\n\")\n",
    "\n",
    "\n"
   ]
  },
  {
   "cell_type": "code",
   "execution_count": 17,
   "metadata": {
    "collapsed": true
   },
   "outputs": [],
   "source": [
    "savepath = 'Arrays/glna_RNNt3_ug_pr500.npz'\n",
    "np.savez(savepath, mutagenesis_logodds=mutagenesis_logodds, mutagenesis_just=mutagenesis_just)"
   ]
  },
  {
   "cell_type": "code",
   "execution_count": 18,
   "metadata": {
    "collapsed": false
   },
   "outputs": [
    {
     "name": "stdout",
     "output_type": "stream",
     "text": [
      "[                                                  ] 0.4% -- remaining time=2960.63s"
     ]
    },
    {
     "name": "stderr",
     "output_type": "stream",
     "text": [
      "/home/peter/anaconda2/envs/tensorflow/lib/python2.7/site-packages/ipykernel/__main__.py:33: RuntimeWarning: invalid value encountered in log\n"
     ]
    },
    {
     "name": "stdout",
     "output_type": "stream",
     "text": [
      "[==================================================] 99.8% -- elapsed time=3661.83sss\n"
     ]
    }
   ],
   "source": [
    "start_time = time.time()\n",
    "np.random.seed(274)\n",
    "plot_index = np.random.permutation(np.where(Y_test == 1)[0])\n",
    "\n",
    "bar_length = 50\n",
    "N = 500\n",
    "mutagenesis_logodds = []\n",
    "mutagenesis_just = []\n",
    "for i, index in enumerate(plot_index[:N]):\n",
    "    logresult, justresult = second_order_mutagenesis(sess, logits, X_test[index], ugidx)\n",
    "    mutagenesis_logodds.append(logresult)\n",
    "    mutagenesis_just.append(justresult)\n",
    "    \n",
    "    \n",
    "    remaining_time = (time.time()-start_time)*(N-(i+1))/(i+1)\n",
    "    percent = float(i)/N\n",
    "    progress = '='*int(round(percent*bar_length))\n",
    "    spaces = ' '*int(bar_length-round(percent*bar_length))\n",
    "    sys.stdout.write(\"\\r[%s] %.1f%% -- remaining time=%.2fs\" \\\n",
    "    %(progress+spaces, percent*100, remaining_time))\n",
    "\n",
    "sys.stdout.write(\"\\r[%s] %.1f%% -- elapsed time=%.2fs\" \\\n",
    "%(progress+spaces, percent*100, time.time()-start_time))\n",
    "sys.stdout.write(\"\\n\")\n",
    "\n",
    "\n"
   ]
  },
  {
   "cell_type": "code",
   "execution_count": 19,
   "metadata": {
    "collapsed": true
   },
   "outputs": [],
   "source": [
    "savepath = 'Arrays/glna_RNNt3_ug_lo500.npz'\n",
    "np.savez(savepath, mutagenesis_logodds=mutagenesis_logodds, mutagenesis_just=mutagenesis_just)"
   ]
  },
  {
   "cell_type": "code",
   "execution_count": null,
   "metadata": {
    "collapsed": true
   },
   "outputs": [],
   "source": []
  },
  {
   "cell_type": "code",
   "execution_count": null,
   "metadata": {
    "collapsed": true
   },
   "outputs": [],
   "source": []
  },
  {
   "cell_type": "code",
   "execution_count": null,
   "metadata": {
    "collapsed": true
   },
   "outputs": [],
   "source": []
  },
  {
   "cell_type": "code",
   "execution_count": null,
   "metadata": {
    "collapsed": true
   },
   "outputs": [],
   "source": []
  },
  {
   "cell_type": "code",
   "execution_count": null,
   "metadata": {
    "collapsed": true
   },
   "outputs": [],
   "source": []
  },
  {
   "cell_type": "code",
   "execution_count": null,
   "metadata": {
    "collapsed": true
   },
   "outputs": [],
   "source": []
  },
  {
   "cell_type": "code",
   "execution_count": 366,
   "metadata": {
    "collapsed": false
   },
   "outputs": [],
   "source": [
    "savepath = 'Arrays/glna_RNNt3_ug_pr500.npz'\n",
    "\n",
    "mutagenesis_just = np.load(savepath)['mutagenesis_just']\n",
    "mutagenesis_logodds = np.load(savepath)['mutagenesis_logodds']"
   ]
  },
  {
   "cell_type": "code",
   "execution_count": 367,
   "metadata": {
    "collapsed": true
   },
   "outputs": [],
   "source": [
    "#average the values\n",
    "mean_mut2 = np.mean(mutagenesis_logodds, axis=0)"
   ]
  },
  {
   "cell_type": "code",
   "execution_count": 166,
   "metadata": {
    "collapsed": true
   },
   "outputs": [],
   "source": [
    "def normalize_mut_hol(hol_mut, WTmean, normfactor=None):\n",
    "    norm_hol_mut = np.copy(hol_mut) - WTmean\n",
    "    for one in range(hol_mut.shape[0]):\n",
    "        for two in range(hol_mut.shape[0]):\n",
    "            norm_hol_mut[one, two] = mf.normalize_hol(hol_mut[one, two], factor=normfactor)\n",
    "    return norm_hol_mut"
   ]
  },
  {
   "cell_type": "code",
   "execution_count": 322,
   "metadata": {
    "collapsed": false
   },
   "outputs": [],
   "source": [
    "#normalize the holistic mutation scores\n",
    "#idx = np.where(mean_mut2<np.log(0.25))\n",
    "#mean_mut2[idx] = np.log(0.25)\n",
    "norm_mean_mut2 = normalize_mut_hol(mean_mut2, WT_mean, normfactor=1)"
   ]
  },
  {
   "cell_type": "code",
   "execution_count": 328,
   "metadata": {
    "collapsed": false
   },
   "outputs": [
    {
     "data": {
      "text/plain": [
       "<function matplotlib.pyplot.show>"
      ]
     },
     "execution_count": 328,
     "metadata": {},
     "output_type": "execute_result"
    },
    {
     "data": {
      "image/png": "[encoded data removed]",
      "text/plain": [
       "<matplotlib.figure.Figure at 0x7f65646564d0>"
      ]
     },
     "metadata": {},
     "output_type": "display_data"
    }
   ],
   "source": [
    "#Let's try something weird\n",
    "bpfilter = np.ones((4,4))*-1\n",
    "for i,j in zip(range(4), range(4)):\n",
    "    bpfilter[i, -(j+1)] = 1.\n",
    "    \n",
    "#C = np.sum((mean_mut2*bpfilter).reshape(numug,numug,dims*dims), axis=2)\n",
    "#norm_mean_mut2= mean_mut2 + np.min(mean_mut2)#np.exp(norm_mean_mut2)  #\n",
    "C = np.sum((norm_mean_mut2*bpfilter).reshape(numug,numug,dims*dims), axis=2)\n",
    "C = C - np.mean(C)\n",
    "C = C/np.max(C)\n",
    "\n",
    "color = 'hot'\n",
    "\n",
    "plt.figure(figsize=(15,6))\n",
    "plt.subplot(1,2,1)\n",
    "sb.heatmap(C, xticklabels=bpugSQ, yticklabels=bpugSQ, vmin=0., cmap=color , linewidth=0.00)\n",
    "plt.title('Base Pair score for the ungapped consensus regions given by infernal')\n",
    "plt.xlabel('Ungapped nucleotides: pos 1')\n",
    "plt.ylabel('Ungapped nucleotides: pos 2')\n",
    "plt.subplot(1,2,2)\n",
    "sb.heatmap(C[bpugidx][:, bpugidx], xticklabels=bpSS, vmin=0., yticklabels=bpSS, cmap=color, linewidth=0.0)\n",
    "plt.title('Base Pair score for the base paired consensus regions given by infernal')\n",
    "plt.xlabel('Base Paired nucleotides: pos 1')\n",
    "plt.ylabel('Base Paired nucleotides: pos 2')\n",
    "plt.show"
   ]
  },
  {
   "cell_type": "code",
   "execution_count": 228,
   "metadata": {
    "collapsed": false
   },
   "outputs": [
    {
     "data": {
      "image/png": "[encoded data removed]",
      "text/plain": [
       "<matplotlib.figure.Figure at 0x7f658c65c690>"
      ]
     },
     "metadata": {},
     "output_type": "display_data"
    }
   ],
   "source": [
    "stem1 = bpugidx[5:11]\n",
    "stem2 = bpugidx[12:18]\n",
    "\n",
    "fig = plt.figure(figsize=(25,25))\n",
    "k = 1\n",
    "for l, i in enumerate(stem1):\n",
    "    for n, j in enumerate(stem2):\n",
    "        plt.subplot(len(stem1),len(stem2),k)\n",
    "        plt.imshow(mean_mut2[i, j, :, :], interpolation='none', cmap='hot', vmax=0., vmin=np.log(0.75))\n",
    "        \n",
    "        if k in range(1,len(stem1)**2, len(stem1)):\n",
    "            plt.yticks([0, 1, 2, 3], ['A', 'C', 'G', 'U'], fontsize=16)\n",
    "            plt.ylabel(str(i), fontsize=22)\n",
    "        else:\n",
    "            plt.yticks([])\n",
    "        if k in range(len(stem1)**2-len(stem1)+1,len(stem1)**2+1):\n",
    "            plt.xticks([0, 1, 2, 3], ['A', 'C', 'G', 'U'], fontsize=16)\n",
    "        else:\n",
    "            plt.xticks([])\n",
    "\n",
    "        if k in range(1,len(stem1)+1):\n",
    "            plt.title(str(j), fontsize=22)\n",
    "        k += 1\n"
   ]
  },
  {
   "cell_type": "code",
   "execution_count": 370,
   "metadata": {
    "collapsed": false
   },
   "outputs": [],
   "source": [
    "blocklen = np.sqrt(np.product(mean_mut2.shape)).astype(int)\n",
    "S = np.zeros((blocklen, blocklen))\n",
    "i,j,k,l = mean_mut2.shape\n",
    "\n",
    "for ii in range(i):\n",
    "    for jj in range(j):\n",
    "        for kk in range(k):\n",
    "            for ll in range(l):\n",
    "                S[(4*ii)+kk, (4*jj)+ll] = mean_mut2[ii,jj,kk,ll]"
   ]
  },
  {
   "cell_type": "code",
   "execution_count": 372,
   "metadata": {
    "collapsed": false
   },
   "outputs": [
    {
     "data": {
      "text/plain": [
       "<matplotlib.colorbar.Colorbar at 0x7f658f8904d0>"
      ]
     },
     "execution_count": 372,
     "metadata": {},
     "output_type": "execute_result"
    },
    {
     "data": {
      "image/png": "[encoded data removed]",
      "text/plain": [
       "<matplotlib.figure.Figure at 0x7f655ff7c810>"
      ]
     },
     "metadata": {},
     "output_type": "display_data"
    }
   ],
   "source": [
    "plt.imshow(S, vmax=0., vmin=np.log(0.99), cmap='hot')\n",
    "plt.colorbar()"
   ]
  },
  {
   "cell_type": "code",
   "execution_count": 344,
   "metadata": {
    "collapsed": false
   },
   "outputs": [
    {
     "data": {
      "image/png": "[encoded data removed]",
      "text/plain": [
       "<matplotlib.figure.Figure at 0x7f655fee0990>"
      ]
     },
     "metadata": {},
     "output_type": "display_data"
    }
   ],
   "source": [
    "k=1\n",
    "for l in range(2):\n",
    "    for m in range(2):\n",
    "        plt.subplot(2,2,k)\n",
    "        plt.imshow(U[l,m], vmin=0, vmax=64)\n",
    "        plt.colorbar()\n",
    "        k+=1"
   ]
  },
  {
   "cell_type": "code",
   "execution_count": 349,
   "metadata": {
    "collapsed": true
   },
   "outputs": [],
   "source": [
    "S = np.zeros((8,8))\n",
    "for i in range(2):\n",
    "    for j in range(2):\n",
    "        for k in range(4):\n",
    "            for l in range(4):\n",
    "                S[(4*i)+k, (4*j)+l] = U[i,j,k,l]"
   ]
  },
  {
   "cell_type": "code",
   "execution_count": 350,
   "metadata": {
    "collapsed": false
   },
   "outputs": [
    {
     "data": {
      "text/plain": [
       "<matplotlib.image.AxesImage at 0x7f65b5113a10>"
      ]
     },
     "execution_count": 350,
     "metadata": {},
     "output_type": "execute_result"
    },
    {
     "data": {
      "image/png": "[encoded data removed]",
      "text/plain": [
       "<matplotlib.figure.Figure at 0x7f655ef3bb90>"
      ]
     },
     "metadata": {},
     "output_type": "display_data"
    }
   ],
   "source": [
    "plt.imshow(S, vmin=0, vmax=64)"
   ]
  },
  {
   "cell_type": "code",
   "execution_count": null,
   "metadata": {
    "collapsed": true
   },
   "outputs": [],
   "source": []
  }
 ],
 "metadata": {
  "kernelspec": {
   "display_name": "Python 2",
   "language": "python",
   "name": "python2"
  },
  "language_info": {
   "codemirror_mode": {
    "name": "ipython",
    "version": 2
   },
   "file_extension": ".py",
   "mimetype": "text/x-python",
   "name": "python",
   "nbconvert_exporter": "python",
   "pygments_lexer": "ipython2",
   "version": "2.7.13"
  }
 },
 "nbformat": 4,
 "nbformat_minor": 2
}
