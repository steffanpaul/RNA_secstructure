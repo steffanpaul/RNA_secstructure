{
 "cells": [
  {
   "cell_type": "code",
   "execution_count": 12,
   "metadata": {
    "collapsed": true
   },
   "outputs": [],
   "source": [
    "from __future__ import absolute_import\n",
    "from __future__ import division\n",
    "from __future__ import print_function\n",
    "\n",
    "import os, sys, h5py\n",
    "import numpy as np\n",
    "import matplotlib.pyplot as plt\n",
    "import seaborn as sb\n",
    "import tensorflow as tf\n",
    "import scipy\n",
    "\n",
    "import sys\n",
    "sys.path.append('../../..')\n",
    "import mutagenesisfunctions as mf\n",
    "from deepomics import neuralnetwork as nn\n",
    "from deepomics import utils, fit, visualize, saliency\n",
    "\n",
    "from Bio import AlignIO\n",
    "import time as time\n",
    "import pandas as pd\n",
    "%matplotlib inline"
   ]
  },
  {
   "cell_type": "code",
   "execution_count": 34,
   "metadata": {
    "collapsed": false
   },
   "outputs": [
    {
     "name": "stdout",
     "output_type": "stream",
     "text": [
      "Data extraction and dict construction completed in: 0.26s\n",
      "loading model from:  ../../results/toyhp/mlp_med_best.ckpt\n",
      "INFO:tensorflow:Restoring parameters from ../../results/toyhp/mlp_med_best.ckpt\n",
      "  test  loss:\t\t0.00365\n",
      "  test  accuracy:\t1.00000+/-0.00000\n",
      "  test  auc-roc:\t1.00000+/-0.00000\n",
      "  test  auc-pr:\t\t1.00000+/-0.00000\n",
      "loading model from:  ../../results/toyhp/mlp_med_best.ckpt\n",
      "INFO:tensorflow:Restoring parameters from ../../results/toyhp/mlp_med_best.ckpt\n"
     ]
    }
   ],
   "source": [
    "from __future__ import absolute_import\n",
    "from __future__ import division\n",
    "from __future__ import print_function\n",
    "\n",
    "import os, sys, h5py\n",
    "import numpy as np\n",
    "import matplotlib.pyplot as plt\n",
    "import seaborn as sb\n",
    "import tensorflow as tf\n",
    "import scipy\n",
    "\n",
    "import sys\n",
    "sys.path.append('../../..')\n",
    "import mutagenesisfunctions as mf\n",
    "from deepomics import neuralnetwork as nn\n",
    "from deepomics import utils, fit, visualize, saliency\n",
    "\n",
    "from Bio import AlignIO\n",
    "import time as time\n",
    "import pandas as pd\n",
    "#---------------------------------------------------------------------------------------------------------------------------------\n",
    "'''DEFINE ACTIONS'''\n",
    "TEST = True\n",
    "WRITE = False\n",
    "FOM = False\n",
    "SOMCALC = True\n",
    "SOMVIS = True\n",
    "\n",
    "if '--test' in sys.argv:\n",
    "  TEST = True\n",
    "if '--write' in sys.argv:\n",
    "  WRITE = True\n",
    "if '--fom' in sys.argv:\n",
    "  FOM = True\n",
    "if '--somcalc' in sys.argv:\n",
    "  SOMCALC = True\n",
    "if '--somvis' in sys.argv:\n",
    "  SOMVIS = True\n",
    "\n",
    "#---------------------------------------------------------------------------------------------------------------------------------\n",
    "'''DEFINE LOOP'''\n",
    "trials = ['small', 'med', 'large']\n",
    "exp = 'toyhp'  #for both the data folder and the params folder\n",
    "exp_data = 'data_%s'%(exp)\n",
    "\n",
    "img_folder = 'Images'\n",
    "\n",
    "for t in ['med']:\n",
    "\n",
    "\n",
    "  #---------------------------------------------------------------------------------------------------------------------------------\n",
    "\n",
    "  '''OPEN DATA'''\n",
    "\n",
    "  starttime = time.time()\n",
    "\n",
    "  #Open data from h5py\n",
    "  filename = '%s_50k_%s.hdf5'%(exp, t)\n",
    "  data_path = os.path.join('../..', exp_data, filename)\n",
    "  with h5py.File(data_path, 'r') as dataset:\n",
    "      X_data = np.array(dataset['X_data'])\n",
    "      Y_data = np.array(dataset['Y_data'])\n",
    "      \n",
    "  numdata, seqlen, dims = X_data.shape\n",
    "  X_data = np.expand_dims(X_data, axis=2)\n",
    "      \n",
    "  # get validation and test set from training set\n",
    "  test_frac = 0.3\n",
    "  valid_frac = 0.1\n",
    "  N = numdata\n",
    "  split_1 = int(N*(1-valid_frac-test_frac))\n",
    "  split_2 = int(N*(1-test_frac))\n",
    "  shuffle = np.random.permutation(N)\n",
    "\n",
    "  #set up dictionaries\n",
    "  train = {'inputs': X_data[shuffle[:split_1]], \n",
    "           'targets': Y_data[shuffle[:split_1]]}\n",
    "  valid = {'inputs': X_data[shuffle[split_1:split_2]], \n",
    "           'targets': Y_data[shuffle[split_1:split_2]]}\n",
    "  test = {'inputs': X_data[shuffle[split_2:]], \n",
    "           'targets': Y_data[shuffle[split_2:]]}\n",
    "      \n",
    "  print ('Data extraction and dict construction completed in: ' + mf.sectotime(time.time() - starttime))\n",
    "\n",
    "\n",
    "  #---------------------------------------------------------------------------------------------------------------------------------\n",
    "\n",
    "\n",
    "  '''SAVE PATHS AND PARAMETERS'''\n",
    "  params_results = '../../results'\n",
    "\n",
    "  modelarch = 'mlp'\n",
    "  trial = t\n",
    "  modelsavename = '%s_%s'%(modelarch, trial)\n",
    "\n",
    "\n",
    "\n",
    "  '''BUILD NEURAL NETWORK'''\n",
    "\n",
    "  def cnn_model(input_shape, output_shape):\n",
    "\n",
    "    # create model\n",
    "    layer1 = {'layer': 'input', #41\n",
    "            'input_shape': input_shape\n",
    "            }\n",
    "    \n",
    "    layer2 = {'layer': 'dense',        # input, conv1d, dense, conv1d_residual, dense_residual, conv1d_transpose,\n",
    "                                        # concat, embedding, variational_normal, variational_softmax, + more\n",
    "              'num_units': 44,\n",
    "              'norm': 'batch',          # if removed, automatically adds bias instead\n",
    "              'activation': 'relu',     # or leaky_relu, prelu, sigmoid, tanh, etc\n",
    "              'dropout': 0.5,           # if removed, default is no dropout\n",
    "             }\n",
    "    \n",
    "    layer3 = {'layer': 'dense',\n",
    "            'num_units': output_shape[1],\n",
    "            'activation': 'sigmoid'\n",
    "            }\n",
    "\n",
    "    model_layers = [layer1, layer2, layer3]\n",
    "\n",
    "    # optimization parameters\n",
    "    optimization = {\"objective\": \"binary\",\n",
    "                  \"optimizer\": \"adam\",\n",
    "                  \"learning_rate\": 0.0003,\n",
    "                  \"l2\": 1e-5,\n",
    "                  #\"label_smoothing\": 0.05,\n",
    "                  #\"l1\": 1e-6,\n",
    "                  }\n",
    "    return model_layers, optimization\n",
    "\n",
    "  tf.reset_default_graph()\n",
    "\n",
    "  # get shapes of inputs and targets\n",
    "  input_shape = list(train['inputs'].shape)\n",
    "  input_shape[0] = None\n",
    "  output_shape = train['targets'].shape\n",
    "\n",
    "  # load model parameters\n",
    "  model_layers, optimization = cnn_model(input_shape, output_shape)\n",
    "\n",
    "  # build neural network class\n",
    "  nnmodel = nn.NeuralNet(seed=247)\n",
    "  nnmodel.build_layers(model_layers, optimization)\n",
    "\n",
    "  # compile neural trainer\n",
    "  save_path = os.path.join(params_results, exp)\n",
    "  param_path = os.path.join(save_path, modelsavename)\n",
    "  nntrainer = nn.NeuralTrainer(nnmodel, save='best', file_path=param_path)\n",
    "\n",
    "  sess = utils.initialize_session()\n",
    "  '''TEST'''\n",
    "  if TEST:\n",
    "    \n",
    "    # set best parameters\n",
    "    nntrainer.set_best_parameters(sess)\n",
    "\n",
    "    # test model\n",
    "    loss, mean_vals, std_vals = nntrainer.test_model(sess, test, name='test')\n",
    "\n",
    "    if WRITE:\n",
    "      metricsline = '%s,%s,%s,%s,%s,%s,%s'%(exp, modelarch, trial, loss, mean_vals[0], mean_vals[1], mean_vals[2])\n",
    "      fd = open('test_metrics.csv', 'a')\n",
    "      fd.write(metricsline+'\\n')\n",
    "      fd.close()\n",
    "  '''SORT ACTIVATIONS'''\n",
    "  nntrainer.set_best_parameters(sess)\n",
    "  predictionsoutput = nntrainer.get_activations(sess, test, layer='output')\n",
    "  plot_index = np.argsort(predictionsoutput[:,0])[::-1]\n",
    "\n",
    "  #---------------------------------------------------------------------------------------------------------------------------------\n",
    "  '''FIRST ORDER MUTAGENESIS'''\n",
    "  if FOM:\n",
    "    num_plots = range(1)\n",
    "    for ii in num_plots: \n",
    "\n",
    "        X = np.expand_dims(test['inputs'][plot_index[10000+ii]], axis=0)\n",
    "        \n",
    "        mf.fom_saliency(X, layer='dense_1_bias', alphabet='rna', nntrainer=nntrainer, sess=sess, figsize=(15,1.5))\n",
    "        fom_file = modelsavename + 'FoM' + '.png'\n",
    "        fom_file = os.path.join(img_folder, fom_file)\n",
    "        plt.savefig(fom_file)\n",
    "\n",
    "    plt.close()\n",
    "  #---------------------------------------------------------------------------------------------------------------------------------\n",
    "  '''SECOND ORDER MUTAGENESIS'''\n",
    "\n",
    "  '''Som calc'''\n",
    "  if SOMCALC:\n",
    "    num_summary = 500\n",
    "\n",
    "    arrayspath = '%s_%s%s_so%.0fk.npy'%(exp, modelarch, trial, num_summary/1000)\n",
    "    X = test['inputs'][plot_index[:num_summary]]\n",
    "\n",
    "    mean_mut2 = mf.som_average_ungapped(X, range(seqlen), arrayspath, nntrainer, sess, progress='short', \n",
    "                                            normalize = False, save=True, layer='dense_1_bias')\n",
    "\n",
    "  if SOMVIS:  \n",
    "    #Load the saved data\n",
    "    num_summary = 500\n",
    "    arrayspath = '%s_%s%s_so%.0fk.npy'%(exp, modelarch, trial, num_summary/1000)\n",
    "    mean_mut2 = np.load(arrayspath)\n",
    "\n",
    "    #Reshape into a holistic tensor organizing the mutations into 4*4\n",
    "    meanhol_mut2 = mean_mut2.reshape(seqlen,seqlen,4,4)\n",
    "\n",
    "    #Normalize\n",
    "    normalize = True\n",
    "    if normalize:\n",
    "        norm_meanhol_mut2 = mf.normalize_mut_hol(meanhol_mut2, nntrainer, sess, normfactor=1)\n",
    "\n",
    "    #Let's try something weird\n",
    "    bpfilter = np.ones((4,4))*0.\n",
    "    for i,j in zip(range(4), range(4)):\n",
    "        bpfilter[i, -(j+1)] = +1.\n",
    "\n",
    "    nofilter = np.ones((4,4))\n",
    "\n",
    "    C = (norm_meanhol_mut2*bpfilter)\n",
    "    C = np.sum((C).reshape(seqlen,seqlen,dims*dims), axis=2)\n",
    "    #C = C - np.mean(C)\n",
    "    #C = C/np.max(C)\n",
    "\n",
    "    plt.figure(figsize=(15,6))\n",
    "    plt.subplot(1,2,1)\n",
    "    sb.heatmap(C,vmin=None, cmap='Blues', linewidth=0.0)\n",
    "    plt.title('Base Pair scores: %s %s %s'%(exp, modelarch, trial))\n",
    "    plt.show()\n",
    "\n"
   ]
  },
  {
   "cell_type": "code",
   "execution_count": 14,
   "metadata": {
    "collapsed": false
   },
   "outputs": [
    {
     "data": {
      "image/png": "[encoded data removed]",
      "text/plain": [
       "<matplotlib.figure.Figure at 0x7fe6a0e67b10>"
      ]
     },
     "metadata": {},
     "output_type": "display_data"
    }
   ],
   "source": [
    "seqlen = 41\n",
    "dims = 4\n",
    "\n",
    "#Load the saved data\n",
    "num_summary = 2000\n",
    "arrayspath = 'toyhp_mlpmed_so2k.npy'\n",
    "mean_mut2 = np.load(arrayspath)\n",
    "\n",
    "#Reshape into a holistic tensor organizing the mutations into 4*4\n",
    "meanhol_mut2 = mean_mut2.reshape(seqlen,seqlen,4,4)\n",
    "\n",
    "#Normalize\n",
    "normalize = True\n",
    "if normalize:\n",
    "    norm_meanhol_mut2 = mf.normalize_mut_hol(meanhol_mut2, normfactor=1)\n",
    "\n",
    "#Let's try something weird\n",
    "bpfilter = np.ones((4,4))*0.\n",
    "for i,j in zip(range(4), range(4)):\n",
    "    bpfilter[i, -(j+1)] = +1.\n",
    "\n",
    "nofilter = np.ones((4,4))\n",
    "\n",
    "C = (meanhol_mut2*bpfilter)\n",
    "C = np.sum((C).reshape(seqlen,seqlen,dims*dims), axis=2)\n",
    "#C = C - np.mean(C)\n",
    "#C = C/np.max(C)\n",
    "\n",
    "plt.figure(figsize=(15,6))\n",
    "plt.subplot(1,2,1)\n",
    "sb.heatmap(C,vmin=None, cmap='Blues', linewidth=0.0)\n",
    "plt.show()\n"
   ]
  },
  {
   "cell_type": "code",
   "execution_count": 33,
   "metadata": {
    "collapsed": false
   },
   "outputs": [
    {
     "data": {
      "image/png": "[encoded data removed]",
      "text/plain": [
       "<matplotlib.figure.Figure at 0x7fe62d5ec190>"
      ]
     },
     "metadata": {},
     "output_type": "display_data"
    }
   ],
   "source": [
    "mf.square_holplot(meanhol_mut2, 11, 'rna', limits=(np.log(0.75), 0.), title=False, cmap ='hot',\n",
    "                   figsize=(15,14), lines=True, start=(6,24), reverse=False, cbar=False)"
   ]
  },
  {
   "cell_type": "code",
   "execution_count": 24,
   "metadata": {
    "collapsed": false
   },
   "outputs": [
    {
     "data": {
      "text/plain": [
       "array([[-0.17255099, -0.30251822, -0.3845518 , -0.0090478 ],\n",
       "       [-0.35926223, -0.32895473, -0.00247993, -0.3703189 ],\n",
       "       [-0.4080478 ,  0.00091891, -0.34570247, -0.3714781 ],\n",
       "       [-0.00332647, -0.40412056, -0.37473688, -0.16833703]],\n",
       "      dtype=float32)"
      ]
     },
     "execution_count": 24,
     "metadata": {},
     "output_type": "execute_result"
    }
   ],
   "source": [
    "meanhol_mut2[6,34]"
   ]
  },
  {
   "cell_type": "code",
   "execution_count": 30,
   "metadata": {
    "collapsed": false
   },
   "outputs": [
    {
     "data": {
      "text/plain": [
       "0.7788007830714049"
      ]
     },
     "execution_count": 30,
     "metadata": {},
     "output_type": "execute_result"
    }
   ],
   "source": [
    "np.exp(-0.25)"
   ]
  },
  {
   "cell_type": "code",
   "execution_count": null,
   "metadata": {
    "collapsed": true
   },
   "outputs": [],
   "source": []
  }
 ],
 "metadata": {
  "kernelspec": {
   "display_name": "Python 2",
   "language": "python",
   "name": "python2"
  },
  "language_info": {
   "codemirror_mode": {
    "name": "ipython",
    "version": 2
   },
   "file_extension": ".py",
   "mimetype": "text/x-python",
   "name": "python",
   "nbconvert_exporter": "python",
   "pygments_lexer": "ipython2",
   "version": "2.7.13"
  }
 },
 "nbformat": 4,
 "nbformat_minor": 2
}
