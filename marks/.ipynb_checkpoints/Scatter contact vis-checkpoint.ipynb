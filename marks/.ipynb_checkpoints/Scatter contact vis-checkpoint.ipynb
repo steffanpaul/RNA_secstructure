{
 "cells": [
  {
   "cell_type": "code",
   "execution_count": 5,
   "metadata": {
    "collapsed": true
   },
   "outputs": [],
   "source": [
    "from __future__ import absolute_import\n",
    "from __future__ import division\n",
    "from __future__ import print_function\n",
    "\n",
    "import os, sys, h5py, time\n",
    "import numpy as np\n",
    "import matplotlib.pyplot as plt\n",
    "import matplotlib as mat\n",
    "import seaborn as sb\n",
    "import tensorflow as tf\n",
    "import scipy\n",
    "\n",
    "import sys\n",
    "sys.path.append('../../..')\n",
    "import mutagenesisfunctions as mf\n",
    "import bpdev as bd\n",
    "import helper\n",
    "from deepomics import neuralnetwork as nn\n",
    "from deepomics import utils, fit, visualize, saliency\n",
    "\n",
    "import contacts\n",
    "\n",
    "from Bio import AlignIO\n",
    "import time as time\n",
    "import pandas as pd\n",
    "np.random.seed(42)"
   ]
  },
  {
   "cell_type": "markdown",
   "metadata": {},
   "source": [
    "# Contact map by scatter plot - compared to cWW annotation"
   ]
  },
  {
   "cell_type": "markdown",
   "metadata": {},
   "source": [
    "### Get SoM results"
   ]
  },
  {
   "cell_type": "code",
   "execution_count": 103,
   "metadata": {
    "collapsed": true
   },
   "outputs": [],
   "source": [
    "families = [['RF00005', 250], ['RF00059',150], ['RF00023',100]]"
   ]
  },
  {
   "cell_type": "code",
   "execution_count": 113,
   "metadata": {
    "collapsed": true
   },
   "outputs": [],
   "source": [
    "f = 2\n",
    "fam = families[f][0]\n",
    "numhidden = 512\n",
    "min_dist = 5.0\n",
    "\n",
    "#get scores\n",
    "arrayspath = 'Arrays/%s_mlp_%s_red.npy'%(fam,numhidden)\n",
    "hol_mut2 = np.load(arrayspath)\n",
    "seqlen,_, dims,_ = hol_mut2.shape\n",
    "C = bd.get_wc(arrayspath, seqlen, dims, bpugSQ=0, denoise='APC')\n",
    "\n",
    "#get coordinates\n",
    "C[np.tril_indices(seqlen)] = np.min(C)\n",
    "bp_stretch = np.ravel(C)\n",
    "minval = np.sort(bp_stretch)[::-1][-1] #just gets the minimum value - can be changed to a different idx\n",
    "bs = np.where(C > minval)\n",
    "idx = np.argsort(C[bs])\n",
    "x = bs[0][idx] #sorts the x and y coords in order from lowest to highest so highest scores will be plotted last\n",
    "y = bs[1][idx]\n",
    "\n",
    "score_col = [C[xx,yy] for xx,yy in zip(x,y)] #gets the scores for each coordinate in the needed order\n",
    "\n",
    "#Load in the EC annotation\n",
    "ECannotfile = '%s/%s.EC.interaction.txt'%(fam,fam) \n",
    "EC_df = pd.read_csv(ECannotfile, delimiter='\\s+')\n",
    "\n",
    "######### QUALITATIVE CONTACTS ###########\n",
    "\n",
    "#Top L/2 EC scores\n",
    "topEC = EC_df.loc[:seqlen//2, ['Rfam_reduced_position1', 'Rfam_reduced_position2']]\n",
    "#All cWW annotated interactions\n",
    "cWW_int = EC_df[EC_df['interactions'] == 'cWW']\n",
    "#All PDB contacts < 8 angstroms\n",
    "close_cont = EC_df[EC_df['minimum_atom_distance'] <= min_dist] \n",
    "\n",
    "#get the colour map to select colors for plotting\n",
    "pal = 'Blues'\n",
    "cmap = mat.cm.get_cmap(pal)\n",
    "\n",
    "\n",
    "markersize = families[f][1]\n",
    "\n",
    "#plot\n",
    "fig = plt.figure(figsize=(15,15))\n",
    "#plt.scatter(np.tril_indices(seqlen)[0], np.tril_indices(seqlen)[1], c=np.asarray([cmap(0.)]), s=markersize) #plot background \n",
    "plt.scatter(x, y, c=score_col, cmap=pal, label = 'SoM', vmin=0., s=markersize)\n",
    "plt.scatter(cWW_int.iloc[:,2], cWW_int.iloc[:,1], c='m', label = 'cWW', s=markersize)\n",
    "plt.title('%s: SoM vs. all cWW contacts'%(fam), fontsize=30)\n",
    "plt.legend(loc='best', fontsize=15, bbox_to_anchor=(1., 0.5))\n",
    "plt.xlabel('Sequence Position', fontsize=30)\n",
    "plt.ylabel('Sequence Position', fontsize=30)\n",
    "plt.xticks(fontsize=30)\n",
    "plt.yticks(fontsize=30)\n",
    "\n",
    "ax = plt.gca()\n",
    "ax.invert_yaxis()\n",
    "ax.set_facecolor(cmap(0.))\n",
    "\n",
    "\n",
    "plt.savefig('%s/Images_mlp/%s_scattercont%s.png'%(fam,fam,pal))#Save in family folder\n",
    "plt.savefig('Contacts_vis/scatter/%s_scattercont%s.png'%(fam, pal))\n",
    "plt.close()"
   ]
  },
  {
   "cell_type": "code",
   "execution_count": null,
   "metadata": {},
   "outputs": [],
   "source": []
  },
  {
   "cell_type": "code",
   "execution_count": 59,
   "metadata": {},
   "outputs": [
    {
     "data": {
      "text/plain": [
       "104"
      ]
     },
     "execution_count": 59,
     "metadata": {},
     "output_type": "execute_result"
    }
   ],
   "source": [
    "seqlen"
   ]
  },
  {
   "cell_type": "code",
   "execution_count": 71,
   "metadata": {},
   "outputs": [
    {
     "data": {
      "text/plain": [
       "173.07692307692307"
      ]
     },
     "execution_count": 71,
     "metadata": {},
     "output_type": "execute_result"
    }
   ],
   "source": [
    "(250*72)/104"
   ]
  },
  {
   "cell_type": "code",
   "execution_count": null,
   "metadata": {
    "collapsed": true
   },
   "outputs": [],
   "source": []
  }
 ],
 "metadata": {
  "kernelspec": {
   "display_name": "Python 3",
   "language": "python",
   "name": "python3"
  },
  "language_info": {
   "codemirror_mode": {
    "name": "ipython",
    "version": 3
   },
   "file_extension": ".py",
   "mimetype": "text/x-python",
   "name": "python",
   "nbconvert_exporter": "python",
   "pygments_lexer": "ipython3",
   "version": "3.6.7"
  }
 },
 "nbformat": 4,
 "nbformat_minor": 2
}
