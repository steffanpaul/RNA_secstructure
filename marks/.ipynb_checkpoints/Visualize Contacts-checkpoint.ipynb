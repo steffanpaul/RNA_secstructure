{
 "cells": [
  {
   "cell_type": "code",
   "execution_count": 2,
   "metadata": {},
   "outputs": [],
   "source": [
    "from __future__ import absolute_import\n",
    "from __future__ import division\n",
    "from __future__ import print_function\n",
    "\n",
    "import os, sys, h5py\n",
    "import numpy as np\n",
    "import matplotlib.pyplot as plt\n",
    "import seaborn as sb\n",
    "import tensorflow as tf\n",
    "import scipy\n",
    "\n",
    "import sys\n",
    "sys.path.append('../../..')\n",
    "import mutagenesisfunctions as mf\n",
    "import bpdev as bd\n",
    "import helper\n",
    "from deepomics import neuralnetwork as nn\n",
    "from deepomics import utils, fit, visualize, saliency\n",
    "\n",
    "from DeepContact import contacts\n",
    "\n",
    "from Bio import AlignIO\n",
    "import time as time\n",
    "import pandas as pd\n",
    "np.random.seed(42)"
   ]
  },
  {
   "cell_type": "code",
   "execution_count": 10,
   "metadata": {},
   "outputs": [],
   "source": [
    "def vis_contacts(fam, comp='atom_dist', min_dist=8.0):\n",
    "\n",
    "    ######### EXTRACT DATA ###########\n",
    "\n",
    "    #extract SoM results after an APC correction\n",
    "    arrayspath = 'Arrays/%s_mlp_%s.npy'%(fam,numhidden)\n",
    "    hol_mut2 = np.load(arrayspath)\n",
    "    seqlen,_, dims,_ = hol_mut2.shape\n",
    "    C = bd.get_wc(arrayspath, seqlen, dims, bpugSQ=0, denoise='APC')\n",
    "\n",
    "    #Load in the EC annotation\n",
    "    ECannotfile = '%s/%s.EC.interaction.txt'%(fam,fam) \n",
    "    EC_df = pd.read_csv(ECannotfile, delimiter='\\s+')\n",
    "\n",
    "    ######### QUALITATIVE CONTACTS ###########\n",
    "\n",
    "    #Get the top L/2 SoM scores\n",
    "    bp_shade = bd.plot_wcrank(C, seqlen, seqlen//2)\n",
    "    bp_shade[np.tril_indices(seqlen)] = 0.\n",
    "    SoM_top = np.where(bp_shade > 0.)\n",
    "    #Top L/2 EC scores\n",
    "    topEC = EC_df.loc[:seqlen//2, ['Rfam_reduced_position1', 'Rfam_reduced_position2']]\n",
    "    #All cWW annotated interactions\n",
    "    cWW_int = EC_df[EC_df['interactions'] == 'cWW']\n",
    "    #All PDB contacts < 8 angstroms\n",
    "    close_cont = EC_df[EC_df['minimum_atom_distance'] <= min_dist] \n",
    "    \n",
    "    #Perform Gtest\n",
    "    filename = '../../data_marks/%s/%s_red.hdf5'%(fam, fam)\n",
    "    with h5py.File(filename, 'r') as dataset:\n",
    "        X_data = np.array(dataset['X_data'])\n",
    "    numdata = X_data.shape[0]\n",
    "    X_data = X_data[:numdata//2, :, 0, :4]\n",
    "    gtest = contacts.g_test(X_data)\n",
    "    gtest[np.isnan(gtest)] = 0.\n",
    "    gtest = contacts.apc_correction(gtest)\n",
    "    #Get the top L/2 Gtest scores\n",
    "    g_shade = bd.plot_wcrank(gtest, seqlen, seqlen//2)\n",
    "    g_shade[np.tril_indices(seqlen)] = 0.\n",
    "    gtest_top = np.where(bp_shade > 0.)\n",
    "\n",
    "    #plot\n",
    "    fig = plt.figure(figsize=(15,15))\n",
    "    ax1 = fig.add_subplot(2,2,1)\n",
    "    ax1.scatter(SoM_top[0], SoM_top[1], c='y', label = 'SoM')\n",
    "    ax1.scatter(topEC.iloc[:,1], topEC.iloc[:,0], c='r', label = 'EC')\n",
    "    ax1.set_title('SoM vs. top L/2 ECs')\n",
    "    ax1.legend()\n",
    "\n",
    "    ax2 = fig.add_subplot(2,2,2)\n",
    "    ax2.scatter(SoM_top[0], SoM_top[1], c='y', label = 'SoM')\n",
    "    ax2.scatter(cWW_int.iloc[:,2], cWW_int.iloc[:,1], c='b', label = 'cWW')\n",
    "    ax2.set_title('SoM vs. all cWW contacts')\n",
    "    ax2.legend()\n",
    "\n",
    "    ax3 = fig.add_subplot(2,2,3)\n",
    "    ax3.scatter(SoM_top[0], SoM_top[1], c='y', label = 'SoM')\n",
    "    ax3.scatter(close_cont.iloc[:,2], close_cont.iloc[:,1], c='g', label = 'PDB contacts')\n",
    "    ax3.set_title('SoM vs. contacts < %sA'%(min_dist))\n",
    "    ax3.legend()\n",
    "    \n",
    "    ax4 = fig.add_subplot(2,2,4)\n",
    "    ax4.scatter(SoM_top[0], SoM_top[1], c='y', label = 'SoM')\n",
    "    ax4.scatter(gtest_top[1], gtest_top[0], c='k', label = 'G-Test with APC')\n",
    "    ax4.set_title('SoM vs. top L/2 Gtest scores')\n",
    "    ax4.legend()\n",
    "    plt.axis('equal')\n",
    "    plt.savefig('%s/Images_mlp/%s_contacts_vis_%sA.png'%(fam,fam,min_dist))\n",
    "    plt.savefig('Contacts_vis/%s_contacts_vis_%sA.png'%(fam,min_dist))\n",
    "\n",
    "    ######### QUANTITATIVE GRAPHS ###########\n",
    "\n",
    "    #Get the real positive and negative pdb contacts\n",
    "    def groundtruth(comp=comp):\n",
    "\n",
    "        if comp == 'atom_dist':\n",
    "            real_pos = np.zeros((seqlen,seqlen))\n",
    "            for ii in range(len(close_cont)):\n",
    "                real_pos[close_cont.iloc[ii, 1], close_cont.iloc[ii, 2]] = 1.\n",
    "            real_neg = np.ones((seqlen,seqlen))\n",
    "            for ii in range(len(close_cont)):\n",
    "                real_neg[close_cont.iloc[ii, 1], close_cont.iloc[ii, 2]] = 0.\n",
    "                \n",
    "        if comp == 'cWW_int':\n",
    "            real_pos = np.zeros((seqlen,seqlen))\n",
    "            for ii in range(len(cWW_int)):\n",
    "                real_pos[cWW_int.iloc[ii, 1], cWW_int.iloc[ii, 2]] = 1.\n",
    "            real_neg = np.ones((seqlen,seqlen))\n",
    "            for ii in range(len(cWW_int)):\n",
    "                real_neg[cWW_int.iloc[ii, 1], cWW_int.iloc[ii, 2]] = 0.\n",
    "        return (real_pos, real_neg)\n",
    "\n",
    "    def sumstats(thresh):\n",
    "        #Get the top thresh SoM scores\n",
    "        som_pos = bd.plot_wcrank(C, seqlen, thresh*2)\n",
    "        som_pos[np.tril_indices(seqlen)] = 0.\n",
    "        #Get the bottom thresh SoM scores\n",
    "        som_neg = (~som_pos.astype('bool'))*1 #incantation converts binary to boolean, flips them then back to binary\n",
    "\n",
    "        TP = np.sum(real_pos*som_pos)\n",
    "        FP = np.sum(real_neg*som_pos)\n",
    "        TN = np.sum(real_neg*som_neg)\n",
    "        FN = np.sum(real_pos*som_neg)\n",
    "\n",
    "        PPV = TP/(TP+FP)\n",
    "        FDR = FP/(TP+FP)\n",
    "        TPR = TP/(TP+FN)\n",
    "\n",
    "        return (PPV, FDR, TPR, TP, FP, TN, FN)\n",
    "\n",
    "    def sumstats_EC(thresh):\n",
    "        #Top thresh EC scores\n",
    "        n_EC_P = len(EC_df.iloc[:thresh, :])\n",
    "        EC_pos = np.zeros((seqlen,seqlen))\n",
    "        for ii in range(n_EC_P):\n",
    "            EC_pos[EC_df.iloc[ii, 1], EC_df.iloc[ii, 2]] = 1.\n",
    "        EC_neg = np.ones((seqlen,seqlen))\n",
    "        for ii in range(n_EC_P):\n",
    "            EC_neg[EC_df.iloc[ii, 1], EC_df.iloc[ii, 2]] = 0.\n",
    "\n",
    "        TP = np.sum(real_pos*EC_pos)\n",
    "        FP = np.sum(real_neg*EC_pos)\n",
    "        TN = np.sum(real_neg*EC_neg)\n",
    "        FN = np.sum(real_pos*EC_neg)\n",
    "\n",
    "        PPV = TP/(TP+FP)\n",
    "        FDR = FP/(TP+FP)\n",
    "        TPR = TP/(TP+FN)\n",
    "\n",
    "        return (PPV, FDR, TPR, TP, FP, TN, FN)\n",
    "    \n",
    "    real_pos, real_neg = groundtruth(comp='atom_dist')\n",
    "    extent = seqlen\n",
    "\n",
    "    EC_ppv = []\n",
    "    EC_tpr = []\n",
    "    SoM_ppv = []\n",
    "    SoM_tpr = []\n",
    "    for tr in range(extent):\n",
    "        ecst = sumstats_EC(tr)\n",
    "        somst = sumstats(tr)\n",
    "\n",
    "        EC_ppv.append(ecst[0])\n",
    "        EC_tpr.append(ecst[2])\n",
    "\n",
    "        SoM_ppv.append(somst[0])\n",
    "        SoM_tpr.append(somst[2])\n",
    "\n",
    "    fig = plt.figure(figsize=(12,5))\n",
    "    ax1 = fig.add_subplot(1,2,1)\n",
    "    ax1.plot(range(extent),SoM_ppv, label='SoM')\n",
    "    ax1.plot(range(extent),EC_ppv, label='EC')\n",
    "    ax1.set_xlabel('Number of contacts predicted')\n",
    "    ax1.set_ylabel('Positive Predictive Value')\n",
    "    ax1.legend()\n",
    "\n",
    "    ax2 = fig.add_subplot(1,2,2)\n",
    "    ax2.plot(range(extent),SoM_tpr, label='SoM')\n",
    "    ax2.plot(range(extent),EC_tpr, label='EC')\n",
    "    ax2.set_xlabel('Number of contacts predicted')\n",
    "    ax2.set_ylabel('True Positive Rate')\n",
    "    ax2.legend()\n",
    "    \n",
    "    if comp == 'atom_dist':\n",
    "        fig.suptitle('Contacts within %sA predicted'%(min_dist))\n",
    "        quanttitle = '%sA_contacts'%(min_dist)\n",
    "    if comp == 'cWW_int':\n",
    "        fig.suptitle('cWW interactions predicted')\n",
    "        quanttitle = '%sA_contacts'%(min_dist)\n",
    "        \n",
    "    fig.suptitle('Contacts within %sA predicted'%(min_dist))\n",
    "    plt.savefig('%s/Images_mlp/%s_%s_stats.png'%(fam,fam,quanttitle))\n",
    "    plt.savefig('Stats_graphs/%s_%s_stats.png'%(fam, quanttitle))\n",
    "    plt.close('all')\n",
    "    \n",
    "    ######### QUANTITATIVE CONTACTS ###########"
   ]
  },
  {
   "cell_type": "code",
   "execution_count": 11,
   "metadata": {
    "collapsed": true
   },
   "outputs": [],
   "source": [
    "#Load the SoM results file\n",
    "families = ['RF00002', 'RF00005', 'RF00010', 'RF00017', 'RF00023', 'RF00050',\n",
    "            'RF00059', 'RF00162', 'RF00167', 'RF00169', 'RF00174', 'RF00234',\n",
    "            'RF00380', 'RF00504', 'RF01734', 'RF01786', 'RF01831', 'RF01852', 'RF02001']#, 'RF01960']\n",
    "\n",
    "numhidden = 512"
   ]
  },
  {
   "cell_type": "code",
   "execution_count": 12,
   "metadata": {},
   "outputs": [
    {
     "name": "stderr",
     "output_type": "stream",
     "text": [
      "/Users/steffanpaul/anaconda/envs/tensorflow/lib/python3.6/site-packages/ipykernel_launcher.py:106: RuntimeWarning: invalid value encountered in double_scalars\n",
      "/Users/steffanpaul/anaconda/envs/tensorflow/lib/python3.6/site-packages/ipykernel_launcher.py:107: RuntimeWarning: invalid value encountered in double_scalars\n",
      "/Users/steffanpaul/anaconda/envs/tensorflow/lib/python3.6/site-packages/ipykernel_launcher.py:85: RuntimeWarning: invalid value encountered in double_scalars\n",
      "/Users/steffanpaul/anaconda/envs/tensorflow/lib/python3.6/site-packages/ipykernel_launcher.py:86: RuntimeWarning: invalid value encountered in double_scalars\n"
     ]
    },
    {
     "name": "stdout",
     "output_type": "stream",
     "text": [
      "RF00002\n",
      "RF00005\n",
      "RF00010\n",
      "RF00017\n",
      "RF00023\n",
      "RF00050\n",
      "RF00059\n",
      "RF00162\n",
      "RF00167\n",
      "RF00169\n",
      "RF00174\n",
      "RF00234\n",
      "RF00380\n",
      "RF00504\n",
      "RF01734\n",
      "RF01786\n",
      "RF01831\n",
      "RF01852\n",
      "RF02001\n"
     ]
    }
   ],
   "source": [
    "for fam in families:\n",
    "    vis_contacts(fam, min_dist=5.0)\n",
    "    print (fam)"
   ]
  },
  {
   "cell_type": "code",
   "execution_count": 26,
   "metadata": {},
   "outputs": [
    {
     "name": "stderr",
     "output_type": "stream",
     "text": [
      "/Users/steffanpaul/anaconda/envs/tensorflow/lib/python3.6/site-packages/matplotlib/figure.py:2366: UserWarning: This figure includes Axes that are not compatible with tight_layout, so results might be incorrect.\n",
      "  warnings.warn(\"This figure includes Axes that are not compatible \"\n"
     ]
    },
    {
     "data": {
      "image/png": "[encoded data removed]",
      "text/plain": [
       "<Figure size 432x288 with 1 Axes>"
      ]
     },
     "metadata": {},
     "output_type": "display_data"
    }
   ],
   "source": [
    "a = np.arange(-10,10)\n",
    "b = a**2\n",
    "t = np.arange(-10,10)\n",
    "\n",
    "plt.figure()\n",
    "plt.scatter(a,b,c=t,cmap='Reds')\n",
    "plt.show()"
   ]
  },
  {
   "cell_type": "code",
   "execution_count": 27,
   "metadata": {
    "collapsed": true
   },
   "outputs": [],
   "source": [
    "#Get the top L/2 SoM scores\n",
    "#extract SoM results after an APC correction\n",
    "arrayspath = 'Arrays/%s_mlp_%s.npy'%('RF00234',512)\n",
    "hol_mut2 = np.load(arrayspath)\n",
    "seqlen,_, dims,_ = hol_mut2.shape\n",
    "C = bd.get_wc(arrayspath, seqlen, dims, bpugSQ=0, denoise='APC')\n",
    "\n",
    "bp_shade = bd.plot_wcrank(C, seqlen, seqlen//2)\n",
    "bp_shade[np.tril_indices(seqlen)] = 0.\n",
    "SoM_top = np.where(bp_shade > 0.)"
   ]
  },
  {
   "cell_type": "code",
   "execution_count": 31,
   "metadata": {},
   "outputs": [],
   "source": [
    "col = [C[ii,jj] for ii,jj in zip(SoM_top[0],SoM_top[1])]"
   ]
  },
  {
   "cell_type": "code",
   "execution_count": 38,
   "metadata": {},
   "outputs": [
    {
     "name": "stderr",
     "output_type": "stream",
     "text": [
      "/Users/steffanpaul/anaconda/envs/tensorflow/lib/python3.6/site-packages/matplotlib/figure.py:2366: UserWarning: This figure includes Axes that are not compatible with tight_layout, so results might be incorrect.\n",
      "  warnings.warn(\"This figure includes Axes that are not compatible \"\n"
     ]
    },
    {
     "data": {
      "image/png": "[encoded data removed]",
      "text/plain": [
       "<Figure size 504x504 with 1 Axes>"
      ]
     },
     "metadata": {},
     "output_type": "display_data"
    }
   ],
   "source": [
    "#plot\n",
    "fig = plt.figure(figsize=(7,7))\n",
    "ax1 = fig.add_subplot(1,1,1)\n",
    "ax1.scatter(SoM_top[0], SoM_top[1], c=col, label = 'SoM')\n",
    "plt.show()"
   ]
  },
  {
   "cell_type": "code",
   "execution_count": null,
   "metadata": {
    "collapsed": true
   },
   "outputs": [],
   "source": []
  }
 ],
 "metadata": {
  "kernelspec": {
   "display_name": "Python 3",
   "language": "python",
   "name": "python3"
  },
  "language_info": {
   "codemirror_mode": {
    "name": "ipython",
    "version": 3
   },
   "file_extension": ".py",
   "mimetype": "text/x-python",
   "name": "python",
   "nbconvert_exporter": "python",
   "pygments_lexer": "ipython3",
   "version": "3.6.7"
  }
 },
 "nbformat": 4,
 "nbformat_minor": 2
}
