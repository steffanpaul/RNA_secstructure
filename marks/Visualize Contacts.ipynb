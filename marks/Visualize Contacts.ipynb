{
 "cells": [
  {
   "cell_type": "code",
   "execution_count": 1,
   "metadata": {
    "collapsed": true
   },
   "outputs": [],
   "source": [
    "from __future__ import absolute_import\n",
    "from __future__ import division\n",
    "from __future__ import print_function\n",
    "\n",
    "import os, sys, h5py\n",
    "import numpy as np\n",
    "import matplotlib.pyplot as plt\n",
    "import seaborn as sb\n",
    "import tensorflow as tf\n",
    "import scipy\n",
    "\n",
    "import sys\n",
    "sys.path.append('../../..')\n",
    "import mutagenesisfunctions as mf\n",
    "import bpdev as bd\n",
    "import helper\n",
    "from deepomics import neuralnetwork as nn\n",
    "from deepomics import utils, fit, visualize, saliency\n",
    "\n",
    "from Bio import AlignIO\n",
    "import time as time\n",
    "import pandas as pd\n",
    "np.random.seed(42)"
   ]
  },
  {
   "cell_type": "code",
   "execution_count": 23,
   "metadata": {
    "collapsed": false
   },
   "outputs": [],
   "source": [
    "def vis_contacts(fam):\n",
    "\n",
    "    ######### EXTRACT DATA ###########\n",
    "\n",
    "    #extract SoM results after an APC correction\n",
    "    arrayspath = 'Arrays/%s_mlp_%s.npy'%(fam,numhidden)\n",
    "    hol_mut2 = np.load(arrayspath)\n",
    "    seqlen,_, dims,_ = hol_mut2.shape\n",
    "    C = bd.get_wc(arrayspath, seqlen, dims, bpugSQ=0, denoise='APC')\n",
    "\n",
    "    #Load in the EC annotation\n",
    "    ECannotfile = '%s/%s.EC.interaction.txt'%(fam,fam) \n",
    "    EC_df = pd.read_csv(ECannotfile, delimiter='\\s+')\n",
    "\n",
    "    ######### QUALITATIVE CONTACTS ###########\n",
    "\n",
    "    #Get the top L/2 SoM scores\n",
    "    bp_shade = bd.plot_wcrank(C, seqlen, seqlen//2)\n",
    "    bp_shade[np.tril_indices(seqlen)] = 0.\n",
    "    SoM_top = np.where(bp_shade > 0.)\n",
    "    #Top L/2 EC scores\n",
    "    topEC = EC_df.loc[:seqlen//2, ['Rfam_reduced_position1', 'Rfam_reduced_position2']]\n",
    "    #All cWW annotated interactions\n",
    "    cWW_int = EC_df[EC_df['interactions'] == 'cWW']\n",
    "    #All PDB contacts < 8 angstroms\n",
    "    close_cont = EC_df[EC_df['minimum_atom_distance'] <= 8.0]\n",
    "\n",
    "    #plot\n",
    "    fig = plt.figure(figsize=(24,7))\n",
    "    ax1 = fig.add_subplot(1,3,1)\n",
    "    ax1.scatter(SoM_top[0], SoM_top[1], c='y', label = 'SoM')\n",
    "    ax1.scatter(topEC.iloc[:,1], topEC.iloc[:,0], c='r', label = 'EC')\n",
    "    ax1.set_title('SoM vs. top L/2 ECs')\n",
    "    ax1.legend()\n",
    "\n",
    "    ax2 = fig.add_subplot(1,3,2)\n",
    "    ax2.scatter(SoM_top[0], SoM_top[1], c='y', label = 'SoM')\n",
    "    ax2.scatter(cWW_int.iloc[:,2], cWW_int.iloc[:,1], c='b', label = 'cWW')\n",
    "    ax2.set_title('SoM vs. all cWW contacts')\n",
    "    ax2.legend()\n",
    "\n",
    "    ax = fig.add_subplot(1,3,3)\n",
    "    ax.scatter(SoM_top[0], SoM_top[1], c='y', label = 'SoM')\n",
    "    ax.scatter(close_cont.iloc[:,2], close_cont.iloc[:,1], c='g', label = 'PDB contacts')\n",
    "    ax.set_title('SoM vs. contacts < 8A')\n",
    "    ax.legend()\n",
    "    plt.axis('equal')\n",
    "    plt.savefig('%s/Images_mlp/%s_contacts_vis.png'%(fam,fam))\n",
    "    plt.savefig('Contacts_vis/%s_contacts_vis.png'%(fam))\n",
    "\n",
    "    ######### QUANTITATIVE GRAPHS ###########\n",
    "\n",
    "    #Get the real positive and negative pdb contacts\n",
    "    real_pos = np.zeros((seqlen,seqlen))\n",
    "    for ii in range(len(close_cont)):\n",
    "        real_pos[close_cont.iloc[ii, 1], close_cont.iloc[ii, 2]] = 1.\n",
    "    real_neg = np.ones((seqlen,seqlen))\n",
    "    for ii in range(len(close_cont)):\n",
    "        real_neg[close_cont.iloc[ii, 1], close_cont.iloc[ii, 2]] = 0.\n",
    "\n",
    "    def sumstats(thresh):\n",
    "        #Get the top thresh SoM scores\n",
    "        som_pos = bd.plot_wcrank(C, seqlen, thresh*2)\n",
    "        som_pos[np.tril_indices(seqlen)] = 0.\n",
    "        #Get the bottom thresh SoM scores\n",
    "        som_neg = (~som_pos.astype('bool'))*1 #incantation converts binary to boolean, flips them then back to binary\n",
    "\n",
    "        TP = np.sum(real_pos*som_pos)\n",
    "        FP = np.sum(real_neg*som_pos)\n",
    "        TN = np.sum(real_neg*som_neg)\n",
    "        FN = np.sum(real_pos*som_neg)\n",
    "\n",
    "        PPV = TP/(TP+FP)\n",
    "        FDR = FP/(TP+FP)\n",
    "        TPR = TP/(TP+FN)\n",
    "\n",
    "        return (PPV, FDR, TPR, TP, FP, TN, FN)\n",
    "\n",
    "    def sumstats_EC(thresh):\n",
    "        #Top thresh EC scores\n",
    "        n_EC_P = len(EC_df.iloc[:thresh, :])\n",
    "        EC_pos = np.zeros((seqlen,seqlen))\n",
    "        for ii in range(n_EC_P):\n",
    "            EC_pos[EC_df.iloc[ii, 1], EC_df.iloc[ii, 2]] = 1.\n",
    "        EC_neg = np.ones((seqlen,seqlen))\n",
    "        for ii in range(n_EC_P):\n",
    "            EC_neg[EC_df.iloc[ii, 1], EC_df.iloc[ii, 2]] = 0.\n",
    "\n",
    "        TP = np.sum(real_pos*EC_pos)\n",
    "        FP = np.sum(real_neg*EC_pos)\n",
    "        TN = np.sum(real_neg*EC_neg)\n",
    "        FN = np.sum(real_pos*EC_neg)\n",
    "\n",
    "        PPV = TP/(TP+FP)\n",
    "        FDR = FP/(TP+FP)\n",
    "        TPR = TP/(TP+FN)\n",
    "\n",
    "        return (PPV, FDR, TPR, TP, FP, TN, FN)\n",
    "\n",
    "    extent = seqlen\n",
    "\n",
    "    EC_ppv = []\n",
    "    EC_tpr = []\n",
    "    SoM_ppv = []\n",
    "    SoM_tpr = []\n",
    "    for tr in range(extent):\n",
    "        ecst = sumstats_EC(tr)\n",
    "        somst = sumstats(tr)\n",
    "\n",
    "        EC_ppv.append(ecst[0])\n",
    "        EC_tpr.append(ecst[2])\n",
    "\n",
    "        SoM_ppv.append(somst[0])\n",
    "        SoM_tpr.append(somst[2])\n",
    "\n",
    "    fig = plt.figure(figsize=(12,5))\n",
    "    ax1 = fig.add_subplot(1,2,1)\n",
    "    ax1.plot(range(extent),SoM_ppv, label='SoM')\n",
    "    ax1.plot(range(extent),EC_ppv, label='EC')\n",
    "    ax1.set_xlabel('Number of contact predicted')\n",
    "    ax1.set_ylabel('Positive Predictive Value')\n",
    "    ax1.legend()\n",
    "\n",
    "    ax2 = fig.add_subplot(1,2,2)\n",
    "    ax2.plot(range(extent),SoM_tpr, label='SoM')\n",
    "    ax2.plot(range(extent),EC_tpr, label='EC')\n",
    "    ax2.set_xlabel('Number of contact predicted')\n",
    "    ax2.set_ylabel('True Positive Rate')\n",
    "    ax2.legend()\n",
    "    plt.savefig('%s/Images_mlp/%s_stats.png'%(fam,fam))\n",
    "    plt.savefig('Stats_graphs/%s_stats.png'%(fam))\n",
    "    \n",
    "    ######### QUANTITATIVE CONTACTS ###########"
   ]
  },
  {
   "cell_type": "code",
   "execution_count": 24,
   "metadata": {
    "collapsed": true
   },
   "outputs": [],
   "source": [
    "#Load the SoM results file\n",
    "families = ['RF00002', 'RF00005', 'RF00010', 'RF00017', 'RF00023', 'RF00050',\n",
    "            'RF00059', 'RF00162', 'RF00167', 'RF00169', 'RF00174', 'RF00234',\n",
    "            'RF00380', 'RF00504', 'RF01734', 'RF01786', 'RF01831', 'RF01852', 'RF01960', 'RF02001']\n",
    "\n",
    "numhidden = 512"
   ]
  },
  {
   "cell_type": "code",
   "execution_count": 26,
   "metadata": {
    "collapsed": false
   },
   "outputs": [
    {
     "name": "stderr",
     "output_type": "stream",
     "text": [
      "/home/peter/anaconda2/envs/tensorflow/lib/python2.7/site-packages/ipykernel/__main__.py:94: RuntimeWarning: invalid value encountered in double_scalars\n",
      "/home/peter/anaconda2/envs/tensorflow/lib/python2.7/site-packages/ipykernel/__main__.py:95: RuntimeWarning: invalid value encountered in double_scalars\n",
      "/home/peter/anaconda2/envs/tensorflow/lib/python2.7/site-packages/ipykernel/__main__.py:73: RuntimeWarning: invalid value encountered in double_scalars\n",
      "/home/peter/anaconda2/envs/tensorflow/lib/python2.7/site-packages/ipykernel/__main__.py:74: RuntimeWarning: invalid value encountered in double_scalars\n"
     ]
    },
    {
     "name": "stdout",
     "output_type": "stream",
     "text": [
      "RF00002\n",
      "RF00005\n",
      "RF00010\n",
      "RF00017\n",
      "RF00023\n",
      "RF00050\n"
     ]
    },
    {
     "name": "stderr",
     "output_type": "stream",
     "text": [
      "/home/peter/anaconda2/envs/tensorflow/lib/python2.7/site-packages/matplotlib/pyplot.py:524: RuntimeWarning: More than 20 figures have been opened. Figures created through the pyplot interface (`matplotlib.pyplot.figure`) are retained until explicitly closed and may consume too much memory. (To control this warning, see the rcParam `figure.max_open_warning`).\n",
      "  max_open_warning, RuntimeWarning)\n"
     ]
    },
    {
     "name": "stdout",
     "output_type": "stream",
     "text": [
      "RF00059\n",
      "RF00162\n",
      "RF00167\n",
      "RF00169\n",
      "RF00174\n",
      "RF00234\n",
      "RF00380\n",
      "RF00504\n",
      "RF01734\n",
      "RF01786\n",
      "RF01831\n",
      "RF01852\n"
     ]
    },
    {
     "ename": "IOError",
     "evalue": "[Errno 2] No such file or directory: 'Arrays/RF01960_mlp_512.npy'",
     "output_type": "error",
     "traceback": [
      "\u001b[0;31m---------------------------------------------------------------------------\u001b[0m",
      "\u001b[0;31mIOError\u001b[0m                                   Traceback (most recent call last)",
      "\u001b[0;32m<ipython-input-26-6a55cea279c4>\u001b[0m in \u001b[0;36m<module>\u001b[0;34m()\u001b[0m\n\u001b[1;32m      1\u001b[0m \u001b[0;32mfor\u001b[0m \u001b[0mfam\u001b[0m \u001b[0;32min\u001b[0m \u001b[0mfamilies\u001b[0m\u001b[0;34m:\u001b[0m\u001b[0;34m\u001b[0m\u001b[0m\n\u001b[0;32m----> 2\u001b[0;31m     \u001b[0mvis_contacts\u001b[0m\u001b[0;34m(\u001b[0m\u001b[0mfam\u001b[0m\u001b[0;34m)\u001b[0m\u001b[0;34m\u001b[0m\u001b[0m\n\u001b[0m\u001b[1;32m      3\u001b[0m     \u001b[0;32mprint\u001b[0m \u001b[0;34m(\u001b[0m\u001b[0mfam\u001b[0m\u001b[0;34m)\u001b[0m\u001b[0;34m\u001b[0m\u001b[0m\n",
      "\u001b[0;32m<ipython-input-23-314514cf5298>\u001b[0m in \u001b[0;36mvis_contacts\u001b[0;34m(fam)\u001b[0m\n\u001b[1;32m      5\u001b[0m     \u001b[0;31m#extract SoM results after an APC correction\u001b[0m\u001b[0;34m\u001b[0m\u001b[0;34m\u001b[0m\u001b[0m\n\u001b[1;32m      6\u001b[0m     \u001b[0marrayspath\u001b[0m \u001b[0;34m=\u001b[0m \u001b[0;34m'Arrays/%s_mlp_%s.npy'\u001b[0m\u001b[0;34m%\u001b[0m\u001b[0;34m(\u001b[0m\u001b[0mfam\u001b[0m\u001b[0;34m,\u001b[0m\u001b[0mnumhidden\u001b[0m\u001b[0;34m)\u001b[0m\u001b[0;34m\u001b[0m\u001b[0m\n\u001b[0;32m----> 7\u001b[0;31m     \u001b[0mhol_mut2\u001b[0m \u001b[0;34m=\u001b[0m \u001b[0mnp\u001b[0m\u001b[0;34m.\u001b[0m\u001b[0mload\u001b[0m\u001b[0;34m(\u001b[0m\u001b[0marrayspath\u001b[0m\u001b[0;34m)\u001b[0m\u001b[0;34m\u001b[0m\u001b[0m\n\u001b[0m\u001b[1;32m      8\u001b[0m     \u001b[0mseqlen\u001b[0m\u001b[0;34m,\u001b[0m\u001b[0m_\u001b[0m\u001b[0;34m,\u001b[0m \u001b[0mdims\u001b[0m\u001b[0;34m,\u001b[0m\u001b[0m_\u001b[0m \u001b[0;34m=\u001b[0m \u001b[0mhol_mut2\u001b[0m\u001b[0;34m.\u001b[0m\u001b[0mshape\u001b[0m\u001b[0;34m\u001b[0m\u001b[0m\n\u001b[1;32m      9\u001b[0m     \u001b[0mC\u001b[0m \u001b[0;34m=\u001b[0m \u001b[0mbd\u001b[0m\u001b[0;34m.\u001b[0m\u001b[0mget_wc\u001b[0m\u001b[0;34m(\u001b[0m\u001b[0marrayspath\u001b[0m\u001b[0;34m,\u001b[0m \u001b[0mseqlen\u001b[0m\u001b[0;34m,\u001b[0m \u001b[0mdims\u001b[0m\u001b[0;34m,\u001b[0m \u001b[0mbpugSQ\u001b[0m\u001b[0;34m=\u001b[0m\u001b[0;36m0\u001b[0m\u001b[0;34m,\u001b[0m \u001b[0mdenoise\u001b[0m\u001b[0;34m=\u001b[0m\u001b[0;34m'APC'\u001b[0m\u001b[0;34m)\u001b[0m\u001b[0;34m\u001b[0m\u001b[0m\n",
      "\u001b[0;32m/home/peter/anaconda2/envs/tensorflow/lib/python2.7/site-packages/numpy/lib/npyio.pyc\u001b[0m in \u001b[0;36mload\u001b[0;34m(file, mmap_mode, allow_pickle, fix_imports, encoding)\u001b[0m\n\u001b[1;32m    370\u001b[0m     \u001b[0mown_fid\u001b[0m \u001b[0;34m=\u001b[0m \u001b[0mFalse\u001b[0m\u001b[0;34m\u001b[0m\u001b[0m\n\u001b[1;32m    371\u001b[0m     \u001b[0;32mif\u001b[0m \u001b[0misinstance\u001b[0m\u001b[0;34m(\u001b[0m\u001b[0mfile\u001b[0m\u001b[0;34m,\u001b[0m \u001b[0mbasestring\u001b[0m\u001b[0;34m)\u001b[0m\u001b[0;34m:\u001b[0m\u001b[0;34m\u001b[0m\u001b[0m\n\u001b[0;32m--> 372\u001b[0;31m         \u001b[0mfid\u001b[0m \u001b[0;34m=\u001b[0m \u001b[0mopen\u001b[0m\u001b[0;34m(\u001b[0m\u001b[0mfile\u001b[0m\u001b[0;34m,\u001b[0m \u001b[0;34m\"rb\"\u001b[0m\u001b[0;34m)\u001b[0m\u001b[0;34m\u001b[0m\u001b[0m\n\u001b[0m\u001b[1;32m    373\u001b[0m         \u001b[0mown_fid\u001b[0m \u001b[0;34m=\u001b[0m \u001b[0mTrue\u001b[0m\u001b[0;34m\u001b[0m\u001b[0m\n\u001b[1;32m    374\u001b[0m     \u001b[0;32melif\u001b[0m \u001b[0mis_pathlib_path\u001b[0m\u001b[0;34m(\u001b[0m\u001b[0mfile\u001b[0m\u001b[0;34m)\u001b[0m\u001b[0;34m:\u001b[0m\u001b[0;34m\u001b[0m\u001b[0m\n",
      "\u001b[0;31mIOError\u001b[0m: [Errno 2] No such file or directory: 'Arrays/RF01960_mlp_512.npy'"
     ]
    }
   ],
   "source": [
    "for fam in families:\n",
    "    vis_contacts(fam)\n",
    "    print (fam)"
   ]
  },
  {
   "cell_type": "code",
   "execution_count": 28,
   "metadata": {
    "collapsed": false
   },
   "outputs": [
    {
     "name": "stderr",
     "output_type": "stream",
     "text": [
      "/home/peter/anaconda2/envs/tensorflow/lib/python2.7/site-packages/ipykernel/__main__.py:94: RuntimeWarning: invalid value encountered in double_scalars\n",
      "/home/peter/anaconda2/envs/tensorflow/lib/python2.7/site-packages/ipykernel/__main__.py:95: RuntimeWarning: invalid value encountered in double_scalars\n",
      "/home/peter/anaconda2/envs/tensorflow/lib/python2.7/site-packages/ipykernel/__main__.py:73: RuntimeWarning: invalid value encountered in double_scalars\n",
      "/home/peter/anaconda2/envs/tensorflow/lib/python2.7/site-packages/ipykernel/__main__.py:74: RuntimeWarning: invalid value encountered in double_scalars\n"
     ]
    },
    {
     "name": "stdout",
     "output_type": "stream",
     "text": [
      "RF02001\n"
     ]
    }
   ],
   "source": [
    "vis_contacts('RF02001')\n",
    "print ('RF02001')"
   ]
  },
  {
   "cell_type": "code",
   "execution_count": null,
   "metadata": {
    "collapsed": true
   },
   "outputs": [],
   "source": []
  }
 ],
 "metadata": {
  "kernelspec": {
   "display_name": "Python 2",
   "language": "python",
   "name": "python2"
  },
  "language_info": {
   "codemirror_mode": {
    "name": "ipython",
    "version": 2
   },
   "file_extension": ".py",
   "mimetype": "text/x-python",
   "name": "python",
   "nbconvert_exporter": "python",
   "pygments_lexer": "ipython2",
   "version": "2.7.13"
  }
 },
 "nbformat": 4,
 "nbformat_minor": 2
}
