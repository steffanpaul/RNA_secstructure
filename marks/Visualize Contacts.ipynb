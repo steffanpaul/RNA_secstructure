{
 "cells": [
  {
   "cell_type": "code",
   "execution_count": 1,
   "metadata": {
    "collapsed": true
   },
   "outputs": [],
   "source": [
    "from __future__ import absolute_import\n",
    "from __future__ import division\n",
    "from __future__ import print_function\n",
    "\n",
    "import os, sys, h5py, time\n",
    "import numpy as np\n",
    "import matplotlib.pyplot as plt\n",
    "import seaborn as sb\n",
    "import tensorflow as tf\n",
    "import scipy\n",
    "\n",
    "import sys\n",
    "sys.path.append('../../..')\n",
    "import mutagenesisfunctions as mf\n",
    "import bpdev as bd\n",
    "import helper\n",
    "from deepomics import neuralnetwork as nn\n",
    "from deepomics import utils, fit, visualize, saliency\n",
    "\n",
    "import contacts\n",
    "\n",
    "from Bio import AlignIO\n",
    "import time as time\n",
    "import pandas as pd\n",
    "np.random.seed(42)"
   ]
  },
  {
   "cell_type": "code",
   "execution_count": 30,
   "metadata": {
    "collapsed": true
   },
   "outputs": [],
   "source": [
    "def vis_contacts(fam, comp='atom_dist', min_dist=8.0):\n",
    "\n",
    "    ######### EXTRACT DATA ###########\n",
    "\n",
    "    #extract SoM results after an APC correction\n",
    "    arrayspath = 'Arrays/%s_mlp_%s.npy'%(fam,numhidden)\n",
    "    hol_mut2 = np.load(arrayspath)\n",
    "    seqlen,_, dims,_ = hol_mut2.shape\n",
    "    C = bd.get_wc(arrayspath, seqlen, dims, bpugSQ=0, denoise='APC')\n",
    "\n",
    "    #Load in the EC annotation\n",
    "    ECannotfile = '%s/%s.EC.interaction.txt'%(fam,fam) \n",
    "    EC_df = pd.read_csv(ECannotfile, delimiter='\\s+')\n",
    "\n",
    "    ######### QUALITATIVE CONTACTS ###########\n",
    "\n",
    "    #Get the top L/2 SoM scores\n",
    "    bp_shade = bd.plot_wcrank(C, seqlen, seqlen//2)\n",
    "    bp_shade[np.tril_indices(seqlen)] = 0.\n",
    "    SoM_top = np.where(bp_shade > 0.)\n",
    "    #Top L/2 EC scores\n",
    "    topEC = EC_df.loc[:seqlen//2, ['Rfam_reduced_position1', 'Rfam_reduced_position2']]\n",
    "    #All cWW annotated interactions\n",
    "    cWW_int = EC_df[EC_df['interactions'] == 'cWW']\n",
    "    #All PDB contacts < 8 angstroms\n",
    "    close_cont = EC_df[EC_df['minimum_atom_distance'] <= min_dist] \n",
    "    \n",
    "    #Retrieve Gtest\n",
    "    filename = 'Arrays/marks_gtests.hdf5'\n",
    "    with h5py.File(filename, 'r') as dataset:\n",
    "        gtest = np.array(dataset['%s_gtest'%(fam)])\n",
    "    #Get the top L/2 Gtest scores\n",
    "    g_shade = bd.plot_wcrank(gtest, seqlen, seqlen//2)\n",
    "    g_shade[np.tril_indices(seqlen)] = 0.\n",
    "    gtest_top = np.where(g_shade > 0.)\n",
    "\n",
    "    #plot\n",
    "    fig = plt.figure(figsize=(15,15))\n",
    "    ax1 = fig.add_subplot(2,2,1)\n",
    "    ax1.scatter(SoM_top[0], SoM_top[1], c='b', label = 'SoM')\n",
    "    ax1.scatter(topEC.iloc[:,1], topEC.iloc[:,0], c='r', label = 'EC')\n",
    "    ax1.set_title('SoM vs. top L/2 ECs')\n",
    "    ax1.legend(loc='center right')\n",
    "\n",
    "    ax2 = fig.add_subplot(2,2,2)\n",
    "    ax2.scatter(SoM_top[0], SoM_top[1], c='b', label = 'SoM')\n",
    "    ax2.scatter(cWW_int.iloc[:,2], cWW_int.iloc[:,1], c='m', label = 'cWW')\n",
    "    ax2.set_title('SoM vs. all cWW contacts')\n",
    "    ax2.legend(loc='center right')\n",
    "\n",
    "    ax3 = fig.add_subplot(2,2,3)\n",
    "    ax3.scatter(SoM_top[0], SoM_top[1], c='b', label = 'SoM')\n",
    "    ax3.scatter(close_cont.iloc[:,2], close_cont.iloc[:,1], c='k', label = 'PDB contacts')\n",
    "    ax3.set_title('SoM vs. contacts < %sA'%(min_dist))\n",
    "    ax3.legend(loc='center right')\n",
    "    \n",
    "    ax4 = fig.add_subplot(2,2,4)\n",
    "    ax4.scatter(SoM_top[0], SoM_top[1], c='b', label = 'SoM')\n",
    "    ax4.scatter(gtest_top[1], gtest_top[0], c='g', label = 'MI with APC')\n",
    "    ax4.set_title('SoM vs. top L/2 MI scores')\n",
    "    ax4.legend(loc='center right')\n",
    "    plt.axis('equal')\n",
    "    \n",
    "    plt.savefig('%s/Images_mlp/%s_contacts_vis_%sA.png'%(fam,fam,min_dist))\n",
    "    plt.savefig('Contacts_vis/%s_contacts_vis_%sA.png'%(fam,min_dist))\n",
    "\n",
    "    ######### QUANTITATIVE GRAPHS ###########\n",
    "\n",
    "    #Get the real positive and negative pdb contacts\n",
    "    def groundtruth(comp=comp):\n",
    "\n",
    "        if comp == 'atom_dist':\n",
    "            real_pos = np.zeros((seqlen,seqlen))\n",
    "            for ii in range(len(close_cont)):\n",
    "                real_pos[close_cont.iloc[ii, 1], close_cont.iloc[ii, 2]] = 1.\n",
    "            real_neg = np.ones((seqlen,seqlen))\n",
    "            for ii in range(len(close_cont)):\n",
    "                real_neg[close_cont.iloc[ii, 1], close_cont.iloc[ii, 2]] = 0.\n",
    "                \n",
    "        if comp == 'cWW_int':\n",
    "            real_pos = np.zeros((seqlen,seqlen))\n",
    "            for ii in range(len(cWW_int)):\n",
    "                real_pos[cWW_int.iloc[ii, 1], cWW_int.iloc[ii, 2]] = 1.\n",
    "            real_neg = np.ones((seqlen,seqlen))\n",
    "            for ii in range(len(cWW_int)):\n",
    "                real_neg[cWW_int.iloc[ii, 1], cWW_int.iloc[ii, 2]] = 0.\n",
    "        return (real_pos, real_neg)\n",
    "\n",
    "    def sumstats_mi(thresh):\n",
    "        #Get the top thresh Gtest scores\n",
    "        g_pos = bd.plot_wcrank(gtest, seqlen, thresh*2)\n",
    "        g_pos[np.tril_indices(seqlen)] = 0.\n",
    "        #Get the bottom thresh SoM scores\n",
    "        g_neg = (~g_pos.astype('bool'))*1 #incantation converts binary to boolean, flips them then back to binary\n",
    "\n",
    "        TP = np.sum(real_pos*g_pos)\n",
    "        FP = np.sum(real_neg*g_pos)\n",
    "        TN = np.sum(real_neg*g_neg)\n",
    "        FN = np.sum(real_pos*g_neg)\n",
    "\n",
    "        PPV = TP/(TP+FP)\n",
    "        FDR = FP/(TP+FP)\n",
    "        TPR = TP/(TP+FN)\n",
    "\n",
    "        return (PPV, FDR, TPR, TP, FP, TN, FN)\n",
    "    \n",
    "    def sumstats(thresh):\n",
    "        #Get the top thresh SoM scores\n",
    "        som_pos = bd.plot_wcrank(C, seqlen, thresh*2)\n",
    "        som_pos[np.tril_indices(seqlen)] = 0.\n",
    "        #Get the bottom thresh SoM scores\n",
    "        som_neg = (~som_pos.astype('bool'))*1 #incantation converts binary to boolean, flips them then back to binary\n",
    "\n",
    "        TP = np.sum(real_pos*som_pos)\n",
    "        FP = np.sum(real_neg*som_pos)\n",
    "        TN = np.sum(real_neg*som_neg)\n",
    "        FN = np.sum(real_pos*som_neg)\n",
    "\n",
    "        PPV = TP/(TP+FP)\n",
    "        FDR = FP/(TP+FP)\n",
    "        TPR = TP/(TP+FN)\n",
    "\n",
    "        return (PPV, FDR, TPR, TP, FP, TN, FN)\n",
    "\n",
    "    def sumstats_EC(thresh):\n",
    "        #Top thresh EC scores\n",
    "        n_EC_P = len(EC_df.iloc[:thresh, :])\n",
    "        EC_pos = np.zeros((seqlen,seqlen))\n",
    "        for ii in range(n_EC_P):\n",
    "            EC_pos[EC_df.iloc[ii, 1], EC_df.iloc[ii, 2]] = 1.\n",
    "        EC_neg = np.ones((seqlen,seqlen))\n",
    "        for ii in range(n_EC_P):\n",
    "            EC_neg[EC_df.iloc[ii, 1], EC_df.iloc[ii, 2]] = 0.\n",
    "\n",
    "        TP = np.sum(real_pos*EC_pos)\n",
    "        FP = np.sum(real_neg*EC_pos)\n",
    "        TN = np.sum(real_neg*EC_neg)\n",
    "        FN = np.sum(real_pos*EC_neg)\n",
    "\n",
    "        PPV = TP/(TP+FP)\n",
    "        FDR = FP/(TP+FP)\n",
    "        TPR = TP/(TP+FN)\n",
    "\n",
    "        return (PPV, FDR, TPR, TP, FP, TN, FN)\n",
    "    \n",
    "    real_pos, real_neg = groundtruth(comp=comp)\n",
    "    extent = seqlen\n",
    "\n",
    "    EC_ppv = []\n",
    "    EC_tpr = []\n",
    "    SoM_ppv = []\n",
    "    SoM_tpr = []\n",
    "    g_ppv = []\n",
    "    g_tpr = []\n",
    "    for tr in range(extent):\n",
    "        ecst = sumstats_EC(tr)\n",
    "        somst = sumstats(tr)\n",
    "        gst = sumstats_mi(tr)\n",
    "\n",
    "        EC_ppv.append(ecst[0])\n",
    "        EC_tpr.append(ecst[2])\n",
    "\n",
    "        SoM_ppv.append(somst[0])\n",
    "        SoM_tpr.append(somst[2])\n",
    "        \n",
    "        g_ppv.append(gst[0])\n",
    "        g_tpr.append(gst[2])        \n",
    "        \n",
    "\n",
    "    fig = plt.figure(figsize=(12,5))\n",
    "    ax1 = fig.add_subplot(1,2,1)\n",
    "    ax1.plot(range(extent),SoM_ppv, '-b', label='SoM')\n",
    "    ax1.plot(range(extent),EC_ppv, '-r', label='EC')\n",
    "    ax1.plot(range(extent),g_ppv, '-g', label='MI')\n",
    "    ax1.set_xlabel('Number of contacts predicted')\n",
    "    ax1.set_ylabel('Positive Predictive Value')\n",
    "    ax1.legend()\n",
    "\n",
    "    ax2 = fig.add_subplot(1,2,2)\n",
    "    ax2.plot(range(extent),SoM_tpr, 'b', label='SoM')\n",
    "    ax2.plot(range(extent),EC_tpr, '-r', label='EC')\n",
    "    ax2.plot(range(extent),g_tpr, '-g', label='MI')\n",
    "    ax2.set_xlabel('Number of contacts predicted')\n",
    "    ax2.set_ylabel('True Positive Rate')\n",
    "    ax2.legend()\n",
    "    \n",
    "    \n",
    "    if comp == 'atom_dist':\n",
    "        ax1.set_title('Contacts within %sA predicted'%(min_dist))\n",
    "        ax2.set_title('Contacts within %sA predicted'%(min_dist))\n",
    "        quanttitle = '%sA_contacts'%(min_dist)\n",
    "    if comp == 'cWW_int':\n",
    "        ax1.set_title('cWW interactions predicted')\n",
    "        ax2.set_title('cWW interactions predicted')\n",
    "        quanttitle = 'cWW_int'\n",
    "        \n",
    "    plt.savefig('%s/Images_mlp/%s_%s_stats.png'%(fam,fam,quanttitle))\n",
    "    plt.savefig('Stats_graphs/%s_%s_stats.png'%(fam, quanttitle))\n",
    "    plt.close('all')\n",
    "    \n",
    "    ######### QUANTITATIVE CONTACTS ###########"
   ]
  },
  {
   "cell_type": "code",
   "execution_count": 2,
   "metadata": {
    "collapsed": true
   },
   "outputs": [],
   "source": [
    "#Load the SoM results file\n",
    "families = ['RF00002', 'RF00005', 'RF00010', 'RF00017', 'RF00023', 'RF00050',\n",
    "            'RF00059', 'RF00162', 'RF00167', 'RF00169', 'RF00174', 'RF00234',\n",
    "            'RF00380', 'RF00504', 'RF01734', 'RF01786', 'RF01831', 'RF01852', 'RF02001']#, 'RF01960']\n",
    "\n",
    "numhidden = 512"
   ]
  },
  {
   "cell_type": "code",
   "execution_count": 32,
   "metadata": {
    "collapsed": false
   },
   "outputs": [
    {
     "name": "stdout",
     "output_type": "stream",
     "text": [
      "RF00002\n"
     ]
    },
    {
     "name": "stderr",
     "output_type": "stream",
     "text": [
      "/home/peter/anaconda2/envs/tensorflow/lib/python2.7/site-packages/ipykernel/__main__.py:139: RuntimeWarning: invalid value encountered in double_scalars\n",
      "/home/peter/anaconda2/envs/tensorflow/lib/python2.7/site-packages/ipykernel/__main__.py:140: RuntimeWarning: invalid value encountered in double_scalars\n",
      "/home/peter/anaconda2/envs/tensorflow/lib/python2.7/site-packages/ipykernel/__main__.py:118: RuntimeWarning: invalid value encountered in double_scalars\n",
      "/home/peter/anaconda2/envs/tensorflow/lib/python2.7/site-packages/ipykernel/__main__.py:119: RuntimeWarning: invalid value encountered in double_scalars\n",
      "/home/peter/anaconda2/envs/tensorflow/lib/python2.7/site-packages/ipykernel/__main__.py:100: RuntimeWarning: invalid value encountered in double_scalars\n",
      "/home/peter/anaconda2/envs/tensorflow/lib/python2.7/site-packages/ipykernel/__main__.py:101: RuntimeWarning: invalid value encountered in double_scalars\n"
     ]
    },
    {
     "name": "stdout",
     "output_type": "stream",
     "text": [
      "Graphs made: 15.03s\n",
      "RF00005\n",
      "Graphs made: 4.71s\n",
      "RF00010\n",
      "Graphs made: 1min 29.040000000000006s\n",
      "RF00017\n",
      "Graphs made: 59.1s\n",
      "RF00023\n",
      "Graphs made: 1min 32.370000000000005s\n",
      "RF00050\n",
      "Graphs made: 11.55s\n",
      "RF00059\n",
      "Graphs made: 7.61s\n",
      "RF00162\n",
      "Graphs made: 7.94s\n",
      "RF00167\n",
      "Graphs made: 7.39s\n",
      "RF00169\n",
      "Graphs made: 6.88s\n",
      "RF00174\n",
      "Graphs made: 21.64s\n",
      "RF00234\n",
      "Graphs made: 15.94s\n",
      "RF00380\n",
      "Graphs made: 17.82s\n",
      "RF00504\n",
      "Graphs made: 6.08s\n",
      "RF01734\n",
      "Graphs made: 4.0s\n",
      "RF01786\n",
      "Graphs made: 5.61s\n",
      "RF01831\n",
      "Graphs made: 7.0s\n",
      "RF01852\n",
      "Graphs made: 5.89s\n",
      "RF02001\n",
      "Graphs made: 18.36s\n"
     ]
    }
   ],
   "source": [
    "for fam in families:\n",
    "    starttime = time.time()\n",
    "    print (fam)\n",
    "    vis_contacts(fam, min_dist=5.0, comp='atom_dist')\n",
    "    vis_contacts(fam, min_dist=5.0, comp='cWW_int')\n",
    "    print ('Graphs made:', mf.sectotime(time.time()-starttime))"
   ]
  },
  {
   "cell_type": "code",
   "execution_count": 50,
   "metadata": {
    "collapsed": false
   },
   "outputs": [
    {
     "name": "stdout",
     "output_type": "stream",
     "text": [
      "RF00002\n",
      "Gtest and saving: 13min 12.07000000000005s\n",
      "RF00005\n",
      "Gtest and saving: 2min 4.829999999999998s\n",
      "RF00010\n",
      "Gtest and saving: 50.03s\n",
      "RF00017\n",
      "Gtest and saving: 2min 35.83000000000001s\n",
      "RF00023\n",
      "Gtest and saving: 52.39s\n",
      "RF00050\n",
      "Gtest and saving: 5.21s\n",
      "RF00059\n",
      "Gtest and saving: 8.24s\n",
      "RF00162\n",
      "Gtest and saving: 3.66s\n",
      "RF00167\n",
      "Gtest and saving: 1.86s\n",
      "RF00169\n",
      "Gtest and saving: 3.42s\n",
      "RF00174\n",
      "Gtest and saving: 21.87s\n",
      "RF00234\n",
      "Gtest and saving: 1.68s\n",
      "RF00380\n",
      "Gtest and saving: 3.14s\n",
      "RF00504\n",
      "Gtest and saving: 3.51s\n",
      "RF01734\n",
      "Gtest and saving: 0.39s\n",
      "RF01786\n",
      "Gtest and saving: 0.24s\n",
      "RF01831\n",
      "Gtest and saving: 0.52s\n",
      "RF01852\n",
      "Gtest and saving: 1.06s\n",
      "RF02001\n",
      "Gtest and saving: 4.86s\n"
     ]
    }
   ],
   "source": [
    "#Just calculate the MIs and save them for later access\n",
    "#Perform Gtest\n",
    "gtestsave = 'Arrays/marks_gtests.hdf5'\n",
    "with h5py.File(gtestsave, 'w') as f:\n",
    "    for fam in families:\n",
    "        starttime = time.time()\n",
    "        filename = '../../data_marks/%s/%s_red.hdf5'%(fam, fam)\n",
    "        with h5py.File(filename, 'r') as dataset:\n",
    "            X_data = np.array(dataset['X_data'])\n",
    "        numdata = X_data.shape[0]\n",
    "        X_data = X_data[:numdata//2, :, 0, :4]\n",
    "        gtest = contacts.g_test(X_data)\n",
    "        gtest[np.isnan(gtest)] = 0.\n",
    "        gtest = contacts.apc_correction(gtest)\n",
    "        f.create_dataset('%s_gtest'%(fam), data=gtest.astype(np.float32), compression='gzip')\n",
    "        print (fam)\n",
    "        print ('Gtest and saving:', mf.sectotime(time.time()-starttime))"
   ]
  },
  {
   "cell_type": "code",
   "execution_count": 3,
   "metadata": {
    "collapsed": false
   },
   "outputs": [
    {
     "ename": "KeyboardInterrupt",
     "evalue": "",
     "output_type": "error",
     "traceback": [
      "\u001b[0;31m---------------------------------------------------------------------------\u001b[0m",
      "\u001b[0;31mKeyboardInterrupt\u001b[0m                         Traceback (most recent call last)",
      "\u001b[0;32m<ipython-input-3-bfeb023f61e1>\u001b[0m in \u001b[0;36m<module>\u001b[0;34m()\u001b[0m\n\u001b[1;32m     10\u001b[0m         \u001b[0mnumdata\u001b[0m \u001b[0;34m=\u001b[0m \u001b[0mX_data\u001b[0m\u001b[0;34m.\u001b[0m\u001b[0mshape\u001b[0m\u001b[0;34m[\u001b[0m\u001b[0;36m0\u001b[0m\u001b[0;34m]\u001b[0m\u001b[0;34m\u001b[0m\u001b[0m\n\u001b[1;32m     11\u001b[0m         \u001b[0mX_data\u001b[0m \u001b[0;34m=\u001b[0m \u001b[0mX_data\u001b[0m\u001b[0;34m[\u001b[0m\u001b[0;34m:\u001b[0m\u001b[0mnumdata\u001b[0m\u001b[0;34m//\u001b[0m\u001b[0;36m2\u001b[0m\u001b[0;34m,\u001b[0m \u001b[0;34m:\u001b[0m\u001b[0;34m,\u001b[0m \u001b[0;36m0\u001b[0m\u001b[0;34m,\u001b[0m \u001b[0;34m:\u001b[0m\u001b[0;36m4\u001b[0m\u001b[0;34m]\u001b[0m\u001b[0;34m\u001b[0m\u001b[0m\n\u001b[0;32m---> 12\u001b[0;31m         \u001b[0mMI\u001b[0m \u001b[0;34m=\u001b[0m \u001b[0mcontacts\u001b[0m\u001b[0;34m.\u001b[0m\u001b[0mmutual_information\u001b[0m\u001b[0;34m(\u001b[0m\u001b[0mX_data\u001b[0m\u001b[0;34m)\u001b[0m\u001b[0;34m\u001b[0m\u001b[0m\n\u001b[0m\u001b[1;32m     13\u001b[0m         \u001b[0mMI\u001b[0m\u001b[0;34m[\u001b[0m\u001b[0mnp\u001b[0m\u001b[0;34m.\u001b[0m\u001b[0misnan\u001b[0m\u001b[0;34m(\u001b[0m\u001b[0mMI\u001b[0m\u001b[0;34m)\u001b[0m\u001b[0;34m]\u001b[0m \u001b[0;34m=\u001b[0m \u001b[0;36m0.\u001b[0m\u001b[0;34m\u001b[0m\u001b[0m\n\u001b[1;32m     14\u001b[0m         \u001b[0mMI\u001b[0m \u001b[0;34m=\u001b[0m \u001b[0mcontacts\u001b[0m\u001b[0;34m.\u001b[0m\u001b[0mapc_correction\u001b[0m\u001b[0;34m(\u001b[0m\u001b[0mMI\u001b[0m\u001b[0;34m)\u001b[0m\u001b[0;34m\u001b[0m\u001b[0m\n",
      "\u001b[0;32m/home/peter/steffan/rna_secstructure/rna_secstructure_code/marks/contacts.py\u001b[0m in \u001b[0;36mmutual_information\u001b[0;34m(X, batch_size)\u001b[0m\n\u001b[1;32m     98\u001b[0m         \u001b[0;32mreturn\u001b[0m \u001b[0mmi_list\u001b[0m\u001b[0;34m\u001b[0m\u001b[0m\n\u001b[1;32m     99\u001b[0m     \u001b[0;32melse\u001b[0m\u001b[0;34m:\u001b[0m\u001b[0;34m\u001b[0m\u001b[0m\n\u001b[0;32m--> 100\u001b[0;31m         \u001b[0;32mreturn\u001b[0m \u001b[0mclean_diagonal_cmap\u001b[0m\u001b[0;34m(\u001b[0m\u001b[0mcalculate_mi\u001b[0m\u001b[0;34m(\u001b[0m\u001b[0mX\u001b[0m\u001b[0;34m,\u001b[0m \u001b[0mbatch_size\u001b[0m\u001b[0;34m)\u001b[0m\u001b[0;34m)\u001b[0m\u001b[0;34m\u001b[0m\u001b[0m\n\u001b[0m\u001b[1;32m    101\u001b[0m \u001b[0;34m\u001b[0m\u001b[0m\n\u001b[1;32m    102\u001b[0m \u001b[0;34m\u001b[0m\u001b[0m\n",
      "\u001b[0;32m/home/peter/steffan/rna_secstructure/rna_secstructure_code/marks/contacts.py\u001b[0m in \u001b[0;36mcalculate_mi\u001b[0;34m(X, batch_size)\u001b[0m\n\u001b[1;32m     79\u001b[0m                 \u001b[0mf_ij\u001b[0m \u001b[0;34m=\u001b[0m \u001b[0;36m0\u001b[0m\u001b[0;34m\u001b[0m\u001b[0m\n\u001b[1;32m     80\u001b[0m                 \u001b[0;32mfor\u001b[0m \u001b[0mindex\u001b[0m \u001b[0;32min\u001b[0m \u001b[0mbg\u001b[0m\u001b[0;34m.\u001b[0m\u001b[0mindices\u001b[0m\u001b[0;34m:\u001b[0m\u001b[0;34m\u001b[0m\u001b[0m\n\u001b[0;32m---> 81\u001b[0;31m                     \u001b[0mf_ij\u001b[0m \u001b[0;34m+=\u001b[0m \u001b[0mnp\u001b[0m\u001b[0;34m.\u001b[0m\u001b[0mdot\u001b[0m\u001b[0;34m(\u001b[0m\u001b[0mnp\u001b[0m\u001b[0;34m.\u001b[0m\u001b[0mtranspose\u001b[0m\u001b[0;34m(\u001b[0m\u001b[0mresid_i\u001b[0m\u001b[0;34m[\u001b[0m\u001b[0mindex\u001b[0m\u001b[0;34m]\u001b[0m\u001b[0;34m)\u001b[0m\u001b[0;34m,\u001b[0m \u001b[0mresid_j\u001b[0m\u001b[0;34m[\u001b[0m\u001b[0mindex\u001b[0m\u001b[0;34m]\u001b[0m\u001b[0;34m)\u001b[0m\u001b[0;34m\u001b[0m\u001b[0m\n\u001b[0m\u001b[1;32m     82\u001b[0m                 \u001b[0mf_ij\u001b[0m \u001b[0;34m/=\u001b[0m \u001b[0mN\u001b[0m\u001b[0;34m\u001b[0m\u001b[0m\n\u001b[1;32m     83\u001b[0m \u001b[0;34m\u001b[0m\u001b[0m\n",
      "\u001b[0;31mKeyboardInterrupt\u001b[0m: "
     ]
    }
   ],
   "source": [
    "#Just calculate the MIs and save them for later access\n",
    "#Perform normal MI\n",
    "gtestsave = 'Arrays/marks_MI.hdf5'\n",
    "with h5py.File(gtestsave, 'w') as f:\n",
    "    for fam in families:\n",
    "        starttime = time.time()\n",
    "        filename = '../../data_marks/%s/%s_red.hdf5'%(fam, fam)\n",
    "        with h5py.File(filename, 'r') as dataset:\n",
    "            X_data = np.array(dataset['X_data'])\n",
    "        numdata = X_data.shape[0]\n",
    "        X_data = X_data[:numdata//2, :, 0, :4]\n",
    "        MI = contacts.mutual_information(X_data)\n",
    "        MI[np.isnan(MI)] = 0.\n",
    "        MI = contacts.apc_correction(MI)\n",
    "        f.create_dataset('%s_MI'%(fam), data=MI.astype(np.float32), compression='gzip')\n",
    "        print (fam)\n",
    "        print ('MI calculation and saving:', mf.sectotime(time.time()-starttime))"
   ]
  },
  {
   "cell_type": "code",
   "execution_count": null,
   "metadata": {
    "collapsed": true
   },
   "outputs": [],
   "source": [
    "ec_col = EC_df.loc[:seqlen//2, ['score']]\n",
    "som_col = [C[ii,jj] for ii,jj in zip(SoM_top[0],SoM_top[1])]"
   ]
  },
  {
   "cell_type": "markdown",
   "metadata": {
    "collapsed": true
   },
   "source": [
    "# Get performance metrics"
   ]
  },
  {
   "cell_type": "code",
   "execution_count": 14,
   "metadata": {
    "collapsed": false
   },
   "outputs": [
    {
     "data": {
      "text/html": [
       "<div>\n",
       "<style scoped>\n",
       "    .dataframe tbody tr th:only-of-type {\n",
       "        vertical-align: middle;\n",
       "    }\n",
       "\n",
       "    .dataframe tbody tr th {\n",
       "        vertical-align: top;\n",
       "    }\n",
       "\n",
       "    .dataframe thead th {\n",
       "        text-align: right;\n",
       "    }\n",
       "</style>\n",
       "<table border=\"1\" class=\"dataframe\">\n",
       "  <thead>\n",
       "    <tr style=\"text-align: right;\">\n",
       "      <th></th>\n",
       "      <th>Model Architecture</th>\n",
       "      <th>Family</th>\n",
       "      <th>Accuracy</th>\n",
       "    </tr>\n",
       "  </thead>\n",
       "  <tbody>\n",
       "    <tr>\n",
       "      <th>0</th>\n",
       "      <td>mlp</td>\n",
       "      <td>RF00002</td>\n",
       "      <td>0.999774</td>\n",
       "    </tr>\n",
       "    <tr>\n",
       "      <th>1</th>\n",
       "      <td>mlp</td>\n",
       "      <td>RF00005</td>\n",
       "      <td>0.999414</td>\n",
       "    </tr>\n",
       "    <tr>\n",
       "      <th>2</th>\n",
       "      <td>mlp</td>\n",
       "      <td>RF00010</td>\n",
       "      <td>0.999219</td>\n",
       "    </tr>\n",
       "    <tr>\n",
       "      <th>3</th>\n",
       "      <td>mlp</td>\n",
       "      <td>RF00017</td>\n",
       "      <td>0.997576</td>\n",
       "    </tr>\n",
       "    <tr>\n",
       "      <th>4</th>\n",
       "      <td>mlp</td>\n",
       "      <td>RF00023</td>\n",
       "      <td>0.999165</td>\n",
       "    </tr>\n",
       "  </tbody>\n",
       "</table>\n",
       "</div>"
      ],
      "text/plain": [
       "  Model Architecture   Family  Accuracy\n",
       "0                mlp  RF00002  0.999774\n",
       "1                mlp  RF00005  0.999414\n",
       "2                mlp  RF00010  0.999219\n",
       "3                mlp  RF00017  0.997576\n",
       "4                mlp  RF00023  0.999165"
      ]
     },
     "execution_count": 14,
     "metadata": {},
     "output_type": "execute_result"
    }
   ],
   "source": [
    "metricfile = 'test_metrics.csv'\n",
    "metrics = pd.read_csv(metricfile)[['Model Architecture', 'Family', 'Accuracy']]\n",
    "mlp_met = metrics[metrics['Model Architecture'] == 'mlp']\n",
    "redidx = [False if 'bpm' in e else True for e in mlp_met['Family']]\n",
    "mlp_met = mlp_met[redidx]\n",
    "metfamidx = mlp_met.set_index('Family')['Accuracy']\n",
    "mlp_met.head()"
   ]
  },
  {
   "cell_type": "code",
   "execution_count": 56,
   "metadata": {
    "collapsed": false
   },
   "outputs": [
    {
     "name": "stderr",
     "output_type": "stream",
     "text": [
      "/Users/steffanpaul/anaconda/envs/tensorflow/lib/python3.6/site-packages/matplotlib/figure.py:2366: UserWarning: This figure includes Axes that are not compatible with tight_layout, so results might be incorrect.\n",
      "  warnings.warn(\"This figure includes Axes that are not compatible \"\n"
     ]
    },
    {
     "data": {
      "image/png": "[encoded data removed]",
      "text/plain": [
       "<Figure size 216x288 with 1 Axes>"
      ]
     },
     "metadata": {},
     "output_type": "display_data"
    }
   ],
   "source": [
    "plt.figure(figsize=(3,4))\n",
    "sb.stripplot(y='Accuracy', data=mlp_met, jitter=True,\n",
    "             edgecolor='k', color='r',size=10, linewidth=1.5)\n",
    "plt.ylim([0.85, 1.02])\n",
    "plt.yticks(np.linspace(0.85,1.0,7))\n",
    "plt.show()"
   ]
  },
  {
   "cell_type": "markdown",
   "metadata": {},
   "source": [
    "# Contact vis compared to infernal SS"
   ]
  },
  {
   "cell_type": "code",
   "execution_count": 99,
   "metadata": {
    "collapsed": false
   },
   "outputs": [
    {
     "ename": "FileNotFoundError",
     "evalue": "[Errno 2] No such file or directory: '../../data_marks/RF00162/RF00162_red.cyk.sto'",
     "output_type": "error",
     "traceback": [
      "\u001b[0;31m---------------------------------------------------------------------------\u001b[0m",
      "\u001b[0;31mFileNotFoundError\u001b[0m                         Traceback (most recent call last)",
      "\u001b[0;32m<ipython-input-99-a3ecc0df9f3c>\u001b[0m in \u001b[0;36m<module>\u001b[0;34m()\u001b[0m\n\u001b[1;32m      4\u001b[0m \u001b[0mcykfile\u001b[0m \u001b[0;34m=\u001b[0m \u001b[0;34m'../../data_marks/%s/%s_red.cyk.sto'\u001b[0m\u001b[0;34m%\u001b[0m\u001b[0;34m(\u001b[0m\u001b[0mfam\u001b[0m\u001b[0;34m,\u001b[0m\u001b[0mfam\u001b[0m\u001b[0;34m)\u001b[0m\u001b[0;34m\u001b[0m\u001b[0;34m\u001b[0m\u001b[0m\n\u001b[1;32m      5\u001b[0m \u001b[0mSS\u001b[0m \u001b[0;34m=\u001b[0m \u001b[0;34m''\u001b[0m\u001b[0;34m\u001b[0m\u001b[0;34m\u001b[0m\u001b[0m\n\u001b[0;32m----> 6\u001b[0;31m \u001b[0;32mwith\u001b[0m \u001b[0mopen\u001b[0m\u001b[0;34m(\u001b[0m\u001b[0mcykfile\u001b[0m\u001b[0;34m,\u001b[0m \u001b[0;34m'r'\u001b[0m\u001b[0;34m)\u001b[0m \u001b[0;32mas\u001b[0m \u001b[0mf1\u001b[0m\u001b[0;34m:\u001b[0m\u001b[0;34m\u001b[0m\u001b[0;34m\u001b[0m\u001b[0m\n\u001b[0m\u001b[1;32m      7\u001b[0m     \u001b[0;32mfor\u001b[0m \u001b[0mline\u001b[0m \u001b[0;32min\u001b[0m \u001b[0mf1\u001b[0m\u001b[0;34m:\u001b[0m\u001b[0;34m\u001b[0m\u001b[0;34m\u001b[0m\u001b[0m\n\u001b[1;32m      8\u001b[0m         \u001b[0;32mif\u001b[0m \u001b[0mline\u001b[0m\u001b[0;34m[\u001b[0m\u001b[0;34m:\u001b[0m\u001b[0;36m13\u001b[0m\u001b[0;34m]\u001b[0m \u001b[0;34m==\u001b[0m \u001b[0;34m'#=GC SS_cons '\u001b[0m\u001b[0;34m:\u001b[0m\u001b[0;34m\u001b[0m\u001b[0;34m\u001b[0m\u001b[0m\n",
      "\u001b[0;31mFileNotFoundError\u001b[0m: [Errno 2] No such file or directory: '../../data_marks/RF00162/RF00162_red.cyk.sto'"
     ]
    }
   ],
   "source": [
    "#first get the nested SS (from R-scape for now)\n",
    "#open the sto file to see if pseudoknots are present\n",
    "fam = 'RF00162'\n",
    "cykfile = '../../data_marks/%s/%s_red.cyk.sto'%(fam,fam)\n",
    "SS = ''\n",
    "with open(cykfile, 'r') as f1:\n",
    "    for line in f1:\n",
    "        if line[:13] == '#=GC SS_cons ':\n",
    "            line = line.split()\n",
    "            SS = SS + line[2]\n",
    "            \n",
    "nest_coords = bd.bp_coords(SS)\n",
    "nest_coords = nest_coords[:len(nest_coords)//2]"
   ]
  },
  {
   "cell_type": "code",
   "execution_count": 100,
   "metadata": {
    "collapsed": false
   },
   "outputs": [
    {
     "ename": "ValueError",
     "evalue": "'c' argument has 17 elements, which is not acceptable for use with 'x' with size 33, 'y' with size 33.",
     "output_type": "error",
     "traceback": [
      "\u001b[0;31m---------------------------------------------------------------------------\u001b[0m",
      "\u001b[0;31mKeyError\u001b[0m                                  Traceback (most recent call last)",
      "\u001b[0;32m~/anaconda/envs/tensorflow/lib/python3.6/site-packages/matplotlib/colors.py\u001b[0m in \u001b[0;36mto_rgba\u001b[0;34m(c, alpha)\u001b[0m\n\u001b[1;32m    173\u001b[0m     \u001b[0;32mtry\u001b[0m\u001b[0;34m:\u001b[0m\u001b[0;34m\u001b[0m\u001b[0;34m\u001b[0m\u001b[0m\n\u001b[0;32m--> 174\u001b[0;31m         \u001b[0mrgba\u001b[0m \u001b[0;34m=\u001b[0m \u001b[0m_colors_full_map\u001b[0m\u001b[0;34m.\u001b[0m\u001b[0mcache\u001b[0m\u001b[0;34m[\u001b[0m\u001b[0mc\u001b[0m\u001b[0;34m,\u001b[0m \u001b[0malpha\u001b[0m\u001b[0;34m]\u001b[0m\u001b[0;34m\u001b[0m\u001b[0;34m\u001b[0m\u001b[0m\n\u001b[0m\u001b[1;32m    175\u001b[0m     \u001b[0;32mexcept\u001b[0m \u001b[0;34m(\u001b[0m\u001b[0mKeyError\u001b[0m\u001b[0;34m,\u001b[0m \u001b[0mTypeError\u001b[0m\u001b[0;34m)\u001b[0m\u001b[0;34m:\u001b[0m  \u001b[0;31m# Not in cache, or unhashable.\u001b[0m\u001b[0;34m\u001b[0m\u001b[0;34m\u001b[0m\u001b[0m\n",
      "\u001b[0;31mKeyError\u001b[0m: (0.7623762376237624, None)",
      "\nDuring handling of the above exception, another exception occurred:\n",
      "\u001b[0;31mValueError\u001b[0m                                Traceback (most recent call last)",
      "\u001b[0;32m~/anaconda/envs/tensorflow/lib/python3.6/site-packages/matplotlib/axes/_axes.py\u001b[0m in \u001b[0;36mscatter\u001b[0;34m(self, x, y, s, c, marker, cmap, norm, vmin, vmax, alpha, linewidths, verts, edgecolors, **kwargs)\u001b[0m\n\u001b[1;32m   4231\u001b[0m             \u001b[0;32mtry\u001b[0m\u001b[0;34m:\u001b[0m  \u001b[0;31m# Then is 'c' acceptable as PathCollection facecolors?\u001b[0m\u001b[0;34m\u001b[0m\u001b[0;34m\u001b[0m\u001b[0m\n\u001b[0;32m-> 4232\u001b[0;31m                 \u001b[0mcolors\u001b[0m \u001b[0;34m=\u001b[0m \u001b[0mmcolors\u001b[0m\u001b[0;34m.\u001b[0m\u001b[0mto_rgba_array\u001b[0m\u001b[0;34m(\u001b[0m\u001b[0mc\u001b[0m\u001b[0;34m)\u001b[0m\u001b[0;34m\u001b[0m\u001b[0;34m\u001b[0m\u001b[0m\n\u001b[0m\u001b[1;32m   4233\u001b[0m                 \u001b[0mn_elem\u001b[0m \u001b[0;34m=\u001b[0m \u001b[0mcolors\u001b[0m\u001b[0;34m.\u001b[0m\u001b[0mshape\u001b[0m\u001b[0;34m[\u001b[0m\u001b[0;36m0\u001b[0m\u001b[0;34m]\u001b[0m\u001b[0;34m\u001b[0m\u001b[0;34m\u001b[0m\u001b[0m\n",
      "\u001b[0;32m~/anaconda/envs/tensorflow/lib/python3.6/site-packages/matplotlib/colors.py\u001b[0m in \u001b[0;36mto_rgba_array\u001b[0;34m(c, alpha)\u001b[0m\n\u001b[1;32m    274\u001b[0m     \u001b[0;32mfor\u001b[0m \u001b[0mi\u001b[0m\u001b[0;34m,\u001b[0m \u001b[0mcc\u001b[0m \u001b[0;32min\u001b[0m \u001b[0menumerate\u001b[0m\u001b[0;34m(\u001b[0m\u001b[0mc\u001b[0m\u001b[0;34m)\u001b[0m\u001b[0;34m:\u001b[0m\u001b[0;34m\u001b[0m\u001b[0;34m\u001b[0m\u001b[0m\n\u001b[0;32m--> 275\u001b[0;31m         \u001b[0mresult\u001b[0m\u001b[0;34m[\u001b[0m\u001b[0mi\u001b[0m\u001b[0;34m]\u001b[0m \u001b[0;34m=\u001b[0m \u001b[0mto_rgba\u001b[0m\u001b[0;34m(\u001b[0m\u001b[0mcc\u001b[0m\u001b[0;34m,\u001b[0m \u001b[0malpha\u001b[0m\u001b[0;34m)\u001b[0m\u001b[0;34m\u001b[0m\u001b[0;34m\u001b[0m\u001b[0m\n\u001b[0m\u001b[1;32m    276\u001b[0m     \u001b[0;32mreturn\u001b[0m \u001b[0mresult\u001b[0m\u001b[0;34m\u001b[0m\u001b[0;34m\u001b[0m\u001b[0m\n",
      "\u001b[0;32m~/anaconda/envs/tensorflow/lib/python3.6/site-packages/matplotlib/colors.py\u001b[0m in \u001b[0;36mto_rgba\u001b[0;34m(c, alpha)\u001b[0m\n\u001b[1;32m    175\u001b[0m     \u001b[0;32mexcept\u001b[0m \u001b[0;34m(\u001b[0m\u001b[0mKeyError\u001b[0m\u001b[0;34m,\u001b[0m \u001b[0mTypeError\u001b[0m\u001b[0;34m)\u001b[0m\u001b[0;34m:\u001b[0m  \u001b[0;31m# Not in cache, or unhashable.\u001b[0m\u001b[0;34m\u001b[0m\u001b[0;34m\u001b[0m\u001b[0m\n\u001b[0;32m--> 176\u001b[0;31m         \u001b[0mrgba\u001b[0m \u001b[0;34m=\u001b[0m \u001b[0m_to_rgba_no_colorcycle\u001b[0m\u001b[0;34m(\u001b[0m\u001b[0mc\u001b[0m\u001b[0;34m,\u001b[0m \u001b[0malpha\u001b[0m\u001b[0;34m)\u001b[0m\u001b[0;34m\u001b[0m\u001b[0;34m\u001b[0m\u001b[0m\n\u001b[0m\u001b[1;32m    177\u001b[0m         \u001b[0;32mtry\u001b[0m\u001b[0;34m:\u001b[0m\u001b[0;34m\u001b[0m\u001b[0;34m\u001b[0m\u001b[0m\n",
      "\u001b[0;32m~/anaconda/envs/tensorflow/lib/python3.6/site-packages/matplotlib/colors.py\u001b[0m in \u001b[0;36m_to_rgba_no_colorcycle\u001b[0;34m(c, alpha)\u001b[0m\n\u001b[1;32m    226\u001b[0m         \u001b[0;31m# Test dimensionality to reject single floats.\u001b[0m\u001b[0;34m\u001b[0m\u001b[0;34m\u001b[0m\u001b[0;34m\u001b[0m\u001b[0m\n\u001b[0;32m--> 227\u001b[0;31m         \u001b[0;32mraise\u001b[0m \u001b[0mValueError\u001b[0m\u001b[0;34m(\u001b[0m\u001b[0;34m\"Invalid RGBA argument: {!r}\"\u001b[0m\u001b[0;34m.\u001b[0m\u001b[0mformat\u001b[0m\u001b[0;34m(\u001b[0m\u001b[0morig_c\u001b[0m\u001b[0;34m)\u001b[0m\u001b[0;34m)\u001b[0m\u001b[0;34m\u001b[0m\u001b[0;34m\u001b[0m\u001b[0m\n\u001b[0m\u001b[1;32m    228\u001b[0m     \u001b[0;31m# Return a tuple to prevent the cached value from being modified.\u001b[0m\u001b[0;34m\u001b[0m\u001b[0;34m\u001b[0m\u001b[0;34m\u001b[0m\u001b[0m\n",
      "\u001b[0;31mValueError\u001b[0m: Invalid RGBA argument: 0.7623762376237624",
      "\nDuring handling of the above exception, another exception occurred:\n",
      "\u001b[0;31mValueError\u001b[0m                                Traceback (most recent call last)",
      "\u001b[0;32m<ipython-input-100-4cd1fc601be5>\u001b[0m in \u001b[0;36m<module>\u001b[0;34m()\u001b[0m\n\u001b[1;32m     40\u001b[0m \u001b[0mfig\u001b[0m \u001b[0;34m=\u001b[0m \u001b[0mplt\u001b[0m\u001b[0;34m.\u001b[0m\u001b[0mfigure\u001b[0m\u001b[0;34m(\u001b[0m\u001b[0mfigsize\u001b[0m\u001b[0;34m=\u001b[0m\u001b[0;34m(\u001b[0m\u001b[0;36m15\u001b[0m\u001b[0;34m,\u001b[0m\u001b[0;36m15\u001b[0m\u001b[0;34m)\u001b[0m\u001b[0;34m)\u001b[0m\u001b[0;34m\u001b[0m\u001b[0;34m\u001b[0m\u001b[0m\n\u001b[1;32m     41\u001b[0m \u001b[0max1\u001b[0m \u001b[0;34m=\u001b[0m \u001b[0mfig\u001b[0m\u001b[0;34m.\u001b[0m\u001b[0madd_subplot\u001b[0m\u001b[0;34m(\u001b[0m\u001b[0;36m2\u001b[0m\u001b[0;34m,\u001b[0m\u001b[0;36m2\u001b[0m\u001b[0;34m,\u001b[0m\u001b[0;36m1\u001b[0m\u001b[0;34m)\u001b[0m\u001b[0;34m\u001b[0m\u001b[0;34m\u001b[0m\u001b[0m\n\u001b[0;32m---> 42\u001b[0;31m \u001b[0max1\u001b[0m\u001b[0;34m.\u001b[0m\u001b[0mscatter\u001b[0m\u001b[0;34m(\u001b[0m\u001b[0mcWW_int\u001b[0m\u001b[0;34m.\u001b[0m\u001b[0miloc\u001b[0m\u001b[0;34m[\u001b[0m\u001b[0;34m:\u001b[0m\u001b[0;34m,\u001b[0m\u001b[0;36m1\u001b[0m\u001b[0;34m]\u001b[0m\u001b[0;34m,\u001b[0m \u001b[0mcWW_int\u001b[0m\u001b[0;34m.\u001b[0m\u001b[0miloc\u001b[0m\u001b[0;34m[\u001b[0m\u001b[0;34m:\u001b[0m\u001b[0;34m,\u001b[0m\u001b[0;36m2\u001b[0m\u001b[0;34m]\u001b[0m\u001b[0;34m,\u001b[0m \u001b[0mc\u001b[0m\u001b[0;34m=\u001b[0m\u001b[0mcol\u001b[0m\u001b[0;34m,\u001b[0m \u001b[0mlabel\u001b[0m \u001b[0;34m=\u001b[0m \u001b[0;34m'SoM'\u001b[0m\u001b[0;34m)\u001b[0m\u001b[0;34m\u001b[0m\u001b[0;34m\u001b[0m\u001b[0m\n\u001b[0m\u001b[1;32m     43\u001b[0m \u001b[0max1\u001b[0m\u001b[0;34m.\u001b[0m\u001b[0mscatter\u001b[0m\u001b[0;34m(\u001b[0m\u001b[0mcWW_int\u001b[0m\u001b[0;34m.\u001b[0m\u001b[0miloc\u001b[0m\u001b[0;34m[\u001b[0m\u001b[0;34m:\u001b[0m\u001b[0;34m,\u001b[0m\u001b[0;36m2\u001b[0m\u001b[0;34m]\u001b[0m\u001b[0;34m,\u001b[0m \u001b[0mcWW_int\u001b[0m\u001b[0;34m.\u001b[0m\u001b[0miloc\u001b[0m\u001b[0;34m[\u001b[0m\u001b[0;34m:\u001b[0m\u001b[0;34m,\u001b[0m\u001b[0;36m1\u001b[0m\u001b[0;34m]\u001b[0m\u001b[0;34m,\u001b[0m \u001b[0mc\u001b[0m\u001b[0;34m=\u001b[0m\u001b[0;34m'm'\u001b[0m\u001b[0;34m,\u001b[0m \u001b[0mlabel\u001b[0m \u001b[0;34m=\u001b[0m \u001b[0;34m'cWW'\u001b[0m\u001b[0;34m)\u001b[0m\u001b[0;34m\u001b[0m\u001b[0;34m\u001b[0m\u001b[0m\n\u001b[1;32m     44\u001b[0m \u001b[0max1\u001b[0m\u001b[0;34m.\u001b[0m\u001b[0mset_title\u001b[0m\u001b[0;34m(\u001b[0m\u001b[0;34m'SoM vs. all cWW contacts'\u001b[0m\u001b[0;34m)\u001b[0m\u001b[0;34m\u001b[0m\u001b[0;34m\u001b[0m\u001b[0m\n",
      "\u001b[0;32m~/anaconda/envs/tensorflow/lib/python3.6/site-packages/matplotlib/__init__.py\u001b[0m in \u001b[0;36minner\u001b[0;34m(ax, data, *args, **kwargs)\u001b[0m\n\u001b[1;32m   1808\u001b[0m                         \u001b[0;34m\"the Matplotlib list!)\"\u001b[0m \u001b[0;34m%\u001b[0m \u001b[0;34m(\u001b[0m\u001b[0mlabel_namer\u001b[0m\u001b[0;34m,\u001b[0m \u001b[0mfunc\u001b[0m\u001b[0;34m.\u001b[0m\u001b[0m__name__\u001b[0m\u001b[0;34m)\u001b[0m\u001b[0;34m,\u001b[0m\u001b[0;34m\u001b[0m\u001b[0;34m\u001b[0m\u001b[0m\n\u001b[1;32m   1809\u001b[0m                         RuntimeWarning, stacklevel=2)\n\u001b[0;32m-> 1810\u001b[0;31m             \u001b[0;32mreturn\u001b[0m \u001b[0mfunc\u001b[0m\u001b[0;34m(\u001b[0m\u001b[0max\u001b[0m\u001b[0;34m,\u001b[0m \u001b[0;34m*\u001b[0m\u001b[0margs\u001b[0m\u001b[0;34m,\u001b[0m \u001b[0;34m**\u001b[0m\u001b[0mkwargs\u001b[0m\u001b[0;34m)\u001b[0m\u001b[0;34m\u001b[0m\u001b[0;34m\u001b[0m\u001b[0m\n\u001b[0m\u001b[1;32m   1811\u001b[0m \u001b[0;34m\u001b[0m\u001b[0m\n\u001b[1;32m   1812\u001b[0m         inner.__doc__ = _add_data_doc(inner.__doc__,\n",
      "\u001b[0;32m~/anaconda/envs/tensorflow/lib/python3.6/site-packages/matplotlib/axes/_axes.py\u001b[0m in \u001b[0;36mscatter\u001b[0;34m(self, x, y, s, c, marker, cmap, norm, vmin, vmax, alpha, linewidths, verts, edgecolors, **kwargs)\u001b[0m\n\u001b[1;32m   4243\u001b[0m                         \u001b[0;34m\"acceptable for use with 'x' with size {xs}, \"\u001b[0m\u001b[0;34m\u001b[0m\u001b[0;34m\u001b[0m\u001b[0m\n\u001b[1;32m   4244\u001b[0m                         \u001b[0;34m\"'y' with size {ys}.\"\u001b[0m\u001b[0;34m\u001b[0m\u001b[0;34m\u001b[0m\u001b[0m\n\u001b[0;32m-> 4245\u001b[0;31m                         \u001b[0;34m.\u001b[0m\u001b[0mformat\u001b[0m\u001b[0;34m(\u001b[0m\u001b[0mnc\u001b[0m\u001b[0;34m=\u001b[0m\u001b[0mn_elem\u001b[0m\u001b[0;34m,\u001b[0m \u001b[0mxs\u001b[0m\u001b[0;34m=\u001b[0m\u001b[0mx\u001b[0m\u001b[0;34m.\u001b[0m\u001b[0msize\u001b[0m\u001b[0;34m,\u001b[0m \u001b[0mys\u001b[0m\u001b[0;34m=\u001b[0m\u001b[0my\u001b[0m\u001b[0;34m.\u001b[0m\u001b[0msize\u001b[0m\u001b[0;34m)\u001b[0m\u001b[0;34m\u001b[0m\u001b[0;34m\u001b[0m\u001b[0m\n\u001b[0m\u001b[1;32m   4246\u001b[0m                     )\n\u001b[1;32m   4247\u001b[0m                 \u001b[0;31m# Both the mapping *and* the RGBA conversion failed: pretty\u001b[0m\u001b[0;34m\u001b[0m\u001b[0;34m\u001b[0m\u001b[0;34m\u001b[0m\u001b[0m\n",
      "\u001b[0;31mValueError\u001b[0m: 'c' argument has 17 elements, which is not acceptable for use with 'x' with size 33, 'y' with size 33."
     ]
    }
   ],
   "source": [
    "######### EXTRACT DATA ###########\n",
    "\n",
    "numhidden = 512\n",
    "min_dist = 5.0\n",
    "\n",
    "#extract SoM results after an APC correction\n",
    "arrayspath = 'Arrays/%s_mlp_%s_red.npy'%(fam,numhidden)\n",
    "hol_mut2 = np.load(arrayspath)\n",
    "seqlen,_, dims,_ = hol_mut2.shape\n",
    "C = bd.get_wc(arrayspath, seqlen, dims, bpugSQ=0, denoise='APC')\n",
    "\n",
    "#Load in the EC annotation\n",
    "ECannotfile = '%s/%s.EC.interaction.txt'%(fam,fam) \n",
    "EC_df = pd.read_csv(ECannotfile, delimiter='\\s+')\n",
    "\n",
    "######### QUALITATIVE CONTACTS ###########\n",
    "\n",
    "#Get the top L/2 SoM scores\n",
    "bp_shade = bd.plot_wcrank(C, seqlen, seqlen//2)\n",
    "bp_shade[np.tril_indices(seqlen)] = 0.\n",
    "SoM_top = np.where(bp_shade > 0.)\n",
    "#Top L/2 EC scores\n",
    "topEC = EC_df.loc[:seqlen//2, ['Rfam_reduced_position1', 'Rfam_reduced_position2']]\n",
    "#All cWW annotated interactions\n",
    "cWW_int = EC_df[EC_df['interactions'] == 'cWW']\n",
    "#All PDB contacts < 8 angstroms\n",
    "close_cont = EC_df[EC_df['minimum_atom_distance'] <= min_dist] \n",
    "\n",
    "#Retrieve Gtest\n",
    "filename = 'Arrays/marks_gtests.hdf5'\n",
    "with h5py.File(filename, 'r') as dataset:\n",
    "    gtest = np.array(dataset['%s_gtest'%(fam)])\n",
    "#Get the top L/2 Gtest scores\n",
    "g_shade = bd.plot_wcrank(gtest, seqlen, seqlen//2)\n",
    "g_shade[np.tril_indices(seqlen)] = 0.\n",
    "gtest_top = np.where(g_shade > 0.)\n",
    "\n",
    "#plot\n",
    "som_col = [C[ii,jj] for ii,jj in zip(SoM_top[0],SoM_top[1])]\n",
    "fig = plt.figure(figsize=(15,15))\n",
    "ax1 = fig.add_subplot(2,2,1)\n",
    "ax1.scatter(cWW_int.iloc[:,1], cWW_int.iloc[:,2], c=col, label = 'SoM')\n",
    "ax1.scatter(cWW_int.iloc[:,2], cWW_int.iloc[:,1], c='m', label = 'cWW')\n",
    "ax1.set_title('SoM vs. all cWW contacts')\n",
    "ax1.legend(loc='center right')\n",
    "\n",
    "'''\n",
    "fig = plt.figure(figsize=(15,15))\n",
    "ax1 = fig.add_subplot(2,2,1)\n",
    "ax1.scatter(SoM_top[0], SoM_top[1], c='b', label = 'SoM')\n",
    "ax1.scatter(cWW_int.iloc[:,2], cWW_int.iloc[:,1], c='m', label = 'cWW')\n",
    "ax1.set_title('SoM vs. all cWW contacts')\n",
    "ax1.legend(loc='center right')\n",
    "\n",
    "ax2 = fig.add_subplot(2,2,2)\n",
    "ax2.scatter(nest_coords[:, 0], nest_coords[:, 1], c='r', label = 'nested')\n",
    "ax2.scatter(cWW_int.iloc[:,2], cWW_int.iloc[:,1], c='m', label = 'cWW')\n",
    "ax2.set_title('Nested base pairs vs. all cWW contacts')\n",
    "ax2.legend(loc='center right')\n",
    "'''\n",
    "plt.show()"
   ]
  },
  {
   "cell_type": "markdown",
   "metadata": {},
   "source": [
    "# Compare PPV/TPR of families at a particular threshold"
   ]
  },
  {
   "cell_type": "code",
   "execution_count": 77,
   "metadata": {
    "collapsed": true
   },
   "outputs": [],
   "source": [
    "def quant_contacts(fam, comp='cWW_int', min_dist=5.0):\n",
    "# using the threshold of L/2\n",
    "    ######### EXTRACT DATA ###########\n",
    "\n",
    "    #extract SoM results after an APC correction\n",
    "    arrayspath = 'Arrays/%s_mlp_%s_red.npy'%(fam,numhidden)\n",
    "    hol_mut2 = np.load(arrayspath)\n",
    "    seqlen,_, dims,_ = hol_mut2.shape\n",
    "    C = bd.get_wc(arrayspath, seqlen, dims, bpugSQ=0, denoise='APC')\n",
    "\n",
    "    #Load in the EC annotation\n",
    "    ECannotfile = '%s/%s.EC.interaction.txt'%(fam,fam) \n",
    "    EC_df = pd.read_csv(ECannotfile, delimiter='\\s+')\n",
    "\n",
    "    ######### QUALITATIVE CONTACTS ###########\n",
    "    #All cWW annotated interactions\n",
    "    cWW_int = EC_df[EC_df['interactions'] == 'cWW']\n",
    "    #All PDB contacts < 8 angstroms\n",
    "    close_cont = EC_df[EC_df['minimum_atom_distance'] <= min_dist] \n",
    "\n",
    "    ######### QUANTITATIVE GRAPHS ###########\n",
    "\n",
    "    #Get the real positive and negative pdb contacts\n",
    "    def groundtruth(comp=comp):\n",
    "\n",
    "        if comp == 'atom_dist':\n",
    "            real_pos = np.zeros((seqlen,seqlen))\n",
    "            for ii in range(len(close_cont)):\n",
    "                real_pos[close_cont.iloc[ii, 1], close_cont.iloc[ii, 2]] = 1.\n",
    "            real_neg = np.ones((seqlen,seqlen))\n",
    "            for ii in range(len(close_cont)):\n",
    "                real_neg[close_cont.iloc[ii, 1], close_cont.iloc[ii, 2]] = 0.\n",
    "                \n",
    "        if comp == 'cWW_int':\n",
    "            real_pos = np.zeros((seqlen,seqlen))\n",
    "            for ii in range(len(cWW_int)):\n",
    "                real_pos[cWW_int.iloc[ii, 1], cWW_int.iloc[ii, 2]] = 1.\n",
    "            real_neg = np.ones((seqlen,seqlen))\n",
    "            for ii in range(len(cWW_int)):\n",
    "                real_neg[cWW_int.iloc[ii, 1], cWW_int.iloc[ii, 2]] = 0.\n",
    "        return (real_pos, real_neg)\n",
    "\n",
    "    def sumstats_mi(thresh):\n",
    "        #Get the top thresh Gtest scores\n",
    "        g_pos = bd.plot_wcrank(gtest, seqlen, thresh*2)\n",
    "        g_pos[np.tril_indices(seqlen)] = 0.\n",
    "        #Get the bottom thresh SoM scores\n",
    "        g_neg = (~g_pos.astype('bool'))*1 #incantation converts binary to boolean, flips them then back to binary\n",
    "\n",
    "        TP = np.sum(real_pos*g_pos)\n",
    "        FP = np.sum(real_neg*g_pos)\n",
    "        TN = np.sum(real_neg*g_neg)\n",
    "        FN = np.sum(real_pos*g_neg)\n",
    "\n",
    "        PPV = TP/(TP+FP)\n",
    "        FDR = FP/(TP+FP)\n",
    "        TPR = TP/(TP+FN)\n",
    "\n",
    "        return (PPV, FDR, TPR, TP, FP, TN, FN)\n",
    "    \n",
    "    def sumstats(thresh):\n",
    "        #Get the top thresh SoM scores\n",
    "        som_pos = bd.plot_wcrank(C, seqlen, thresh*2)\n",
    "        som_pos[np.tril_indices(seqlen)] = 0.\n",
    "        #Get the bottom thresh SoM scores\n",
    "        som_neg = (~som_pos.astype('bool'))*1 #incantation converts binary to boolean, flips them then back to binary\n",
    "\n",
    "        TP = np.sum(real_pos*som_pos)\n",
    "        FP = np.sum(real_neg*som_pos)\n",
    "        TN = np.sum(real_neg*som_neg)\n",
    "        FN = np.sum(real_pos*som_neg)\n",
    "\n",
    "        PPV = TP/(TP+FP)\n",
    "        FDR = FP/(TP+FP)\n",
    "        TPR = TP/(TP+FN)\n",
    "\n",
    "        return (PPV, FDR, TPR, TP, FP, TN, FN)\n",
    "\n",
    "    def sumstats_EC(thresh):\n",
    "        #Top thresh EC scores\n",
    "        n_EC_P = len(EC_df.iloc[:thresh, :])\n",
    "        EC_pos = np.zeros((seqlen,seqlen))\n",
    "        for ii in range(n_EC_P):\n",
    "            EC_pos[EC_df.iloc[ii, 1], EC_df.iloc[ii, 2]] = 1.\n",
    "        EC_neg = np.ones((seqlen,seqlen))\n",
    "        for ii in range(n_EC_P):\n",
    "            EC_neg[EC_df.iloc[ii, 1], EC_df.iloc[ii, 2]] = 0.\n",
    "\n",
    "        TP = np.sum(real_pos*EC_pos)\n",
    "        FP = np.sum(real_neg*EC_pos)\n",
    "        TN = np.sum(real_neg*EC_neg)\n",
    "        FN = np.sum(real_pos*EC_neg)\n",
    "\n",
    "        PPV = TP/(TP+FP)\n",
    "        FDR = FP/(TP+FP)\n",
    "        TPR = TP/(TP+FN)\n",
    "\n",
    "        return (PPV, FDR, TPR, TP, FP, TN, FN)\n",
    "    \n",
    "    real_pos, real_neg = groundtruth(comp=comp)\n",
    "    #ecst = sumstats_EC(tr)\n",
    "    somst = sumstats(seqlen//2)\n",
    "    #gst = sumstats_mi(tr)\n",
    "    \n",
    "    return (somst[0], somst[2])\n"
   ]
  },
  {
   "cell_type": "code",
   "execution_count": 78,
   "metadata": {
    "collapsed": true
   },
   "outputs": [],
   "source": [
    "PPVs = []\n",
    "TPRs = []\n",
    "families = ['RF00002', 'RF00005', 'RF00010', 'RF00017', 'RF00023', 'RF00050',\n",
    "            'RF00059', 'RF00162', 'RF00167', 'RF00169', 'RF00174', 'RF00234',\n",
    "            'RF00380', 'RF00504', 'RF01734', 'RF01786', 'RF01831', 'RF01852', 'RF02001']#, 'RF01960']\n",
    "\n",
    "numhidden = 512\n",
    "\n",
    "for fam in families:\n",
    "    s = quant_contacts(fam)\n",
    "    PPVs.append(s[0])\n",
    "    TPRs.append(s[1])"
   ]
  },
  {
   "cell_type": "markdown",
   "metadata": {},
   "source": [
    "### Get the number of Watson crick base pairs per family"
   ]
  },
  {
   "cell_type": "code",
   "execution_count": 83,
   "metadata": {
    "collapsed": true
   },
   "outputs": [],
   "source": [
    "numbasepairs = {}\n",
    "for fam in families:\n",
    "    ECannotfile = '%s/%s.EC.interaction.txt'%(fam,fam) \n",
    "    EC_df = pd.read_csv(ECannotfile, delimiter='\\s+')\n",
    "    #All cWW annotated interactions\n",
    "    cWW_int = EC_df[EC_df['interactions'] == 'cWW']\n",
    "    numbasepairs[fam] = len(cWW_int)"
   ]
  },
  {
   "cell_type": "code",
   "execution_count": 89,
   "metadata": {
    "collapsed": false,
    "scrolled": true
   },
   "outputs": [
    {
     "name": "stderr",
     "output_type": "stream",
     "text": [
      "/Users/steffanpaul/anaconda/envs/tensorflow/lib/python3.6/site-packages/ipykernel_launcher.py:7: SettingWithCopyWarning: \n",
      "A value is trying to be set on a copy of a slice from a DataFrame.\n",
      "Try using .loc[row_indexer,col_indexer] = value instead\n",
      "\n",
      "See the caveats in the documentation: http://pandas.pydata.org/pandas-docs/stable/indexing.html#indexing-view-versus-copy\n",
      "  import sys\n",
      "/Users/steffanpaul/anaconda/envs/tensorflow/lib/python3.6/site-packages/ipykernel_launcher.py:8: SettingWithCopyWarning: \n",
      "A value is trying to be set on a copy of a slice from a DataFrame.\n",
      "Try using .loc[row_indexer,col_indexer] = value instead\n",
      "\n",
      "See the caveats in the documentation: http://pandas.pydata.org/pandas-docs/stable/indexing.html#indexing-view-versus-copy\n",
      "  \n",
      "/Users/steffanpaul/anaconda/envs/tensorflow/lib/python3.6/site-packages/ipykernel_launcher.py:10: SettingWithCopyWarning: \n",
      "A value is trying to be set on a copy of a slice from a DataFrame.\n",
      "Try using .loc[row_indexer,col_indexer] = value instead\n",
      "\n",
      "See the caveats in the documentation: http://pandas.pydata.org/pandas-docs/stable/indexing.html#indexing-view-versus-copy\n",
      "  # Remove the CWD from sys.path while we load stuff.\n",
      "/Users/steffanpaul/anaconda/envs/tensorflow/lib/python3.6/site-packages/ipykernel_launcher.py:11: SettingWithCopyWarning: \n",
      "A value is trying to be set on a copy of a slice from a DataFrame.\n",
      "Try using .loc[row_indexer,col_indexer] = value instead\n",
      "\n",
      "See the caveats in the documentation: http://pandas.pydata.org/pandas-docs/stable/indexing.html#indexing-view-versus-copy\n",
      "  # This is added back by InteractiveShellApp.init_path()\n",
      "/Users/steffanpaul/anaconda/envs/tensorflow/lib/python3.6/site-packages/pandas/core/indexing.py:362: SettingWithCopyWarning: \n",
      "A value is trying to be set on a copy of a slice from a DataFrame.\n",
      "Try using .loc[row_indexer,col_indexer] = value instead\n",
      "\n",
      "See the caveats in the documentation: http://pandas.pydata.org/pandas-docs/stable/indexing.html#indexing-view-versus-copy\n",
      "  self.obj[key] = _infer_fill_value(value)\n",
      "/Users/steffanpaul/anaconda/envs/tensorflow/lib/python3.6/site-packages/pandas/core/indexing.py:543: SettingWithCopyWarning: \n",
      "A value is trying to be set on a copy of a slice from a DataFrame.\n",
      "Try using .loc[row_indexer,col_indexer] = value instead\n",
      "\n",
      "See the caveats in the documentation: http://pandas.pydata.org/pandas-docs/stable/indexing.html#indexing-view-versus-copy\n",
      "  self.obj[item] = s\n",
      "/Users/steffanpaul/anaconda/envs/tensorflow/lib/python3.6/site-packages/ipykernel_launcher.py:18: SettingWithCopyWarning: \n",
      "A value is trying to be set on a copy of a slice from a DataFrame.\n",
      "Try using .loc[row_indexer,col_indexer] = value instead\n",
      "\n",
      "See the caveats in the documentation: http://pandas.pydata.org/pandas-docs/stable/indexing.html#indexing-view-versus-copy\n"
     ]
    }
   ],
   "source": [
    "#import length information\n",
    "infofile = 'marks_20_cutinfo.csv'\n",
    "infodf = pd.read_csv(infofile)\n",
    "#only get relevant families\n",
    "inforel = infodf[[True if infodf.loc[ii, 'RFAM_ID'] in families else False for ii in infodf.index]]\n",
    "#Add a new column that is the ratio of the depth/length (higher depth and lower length should be better)\n",
    "inforel['M:L'] = inforel['M']/inforel['Length']\n",
    "inforel['M_eff:L'] = inforel['M_eff']/inforel['Length']\n",
    "#Add stats information\n",
    "inforel['PPV'] = pd.Series(PPVs, index=inforel.index)\n",
    "inforel['TPR'] = pd.Series(TPRs, index=inforel.index)\n",
    "#Add accuracy from metricsdf and numbasepairs\n",
    "for ii in inforel.index:\n",
    "    inforel.loc[ii, 'Accuracy'] = metfamidx[inforel.loc[ii,'RFAM_ID']]\n",
    "    inforel.loc[ii, 'Numbp'] = numbasepairs[inforel.loc[ii,'RFAM_ID']]\n",
    "\n",
    "#Add a bp:length ratio\n",
    "inforel['bp:L'] =inforel['Numbp']/inforel['Length']\n"
   ]
  },
  {
   "cell_type": "code",
   "execution_count": 86,
   "metadata": {
    "collapsed": false
   },
   "outputs": [
    {
     "data": {
      "text/html": [
       "<div>\n",
       "<style scoped>\n",
       "    .dataframe tbody tr th:only-of-type {\n",
       "        vertical-align: middle;\n",
       "    }\n",
       "\n",
       "    .dataframe tbody tr th {\n",
       "        vertical-align: top;\n",
       "    }\n",
       "\n",
       "    .dataframe thead th {\n",
       "        text-align: right;\n",
       "    }\n",
       "</style>\n",
       "<table border=\"1\" class=\"dataframe\">\n",
       "  <thead>\n",
       "    <tr style=\"text-align: right;\">\n",
       "      <th></th>\n",
       "      <th>RFAM_ID</th>\n",
       "      <th>Name</th>\n",
       "      <th>Length</th>\n",
       "      <th>M</th>\n",
       "      <th>M_eff</th>\n",
       "      <th>M:L</th>\n",
       "      <th>M_eff:L</th>\n",
       "      <th>PPV</th>\n",
       "      <th>TPR</th>\n",
       "      <th>Accuracy</th>\n",
       "      <th>Numbp</th>\n",
       "    </tr>\n",
       "  </thead>\n",
       "  <tbody>\n",
       "    <tr>\n",
       "      <th>0</th>\n",
       "      <td>RF00002</td>\n",
       "      <td>5.8S ribosomal RNA</td>\n",
       "      <td>155</td>\n",
       "      <td>375612</td>\n",
       "      <td>1197.3</td>\n",
       "      <td>2423.303226</td>\n",
       "      <td>7.724516</td>\n",
       "      <td>0.012987</td>\n",
       "      <td>0.037037</td>\n",
       "      <td>0.999774</td>\n",
       "      <td>27.0</td>\n",
       "    </tr>\n",
       "    <tr>\n",
       "      <th>1</th>\n",
       "      <td>RF00005</td>\n",
       "      <td>RNA</td>\n",
       "      <td>73</td>\n",
       "      <td>298470</td>\n",
       "      <td>3533.2</td>\n",
       "      <td>4088.630137</td>\n",
       "      <td>48.400000</td>\n",
       "      <td>0.416667</td>\n",
       "      <td>0.882353</td>\n",
       "      <td>0.999414</td>\n",
       "      <td>17.0</td>\n",
       "    </tr>\n",
       "    <tr>\n",
       "      <th>2</th>\n",
       "      <td>RF00010</td>\n",
       "      <td>Bacterial RNase P class A</td>\n",
       "      <td>359</td>\n",
       "      <td>6397</td>\n",
       "      <td>1215.1</td>\n",
       "      <td>17.818942</td>\n",
       "      <td>3.384680</td>\n",
       "      <td>0.430168</td>\n",
       "      <td>0.762376</td>\n",
       "      <td>0.999219</td>\n",
       "      <td>101.0</td>\n",
       "    </tr>\n",
       "    <tr>\n",
       "      <th>3</th>\n",
       "      <td>RF00017</td>\n",
       "      <td>Metazoan signal recognition particle RNA</td>\n",
       "      <td>300</td>\n",
       "      <td>22685</td>\n",
       "      <td>4358.5</td>\n",
       "      <td>75.616667</td>\n",
       "      <td>14.528333</td>\n",
       "      <td>0.060403</td>\n",
       "      <td>0.225000</td>\n",
       "      <td>0.997576</td>\n",
       "      <td>40.0</td>\n",
       "    </tr>\n",
       "    <tr>\n",
       "      <th>4</th>\n",
       "      <td>RF00023</td>\n",
       "      <td>ransfer-messenger RNA</td>\n",
       "      <td>366</td>\n",
       "      <td>5983</td>\n",
       "      <td>1558.9</td>\n",
       "      <td>16.346995</td>\n",
       "      <td>4.259290</td>\n",
       "      <td>0.197802</td>\n",
       "      <td>0.720000</td>\n",
       "      <td>0.999165</td>\n",
       "      <td>50.0</td>\n",
       "    </tr>\n",
       "  </tbody>\n",
       "</table>\n",
       "</div>"
      ],
      "text/plain": [
       "   RFAM_ID                                      Name  Length       M   M_eff  \\\n",
       "0  RF00002                        5.8S ribosomal RNA     155  375612  1197.3   \n",
       "1  RF00005                                       RNA      73  298470  3533.2   \n",
       "2  RF00010                 Bacterial RNase P class A     359    6397  1215.1   \n",
       "3  RF00017  Metazoan signal recognition particle RNA     300   22685  4358.5   \n",
       "4  RF00023                     ransfer-messenger RNA     366    5983  1558.9   \n",
       "\n",
       "           M:L    M_eff:L       PPV       TPR  Accuracy  Numbp  \n",
       "0  2423.303226   7.724516  0.012987  0.037037  0.999774   27.0  \n",
       "1  4088.630137  48.400000  0.416667  0.882353  0.999414   17.0  \n",
       "2    17.818942   3.384680  0.430168  0.762376  0.999219  101.0  \n",
       "3    75.616667  14.528333  0.060403  0.225000  0.997576   40.0  \n",
       "4    16.346995   4.259290  0.197802  0.720000  0.999165   50.0  "
      ]
     },
     "execution_count": 86,
     "metadata": {},
     "output_type": "execute_result"
    }
   ],
   "source": [
    "inforel.head()"
   ]
  },
  {
   "cell_type": "markdown",
   "metadata": {},
   "source": [
    "Visualize\n",
    "I think that the structure learning will scale with the ratio of depth and length. I wanna see if there are any clear trends when I compare the length metrics to the performance metrics. I can use catplot (maybe)\n",
    "\n",
    "meltdf= pd.melt(plotdf, id_vars=['Genotype', 'Sex'], var_name=\\\"Gene\\\", value_name=\\\"TPM\\\")\\n\","
   ]
  },
  {
   "cell_type": "code",
   "execution_count": 81,
   "metadata": {
    "collapsed": false,
    "scrolled": false
   },
   "outputs": [
    {
     "name": "stderr",
     "output_type": "stream",
     "text": [
      "/Users/steffanpaul/anaconda/envs/tensorflow/lib/python3.6/site-packages/matplotlib/figure.py:2366: UserWarning: This figure includes Axes that are not compatible with tight_layout, so results might be incorrect.\n",
      "  warnings.warn(\"This figure includes Axes that are not compatible \"\n"
     ]
    },
    {
     "data": {
      "image/png": "[encoded data removed]",
      "text/plain": [
       "<Figure size 1440x504 with 1 Axes>"
      ]
     },
     "metadata": {},
     "output_type": "display_data"
    }
   ],
   "source": [
    "relsort = inforel.sort_values('M')\n",
    "meltsort = pd.melt(relsort, id_vars=['RFAM_ID', 'Name', 'M', 'M_eff'],\n",
    "                   value_vars=['PPV', 'TPR', 'Accuracy'], var_name='Metric', value_name='Performance')\n",
    "plt.figure(figsize=(20,7))\n",
    "b = sb.barplot(data = meltsort, x='M', y='Performance', hue='Metric')\n",
    "b.set_xticklabels(labels=meltsort['M'],rotation=30)\n",
    "plt.show()"
   ]
  },
  {
   "cell_type": "code",
   "execution_count": 106,
   "metadata": {
    "collapsed": false
   },
   "outputs": [
    {
     "name": "stderr",
     "output_type": "stream",
     "text": [
      "/Users/steffanpaul/anaconda/envs/tensorflow/lib/python3.6/site-packages/matplotlib/figure.py:2366: UserWarning: This figure includes Axes that are not compatible with tight_layout, so results might be incorrect.\n",
      "  warnings.warn(\"This figure includes Axes that are not compatible \"\n"
     ]
    },
    {
     "data": {
      "image/png": "[encoded data removed]",
      "text/plain": [
       "<Figure size 1440x432 with 2 Axes>"
      ]
     },
     "metadata": {},
     "output_type": "display_data"
    }
   ],
   "source": [
    "fig = plt.figure(figsize=(20,6))\n",
    "\n",
    "var = 'M_eff'\n",
    "relsort = inforel.sort_values(var)\n",
    "ax1 = fig.add_subplot(1,2,1)\n",
    "ax1 = sb.barplot(data = relsort, x=var, y='Accuracy', palette='viridis')\n",
    "ax1.set_xticklabels(labels=relsort[var],rotation=30)\n",
    "ax1.set_ylim([0.8,1])\n",
    "\n",
    "ax2 = fig.add_subplot(1,2,2)\n",
    "ax2 = sb.barplot(data = relsort, x=var, y='TPR', palette='viridis')\n",
    "ax2.set_xticklabels(labels=relsort[var],rotation=30)\n",
    "\n",
    "plt.show()"
   ]
  },
  {
   "cell_type": "code",
   "execution_count": 44,
   "metadata": {
    "collapsed": false
   },
   "outputs": [
    {
     "data": {
      "text/plain": [
       "<Figure size 1440x504 with 0 Axes>"
      ]
     },
     "metadata": {},
     "output_type": "display_data"
    },
    {
     "name": "stderr",
     "output_type": "stream",
     "text": [
      "/Users/steffanpaul/anaconda/envs/tensorflow/lib/python3.6/site-packages/matplotlib/figure.py:2366: UserWarning: This figure includes Axes that are not compatible with tight_layout, so results might be incorrect.\n",
      "  warnings.warn(\"This figure includes Axes that are not compatible \"\n"
     ]
    },
    {
     "data": {
      "image/png": "[encoded data removed]",
      "text/plain": [
       "<Figure size 1160.25x360 with 3 Axes>"
      ]
     },
     "metadata": {},
     "output_type": "display_data"
    }
   ],
   "source": [
    "#meltsort['M'] = meltsort['M'].apply(str)\n",
    "plt.figure(figsize=(20,7))\n",
    "b = sb.catplot(data = meltsort, x='M', y='Performance', col='Metric', hue='RFAM_ID', kind='bar')\n",
    "b.set_xticklabels(labels=meltsort['M'],rotation=30)\n",
    "plt.show()"
   ]
  },
  {
   "cell_type": "code",
   "execution_count": 165,
   "metadata": {
    "collapsed": false
   },
   "outputs": [
    {
     "data": {
      "text/plain": [
       "<Figure size 432x288 with 0 Axes>"
      ]
     },
     "metadata": {},
     "output_type": "display_data"
    },
    {
     "name": "stderr",
     "output_type": "stream",
     "text": [
      "/Users/steffanpaul/anaconda/envs/tensorflow/lib/python3.6/site-packages/matplotlib/figure.py:2366: UserWarning: This figure includes Axes that are not compatible with tight_layout, so results might be incorrect.\n",
      "  warnings.warn(\"This figure includes Axes that are not compatible \"\n"
     ]
    },
    {
     "data": {
      "image/png": "[encoded data removed]",
      "text/plain": [
       "<Figure size 1880.25x360 with 5 Axes>"
      ]
     },
     "metadata": {},
     "output_type": "display_data"
    }
   ],
   "source": [
    "#visualize\n",
    "meltinfo = pd.melt(inforel, id_vars=['RFAM_ID', 'Name', 'PPV', 'TPR'], var_name='Size Metric', value_name='Value')\n",
    "plt.figure()\n",
    "sb.catplot(data=meltinfo, x='Value', y='PPV', col='Size Metric', hue='RFAM_ID')\n",
    "plt.show()"
   ]
  },
  {
   "cell_type": "markdown",
   "metadata": {},
   "source": [
    "There seems to be no correlation between the variables comprising the size of the matrix, and the performance of the model."
   ]
  },
  {
   "cell_type": "code",
   "execution_count": null,
   "metadata": {
    "collapsed": true
   },
   "outputs": [],
   "source": []
  }
 ],
 "metadata": {
  "kernelspec": {
   "display_name": "Python 2",
   "language": "python",
   "name": "python2"
  },
  "language_info": {
   "codemirror_mode": {
    "name": "ipython",
    "version": 2
   },
   "file_extension": ".py",
   "mimetype": "text/x-python",
   "name": "python",
   "nbconvert_exporter": "python",
   "pygments_lexer": "ipython2",
   "version": "2.7.13"
  }
 },
 "nbformat": 4,
 "nbformat_minor": 2
}
