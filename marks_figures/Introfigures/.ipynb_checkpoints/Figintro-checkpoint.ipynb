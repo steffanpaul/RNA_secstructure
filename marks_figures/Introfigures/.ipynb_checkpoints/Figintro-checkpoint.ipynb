{
 "cells": [
  {
   "cell_type": "code",
   "execution_count": 1,
   "metadata": {
    "collapsed": true
   },
   "outputs": [],
   "source": [
    "import os, sys\n",
    "import numpy as np\n",
    "import matplotlib.pyplot as plt\n",
    "import matplotlib as mat\n",
    "import seaborn as sb\n",
    "sys.path.append('../../../..')\n",
    "import bpdev as bd\n",
    "import mutagenesisfunctions as mf\n",
    "from deepomics import neuralnetwork as nn\n",
    "from deepomics import utils, fit, visualize, saliency"
   ]
  },
  {
   "cell_type": "code",
   "execution_count": 2,
   "metadata": {},
   "outputs": [
    {
     "name": "stderr",
     "output_type": "stream",
     "text": [
      "/Users/steffanpaul/anaconda/envs/tensorflow/lib/python3.6/site-packages/matplotlib/figure.py:2366: UserWarning: This figure includes Axes that are not compatible with tight_layout, so results might be incorrect.\n",
      "  warnings.warn(\"This figure includes Axes that are not compatible \"\n"
     ]
    },
    {
     "data": {
      "image/png": "[encoded data removed]",
      "text/plain": [
       "<Figure size 1224x144 with 1 Axes>"
      ]
     },
     "metadata": {},
     "output_type": "display_data"
    }
   ],
   "source": [
    "#Make sequence that matches structure\n",
    "#each stem is 4 long\n",
    "\n",
    "ol_A = 'CGU'\n",
    "s1_A = 'AUUC'\n",
    "il_A = 'UAU'\n",
    "s1_B = 'GAAU'\n",
    "ol_B = 'CC'\n",
    "s2_A = 'CGUA'\n",
    "il_B = 'GUG'\n",
    "s2_B = 'UACG'\n",
    "ol_C = 'UUA'\n",
    "\n",
    "seq = ol_A + s1_A + il_A + s1_B + ol_B + s2_A + il_B +s2_B + ol_C\n",
    "seqlen = len(seq)\n",
    "seqhot = mf.seq_onehot([seq], alphabet='rna', gaps=False)\n",
    "\n",
    "plt.figure(figsize=(17,2))\n",
    "plt.imshow(visualize.seq_logo(seqhot[0].T, nt_width=100, alphabet='rna'))\n",
    "plt.axis('off')\n",
    "plt.savefig('seq.png')\n",
    "plt.show()"
   ]
  },
  {
   "cell_type": "code",
   "execution_count": 7,
   "metadata": {},
   "outputs": [
    {
     "data": {
      "text/plain": [
       "(4, 30)"
      ]
     },
     "execution_count": 7,
     "metadata": {},
     "output_type": "execute_result"
    }
   ],
   "source": [
    "seqhot[0].T.shape"
   ]
  },
  {
   "cell_type": "code",
   "execution_count": null,
   "metadata": {
    "collapsed": true
   },
   "outputs": [],
   "source": [
    "\n",
    "seq = ''\n",
    "seqlen = len(seq)\n",
    "seqhot = mf.seq_onehot([seq], alphabet='rna', gaps=False)\n",
    "\n",
    "plt.figure(figsize=(17,2))\n",
    "plt.imshow(visualize.seq_logo(seqhot[0].T, nt_width=100, alphabet='rna'))\n",
    "plt.axis('off')\n",
    "plt.savefig('seq.png')\n",
    "plt.show()"
   ]
  }
 ],
 "metadata": {
  "kernelspec": {
   "display_name": "Python 3",
   "language": "python",
   "name": "python3"
  },
  "language_info": {
   "codemirror_mode": {
    "name": "ipython",
    "version": 3
   },
   "file_extension": ".py",
   "mimetype": "text/x-python",
   "name": "python",
   "nbconvert_exporter": "python",
   "pygments_lexer": "ipython3",
   "version": "3.6.7"
  }
 },
 "nbformat": 4,
 "nbformat_minor": 2
}
