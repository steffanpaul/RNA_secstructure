{
 "cells": [
  {
   "cell_type": "code",
   "execution_count": 1,
   "metadata": {
    "collapsed": true
   },
   "outputs": [],
   "source": [
    "import os, sys\n",
    "import numpy as np\n",
    "import matplotlib.pyplot as plt\n",
    "import matplotlib as mat\n",
    "import seaborn as sb\n",
    "sys.path.append('../../../..')\n",
    "import bpdev as bd\n",
    "import mutagenesisfunctions as mf\n",
    "from deepomics import neuralnetwork as nn\n",
    "from deepomics import utils, fit, visualize, saliency"
   ]
  },
  {
   "cell_type": "code",
   "execution_count": 2,
   "metadata": {},
   "outputs": [
    {
     "name": "stderr",
     "output_type": "stream",
     "text": [
      "/Users/steffanpaul/anaconda/envs/tensorflow/lib/python3.6/site-packages/matplotlib/figure.py:2366: UserWarning: This figure includes Axes that are not compatible with tight_layout, so results might be incorrect.\n",
      "  warnings.warn(\"This figure includes Axes that are not compatible \"\n"
     ]
    },
    {
     "data": {
      "image/png": "[encoded data removed]",
      "text/plain": [
       "<Figure size 1224x144 with 1 Axes>"
      ]
     },
     "metadata": {},
     "output_type": "display_data"
    }
   ],
   "source": [
    "#Make sequence that matches structure\n",
    "#each stem is 4 long\n",
    "\n",
    "ol_A = 'CGU'\n",
    "s1_A = 'AUUC'\n",
    "il_A = 'UAU'\n",
    "s1_B = 'GAAU'\n",
    "ol_B = 'CC'\n",
    "s2_A = 'CGUA'\n",
    "il_B = 'GUG'\n",
    "s2_B = 'UACG'\n",
    "ol_C = 'UUA'\n",
    "\n",
    "seq = ol_A + s1_A + il_A + s1_B + ol_B + s2_A + il_B +s2_B + ol_C\n",
    "seqlen = len(seq)\n",
    "seqhot = mf.seq_onehot([seq], alphabet='rna', gaps=False)\n",
    "\n",
    "plt.figure(figsize=(17,2))\n",
    "plt.imshow(visualize.seq_logo(seqhot[0].T, nt_width=100, alphabet='rna'))\n",
    "plt.axis('off')\n",
    "plt.savefig('seq.png')\n",
    "plt.show()"
   ]
  },
  {
   "cell_type": "code",
   "execution_count": 7,
   "metadata": {},
   "outputs": [
    {
     "data": {
      "text/plain": [
       "(4, 30)"
      ]
     },
     "execution_count": 7,
     "metadata": {},
     "output_type": "execute_result"
    }
   ],
   "source": [
    "seqhot[0].T.shape\n",
    "\n",
    "# plot and save saliency\n",
    "        fig = plt.figure(figsize=(10,10))\n",
    "        visualize.plot_seq_pos_saliency(np.squeeze(X).T, \n",
    "                                        np.squeeze(guided_saliency[0]).T, \n",
    "                                        alphabet='dna', \n",
    "                                        nt_width=400)"
   ]
  },
  {
   "cell_type": "code",
   "execution_count": 10,
   "metadata": {},
   "outputs": [
    {
     "data": {
      "text/plain": [
       "<Figure size 1224x360 with 0 Axes>"
      ]
     },
     "metadata": {},
     "output_type": "display_data"
    },
    {
     "name": "stderr",
     "output_type": "stream",
     "text": [
      "/Users/steffanpaul/anaconda/envs/tensorflow/lib/python3.6/site-packages/matplotlib/figure.py:2366: UserWarning: This figure includes Axes that are not compatible with tight_layout, so results might be incorrect.\n",
      "  warnings.warn(\"This figure includes Axes that are not compatible \"\n"
     ]
    },
    {
     "data": {
      "image/png": "[encoded data removed]",
      "text/plain": [
       "<Figure size 1224x360 with 1 Axes>"
      ]
     },
     "metadata": {},
     "output_type": "display_data"
    }
   ],
   "source": [
    "\n",
    "seq = 'AGUGCC'\n",
    "seqlen = len(seq)\n",
    "seqhot = mf.seq_onehot([seq], alphabet='rna', gaps=False)\n",
    "saliency = np.array([[1., 1., 1., 1.],\n",
    "                    [0.1, 0.1, 0.7, 0.1],\n",
    "                    [0.02, 0.02, .02, 0.94],\n",
    "                    [0.04, 0.04, 0.88, 0.04],\n",
    "                    [1., 1., 1., 1.],\n",
    "                    [1., 1., 1., 1.]\n",
    "                    ])\n",
    "\n",
    "\n",
    "plt.figure(figsize=(17,5))\n",
    "#plt.imshow(visualize.seq_logo(seqhot[0].T, nt_width=100, alphabet='rna'))\n",
    "visualize.plot_seq_pos_saliency(seqhot[0].T, \n",
    "                                        saliency.T, \n",
    "                                        alphabet='rna', \n",
    "                                        nt_width=100)\n",
    "plt.axis('off')\n",
    "#plt.savefig('seq.png')\n",
    "plt.show()"
   ]
  },
  {
   "cell_type": "code",
   "execution_count": 24,
   "metadata": {},
   "outputs": [
    {
     "name": "stderr",
     "output_type": "stream",
     "text": [
      "/Users/steffanpaul/anaconda/envs/tensorflow/lib/python3.6/site-packages/matplotlib/figure.py:2366: UserWarning: This figure includes Axes that are not compatible with tight_layout, so results might be incorrect.\n",
      "  warnings.warn(\"This figure includes Axes that are not compatible \"\n"
     ]
    },
    {
     "data": {
      "image/png": "[encoded data removed]",
      "text/plain": [
       "<Figure size 360x360 with 1 Axes>"
      ]
     },
     "metadata": {},
     "output_type": "display_data"
    }
   ],
   "source": [
    "saliency = np.array([[0., 0., 0., 0.],\n",
    "                    [0.08, 0.08, 0.82, 0.08],\n",
    "                    [0.02, 0.02, .02, 0.94],\n",
    "                    [0.04, 0.04, 0.88, 0.04],\n",
    "                    [0., 0., 0., 0.],\n",
    "                    [0., 0., 0., 0.]\n",
    "                    ]).T\n",
    "\n",
    "np.random.seed(48)\n",
    "saliency += np.abs(np.random.normal(loc=0., scale=0.07, size=(4,6)))\n",
    "saliency = saliency/np.sum(saliency, axis=0)\n",
    "\n",
    "plt.figure(figsize=(5,5))\n",
    "#plt.imshow(visualize.seq_logo(seqhot[0].T, nt_width=100, alphabet='rna'))\n",
    "visualize.plot_seq_pos_saliency(seqhot[0].T, \n",
    "                                        saliency, \n",
    "                                        alphabet='rna', \n",
    "                                        nt_width=100)\n",
    "plt.axis('off')\n",
    "plt.savefig('saliency.png')\n",
    "plt.show()"
   ]
  },
  {
   "cell_type": "code",
   "execution_count": null,
   "metadata": {
    "collapsed": true
   },
   "outputs": [],
   "source": []
  }
 ],
 "metadata": {
  "kernelspec": {
   "display_name": "Python 3",
   "language": "python",
   "name": "python3"
  },
  "language_info": {
   "codemirror_mode": {
    "name": "ipython",
    "version": 3
   },
   "file_extension": ".py",
   "mimetype": "text/x-python",
   "name": "python",
   "nbconvert_exporter": "python",
   "pygments_lexer": "ipython3",
   "version": "3.6.7"
  }
 },
 "nbformat": 4,
 "nbformat_minor": 2
}
