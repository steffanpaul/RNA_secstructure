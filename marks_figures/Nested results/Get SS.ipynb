{
 "cells": [
  {
   "cell_type": "code",
   "execution_count": 14,
   "metadata": {
    "collapsed": true
   },
   "outputs": [],
   "source": [
    "import os, sys\n",
    "import numpy as np\n",
    "import pandas as pd\n",
    "import matplotlib.pyplot as plt\n",
    "sys.path.append('../../../..')\n",
    "import mutagenesisfunctions as mf\n",
    "import bpdev as bd"
   ]
  },
  {
   "cell_type": "code",
   "execution_count": 48,
   "metadata": {},
   "outputs": [
    {
     "name": "stdout",
     "output_type": "stream",
     "text": [
      "#=GC SS_cons .....<<<<<<<<<<<<<<<<<...>>>>>>.....<<<<<..>>>>>>>>>>>.....<<<<..<<<<<....>>>>>..>>>>..>>>>>............\n"
     ]
    }
   ],
   "source": [
    "#filename = 'RF00005.stockholm.txt'\n",
    "filename = 'RF00059_red_1.cyk.R2R.sto'\n",
    "with open(filename, 'r') as fd:\n",
    "    for line in fd:\n",
    "        line = line.strip('\\n')\n",
    "        if '#=GC SS_cons' in line:\n",
    "            print (line)\n",
    "    fd.close()\n",
    "\n",
    "#X_data = mf.sto_onehot(scary, alphabet='rna')"
   ]
  },
  {
   "cell_type": "code",
   "execution_count": 33,
   "metadata": {},
   "outputs": [
    {
     "name": "stdout",
     "output_type": "stream",
     "text": [
      "((..(...(....(.....(....(........,............,...\n",
      "...<.....<.....<...<......_..............._.......\n",
      "........._.........._..............._.............\n",
      "....._................._....................>...>.\n",
      "...>....>...........,......<.....<....<.....<....<\n",
      "............_.................._................._\n",
      "................._.................._.............\n",
      "....._................_.................>.....>...\n",
      ".>...>...>...,,...................................\n",
      "..................................................\n",
      ".........................,...,..<...<....<.....<..\n",
      ".<......_......._..._.........._..................\n",
      "__...................._.......>....>......>.....>.\n",
      "......>............)....)....).....)...)...).):\n"
     ]
    }
   ],
   "source": [
    "scary = 'RF00005_WGS_STD_ALIGN'\n",
    "arch_SS = ''\n",
    "with open(scary, 'r') as fd:\n",
    "    for line in fd:\n",
    "        line = line.strip('\\n')\n",
    "        if '#=GC SS_cons' in line:\n",
    "            line = line.split()\n",
    "            print (line[2])\n",
    "            arch_SS = arch_SS + line[2]\n",
    "    fd.close()"
   ]
  },
  {
   "cell_type": "code",
   "execution_count": 39,
   "metadata": {},
   "outputs": [],
   "source": [
    "idx = [i for i,c in enumerate(arch_SS) if c != '.']\n",
    "arch_redSS = ''.join([arch_SS[i] for i in idx])"
   ]
  },
  {
   "cell_type": "code",
   "execution_count": 45,
   "metadata": {},
   "outputs": [
    {
     "data": {
      "text/plain": [
       "'(((((((,,<<<<_______>>>>,<<<<<_______>>>>>,,,,<<<<<_______>>>>>))))))):'"
      ]
     },
     "execution_count": 45,
     "metadata": {},
     "output_type": "execute_result"
    }
   ],
   "source": [
    "arch_redSS"
   ]
  },
  {
   "cell_type": "code",
   "execution_count": 9,
   "metadata": {},
   "outputs": [
    {
     "data": {
      "text/plain": [
       "(954, 118, 5)"
      ]
     },
     "execution_count": 9,
     "metadata": {},
     "output_type": "execute_result"
    }
   ],
   "source": [
    "X_data.shape"
   ]
  },
  {
   "cell_type": "code",
   "execution_count": 29,
   "metadata": {
    "collapsed": true
   },
   "outputs": [],
   "source": [
    "seed_SS = \"(((((((,.,.<<<<___...___..._>>>>,.<.<<<<_.__>>>>.>,,..,...,<<<.<<_.___.__.._>>>>.>.))))))).:\""
   ]
  },
  {
   "cell_type": "code",
   "execution_count": 11,
   "metadata": {},
   "outputs": [
    {
     "data": {
      "text/plain": [
       "72"
      ]
     },
     "execution_count": 11,
     "metadata": {},
     "output_type": "execute_result"
    }
   ],
   "source": [
    "red_len = len('GCCUGGCUGGCUUAGUGGUAGAGCAUGAGACUCUUGAUCUCGAGGUUGUGAGUUCCAGCCCCACACUGUGUG')\n",
    "red_len"
   ]
  },
  {
   "cell_type": "code",
   "execution_count": 50,
   "metadata": {
    "collapsed": true
   },
   "outputs": [],
   "source": [
    "numhidden = 512\n",
    "min_dist = 5.0\n",
    "fam = 'RF00059'\n",
    "\n",
    "\n",
    "#get scores\n",
    "arrayspath = '../../marks/Arrays/%s_mlp_%s_red.npy'%(fam,numhidden)\n",
    "hol_mut2 = np.load(arrayspath)\n",
    "seqlen,_, dims,_ = hol_mut2.shape\n",
    "C = bd.get_wc(arrayspath, seqlen, dims, bpugSQ=0, denoise='APC')\n",
    "\n",
    "#get coordinates\n",
    "C[np.tril_indices(seqlen)] = np.min(C)\n",
    "bp_stretch = np.ravel(C)\n",
    "minval = np.sort(bp_stretch)[::-1][-1] #just gets the minimum value - can be changed to a different idx\n",
    "bs = np.where(C > minval)\n",
    "idx = np.argsort(C[bs])\n",
    "x = bs[0][idx] #sorts the x and y coords in order from lowest to highest so highest scores will be plotted last\n",
    "y = bs[1][idx]\n",
    "\n",
    "score_col = [C[xx,yy] for xx,yy in zip(x,y)] #gets the scores for each coordinate in the needed order\n",
    "\n"
   ]
  },
  {
   "cell_type": "code",
   "execution_count": 46,
   "metadata": {
    "collapsed": true
   },
   "outputs": [],
   "source": [
    "a = '(((((((,,<<<<_______>>>>,<<<<<_______>>>>>,,,,,<<<<<_______>>>>>))))))):'"
   ]
  },
  {
   "cell_type": "code",
   "execution_count": 51,
   "metadata": {
    "collapsed": true
   },
   "outputs": [],
   "source": [
    "t = '.....<<<<<<<<<<<<<<<<<...>>>>>>.....<<<<<..>>>>>>>>>>>.....<<<<..<<<<<....>>>>>..>>>>..>>>>>............'"
   ]
  },
  {
   "cell_type": "code",
   "execution_count": 52,
   "metadata": {},
   "outputs": [
    {
     "name": "stderr",
     "output_type": "stream",
     "text": [
      "/Users/steffanpaul/anaconda/envs/tensorflow/lib/python3.6/site-packages/matplotlib/figure.py:2366: UserWarning: This figure includes Axes that are not compatible with tight_layout, so results might be incorrect.\n",
      "  warnings.warn(\"This figure includes Axes that are not compatible \"\n"
     ]
    },
    {
     "data": {
      "image/png": "[encoded data removed]",
      "text/plain": [
       "<Figure size 504x504 with 1 Axes>"
      ]
     },
     "metadata": {},
     "output_type": "display_data"
    }
   ],
   "source": [
    "nest_coords = bd.bp_coords(t)\n",
    "nest_coords = nest_coords[:len(nest_coords)//2]\n",
    "\n",
    "plt.figure(figsize=(7,7))\n",
    "plt.scatter(nest_coords[:, 0], nest_coords[:, 1], c='g', label = 'Nested')\n",
    "plt.scatter(y, x, c=score_col, cmap='Blues', label = 'SoM', vmin=0.)\n",
    "ax = plt.gca()\n",
    "ax.invert_yaxis()\n",
    "plt.show()\n"
   ]
  },
  {
   "cell_type": "code",
   "execution_count": 42,
   "metadata": {},
   "outputs": [
    {
     "data": {
      "text/plain": [
       "71"
      ]
     },
     "execution_count": 42,
     "metadata": {},
     "output_type": "execute_result"
    }
   ],
   "source": [
    "len(arch_redSS)"
   ]
  },
  {
   "cell_type": "code",
   "execution_count": 43,
   "metadata": {},
   "outputs": [
    {
     "data": {
      "text/plain": [
       "72"
      ]
     },
     "execution_count": 43,
     "metadata": {},
     "output_type": "execute_result"
    }
   ],
   "source": [
    "len(C)"
   ]
  },
  {
   "cell_type": "code",
   "execution_count": null,
   "metadata": {
    "collapsed": true
   },
   "outputs": [],
   "source": []
  }
 ],
 "metadata": {
  "kernelspec": {
   "display_name": "Python 3",
   "language": "python",
   "name": "python3"
  },
  "language_info": {
   "codemirror_mode": {
    "name": "ipython",
    "version": 3
   },
   "file_extension": ".py",
   "mimetype": "text/x-python",
   "name": "python",
   "nbconvert_exporter": "python",
   "pygments_lexer": "ipython3",
   "version": "3.6.7"
  }
 },
 "nbformat": 4,
 "nbformat_minor": 2
}
