{
 "cells": [
  {
   "cell_type": "code",
   "execution_count": 6,
   "metadata": {
    "collapsed": false
   },
   "outputs": [],
   "source": [
    "from __future__ import absolute_import\n",
    "from __future__ import division\n",
    "from __future__ import print_function\n",
    "\n",
    "import os, sys, h5py, time\n",
    "import numpy as np\n",
    "import matplotlib.pyplot as plt\n",
    "import matplotlib as mat\n",
    "import seaborn as sb\n",
    "import tensorflow as tf\n",
    "import scipy\n",
    "\n",
    "import sys\n",
    "sys.path.append('../../../..')\n",
    "import mutagenesisfunctions as mf\n",
    "import bpdev as bd\n",
    "import helper\n",
    "from deepomics import neuralnetwork as nn\n",
    "from deepomics import utils, fit, visualize, saliency\n",
    "\n",
    "from Bio import AlignIO\n",
    "import time as time\n",
    "import pandas as pd\n",
    "np.random.seed(42)"
   ]
  },
  {
   "cell_type": "code",
   "execution_count": 15,
   "metadata": {
    "collapsed": false
   },
   "outputs": [
    {
     "data": {
      "text/plain": [
       "'/home/peter/steffan/rna_secstructure/rna_secstructure_code/marks_figures/R-scape validation'"
      ]
     },
     "execution_count": 15,
     "metadata": {},
     "output_type": "execute_result"
    }
   ],
   "source": [
    "os.getcwd()"
   ]
  },
  {
   "cell_type": "markdown",
   "metadata": {},
   "source": [
    "# Move sorted.out files to rscape_scores"
   ]
  },
  {
   "cell_type": "code",
   "execution_count": 17,
   "metadata": {
    "collapsed": false
   },
   "outputs": [],
   "source": [
    "fam_done = ['RF0005', 'RF00010', 'RF00023', 'RF00059']\n",
    "families = ['RF00002', 'RF00005', 'RF00010', 'RF00017', 'RF00023', 'RF00050',\n",
    "            'RF00059', 'RF00162', 'RF00167', 'RF00169', 'RF00174', 'RF00234',\n",
    "            'RF00380', 'RF00504', 'RF01734', 'RF01786', 'RF01831', 'RF01852', 'RF02001']#, 'RF01960']\n",
    "\n",
    "from shutil import copyfile\n",
    "\n",
    "for fam in families:\n",
    "    if fam not in fam_done:\n",
    "        copyfile('../../../data_marks/%s/rtest/%s_red.sorted.out'%(fam,fam), 'rscape_scores/%s_red.sorted.out'%(fam))"
   ]
  },
  {
   "cell_type": "markdown",
   "metadata": {},
   "source": [
    "# Extract scores in a txt legible for pandas"
   ]
  },
  {
   "cell_type": "code",
   "execution_count": 18,
   "metadata": {
    "collapsed": false
   },
   "outputs": [],
   "source": [
    "for fam in families:\n",
    "    if fam not in fam_done:\n",
    "\n",
    "        routfile = '%s_red.sorted.out'%(fam)\n",
    "        ritefile = '%s_rscores.txt'%(fam)\n",
    "\n",
    "        #extract the lines we want from the outfile\n",
    "        ritelines = []\n",
    "        with open(os.path.join('rscape_scores', routfile), 'r') as fd:\n",
    "            start = False\n",
    "            done = False\n",
    "            for line in fd:\n",
    "                if not start:\n",
    "                    if 'left_pos' in line:\n",
    "                        start = True\n",
    "                        ritelines.append(line)\n",
    "                    else:\n",
    "                        continue\n",
    "                elif start:\n",
    "                    if 'cyk-cov' in line:\n",
    "                        done = True\n",
    "                    else:\n",
    "                        ritelines.append(line)\n",
    "\n",
    "                if done:\n",
    "                    break\n",
    "\n",
    "        #write them to a temp file\n",
    "        with open(os.path.join('rscape_scores', ritefile), 'w') as fd:\n",
    "            for line in ritelines:\n",
    "                fd.write(line)"
   ]
  },
  {
   "cell_type": "code",
   "execution_count": null,
   "metadata": {
    "collapsed": false
   },
   "outputs": [],
   "source": [
    "#read it in as a csv\n",
    "rscores = pd.read_csv(os.path.join('rscape_scores', ritefile), delim_whitespace=True).iloc[1:, 1:]\n",
    "rscores"
   ]
  },
  {
   "cell_type": "code",
   "execution_count": null,
   "metadata": {
    "collapsed": true
   },
   "outputs": [],
   "source": []
  }
 ],
 "metadata": {
  "kernelspec": {
   "display_name": "Python 2",
   "language": "python",
   "name": "python2"
  },
  "language_info": {
   "codemirror_mode": {
    "name": "ipython",
    "version": 2
   },
   "file_extension": ".py",
   "mimetype": "text/x-python",
   "name": "python",
   "nbconvert_exporter": "python",
   "pygments_lexer": "ipython2",
   "version": "2.7.12"
  }
 },
 "nbformat": 4,
 "nbformat_minor": 2
}
