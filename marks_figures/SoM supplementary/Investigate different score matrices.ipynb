{
 "cells": [
  {
   "cell_type": "code",
   "execution_count": 1,
   "metadata": {
    "collapsed": true
   },
   "outputs": [],
   "source": [
    "from __future__ import absolute_import\n",
    "from __future__ import division\n",
    "from __future__ import print_function\n",
    "\n",
    "import os, sys, h5py, time\n",
    "import numpy as np\n",
    "import matplotlib.pyplot as plt\n",
    "import matplotlib as mat\n",
    "import seaborn as sb\n",
    "import tensorflow as tf\n",
    "import scipy\n",
    "\n",
    "import sys\n",
    "sys.path.append('../../../..')\n",
    "import mutagenesisfunctions as mf\n",
    "import bpdev as bd\n",
    "import helper\n",
    "from deepomics import neuralnetwork as nn\n",
    "from deepomics import utils, fit, visualize, saliency\n",
    "\n",
    "import contacts\n",
    "\n",
    "from Bio import AlignIO\n",
    "import time as time\n",
    "import pandas as pd\n",
    "np.random.seed(42)"
   ]
  },
  {
   "cell_type": "code",
   "execution_count": 11,
   "metadata": {},
   "outputs": [
    {
     "data": {
      "text/plain": [
       "(72, 72, 4, 4)"
      ]
     },
     "execution_count": 11,
     "metadata": {},
     "output_type": "execute_result"
    }
   ],
   "source": [
    "arrayspath = 'RF00005_mlp_512_sum1.npy'\n",
    "scoremat = np.load(arrayspath)\n",
    "seqlen,_, dims,_ = scoremat.shape\n",
    "\n",
    "C = bd.get_wc(arrayspath, seqlen, dims, bpugSQ=0, denoise='APC')\n",
    "#get coordinates\n",
    "C[np.tril_indices(seqlen)] = np.min(C)\n",
    "bp_stretch = np.ravel(C)\n",
    "minval = np.sort(bp_stretch)[::-1][-1] #just gets the minimum value - can be changed to a different idx\n",
    "bs = np.where(C > minval)\n",
    "idx = np.argsort(C[bs])\n",
    "x = bs[0][idx][::-1]#sorts the x and y coords in order from lowest to highest so highest scores will be plotted last\n",
    "y = bs[1][idx][::-1]\n",
    "\n",
    "scoremat.shape"
   ]
  },
  {
   "cell_type": "markdown",
   "metadata": {},
   "source": [
    "# BP' - BP'"
   ]
  },
  {
   "cell_type": "code",
   "execution_count": 25,
   "metadata": {},
   "outputs": [],
   "source": [
    "#infernal SS\n",
    "SS_dict = {}\n",
    "for fam in ['RF00005']:\n",
    "    SSfile = '../Rfam11stos/%s_rfam11_SS.txt'%(fam)\n",
    "    with open(SSfile, 'r') as fd:\n",
    "        for line in fd:\n",
    "            SS_dict[fam] = line\n",
    "            \n",
    "nest_coords = bd.bp_coords(SS_dict[fam])\n",
    "nest_coords = nest_coords[:len(nest_coords)//2]"
   ]
  },
  {
   "cell_type": "code",
   "execution_count": 21,
   "metadata": {},
   "outputs": [
    {
     "name": "stderr",
     "output_type": "stream",
     "text": [
      "/Users/steffanpaul/anaconda/envs/tensorflow/lib/python3.6/site-packages/matplotlib/figure.py:2366: UserWarning: This figure includes Axes that are not compatible with tight_layout, so results might be incorrect.\n",
      "  warnings.warn(\"This figure includes Axes that are not compatible \"\n"
     ]
    },
    {
     "data": {
      "image/png": "[encoded data removed]",
      "text/plain": [
       "<Figure size 432x288 with 2 Axes>"
      ]
     },
     "metadata": {},
     "output_type": "display_data"
    }
   ],
   "source": [
    "i=8\n",
    "plt.figure()\n",
    "sb.heatmap(scoremat[x[i], y[i]])\n",
    "plt.show()"
   ]
  },
  {
   "cell_type": "code",
   "execution_count": 28,
   "metadata": {},
   "outputs": [
    {
     "name": "stderr",
     "output_type": "stream",
     "text": [
      "/Users/steffanpaul/anaconda/envs/tensorflow/lib/python3.6/site-packages/matplotlib/figure.py:2366: UserWarning: This figure includes Axes that are not compatible with tight_layout, so results might be incorrect.\n",
      "  warnings.warn(\"This figure includes Axes that are not compatible \"\n"
     ]
    },
    {
     "data": {
      "image/png": "[encoded data removed]",
      "text/plain": [
       "<Figure size 432x288 with 2 Axes>"
      ]
     },
     "metadata": {},
     "output_type": "display_data"
    }
   ],
   "source": [
    "i=1\n",
    "plt.figure()\n",
    "sb.heatmap(scoremat[nest_coords[i][0], nest_coords[i][1]])\n",
    "plt.show()"
   ]
  },
  {
   "cell_type": "code",
   "execution_count": 70,
   "metadata": {},
   "outputs": [
    {
     "name": "stderr",
     "output_type": "stream",
     "text": [
      "/Users/steffanpaul/anaconda/envs/tensorflow/lib/python3.6/site-packages/matplotlib/figure.py:2366: UserWarning: This figure includes Axes that are not compatible with tight_layout, so results might be incorrect.\n",
      "  warnings.warn(\"This figure includes Axes that are not compatible \"\n"
     ]
    },
    {
     "data": {
      "image/png": "[encoded data removed]",
      "text/plain": [
       "<Figure size 432x288 with 2 Axes>"
      ]
     },
     "metadata": {},
     "output_type": "display_data"
    }
   ],
   "source": [
    "m  = np.mean(scoremat[nest_coords[:, 0], nest_coords[:,1]], axis=0)\n",
    "\n",
    "plt.figure()\n",
    "sb.heatmap(m, vmin=None, cmap='Blues')\n",
    "plt.show()"
   ]
  },
  {
   "cell_type": "code",
   "execution_count": 83,
   "metadata": {},
   "outputs": [
    {
     "name": "stderr",
     "output_type": "stream",
     "text": [
      "/Users/steffanpaul/anaconda/envs/tensorflow/lib/python3.6/site-packages/matplotlib/figure.py:2366: UserWarning: This figure includes Axes that are not compatible with tight_layout, so results might be incorrect.\n",
      "  warnings.warn(\"This figure includes Axes that are not compatible \"\n"
     ]
    },
    {
     "data": {
      "image/png": "[encoded data removed]",
      "text/plain": [
       "<Figure size 432x288 with 2 Axes>"
      ]
     },
     "metadata": {},
     "output_type": "display_data"
    }
   ],
   "source": [
    "i = 4\n",
    "plt.figure()\n",
    "sb.heatmap(scoremat[nest_coords[i, 0], nest_coords[i,1]], vmin=16., cmap='Blues')\n",
    "plt.show()"
   ]
  },
  {
   "cell_type": "markdown",
   "metadata": {},
   "source": [
    "# U - U"
   ]
  },
  {
   "cell_type": "code",
   "execution_count": 65,
   "metadata": {},
   "outputs": [],
   "source": [
    "ranges = [(14,17), (31,34), (52,57)]\n",
    "rcoords = [14,31,52]\n",
    "step = 4\n",
    "\n",
    "UU_coords = []\n",
    "for r in rcoords:\n",
    "    for l in rcoords:\n",
    "        for i in range(r, r+5):\n",
    "            for j in range(l, l+5):\n",
    "                UU_coords.append([i,j])\n",
    "\n",
    "#UU_coords = []\n",
    "#for r in ranges:\n",
    "#    for i in range(r[0],r[1]+1):\n",
    "#        for j in range(r[0],r[1]+1):\n",
    "#            UU_coords.append([i,j])\n",
    "UU_coords = np.asarray(UU_coords)"
   ]
  },
  {
   "cell_type": "code",
   "execution_count": 86,
   "metadata": {},
   "outputs": [
    {
     "name": "stderr",
     "output_type": "stream",
     "text": [
      "/Users/steffanpaul/anaconda/envs/tensorflow/lib/python3.6/site-packages/matplotlib/figure.py:2366: UserWarning: This figure includes Axes that are not compatible with tight_layout, so results might be incorrect.\n",
      "  warnings.warn(\"This figure includes Axes that are not compatible \"\n"
     ]
    },
    {
     "data": {
      "image/png": "[encoded data removed]",
      "text/plain": [
       "<Figure size 432x288 with 2 Axes>"
      ]
     },
     "metadata": {},
     "output_type": "display_data"
    }
   ],
   "source": [
    "u  = np.mean(scoremat[UU_coords[:, 0], UU_coords[:,1]], axis=0)\n",
    "\n",
    "plt.figure()\n",
    "sb.heatmap(u, cmap='Blues')\n",
    "plt.show()"
   ]
  },
  {
   "cell_type": "code",
   "execution_count": 91,
   "metadata": {},
   "outputs": [
    {
     "name": "stderr",
     "output_type": "stream",
     "text": [
      "/Users/steffanpaul/anaconda/envs/tensorflow/lib/python3.6/site-packages/matplotlib/figure.py:2366: UserWarning: This figure includes Axes that are not compatible with tight_layout, so results might be incorrect.\n",
      "  warnings.warn(\"This figure includes Axes that are not compatible \"\n"
     ]
    },
    {
     "data": {
      "image/png": "[encoded data removed]",
      "text/plain": [
       "<Figure size 432x288 with 2 Axes>"
      ]
     },
     "metadata": {},
     "output_type": "display_data"
    }
   ],
   "source": [
    "i=23\n",
    "u  = np.mean(scoremat[UU_coords[i:i+1, 0], UU_coords[i:i+1,1]], axis=0)\n",
    "\n",
    "plt.figure()\n",
    "sb.heatmap(u, cmap='Blues')\n",
    "plt.show()"
   ]
  },
  {
   "cell_type": "markdown",
   "metadata": {},
   "source": [
    "# B' - B''"
   ]
  },
  {
   "cell_type": "code",
   "execution_count": 68,
   "metadata": {
    "collapsed": true
   },
   "outputs": [],
   "source": [
    "rcoords = [14,31,52]\n",
    "step = 4\n",
    "\n",
    "BBn_coords = []\n",
    "r = 47\n",
    "l = 0\n",
    "for i in range(r, r+4):\n",
    "    for j in range(l, l+6):\n",
    "        BBn_coords.append([i,j])\n",
    "\n",
    "#UU_coords = []\n",
    "#for r in ranges:\n",
    "#    for i in range(r[0],r[1]+1):\n",
    "#        for j in range(r[0],r[1]+1):\n",
    "#            UU_coords.append([i,j])\n",
    "BBn_coords = np.asarray(BBn_coords)"
   ]
  },
  {
   "cell_type": "code",
   "execution_count": 69,
   "metadata": {},
   "outputs": [
    {
     "name": "stderr",
     "output_type": "stream",
     "text": [
      "/Users/steffanpaul/anaconda/envs/tensorflow/lib/python3.6/site-packages/matplotlib/figure.py:2366: UserWarning: This figure includes Axes that are not compatible with tight_layout, so results might be incorrect.\n",
      "  warnings.warn(\"This figure includes Axes that are not compatible \"\n"
     ]
    },
    {
     "data": {
      "image/png": "[encoded data removed]",
      "text/plain": [
       "<Figure size 432x288 with 2 Axes>"
      ]
     },
     "metadata": {},
     "output_type": "display_data"
    }
   ],
   "source": [
    "bbn  = np.mean(scoremat[BBn_coords[:, 0], BBn_coords[:,1]], axis=0)\n",
    "\n",
    "plt.figure()\n",
    "sb.heatmap(bbn, cmap='Blues')\n",
    "plt.show()"
   ]
  },
  {
   "cell_type": "markdown",
   "metadata": {},
   "source": [
    "# B - U"
   ]
  },
  {
   "cell_type": "code",
   "execution_count": 62,
   "metadata": {
    "collapsed": true
   },
   "outputs": [],
   "source": [
    "Bst = 26\n",
    "step = 4\n",
    "\n",
    "BU_coords = [[Bst,i] for i in range(seqlen)]\n",
    "\n",
    "\n",
    "#UU_coords = []\n",
    "#for r in ranges:\n",
    "#    for i in range(r[0],r[1]+1):\n",
    "#        for j in range(r[0],r[1]+1):\n",
    "#            UU_coords.append([i,j])\n",
    "BU_coords = np.asarray(BU_coords)"
   ]
  },
  {
   "cell_type": "code",
   "execution_count": 84,
   "metadata": {},
   "outputs": [
    {
     "name": "stderr",
     "output_type": "stream",
     "text": [
      "/Users/steffanpaul/anaconda/envs/tensorflow/lib/python3.6/site-packages/matplotlib/figure.py:2366: UserWarning: This figure includes Axes that are not compatible with tight_layout, so results might be incorrect.\n",
      "  warnings.warn(\"This figure includes Axes that are not compatible \"\n"
     ]
    },
    {
     "data": {
      "image/png": "[encoded data removed]",
      "text/plain": [
       "<Figure size 432x288 with 2 Axes>"
      ]
     },
     "metadata": {},
     "output_type": "display_data"
    }
   ],
   "source": [
    "bu  = np.mean(scoremat[BU_coords[:1, 0], BU_coords[:1,1]], axis=0)\n",
    "\n",
    "plt.figure()\n",
    "sb.heatmap(bu, cmap='Blues')\n",
    "plt.show()"
   ]
  },
  {
   "cell_type": "code",
   "execution_count": 39,
   "metadata": {
    "collapsed": true
   },
   "outputs": [],
   "source": [
    "#get scores\n",
    "arrayspath = 'RF00005_mlp_512_sum1.npy'\n",
    "hol_mut2 = np.load(arrayspath)\n",
    "seqlen,_, dims,_ = hol_mut2.shape\n",
    "C00 = bd.get_wc(arrayspath, seqlen, dims, bpugSQ=0, denoise=None)\n",
    "C10 = bd.get_wc(arrayspath, seqlen, dims, bpugSQ=0, denoise='APC')\n",
    "\n",
    "\n",
    "arrayspath = 'RF00005_mlp_512_red.npy'\n",
    "hol_mut2 = np.load(arrayspath)\n",
    "seqlen,_, dims,_ = hol_mut2.shape\n",
    "C01 = bd.get_wc(arrayspath, seqlen, dims, bpugSQ=0, denoise=None)\n",
    "C11 = bd.get_wc(arrayspath, seqlen, dims, bpugSQ=0, denoise='APC')"
   ]
  },
  {
   "cell_type": "code",
   "execution_count": 79,
   "metadata": {},
   "outputs": [
    {
     "name": "stderr",
     "output_type": "stream",
     "text": [
      "/Users/steffanpaul/anaconda/envs/tensorflow/lib/python3.6/site-packages/matplotlib/figure.py:2366: UserWarning: This figure includes Axes that are not compatible with tight_layout, so results might be incorrect.\n",
      "  warnings.warn(\"This figure includes Axes that are not compatible \"\n"
     ]
    },
    {
     "data": {
      "image/png": "[encoded data removed]",
      "text/plain": [
       "<Figure size 504x504 with 1 Axes>"
      ]
     },
     "metadata": {},
     "output_type": "display_data"
    }
   ],
   "source": [
    "plt.figure(figsize=(7,7))\n",
    "sb.heatmap(C11, cbar=False, cmap='Blues', vmin=0., linewidths=0.1, linecolor='k')\n",
    "#plt.savefig('RF00005_postAPC.pdf')\n",
    "plt.scatter([14,14,17,17], [17,14,17,14])\n",
    "plt.scatter([31,31,34,34], [34,31,34,31])\n",
    "plt.scatter([52,52,57,57], [57,52,57,52])\n",
    "\n",
    "\n",
    "\n",
    "plt.show()"
   ]
  },
  {
   "cell_type": "code",
   "execution_count": 99,
   "metadata": {},
   "outputs": [
    {
     "name": "stderr",
     "output_type": "stream",
     "text": [
      "/Users/steffanpaul/anaconda/envs/tensorflow/lib/python3.6/site-packages/matplotlib/figure.py:2366: UserWarning: This figure includes Axes that are not compatible with tight_layout, so results might be incorrect.\n",
      "  warnings.warn(\"This figure includes Axes that are not compatible \"\n"
     ]
    },
    {
     "data": {
      "image/png": "[encoded data removed]",
      "text/plain": [
       "<Figure size 432x288 with 2 Axes>"
      ]
     },
     "metadata": {},
     "output_type": "display_data"
    }
   ],
   "source": [
    "bbn  = np.mean(scoremat[BBn_coords[:, 0], BBn_coords[:,1]], axis=0)\n",
    "\n",
    "plt.figure()\n",
    "sb.heatmap(scoremat[13,16], cmap='Blues')\n",
    "plt.show()"
   ]
  },
  {
   "cell_type": "code",
   "execution_count": null,
   "metadata": {
    "collapsed": true
   },
   "outputs": [],
   "source": []
  }
 ],
 "metadata": {
  "kernelspec": {
   "display_name": "Python 3",
   "language": "python",
   "name": "python3"
  },
  "language_info": {
   "codemirror_mode": {
    "name": "ipython",
    "version": 3
   },
   "file_extension": ".py",
   "mimetype": "text/x-python",
   "name": "python",
   "nbconvert_exporter": "python",
   "pygments_lexer": "ipython3",
   "version": "3.6.7"
  }
 },
 "nbformat": 4,
 "nbformat_minor": 2
}
