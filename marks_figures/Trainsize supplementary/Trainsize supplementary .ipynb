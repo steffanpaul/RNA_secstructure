{
 "cells": [
  {
   "cell_type": "code",
   "execution_count": 1,
   "metadata": {
    "collapsed": true
   },
   "outputs": [],
   "source": [
    "from __future__ import absolute_import\n",
    "from __future__ import division\n",
    "from __future__ import print_function\n",
    "\n",
    "import os, sys, h5py, time\n",
    "import numpy as np\n",
    "import matplotlib.pyplot as plt\n",
    "import matplotlib as mat\n",
    "import seaborn as sb\n",
    "import tensorflow as tf\n",
    "import scipy\n",
    "\n",
    "import sys\n",
    "sys.path.append('../../../..')\n",
    "import mutagenesisfunctions as mf\n",
    "import bpdev as bd\n",
    "import helper\n",
    "from deepomics import neuralnetwork as nn\n",
    "from deepomics import utils, fit, visualize, saliency\n",
    "\n",
    "import contacts\n",
    "\n",
    "from Bio import AlignIO\n",
    "import time as time\n",
    "import pandas as pd\n",
    "np.random.seed(42)"
   ]
  },
  {
   "cell_type": "code",
   "execution_count": 6,
   "metadata": {
    "collapsed": true
   },
   "outputs": [],
   "source": [
    "families = ['RF00023', 'RF00504']\n",
    "trainsizes = ['2000', '1000', '800', '300']"
   ]
  },
  {
   "cell_type": "code",
   "execution_count": 19,
   "metadata": {},
   "outputs": [],
   "source": [
    "for fam in families:\n",
    "    for ts in trainsizes:\n",
    "        arrayspath = 'mlp_512_%s_ts%s.npy'%(fam,ts)\n",
    "        hol_mut2 = np.load(arrayspath)\n",
    "        seqlen,_, dims,_ = hol_mut2.shape\n",
    "        C = bd.get_wc(arrayspath, seqlen, dims, bpugSQ=0, denoise='APC')\n",
    "\n",
    "        #get coordinates\n",
    "        C[np.tril_indices(seqlen)] = np.min(C)\n",
    "        bp_stretch = np.ravel(C)\n",
    "        minval = np.sort(bp_stretch)[::-1][-1] #just gets the minimum value - can be changed to a different idx\n",
    "        bs = np.where(C > minval)\n",
    "        idx = np.argsort(C[bs])\n",
    "        x = bs[0][idx] #sorts the x and y coords in order from lowest to highest so highest scores will be plotted last\n",
    "        y = bs[1][idx]\n",
    "\n",
    "        score_col = [C[xx,yy] for xx,yy in zip(x,y)] #gets the scores for each coordinate in the needed order\n",
    "\n",
    "        #get the colour map to select colors for plotting\n",
    "        pal = 'Blues'\n",
    "        cmap = mat.cm.get_cmap(pal)\n",
    "\n",
    "\n",
    "        markersize = 20\n",
    "\n",
    "        #plot\n",
    "        fig = plt.figure(figsize=(5,5))\n",
    "        #plt.scatter(np.tril_indices(seqlen)[0], np.tril_indices(seqlen)[1], c=np.asarray([cmap(0.)]), s=markersize) #plot background \n",
    "        plt.scatter(x, y, c=score_col, cmap=pal, label = 'SoM', vmin=0., s=markersize)\n",
    "        plt.scatter(y, x, c=score_col, cmap=pal, label = 'SoM', vmin=0., s=markersize)\n",
    "        #plt.xlabel('Sequence Position', fontsize=10)\n",
    "        #if ts == '300':\n",
    "        #    plt.ylabel('Sequence Position', fontsize=10)\n",
    "        #    plt.xticks(fontsize=10)\n",
    "        plt.yticks(fontsize=10)\n",
    "\n",
    "        ax = plt.gca()\n",
    "        ax.invert_yaxis()\n",
    "        ax.set_facecolor(cmap(0.))\n",
    "        if ts == '300':\n",
    "            ax.tick_params(axis='x', which='major', labelsize=10)\n",
    "        if ts != '300':\n",
    "            ax.set_xticklabels([])\n",
    "\n",
    "        plt.savefig('%s_%s.png'%(fam,ts))\n",
    "        #plt.show()\n",
    "        plt.close()"
   ]
  },
  {
   "cell_type": "code",
   "execution_count": 17,
   "metadata": {
    "collapsed": true
   },
   "outputs": [],
   "source": [
    "plt.close('all')"
   ]
  },
  {
   "cell_type": "code",
   "execution_count": null,
   "metadata": {
    "collapsed": true
   },
   "outputs": [],
   "source": []
  }
 ],
 "metadata": {
  "kernelspec": {
   "display_name": "Python 3",
   "language": "python",
   "name": "python3"
  },
  "language_info": {
   "codemirror_mode": {
    "name": "ipython",
    "version": 3
   },
   "file_extension": ".py",
   "mimetype": "text/x-python",
   "name": "python",
   "nbconvert_exporter": "python",
   "pygments_lexer": "ipython3",
   "version": "3.6.7"
  }
 },
 "nbformat": 4,
 "nbformat_minor": 2
}
