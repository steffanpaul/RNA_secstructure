{
 "cells": [
  {
   "cell_type": "code",
   "execution_count": 1,
   "metadata": {
    "collapsed": false
   },
   "outputs": [
    {
     "ename": "ImportError",
     "evalue": "No module named mutagenesisfunctions",
     "output_type": "error",
     "traceback": [
      "\u001b[0;31m---------------------------------------------------------------------------\u001b[0m",
      "\u001b[0;31mImportError\u001b[0m                               Traceback (most recent call last)",
      "\u001b[0;32m<ipython-input-1-c7b684120fff>\u001b[0m in \u001b[0;36m<module>\u001b[0;34m()\u001b[0m\n\u001b[1;32m     15\u001b[0m \u001b[0;32mimport\u001b[0m \u001b[0msys\u001b[0m\u001b[0;34m\u001b[0m\u001b[0m\n\u001b[1;32m     16\u001b[0m \u001b[0msys\u001b[0m\u001b[0;34m.\u001b[0m\u001b[0mpath\u001b[0m\u001b[0;34m.\u001b[0m\u001b[0mappend\u001b[0m\u001b[0;34m(\u001b[0m\u001b[0;34m'../../../..'\u001b[0m\u001b[0;34m)\u001b[0m\u001b[0;34m\u001b[0m\u001b[0m\n\u001b[0;32m---> 17\u001b[0;31m \u001b[0;32mimport\u001b[0m \u001b[0mmutagenesisfunctions\u001b[0m \u001b[0;32mas\u001b[0m \u001b[0mmf\u001b[0m\u001b[0;34m\u001b[0m\u001b[0m\n\u001b[0m\u001b[1;32m     18\u001b[0m \u001b[0;32mfrom\u001b[0m \u001b[0mBio\u001b[0m \u001b[0;32mimport\u001b[0m \u001b[0mAlignIO\u001b[0m\u001b[0;34m\u001b[0m\u001b[0m\n\u001b[1;32m     19\u001b[0m \u001b[0;32mimport\u001b[0m \u001b[0mtime\u001b[0m \u001b[0;32mas\u001b[0m \u001b[0mtime\u001b[0m\u001b[0;34m\u001b[0m\u001b[0m\n",
      "\u001b[0;31mImportError\u001b[0m: No module named mutagenesisfunctions"
     ]
    }
   ],
   "source": [
    "from __future__ import absolute_import\n",
    "from __future__ import division\n",
    "from __future__ import print_function\n",
    "\n",
    "import os, sys, h5py\n",
    "import numpy as np\n",
    "import matplotlib.pyplot as plt\n",
    "%matplotlib inline\n",
    "import seaborn as sb\n",
    "import tensorflow as tf\n",
    "from deepomics import neuralnetwork as nn\n",
    "from deepomics import utils, fit, visualize, saliency\n",
    "import scipy\n",
    "\n",
    "import sys\n",
    "sys.path.append('../../../..')\n",
    "import mutagenesisfunctions as mf\n",
    "from Bio import AlignIO\n",
    "import time as time\n",
    "import pandas as pd"
   ]
  },
  {
   "cell_type": "code",
   "execution_count": 4,
   "metadata": {
    "collapsed": false
   },
   "outputs": [
    {
     "ename": "IOError",
     "evalue": "[Errno 2] No such file or directory: '../../../data_RFAM/riboswitch_100k.sto'",
     "output_type": "error",
     "traceback": [
      "\u001b[0;31m---------------------------------------------------------------------------\u001b[0m",
      "\u001b[0;31mIOError\u001b[0m                                   Traceback (most recent call last)",
      "\u001b[0;32m<ipython-input-4-c62dece3d91a>\u001b[0m in \u001b[0;36m<module>\u001b[0;34m()\u001b[0m\n\u001b[1;32m      2\u001b[0m \u001b[0mstarttime\u001b[0m \u001b[0;34m=\u001b[0m \u001b[0mtime\u001b[0m\u001b[0;34m.\u001b[0m\u001b[0mtime\u001b[0m\u001b[0;34m(\u001b[0m\u001b[0;34m)\u001b[0m\u001b[0;34m\u001b[0m\u001b[0m\n\u001b[1;32m      3\u001b[0m \u001b[0msimalign_file\u001b[0m \u001b[0;34m=\u001b[0m \u001b[0;34m'../../../data_RFAM/riboswitch_100k.sto'\u001b[0m\u001b[0;34m\u001b[0m\u001b[0m\n\u001b[0;32m----> 4\u001b[0;31m \u001b[0mXpos\u001b[0m \u001b[0;34m=\u001b[0m \u001b[0mmf\u001b[0m\u001b[0;34m.\u001b[0m\u001b[0msto_onehot\u001b[0m\u001b[0;34m(\u001b[0m\u001b[0msimalign_file\u001b[0m\u001b[0;34m,\u001b[0m \u001b[0;34m'rna'\u001b[0m\u001b[0;34m)\u001b[0m\u001b[0;34m\u001b[0m\u001b[0m\n\u001b[0m\u001b[1;32m      5\u001b[0m \u001b[0mXpos\u001b[0m \u001b[0;34m=\u001b[0m \u001b[0mnp\u001b[0m\u001b[0;34m.\u001b[0m\u001b[0mexpand_dims\u001b[0m\u001b[0;34m(\u001b[0m\u001b[0mXpos\u001b[0m\u001b[0;34m,\u001b[0m \u001b[0maxis\u001b[0m\u001b[0;34m=\u001b[0m\u001b[0;36m2\u001b[0m\u001b[0;34m)\u001b[0m\u001b[0;34m\u001b[0m\u001b[0m\n\u001b[1;32m      6\u001b[0m \u001b[0;32mprint\u001b[0m \u001b[0;34m(\u001b[0m\u001b[0;34m'Open positive control: '\u001b[0m \u001b[0;34m+\u001b[0m \u001b[0mmf\u001b[0m\u001b[0;34m.\u001b[0m\u001b[0msectotime\u001b[0m\u001b[0;34m(\u001b[0m\u001b[0mtime\u001b[0m\u001b[0;34m.\u001b[0m\u001b[0mtime\u001b[0m\u001b[0;34m(\u001b[0m\u001b[0;34m)\u001b[0m\u001b[0;34m-\u001b[0m\u001b[0mstarttime\u001b[0m\u001b[0;34m)\u001b[0m\u001b[0;34m)\u001b[0m\u001b[0;34m\u001b[0m\u001b[0m\n",
      "\u001b[0;32m/home/peter/steffan/mutagenesisfunctions.pyc\u001b[0m in \u001b[0;36msto_onehot\u001b[0;34m(simalign_file, alphabet, gaps)\u001b[0m\n\u001b[1;32m    657\u001b[0m \u001b[0;32mdef\u001b[0m \u001b[0msto_onehot\u001b[0m\u001b[0;34m(\u001b[0m\u001b[0msimalign_file\u001b[0m\u001b[0;34m,\u001b[0m \u001b[0malphabet\u001b[0m\u001b[0;34m,\u001b[0m \u001b[0mgaps\u001b[0m\u001b[0;34m=\u001b[0m\u001b[0mTrue\u001b[0m\u001b[0;34m)\u001b[0m\u001b[0;34m:\u001b[0m\u001b[0;34m\u001b[0m\u001b[0m\n\u001b[1;32m    658\u001b[0m     \u001b[0;32mfrom\u001b[0m \u001b[0mBio\u001b[0m \u001b[0;32mimport\u001b[0m \u001b[0mAlignIO\u001b[0m\u001b[0;34m\u001b[0m\u001b[0m\n\u001b[0;32m--> 659\u001b[0;31m     \u001b[0malignment\u001b[0m \u001b[0;34m=\u001b[0m \u001b[0mAlignIO\u001b[0m\u001b[0;34m.\u001b[0m\u001b[0mread\u001b[0m\u001b[0;34m(\u001b[0m\u001b[0mopen\u001b[0m\u001b[0;34m(\u001b[0m\u001b[0msimalign_file\u001b[0m\u001b[0;34m)\u001b[0m\u001b[0;34m,\u001b[0m \u001b[0;34m\"stockholm\"\u001b[0m\u001b[0;34m)\u001b[0m\u001b[0;34m\u001b[0m\u001b[0m\n\u001b[0m\u001b[1;32m    660\u001b[0m     \u001b[0msequences\u001b[0m \u001b[0;34m=\u001b[0m \u001b[0;34m[\u001b[0m\u001b[0;34m]\u001b[0m\u001b[0;34m\u001b[0m\u001b[0m\n\u001b[1;32m    661\u001b[0m     \u001b[0;32mfor\u001b[0m \u001b[0mrecord\u001b[0m \u001b[0;32min\u001b[0m \u001b[0malignment\u001b[0m\u001b[0;34m:\u001b[0m\u001b[0;34m\u001b[0m\u001b[0m\n",
      "\u001b[0;31mIOError\u001b[0m: [Errno 2] No such file or directory: '../../../data_RFAM/riboswitch_100k.sto'"
     ]
    }
   ],
   "source": [
    "#Open positive control simulated sequences\n",
    "starttime = time.time()\n",
    "simalign_file = '../../../data_RFAM/riboswitch_100k.sto'\n",
    "Xpos = mf.sto_onehot(simalign_file, 'rna')\n",
    "Xpos = np.expand_dims(Xpos, axis=2)\n",
    "print ('Open positive control: ' + mf.sectotime(time.time()-starttime))\n",
    "\n",
    "#Make negative controls\n",
    "starttime = time.time()\n",
    "numdata, seqlen, _, dims = Xpos.shape\n",
    "dims = dims-1\n",
    "Xneg = mf.seq_generator(numdata, seqlen, dims, 274)\n",
    "print ('Random sequence generation completed in: ' + mf.sectotime(time.time() - starttime))"
   ]
  },
  {
   "cell_type": "code",
   "execution_count": null,
   "metadata": {
    "collapsed": true
   },
   "outputs": [],
   "source": [
    "simalign_file = '../../../data_RFAM/riboswitch_100k.sto'\n",
    "\n",
    "#Get the full secondary structure from the emission\n",
    "SS = mf.getSSconsensus(simalign_file)\n",
    "\n",
    "#Get the sequence and indices of the conserved base pairs\n",
    "bpchars = ['(',')','<','>','{','}']\n",
    "sig_bpchars = ['<','>']\n",
    "bpidx, bpSS, nonbpidx = mf.sigbasepair(SS, bpchars)"
   ]
  },
  {
   "cell_type": "code",
   "execution_count": null,
   "metadata": {
    "collapsed": true
   },
   "outputs": [],
   "source": [
    "starttime = time.time()\n",
    "\n",
    "#insert non base pair positive control things into negative control\n",
    "for s in range(Xpos.shape[0]):\n",
    "    Xneg_rand[s, nonbpidx, :, :] = np.copy(Xpos[s, nonbpidx, :, :])\n",
    "\n",
    "print ('Making neg control w/o base pairs: ' + mf.sectotime(time.time() - starttime))\n",
    "\n",
    "#check\n",
    "if Xneg_rand[:, nonbpidx, :, :].all() == Xpos[:, nonbpidx, :, :].all():\n",
    "    print ('Success!')"
   ]
  },
  {
   "cell_type": "code",
   "execution_count": null,
   "metadata": {
    "collapsed": true
   },
   "outputs": [],
   "source": [
    "#rejoin pos and neg controls\n",
    "X_data = np.concatenate((Xpos, Xneg_rand), axis=0)\n",
    "numdata, seqlen, _, dims = X_data.shape\n",
    "dims = dims-1"
   ]
  },
  {
   "cell_type": "code",
   "execution_count": null,
   "metadata": {
    "collapsed": true
   },
   "outputs": [],
   "source": [
    "#make Y data\n",
    "Y_data = np.zeros((numdata, 1))\n",
    "Y_data[:numdata//2, :] = 1."
   ]
  },
  {
   "cell_type": "code",
   "execution_count": null,
   "metadata": {
    "collapsed": true
   },
   "outputs": [],
   "source": [
    "#Save dictionaries into h5py files\n",
    "hdf5path = '../../../data_RFAM/riboswitch_100k_t1.hdf5'\n",
    "with h5py.File(hdf5path, 'w') as f:\n",
    "    f.create_dataset('X_data', data=X_data)\n",
    "    f.create_dataset('Y_data', data=Y_data)"
   ]
  },
  {
   "cell_type": "code",
   "execution_count": null,
   "metadata": {
    "collapsed": true
   },
   "outputs": [],
   "source": [
    "starttime = time.time()\n",
    "\n",
    "#Open data from h5py\n",
    "\n",
    "data_path = '../../../data_RFAM/riboswitch_100k_t1.hdf5'\n",
    "with h5py.File(data_path, 'r') as dataset:\n",
    "    X_data = np.array(dataset['X_data'])\n",
    "    Y_data = np.array(dataset['Y_data'])\n",
    "    \n",
    "num_data, seq_length, _, dims = X_data.shape\n",
    "dims = dims-1\n",
    "\n",
    "#remove gaps from sequences\n",
    "ungapped = True\n",
    "if ungapped:\n",
    "    X_data = X_data[:, :, :, :dims]\n",
    "    \n",
    "# get validation and test set from training set\n",
    "test_frac = 0.3\n",
    "valid_frac = 0.1\n",
    "N = numdata\n",
    "split_1 = int(N*(1-valid_frac-test_frac))\n",
    "split_2 = int(N*(1-test_frac))\n",
    "shuffle = np.random.permutation(N)\n",
    "\n",
    "#set up dictionaries\n",
    "train = {'inputs': X_data[shuffle[:split_1]], \n",
    "         'targets': Y_data[shuffle[:split_1]]}\n",
    "valid = {'inputs': X_data[shuffle[split_1:split_2]], \n",
    "         'targets': Y_data[shuffle[split_1:split_2]]}\n",
    "test = {'inputs': X_data[shuffle[split_2:]], \n",
    "         'targets': Y_data[shuffle[split_2:]]}\n",
    "    \n",
    "print ('Data extraction and dict construction completed in: ' + mf.sectotime(time.time() - starttime))"
   ]
  },
  {
   "cell_type": "code",
   "execution_count": null,
   "metadata": {
    "collapsed": true
   },
   "outputs": [],
   "source": []
  }
 ],
 "metadata": {
  "kernelspec": {
   "display_name": "Python 2",
   "language": "python",
   "name": "python2"
  },
  "language_info": {
   "codemirror_mode": {
    "name": "ipython",
    "version": 2
   },
   "file_extension": ".py",
   "mimetype": "text/x-python",
   "name": "python",
   "nbconvert_exporter": "python",
   "pygments_lexer": "ipython2",
   "version": "2.7.13"
  }
 },
 "nbformat": 4,
 "nbformat_minor": 2
}
