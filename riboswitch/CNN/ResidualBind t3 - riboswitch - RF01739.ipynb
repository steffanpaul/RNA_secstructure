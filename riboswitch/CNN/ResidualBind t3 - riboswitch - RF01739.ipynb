{
 "cells": [
  {
   "cell_type": "code",
   "execution_count": 1,
   "metadata": {
    "collapsed": false
   },
   "outputs": [],
   "source": [
    "from __future__ import absolute_import\n",
    "from __future__ import division\n",
    "from __future__ import print_function\n",
    "\n",
    "import os, sys, h5py\n",
    "import numpy as np\n",
    "import matplotlib.pyplot as plt\n",
    "%matplotlib inline\n",
    "import seaborn as sb\n",
    "import tensorflow as tf\n",
    "from deepomics import neuralnetwork as nn\n",
    "from deepomics import utils, fit, visualize, saliency\n",
    "import scipy\n",
    "\n",
    "import sys\n",
    "sys.path.append('../../../..')\n",
    "import mutagenesisfunctions as mf\n",
    "from Bio import AlignIO\n",
    "import time as time\n",
    "import pandas as pd"
   ]
  },
  {
   "cell_type": "code",
   "execution_count": 2,
   "metadata": {
    "collapsed": false
   },
   "outputs": [
    {
     "name": "stdout",
     "output_type": "stream",
     "text": [
      "Data extraction and dict construction completed in: 10.08s\n"
     ]
    }
   ],
   "source": [
    "starttime = time.time()\n",
    "\n",
    "#Open data from h5py\n",
    "\n",
    "data_path = '../../../data_RFAM/riboswitch_100k_d3.hdf5'\n",
    "with h5py.File(data_path, 'r') as dataset:\n",
    "    X_data = np.array(dataset['X_data'])\n",
    "    Y_data = np.array(dataset['Y_data'])\n",
    "    \n",
    "numdata, seqlen, _, dims = X_data.shape\n",
    "dims = dims-1\n",
    "\n",
    "#remove gaps from sequences\n",
    "ungapped = True\n",
    "if ungapped:\n",
    "    X_data = X_data[:, :, :, :dims]\n",
    "    \n",
    "# get validation and test set from training set\n",
    "test_frac = 0.3\n",
    "valid_frac = 0.1\n",
    "N = numdata\n",
    "split_1 = int(N*(1-valid_frac-test_frac))\n",
    "split_2 = int(N*(1-test_frac))\n",
    "shuffle = np.random.permutation(N)\n",
    "\n",
    "#set up dictionaries\n",
    "train = {'inputs': X_data[shuffle[:split_1]], \n",
    "         'targets': Y_data[shuffle[:split_1]]}\n",
    "valid = {'inputs': X_data[shuffle[split_1:split_2]], \n",
    "         'targets': Y_data[shuffle[split_1:split_2]]}\n",
    "test = {'inputs': X_data[shuffle[split_2:]], \n",
    "         'targets': Y_data[shuffle[split_2:]]}\n",
    "    \n",
    "print ('Data extraction and dict construction completed in: ' + mf.sectotime(time.time() - starttime))"
   ]
  },
  {
   "cell_type": "code",
   "execution_count": 3,
   "metadata": {
    "collapsed": false
   },
   "outputs": [
    {
     "data": {
      "text/plain": [
       "'(((((<<<<<<>>>>>><<<<<<<<<>>>>>>>>>)))))<<<<>>>>'"
      ]
     },
     "execution_count": 3,
     "metadata": {},
     "output_type": "execute_result"
    }
   ],
   "source": [
    "simalign_file = '../../../data_RFAM/riboswitch_100k.sto'\n",
    "\n",
    "#Get the full secondary structure and sequence consensus from the emission\n",
    "SS = mf.getSSconsensus(simalign_file)\n",
    "SQ = mf.getSQconsensus(simalign_file)\n",
    "\n",
    "#Get the ungapped sequence and the indices of ungapped nucleotides\n",
    "_, ugSS, ugidx = mf.rm_consensus_gaps(X_data, SS)\n",
    "_, ugSQ, _ = mf.rm_consensus_gaps(X_data, SQ)\n",
    "\n",
    "\n",
    "#Get the sequence and indices of the conserved base pairs\n",
    "bpchars = ['(',')','<','>','{','}']\n",
    "sig_bpchars = ['<','>']\n",
    "bpidx, bpSS, nonbpidx = mf.sigbasepair(SS, bpchars)\n",
    "numbp = len(bpidx)\n",
    "numug = len(ugidx)\n",
    "\n",
    "#Get the bpug information\n",
    "bpugSQ, bpugidx = mf.bpug(ugidx, bpidx, SQ)\n",
    "\n",
    "bpSS"
   ]
  },
  {
   "cell_type": "code",
   "execution_count": 4,
   "metadata": {
    "collapsed": false
   },
   "outputs": [
    {
     "data": {
      "text/plain": [
       "':::::(((((,,,,<-<<<<<____>>>>>><<<--<<<<<<______>>>->>>->>>,,,,,)))))-<<<<____>>>>::::::::::::::::'"
      ]
     },
     "execution_count": 4,
     "metadata": {},
     "output_type": "execute_result"
    }
   ],
   "source": [
    "ugSS"
   ]
  },
  {
   "cell_type": "code",
   "execution_count": 5,
   "metadata": {
    "collapsed": false
   },
   "outputs": [
    {
     "name": "stdout",
     "output_type": "stream",
     "text": [
      "----------------------------------------------------------------------------\n",
      "Network architecture:\n",
      "----------------------------------------------------------------------------\n",
      "layer1: inputs\n",
      "(?, 816, 1, 4)\n",
      "layer2: conv1d_0\n",
      "(?, 30, 1, 96)\n",
      "layer3: conv1d_0_batch\n",
      "(?, 30, 1, 96)\n",
      "layer4: conv1d_0_active\n",
      "(?, 30, 1, 96)\n",
      "layer5: conv1d_0_dropout\n",
      "(?, 30, 1, 96)\n",
      "layer6: conv1d_residual_0_1resid\n",
      "(?, 30, 1, 96)\n",
      "layer7: conv1d_residual_0_1resid_norm\n",
      "(?, 30, 1, 96)\n",
      "layer8: conv1d_residual_0_1resid_active\n",
      "(?, 30, 1, 96)\n",
      "layer9: conv1d_residual_0_dropout1\n",
      "(?, 30, 1, 96)\n",
      "layer10: conv1d_residual_0_2resid\n",
      "(?, 30, 1, 96)\n",
      "layer11: conv1d_residual_0_2resid_norm\n",
      "(?, 30, 1, 96)\n",
      "layer12: conv1d_residual_0_resid_sum\n",
      "(?, 30, 1, 96)\n",
      "layer13: conv1d_residual_0_resid\n",
      "(?, 30, 1, 96)\n",
      "layer14: conv1d_residual_0_meanpool\n",
      "(?, 3, 1, 96)\n",
      "layer15: conv1d_residual_0_dropout\n",
      "(?, 3, 1, 96)\n",
      "layer16: dense_0\n",
      "(?, 196)\n",
      "layer17: dense_0_batch\n",
      "(?, 196)\n",
      "layer18: dense_0_active\n",
      "(?, 196)\n",
      "layer19: dense_0_dropout\n",
      "(?, 196)\n",
      "layer20: dense_1\n",
      "(?, 1)\n",
      "layer21: dense_1_bias\n",
      "(?, 1)\n",
      "layer22: output\n",
      "(?, 1)\n",
      "----------------------------------------------------------------------------\n"
     ]
    }
   ],
   "source": [
    "def cnn_model(input_shape, output_shape):\n",
    "\n",
    "    # create model\n",
    "    layer1 = {'layer': 'input', #41\n",
    "            'input_shape': input_shape\n",
    "            }\n",
    "    layer2 = {'layer': 'conv1d',\n",
    "            'num_filters': 96,\n",
    "            'filter_size': input_shape[1]-29,\n",
    "            'norm': 'batch',\n",
    "            'activation': 'relu',\n",
    "            'dropout': 0.3,\n",
    "            'padding': 'VALID',\n",
    "            }\n",
    "    layer3 = {'layer': 'conv1d_residual',\n",
    "            'filter_size': 5,\n",
    "            'function': 'relu',\n",
    "            'dropout_block': 0.1,\n",
    "            'dropout': 0.3,\n",
    "            'mean_pool': 10,\n",
    "            }\n",
    "    \n",
    "    layer4 = {'layer': 'dense',        # input, conv1d, dense, conv1d_residual, dense_residual, conv1d_transpose,\n",
    "                                    # concat, embedding, variational_normal, variational_softmax, + more\n",
    "          'num_units': 196,\n",
    "          'norm': 'batch',          # if removed, automatically adds bias instead\n",
    "          'activation': 'relu',     # or leaky_relu, prelu, sigmoid, tanh, etc\n",
    "          'dropout': 0.5,           # if removed, default is no dropout\n",
    "             }\n",
    "\n",
    "    \n",
    "    layer5 = {'layer': 'dense',\n",
    "            'num_units': output_shape[1],\n",
    "            'activation': 'sigmoid'\n",
    "            }\n",
    "\n",
    "    model_layers = [layer1, layer2, layer3, layer4, layer5]\n",
    "\n",
    "    # optimization parameters\n",
    "    optimization = {\"objective\": \"binary\",\n",
    "                  \"optimizer\": \"adam\",\n",
    "                  \"learning_rate\": 0.0003,\n",
    "                  \"l2\": 1e-5,\n",
    "                  #\"label_smoothing\": 0.05,\n",
    "                  #\"l1\": 1e-6,\n",
    "                  }\n",
    "    return model_layers, optimization\n",
    "\n",
    "tf.reset_default_graph()\n",
    "\n",
    "# get shapes of inputs and targets\n",
    "input_shape = list(train['inputs'].shape)\n",
    "input_shape[0] = None\n",
    "output_shape = train['targets'].shape\n",
    "\n",
    "# load model parameters\n",
    "model_layers, optimization = cnn_model(input_shape, output_shape)\n",
    "\n",
    "# build neural network class\n",
    "nnmodel = nn.NeuralNet(seed=247)\n",
    "nnmodel.build_layers(model_layers, optimization)\n",
    "\n",
    "# compile neural trainer\n",
    "save_path = '../../../results/riboswitch'\n",
    "param_path = os.path.join(save_path, 'resbind_t3')\n",
    "nntrainer = nn.NeuralTrainer(nnmodel, save='best', file_path=param_path)\n",
    "\n",
    "# look at the shapes of each layer\n",
    "nnmodel.inspect_layers()"
   ]
  },
  {
   "cell_type": "code",
   "execution_count": 6,
   "metadata": {
    "collapsed": true
   },
   "outputs": [],
   "source": [
    "# initialize session\n",
    "sess = utils.initialize_session()"
   ]
  },
  {
   "cell_type": "code",
   "execution_count": 7,
   "metadata": {
    "collapsed": false,
    "scrolled": true
   },
   "outputs": [
    {
     "name": "stdout",
     "output_type": "stream",
     "text": [
      "Epoch 1 out of 100 \n",
      "[==============================] 100.0% -- elapsed time=13.82s -- loss=0.32560 -- acc=84.17667%  \n",
      " \n",
      "  valid loss:\t\t0.08070\n",
      "  valid accuracy:\t0.97275+/-0.00000\n",
      "  valid auc-roc:\t0.99685+/-0.00000\n",
      "  valid auc-pr:\t\t0.99609+/-0.00000\n",
      "  lower cross-validation found\n",
      "  saving model to:  ../../../results/riboswitch/resbind_t3_best.ckpt\n",
      "Epoch 2 out of 100 \n",
      "[==============================] 100.0% -- elapsed time=13.29s -- loss=0.07617 -- acc=97.56834%  \n",
      " \n",
      "  valid loss:\t\t0.03843\n",
      "  valid accuracy:\t0.98995+/-0.00000\n",
      "  valid auc-roc:\t0.99925+/-0.00000\n",
      "  valid auc-pr:\t\t0.99917+/-0.00000\n",
      "  lower cross-validation found\n",
      "  saving model to:  ../../../results/riboswitch/resbind_t3_best.ckpt\n",
      "Epoch 3 out of 100 \n",
      "[==============================] 100.0% -- elapsed time=13.30s -- loss=0.04809 -- acc=98.67833%  \n",
      " \n",
      "  valid loss:\t\t0.03857\n",
      "  valid accuracy:\t0.99015+/-0.00000\n",
      "  valid auc-roc:\t0.99973+/-0.00000\n",
      "  valid auc-pr:\t\t0.99971+/-0.00000\n",
      "Epoch 4 out of 100 \n",
      "[==============================] 100.0% -- elapsed time=13.27s -- loss=0.03888 -- acc=99.04750%  \n",
      " \n",
      "  valid loss:\t\t0.02876\n",
      "  valid accuracy:\t0.99470+/-0.00000\n",
      "  valid auc-roc:\t0.99979+/-0.00000\n",
      "  valid auc-pr:\t\t0.99979+/-0.00000\n",
      "  lower cross-validation found\n",
      "  saving model to:  ../../../results/riboswitch/resbind_t3_best.ckpt\n",
      "Epoch 5 out of 100 \n",
      "[==============================] 100.0% -- elapsed time=13.34s -- loss=0.03581 -- acc=99.21833%  \n",
      " \n",
      "  valid loss:\t\t0.02753\n",
      "  valid accuracy:\t0.99525+/-0.00000\n",
      "  valid auc-roc:\t0.99987+/-0.00000\n",
      "  valid auc-pr:\t\t0.99987+/-0.00000\n",
      "  lower cross-validation found\n",
      "  saving model to:  ../../../results/riboswitch/resbind_t3_best.ckpt\n",
      "Epoch 6 out of 100 \n",
      "[==============================] 100.0% -- elapsed time=13.30s -- loss=0.03351 -- acc=99.36417%  \n",
      " \n",
      "  valid loss:\t\t0.03233\n",
      "  valid accuracy:\t0.99435+/-0.00000\n",
      "  valid auc-roc:\t0.99979+/-0.00000\n",
      "  valid auc-pr:\t\t0.99978+/-0.00000\n",
      "Epoch 7 out of 100 \n",
      "[==============================] 100.0% -- elapsed time=13.37s -- loss=0.03272 -- acc=99.43750%  \n",
      " \n",
      "  valid loss:\t\t0.03078\n",
      "  valid accuracy:\t0.99595+/-0.00000\n",
      "  valid auc-roc:\t0.99976+/-0.00000\n",
      "  valid auc-pr:\t\t0.99973+/-0.00000\n",
      "Epoch 8 out of 100 \n",
      "[==============================] 100.0% -- elapsed time=13.35s -- loss=0.03296 -- acc=99.46667%  \n",
      " \n",
      "  valid loss:\t\t0.03078\n",
      "  valid accuracy:\t0.99570+/-0.00000\n",
      "  valid auc-roc:\t0.99985+/-0.00000\n",
      "  valid auc-pr:\t\t0.99983+/-0.00000\n",
      "Epoch 9 out of 100 \n",
      "[==============================] 100.0% -- elapsed time=13.33s -- loss=0.03297 -- acc=99.49417%  \n",
      " \n",
      "  valid loss:\t\t0.03541\n",
      "  valid accuracy:\t0.99370+/-0.00000\n",
      "  valid auc-roc:\t0.99988+/-0.00000\n",
      "  valid auc-pr:\t\t0.99987+/-0.00000\n",
      "Epoch 10 out of 100 \n",
      "[==============================] 100.0% -- elapsed time=13.33s -- loss=0.03221 -- acc=99.55583%  \n",
      " \n",
      "  valid loss:\t\t0.02983\n",
      "  valid accuracy:\t0.99640+/-0.00000\n",
      "  valid auc-roc:\t0.99992+/-0.00000\n",
      "  valid auc-pr:\t\t0.99992+/-0.00000\n",
      "Epoch 11 out of 100 \n",
      "[==============================] 100.0% -- elapsed time=13.41s -- loss=0.03264 -- acc=99.57917%  \n",
      " \n",
      "  valid loss:\t\t0.03463\n",
      "  valid accuracy:\t0.99495+/-0.00000\n",
      "  valid auc-roc:\t0.99985+/-0.00000\n",
      "  valid auc-pr:\t\t0.99984+/-0.00000\n",
      "Epoch 12 out of 100 \n",
      "[==============================] 100.0% -- elapsed time=13.44s -- loss=0.03179 -- acc=99.63167%  \n",
      " \n",
      "  valid loss:\t\t0.03515\n",
      "  valid accuracy:\t0.99535+/-0.00000\n",
      "  valid auc-roc:\t0.99988+/-0.00000\n",
      "  valid auc-pr:\t\t0.99988+/-0.00000\n",
      "Epoch 13 out of 100 \n",
      "[==============================] 100.0% -- elapsed time=13.35s -- loss=0.03256 -- acc=99.60667%  \n",
      " \n",
      "  valid loss:\t\t0.03372\n",
      "  valid accuracy:\t0.99575+/-0.00000\n",
      "  valid auc-roc:\t0.99985+/-0.00000\n",
      "  valid auc-pr:\t\t0.99984+/-0.00000\n",
      "Epoch 14 out of 100 \n",
      "[==============================] 100.0% -- elapsed time=13.48s -- loss=0.03276 -- acc=99.59083%  \n",
      " \n",
      "  valid loss:\t\t0.03370\n",
      "  valid accuracy:\t0.99605+/-0.00000\n",
      "  valid auc-roc:\t0.99988+/-0.00000\n",
      "  valid auc-pr:\t\t0.99987+/-0.00000\n",
      "Epoch 15 out of 100 \n",
      "[==============================] 100.0% -- elapsed time=13.46s -- loss=0.03261 -- acc=99.62167%  \n",
      " \n",
      "  valid loss:\t\t0.03512\n",
      "  valid accuracy:\t0.99580+/-0.00000\n",
      "  valid auc-roc:\t0.99990+/-0.00000\n",
      "  valid auc-pr:\t\t0.99990+/-0.00000\n",
      "Epoch 16 out of 100 \n",
      "[==============================] 100.0% -- elapsed time=13.47s -- loss=0.03206 -- acc=99.65667%  \n",
      " \n",
      "  valid loss:\t\t0.03368\n",
      "  valid accuracy:\t0.99620+/-0.00000\n",
      "  valid auc-roc:\t0.99987+/-0.00000\n",
      "  valid auc-pr:\t\t0.99985+/-0.00000\n",
      "Epoch 17 out of 100 \n",
      "[==============================] 100.0% -- elapsed time=13.44s -- loss=0.03193 -- acc=99.66000%  \n",
      " \n",
      "  valid loss:\t\t0.03610\n",
      "  valid accuracy:\t0.99625+/-0.00000\n",
      "  valid auc-roc:\t0.99979+/-0.00000\n",
      "  valid auc-pr:\t\t0.99972+/-0.00000\n",
      "Epoch 18 out of 100 \n",
      "[==============================] 100.0% -- elapsed time=13.49s -- loss=0.03250 -- acc=99.66333%  \n",
      " \n",
      "  valid loss:\t\t0.03237\n",
      "  valid accuracy:\t0.99635+/-0.00000\n",
      "  valid auc-roc:\t0.99993+/-0.00000\n",
      "  valid auc-pr:\t\t0.99993+/-0.00000\n",
      "Epoch 19 out of 100 \n",
      "[==============================] 100.0% -- elapsed time=13.55s -- loss=0.03189 -- acc=99.68667%  \n",
      " \n",
      "  valid loss:\t\t0.03410\n",
      "  valid accuracy:\t0.99600+/-0.00000\n",
      "  valid auc-roc:\t0.99991+/-0.00000\n",
      "  valid auc-pr:\t\t0.99991+/-0.00000\n",
      "Epoch 20 out of 100 \n",
      "[==============================] 100.0% -- elapsed time=13.55s -- loss=0.03096 -- acc=99.70833%  \n",
      " \n",
      "  valid loss:\t\t0.03287\n",
      "  valid accuracy:\t0.99650+/-0.00000\n",
      "  valid auc-roc:\t0.99993+/-0.00000\n",
      "  valid auc-pr:\t\t0.99992+/-0.00000\n",
      "Epoch 21 out of 100 \n",
      "[==============================] 100.0% -- elapsed time=13.59s -- loss=0.03123 -- acc=99.69667%  \n",
      " \n",
      "  valid loss:\t\t0.03291\n",
      "  valid accuracy:\t0.99680+/-0.00000\n",
      "  valid auc-roc:\t0.99986+/-0.00000\n",
      "  valid auc-pr:\t\t0.99981+/-0.00000\n",
      "Epoch 22 out of 100 \n",
      "[==============================] 100.0% -- elapsed time=13.52s -- loss=0.03267 -- acc=99.68250%  \n",
      " \n",
      "  valid loss:\t\t0.03384\n",
      "  valid accuracy:\t0.99645+/-0.00000\n",
      "  valid auc-roc:\t0.99988+/-0.00000\n",
      "  valid auc-pr:\t\t0.99988+/-0.00000\n",
      "Epoch 23 out of 100 \n",
      "[==============================] 100.0% -- elapsed time=13.48s -- loss=0.03129 -- acc=99.71667%  \n",
      " \n",
      "  valid loss:\t\t0.03297\n",
      "  valid accuracy:\t0.99700+/-0.00000\n",
      "  valid auc-roc:\t0.99990+/-0.00000\n",
      "  valid auc-pr:\t\t0.99989+/-0.00000\n",
      "Epoch 24 out of 100 \n",
      "[==============================] 100.0% -- elapsed time=13.46s -- loss=0.03176 -- acc=99.69250%  \n",
      " \n",
      "  valid loss:\t\t0.03225\n",
      "  valid accuracy:\t0.99670+/-0.00000\n",
      "  valid auc-roc:\t0.99993+/-0.00000\n",
      "  valid auc-pr:\t\t0.99993+/-0.00000\n",
      "Epoch 25 out of 100 \n",
      "[==============================] 100.0% -- elapsed time=13.46s -- loss=0.03157 -- acc=99.71500%  \n",
      " \n",
      "  valid loss:\t\t0.03183\n",
      "  valid accuracy:\t0.99730+/-0.00000\n",
      "  valid auc-roc:\t0.99993+/-0.00000\n",
      "  valid auc-pr:\t\t0.99992+/-0.00000\n",
      "Epoch 26 out of 100 \n",
      "[==============================] 100.0% -- elapsed time=13.47s -- loss=0.03099 -- acc=99.72917%  \n",
      " \n",
      "  valid loss:\t\t0.03415\n",
      "  valid accuracy:\t0.99635+/-0.00000\n",
      "  valid auc-roc:\t0.99993+/-0.00000\n",
      "  valid auc-pr:\t\t0.99993+/-0.00000\n",
      "Epoch 27 out of 100 \n",
      "[==============================] 100.0% -- elapsed time=13.57s -- loss=0.03118 -- acc=99.70667%  \n",
      " \n",
      "  valid loss:\t\t0.03388\n",
      "  valid accuracy:\t0.99640+/-0.00000\n",
      "  valid auc-roc:\t0.99989+/-0.00000\n",
      "  valid auc-pr:\t\t0.99989+/-0.00000\n",
      "Epoch 28 out of 100 \n",
      "[==============================] 100.0% -- elapsed time=13.61s -- loss=0.03054 -- acc=99.72917%  \n",
      " \n",
      "  valid loss:\t\t0.03087\n",
      "  valid accuracy:\t0.99715+/-0.00000\n",
      "  valid auc-roc:\t0.99994+/-0.00000\n",
      "  valid auc-pr:\t\t0.99993+/-0.00000\n",
      "Epoch 29 out of 100 \n",
      "[==============================] 100.0% -- elapsed time=13.55s -- loss=0.03065 -- acc=99.72833%  \n",
      " \n",
      "  valid loss:\t\t0.03063\n",
      "  valid accuracy:\t0.99730+/-0.00000\n",
      "  valid auc-roc:\t0.99994+/-0.00000\n",
      "  valid auc-pr:\t\t0.99994+/-0.00000\n",
      "Epoch 30 out of 100 \n",
      "[==============================] 100.0% -- elapsed time=13.54s -- loss=0.03048 -- acc=99.74000%  \n",
      " \n",
      "  valid loss:\t\t0.03629\n",
      "  valid accuracy:\t0.99585+/-0.00000\n",
      "  valid auc-roc:\t0.99989+/-0.00000\n",
      "  valid auc-pr:\t\t0.99989+/-0.00000\n",
      "Epoch 31 out of 100 \n",
      "[==============================] 100.0% -- elapsed time=13.56s -- loss=0.02984 -- acc=99.74083%  \n",
      " \n",
      "  valid loss:\t\t0.03088\n",
      "  valid accuracy:\t0.99710+/-0.00000\n",
      "  valid auc-roc:\t0.99995+/-0.00000\n",
      "  valid auc-pr:\t\t0.99995+/-0.00000\n",
      "Epoch 32 out of 100 \n",
      "[==============================] 100.0% -- elapsed time=13.56s -- loss=0.03041 -- acc=99.71417%  \n",
      " \n",
      "  valid loss:\t\t0.03322\n",
      "  valid accuracy:\t0.99715+/-0.00000\n",
      "  valid auc-roc:\t0.99989+/-0.00000\n",
      "  valid auc-pr:\t\t0.99987+/-0.00000\n",
      "Epoch 33 out of 100 \n",
      "[==============================] 100.0% -- elapsed time=13.52s -- loss=0.03049 -- acc=99.74000%  \n",
      " \n",
      "  valid loss:\t\t0.03192\n",
      "  valid accuracy:\t0.99715+/-0.00000\n",
      "  valid auc-roc:\t0.99995+/-0.00000\n",
      "  valid auc-pr:\t\t0.99995+/-0.00000\n",
      "Epoch 34 out of 100 \n",
      "[==============================] 100.0% -- elapsed time=13.54s -- loss=0.03015 -- acc=99.74167%  \n",
      " \n",
      "  valid loss:\t\t0.04116\n",
      "  valid accuracy:\t0.99385+/-0.00000\n",
      "  valid auc-roc:\t0.99988+/-0.00000\n",
      "  valid auc-pr:\t\t0.99988+/-0.00000\n",
      "Epoch 35 out of 100 \n",
      "[==============================] 100.0% -- elapsed time=13.55s -- loss=0.02979 -- acc=99.75667%  \n",
      " \n",
      "  valid loss:\t\t0.03387\n",
      "  valid accuracy:\t0.99635+/-0.00000\n",
      "  valid auc-roc:\t0.99993+/-0.00000\n",
      "  valid auc-pr:\t\t0.99993+/-0.00000\n",
      "Patience ran out... Early stopping.\n"
     ]
    }
   ],
   "source": [
    "#Train the model\n",
    "\n",
    "data = {'train': train, 'valid': valid}\n",
    "fit.train_minibatch(sess, nntrainer, data, \n",
    "                    batch_size=100, \n",
    "                    num_epochs=100,\n",
    "                    patience=30, \n",
    "                    verbose=2, \n",
    "                    shuffle=True, \n",
    "                    save_all=False)"
   ]
  },
  {
   "cell_type": "code",
   "execution_count": 8,
   "metadata": {
    "collapsed": true
   },
   "outputs": [],
   "source": [
    "# initialize session\n",
    "sess.close()\n",
    "sess = utils.initialize_session()"
   ]
  },
  {
   "cell_type": "code",
   "execution_count": 9,
   "metadata": {
    "collapsed": false
   },
   "outputs": [
    {
     "name": "stdout",
     "output_type": "stream",
     "text": [
      "loading model from:  ../../../results/riboswitch/resbind_t3_best.ckpt\n",
      "INFO:tensorflow:Restoring parameters from ../../../results/riboswitch/resbind_t3_best.ckpt\n",
      "  test  loss:\t\t0.02804\n",
      "  test  accuracy:\t0.99503+/-0.00000\n",
      "  test  auc-roc:\t0.99987+/-0.00000\n",
      "  test  auc-pr:\t\t0.99986+/-0.00000\n"
     ]
    }
   ],
   "source": [
    "# set best parameters\n",
    "nntrainer.set_best_parameters(sess)\n",
    "\n",
    "# test model\n",
    "loss, mean_vals, std_vals = nntrainer.test_model(sess, test, name='test')"
   ]
  },
  {
   "cell_type": "code",
   "execution_count": 10,
   "metadata": {
    "collapsed": false
   },
   "outputs": [
    {
     "data": {
      "text/plain": [
       "[<matplotlib.lines.Line2D at 0x7f7bad15af90>]"
      ]
     },
     "execution_count": 10,
     "metadata": {},
     "output_type": "execute_result"
    },
    {
     "name": "stderr",
     "output_type": "stream",
     "text": [
      "/home/peter/anaconda2/envs/tensorflow/lib/python2.7/site-packages/matplotlib/figure.py:1742: UserWarning: This figure includes Axes that are not compatible with tight_layout, so its results might be incorrect.\n",
      "  warnings.warn(\"This figure includes Axes that are not \"\n"
     ]
    },
    {
     "data": {
      "image/png": "[encoded data removed]",
      "text/plain": [
       "<matplotlib.figure.Figure at 0x7f7bad15ab50>"
      ]
     },
     "metadata": {},
     "output_type": "display_data"
    }
   ],
   "source": [
    "# sort activations\n",
    "predictionsoutput = nntrainer.get_activations(sess, test, layer='output')\n",
    "plot_index = np.argsort(predictionsoutput[:,0])[::-1]\n",
    "\n",
    "plt.figure()\n",
    "plt.ylabel('Predicted score')\n",
    "plt.xlabel('Sequences ordered by score')\n",
    "plt.plot(range(len(plot_index)), predictionsoutput[plot_index])"
   ]
  },
  {
   "cell_type": "code",
   "execution_count": 11,
   "metadata": {
    "collapsed": false
   },
   "outputs": [
    {
     "name": "stderr",
     "output_type": "stream",
     "text": [
      "/home/peter/anaconda2/envs/tensorflow/lib/python2.7/site-packages/scipy/misc/pilutil.py:482: FutureWarning: Conversion of the second argument of issubdtype from `int` to `np.signedinteger` is deprecated. In future, it will be treated as `np.int64 == np.dtype(int).type`.\n",
      "  if issubdtype(ts, int):\n",
      "/home/peter/anaconda2/envs/tensorflow/lib/python2.7/site-packages/scipy/misc/pilutil.py:485: FutureWarning: Conversion of the second argument of issubdtype from `float` to `np.floating` is deprecated. In future, it will be treated as `np.float64 == np.dtype(float).type`.\n",
      "  elif issubdtype(type(size), float):\n"
     ]
    },
    {
     "data": {
      "image/png": "[encoded data removed]",
      "text/plain": [
       "<matplotlib.figure.Figure at 0x7f7af5f4a090>"
      ]
     },
     "metadata": {},
     "output_type": "display_data"
    },
    {
     "data": {
      "image/png": "[encoded data removed]",
      "text/plain": [
       "<matplotlib.figure.Figure at 0x7f7bfbfcebd0>"
      ]
     },
     "metadata": {},
     "output_type": "display_data"
    },
    {
     "data": {
      "image/png": "[encoded data removed]",
      "text/plain": [
       "<matplotlib.figure.Figure at 0x7f7bfbec0150>"
      ]
     },
     "metadata": {},
     "output_type": "display_data"
    },
    {
     "data": {
      "image/png": "[encoded data removed]",
      "text/plain": [
       "<matplotlib.figure.Figure at 0x7f7bfbeefed0>"
      ]
     },
     "metadata": {},
     "output_type": "display_data"
    },
    {
     "data": {
      "image/png": "[encoded data removed]",
      "text/plain": [
       "<matplotlib.figure.Figure at 0x7f7bfbe39fd0>"
      ]
     },
     "metadata": {},
     "output_type": "display_data"
    }
   ],
   "source": [
    "num_plots=np.linspace(0,20000,5).astype(int)\n",
    "#num_plots = range(5)\n",
    "for ii in num_plots: \n",
    "\n",
    "    X = np.expand_dims(test['inputs'][plot_index[ii]], axis=0)\n",
    "    \n",
    "    mf.fom_saliency(X, layer='dense_1_bias', alphabet='rna', nntrainer=nntrainer, sess=sess, figsize=(15,1.5))"
   ]
  },
  {
   "cell_type": "code",
   "execution_count": 12,
   "metadata": {
    "collapsed": false
   },
   "outputs": [
    {
     "data": {
      "text/plain": [
       "<matplotlib.text.Text at 0x7f7bfacad410>"
      ]
     },
     "execution_count": 12,
     "metadata": {},
     "output_type": "execute_result"
    },
    {
     "data": {
      "image/png": "[encoded data removed]",
      "text/plain": [
       "<matplotlib.figure.Figure at 0x7f7bfaca2650>"
      ]
     },
     "metadata": {},
     "output_type": "display_data"
    }
   ],
   "source": [
    "#num_plots=np.linspace(0,10000,10).astype(int)\n",
    "num_plots = range(int(numdata*test_frac))\n",
    "#for sp, ii in enumerate(num_plots): \n",
    "    \n",
    "def nucpresence(Xdict, ii):\n",
    "    X = np.expand_dims(Xdict['inputs'][plot_index[ii]], axis=0)\n",
    "    nuc_index = np.where(np.sum(X, axis=0)!=0)[0]\n",
    "    nucpos = np.zeros(shape=(1,seqlen))\n",
    "    nucpos[:, nuc_index] = 1.\n",
    "    return nucpos\n",
    "\n",
    "nuc_sequences = [nucpresence(test,ii) for ii in num_plots]\n",
    "    \n",
    "plt.figure(figsize=(15,5))\n",
    "sb.heatmap(np.squeeze(nuc_sequences)[:, bpidx].T, cbar=False)\n",
    "plt.ylabel('Conserved Base pairs by covariance')\n",
    "plt.xlabel('Sequence rank number')\n"
   ]
  },
  {
   "cell_type": "code",
   "execution_count": 13,
   "metadata": {
    "collapsed": false,
    "scrolled": true
   },
   "outputs": [
    {
     "name": "stdout",
     "output_type": "stream",
     "text": [
      "----------------Summing complete----------------\n",
      "Saving scores to Arrays/riboswitch_resbindt3_ug_so1k.npy\n"
     ]
    }
   ],
   "source": [
    "savepath = 'Arrays/riboswitch_resbindt3_ug_so1k.npy'\n",
    "\n",
    "num_summary = 1000\n",
    "Xdict = test['inputs'][plot_index[:num_summary]]\n",
    "\n",
    "sum_mut2 = mf.som_average_ungapped(Xdict, ungapped_index=ugidx, savepath=savepath, nntrainer=nntrainer, \n",
    "                                sess=sess, progress='off', save=True, layer='dense_1_bias', \n",
    "                               normalize=False, normfactor=0)"
   ]
  },
  {
   "cell_type": "code",
   "execution_count": 14,
   "metadata": {
    "collapsed": false
   },
   "outputs": [],
   "source": [
    "#load values\n",
    "savepath = 'Arrays/riboswitch_resbindt3_ug_so1k.npy'\n",
    "sum_mut2 = np.load(savepath)\n",
    "\n",
    "#average the values\n",
    "num_summary = 1000\n",
    "mean_mut2 = sum_mut2/num_summary\n",
    "\n",
    "#Reshape into a holistic tensor organizing the mutations into 4*4 matrices\n",
    "meanhol_mut2 = mean_mut2.reshape(numug,numug,dims,dims)"
   ]
  },
  {
   "cell_type": "code",
   "execution_count": 15,
   "metadata": {
    "collapsed": false
   },
   "outputs": [],
   "source": [
    "#normalize the holistic mutation scores\n",
    "WT_mean = np.mean(nntrainer.get_activations(sess, test, layer='dense_1_bias')[plot_index[:500]])\n",
    "\n",
    "def normalize_mut_hol(hol_mut, WTmean, nntrainer, sess, normfactor=None):\n",
    "    norm_hol_mut = np.copy(hol_mut) - WTmean\n",
    "    for one in range(hol_mut.shape[0]):\n",
    "        for two in range(hol_mut.shape[0]):\n",
    "            norm_hol_mut[one, two] = mf.normalize_hol(hol_mut[one, two], factor=normfactor)\n",
    "    return norm_hol_mut\n",
    "\n",
    "norm_meanhol_mut2 = normalize_mut_hol(meanhol_mut2, WT_mean, nntrainer, sess)"
   ]
  },
  {
   "cell_type": "code",
   "execution_count": 16,
   "metadata": {
    "collapsed": false
   },
   "outputs": [
    {
     "data": {
      "text/plain": [
       "<function matplotlib.pyplot.show>"
      ]
     },
     "execution_count": 16,
     "metadata": {},
     "output_type": "execute_result"
    },
    {
     "data": {
      "image/png": "[encoded data removed]",
      "text/plain": [
       "<matplotlib.figure.Figure at 0x7f7bfbec0910>"
      ]
     },
     "metadata": {},
     "output_type": "display_data"
    }
   ],
   "source": [
    "#Let's try something weird\n",
    "bpfilter = np.ones((4,4))*-1\n",
    "for i,j in zip(range(4), range(4)):\n",
    "    bpfilter[i, -(j+1)] = 1.\n",
    "    \n",
    "C = np.sum((norm_meanhol_mut2*bpfilter).reshape(numug,numug,dims*dims), axis=2)\n",
    "C = C - np.mean(C)\n",
    "C = C/np.max(C)\n",
    "\n",
    "plt.figure(figsize=(15,6))\n",
    "plt.subplot(1,2,1)\n",
    "sb.heatmap(C, xticklabels=bpugSQ, yticklabels=bpugSQ, vmin=0.2, cmap='Reds', linewidth=0.01)\n",
    "plt.title('Base Pair score for the ungapped consensus regions given by infernal')\n",
    "plt.xlabel('Ungapped nucleotides: pos 1')\n",
    "plt.ylabel('Ungapped nucleotides: pos 2')\n",
    "plt.subplot(1,2,2)\n",
    "sb.heatmap(C[bpugidx][:, bpugidx], xticklabels=bpSS, yticklabels=bpSS, vmin=0.2, cmap='Reds', linewidth=0.01)\n",
    "plt.title('Base Pair score for the base paired consensus regions given by infernal')\n",
    "plt.xlabel('Base Paired nucleotides: pos 1')\n",
    "plt.ylabel('Base Paired nucleotides: pos 2')\n",
    "plt.show"
   ]
  }
 ],
 "metadata": {
  "kernelspec": {
   "display_name": "Python 2",
   "language": "python",
   "name": "python2"
  },
  "language_info": {
   "codemirror_mode": {
    "name": "ipython",
    "version": 2
   },
   "file_extension": ".py",
   "mimetype": "text/x-python",
   "name": "python",
   "nbconvert_exporter": "python",
   "pygments_lexer": "ipython2",
   "version": "2.7.13"
  }
 },
 "nbformat": 4,
 "nbformat_minor": 2
}
