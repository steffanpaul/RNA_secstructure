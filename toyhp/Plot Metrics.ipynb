{
 "cells": [
  {
   "cell_type": "markdown",
   "metadata": {},
   "source": [
    "# Bar Graphs"
   ]
  },
  {
   "cell_type": "code",
   "execution_count": 2,
   "metadata": {
    "collapsed": false
   },
   "outputs": [
    {
     "data": {
      "image/png": "[encoded data removed]",
      "text/plain": [
       "<matplotlib.figure.Figure at 0x7fde1e35ce90>"
      ]
     },
     "metadata": {},
     "output_type": "display_data"
    }
   ],
   "source": [
    "import numpy as np\n",
    "import matplotlib.pyplot as plt\n",
    "% matplotlib inline\n",
    "\n",
    "filename = 'test_metrics.csv'\n",
    "\n",
    "labels = []\n",
    "CNN = []\n",
    "MLP = []\n",
    "RNN = []\n",
    "for ii, line in enumerate(open(filename, 'r')):\n",
    "    line = line.strip('\\n')\n",
    "    line = line.split(',')\n",
    "    if ii == 0:\n",
    "        for l in line:\n",
    "            labels.append(l)\n",
    "    else:\n",
    "        if 'med' or 'small' or 'large' in line:\n",
    "            if 'resbind' in line:\n",
    "                CNN.append([float(l) for l in line[4:]])\n",
    "            elif 'mlp' in line:\n",
    "                MLP.append([float(l) for l in line[4:]])\n",
    "            elif 'rnn' in line:\n",
    "                RNN.append([float(l) for l in line[4:]])\n",
    "\n",
    "CNNmeans = np.mean(CNN, axis=0)\n",
    "MLPmeans = np.mean(MLP, axis=0)\n",
    "RNNmeans = np.mean(RNN, axis=0)\n",
    "\n",
    "CNNstds = np.std(CNN, axis=0)\n",
    "MLPstds = np.std(MLP, axis=0)\n",
    "RNNstds = np.std(RNN, axis=0)\n",
    "\n",
    "N = len(CNNmeans)\n",
    "width  = 0.15\n",
    "bottom = 0.95\n",
    "ind = np.arange(N)\n",
    "\n",
    "fig, ax = plt.subplots()\n",
    "\n",
    "rects1 = ax.bar(ind, CNNmeans-bottom, width, bottom, color='b',capsize=5., yerr=CNNstds)\n",
    "\n",
    "rects2 = ax.bar(ind+width, MLPmeans-bottom, width, bottom, color='c',capsize=5., yerr=MLPstds)\n",
    "\n",
    "rects3 = ax.bar(ind+2*width, RNNmeans-bottom, width, bottom, color='coral',capsize=5., yerr=RNNstds)\n",
    "\n",
    "\n",
    "# add some text for labels, title and axes ticks\n",
    "ax.set_ylabel('Score')\n",
    "ax.set_title('Performance metrics across models', fontsize = 15)\n",
    "ax.set_xticks(ind)\n",
    "ax.set_xticklabels(('Accurary', 'ROC-AUC', 'ROC-PR'))\n",
    "\n",
    "ax.legend((rects1[0], rects2[0], rects3[0]), ('CNN', 'MLP', 'RNN'), loc=(0.6,0.5))\n",
    "plt.savefig('Images/sizes_metrics.png')\n"
   ]
  },
  {
   "cell_type": "code",
   "execution_count": 4,
   "metadata": {
    "collapsed": false
   },
   "outputs": [
    {
     "data": {
      "image/png": "[encoded data removed]",
      "text/plain": [
       "<matplotlib.figure.Figure at 0x7fde1e0e04d0>"
      ]
     },
     "metadata": {},
     "output_type": "display_data"
    }
   ],
   "source": [
    "import numpy as np\n",
    "import matplotlib.pyplot as plt\n",
    "% matplotlib inline\n",
    "\n",
    "filename = 'test_metrics.csv'\n",
    "\n",
    "labels = []\n",
    "CNN = []\n",
    "MLP = []\n",
    "RNN = []\n",
    "for ii, line in enumerate(open(filename, 'r')):\n",
    "\tline = line.strip('\\n')\n",
    "\tline = line.split(',')\n",
    "\tif ii == 0:\n",
    "\t\tfor l in line:\n",
    "\t\t\tlabels.append(l)\n",
    "\telse:\n",
    "\t\tif 'med' or 'small' or 'large' in line:\n",
    "\t\t\tif 'resbind' in line:\n",
    "\t\t\t\tCNN.append([float(l) for l in [line[3]]])\n",
    "\t\t\telif 'mlp' in line:\n",
    "\t\t\t\tMLP.append([float(l) for l in [line[3]]])\n",
    "\t\t\telif 'rnn' in line:\n",
    "\t\t\t\tRNN.append([float(l) for l in [line[3]]])\n",
    "\n",
    "CNNmeans = np.mean(CNN, axis=0)\n",
    "MLPmeans = np.mean(MLP, axis=0)\n",
    "RNNmeans = np.mean(RNN, axis=0)\n",
    "\n",
    "CNNstds = np.std(CNN, axis=0)\n",
    "MLPstds = np.std(MLP, axis=0)\n",
    "RNNstds = np.std(RNN, axis=0)\n",
    "\n",
    "N = len(CNNmeans)\n",
    "width  = 0.15\n",
    "bottom = 0.\n",
    "ind = np.arange(N)\n",
    "\n",
    "fig, ax = plt.subplots()\n",
    "\n",
    "rects1 = ax.bar(ind, CNNmeans-bottom, width, bottom, color='b',capsize=5., yerr=CNNstds)\n",
    "\n",
    "rects2 = ax.bar(ind+width, MLPmeans-bottom, width, bottom, color='c',capsize=5., yerr=MLPstds)\n",
    "\n",
    "rects3 = ax.bar(ind+2*width, RNNmeans-bottom, width, bottom, color='coral',capsize=5., yerr=RNNstds)\n",
    "\n",
    "\n",
    "# add some text for labels, title and axes ticks\n",
    "ax.set_ylabel('Score')\n",
    "ax.set_title('Total loss across models', fontsize = 15)\n",
    "ax.set_xlabel('Total Loss')\n",
    "ax.set_xticks([])\n",
    "\n",
    "ax.legend((rects1[0], rects2[0], rects3[0]), ('CNN', 'MLP', 'RNN'), loc='upper left')\n",
    "plt.savefig('Images/sizes_losses.png')\n",
    "\n"
   ]
  },
  {
   "cell_type": "markdown",
   "metadata": {},
   "source": [
    "# Scatter/errorbar/line"
   ]
  },
  {
   "cell_type": "code",
   "execution_count": 1,
   "metadata": {
    "collapsed": false
   },
   "outputs": [
    {
     "data": {
      "text/plain": [
       "<matplotlib.legend.Legend at 0x7fde1e0d0fd0>"
      ]
     },
     "execution_count": 1,
     "metadata": {},
     "output_type": "execute_result"
    },
    {
     "data": {
      "image/png": "[encoded data removed]",
      "text/plain": [
       "<matplotlib.figure.Figure at 0x7fde1e35cd10>"
      ]
     },
     "metadata": {},
     "output_type": "display_data"
    }
   ],
   "source": [
    "import numpy as np\n",
    "import matplotlib.pyplot as plt\n",
    "% matplotlib inline\n",
    "\n",
    "filename = 'test_metrics.csv'\n",
    "\n",
    "labels = []\n",
    "CNN = []\n",
    "MLP = []\n",
    "RNN = []\n",
    "for ii, line in enumerate(open(filename, 'r')):\n",
    "\tline = line.strip('\\n')\n",
    "\tline = line.split(',')\n",
    "\tif ii == 0:\n",
    "\t\tfor l in line:\n",
    "\t\t\tlabels.append(l)\n",
    "\telse:\n",
    "\t\tif 'med' in line:\n",
    "\t\t\tif 'resbind' in line:\n",
    "\t\t\t\tCNN.append([float(l) for l in line[4:]])\n",
    "\t\t\telif 'mlp' in line:\n",
    "\t\t\t\tMLP.append([float(l) for l in line[4:]])\n",
    "\t\t\telif 'rnn' in line:\n",
    "\t\t\t\tRNN.append([float(l) for l in line[4:]])\n",
    "\n",
    "CNNmeans = np.mean(CNN, axis=0)\n",
    "MLPmeans = np.mean(MLP, axis=0)\n",
    "RNNmeans = np.mean(RNN, axis=0)\n",
    "\n",
    "CNNstds = np.std(CNN, axis=0)\n",
    "MLPstds = np.std(MLP, axis=0)\n",
    "RNNstds = np.std(RNN, axis=0)\n",
    "\n",
    "N = len(CNNmeans)\n",
    "width  = 0.15\n",
    "ind = np.arange(N)\n",
    "\n",
    "fig, ax = plt.subplots()\n",
    "\n",
    "rects1 = ax.errorbar(ind, CNNmeans, color='r', yerr=CNNstds, fmt='-', capsize=5.)\n",
    "\n",
    "rects2 = ax.errorbar(ind, MLPmeans, color='g', yerr=MLPstds, fmt='-', capsize=5.)\n",
    "\n",
    "rects3 = ax.errorbar(ind, RNNmeans, color='b', yerr=RNNstds, fmt='-', capsize=5.)\n",
    "\n",
    "# add some text for labels, title and axes ticks\n",
    "ax.set_ylabel('Score')\n",
    "ax.set_title('Performance metrics across models')\n",
    "ax.set_xticks(ind)\n",
    "ax.set_xticklabels(('Accurary', 'ROC-AUC', 'ROC-PR'))\n",
    "\n",
    "ax.legend((rects1[0], rects2[0], rects3[0]), ('CNN', 'MLP', 'RNN'))\n",
    "\n"
   ]
  },
  {
   "cell_type": "code",
   "execution_count": 3,
   "metadata": {
    "collapsed": false
   },
   "outputs": [
    {
     "data": {
      "text/plain": [
       "<matplotlib.legend.Legend at 0x7fde50447250>"
      ]
     },
     "execution_count": 3,
     "metadata": {},
     "output_type": "execute_result"
    },
    {
     "data": {
      "image/png": "[encoded data removed]",
      "text/plain": [
       "<matplotlib.figure.Figure at 0x7fde5043ff10>"
      ]
     },
     "metadata": {},
     "output_type": "display_data"
    }
   ],
   "source": [
    "import numpy as np\n",
    "import matplotlib.pyplot as plt\n",
    "% matplotlib inline\n",
    "\n",
    "filename = 'test_metrics.csv'\n",
    "\n",
    "labels = []\n",
    "CNN = []\n",
    "MLP = []\n",
    "RNN = []\n",
    "for ii, line in enumerate(open(filename, 'r')):\n",
    "\tline = line.strip('\\n')\n",
    "\tline = line.split(',')\n",
    "\tif ii == 0:\n",
    "\t\tfor l in line:\n",
    "\t\t\tlabels.append(l)\n",
    "\telse:\n",
    "\t\tif 'med' in line:\n",
    "\t\t\tif 'resbind' in line:\n",
    "\t\t\t\tCNN.append([float(l) for l in [line[3]]])\n",
    "\t\t\telif 'mlp' in line:\n",
    "\t\t\t\tMLP.append([float(l) for l in [line[3]]])\n",
    "\t\t\telif 'rnn' in line:\n",
    "\t\t\t\tRNN.append([float(l) for l in [line[3]]])\n",
    "\n",
    "CNNmeans = np.mean(CNN, axis=0)\n",
    "MLPmeans = np.mean(MLP, axis=0)\n",
    "RNNmeans = np.mean(RNN, axis=0)\n",
    "\n",
    "CNNstds = np.std(CNN, axis=0)\n",
    "MLPstds = np.std(MLP, axis=0)\n",
    "RNNstds = np.std(RNN, axis=0)\n",
    "\n",
    "N = len(CNNmeans)\n",
    "width  = 0.15\n",
    "ind = np.arange(N)\n",
    "\n",
    "fig, ax = plt.subplots()\n",
    "\n",
    "rects1 = ax.errorbar(ind, CNNmeans, color='r', yerr=CNNstds, fmt='o')\n",
    "\n",
    "rects2 = ax.errorbar(ind, MLPmeans, color='g', yerr=MLPstds, fmt='o')\n",
    "\n",
    "rects3 = ax.errorbar(ind, RNNmeans, color='b', yerr=RNNstds, fmt='o')\n",
    "\n",
    "# add some text for labels, title and axes ticks\n",
    "ax.set_ylabel('Score')\n",
    "ax.set_title('Performance metrics across models')\n",
    "ax.set_xticks(ind)\n",
    "ax.set_xticklabels(('Accurary', 'ROC-AUC', 'ROC-PR'))\n",
    "\n",
    "ax.legend((rects1[0], rects2[0], rects3[0]), ('CNN', 'MLP', 'RNN'))\n",
    "\n"
   ]
  }
 ],
 "metadata": {
  "kernelspec": {
   "display_name": "Python 2",
   "language": "python",
   "name": "python2"
  },
  "language_info": {
   "codemirror_mode": {
    "name": "ipython",
    "version": 2
   },
   "file_extension": ".py",
   "mimetype": "text/x-python",
   "name": "python",
   "nbconvert_exporter": "python",
   "pygments_lexer": "ipython2",
   "version": "2.7.13"
  }
 },
 "nbformat": 4,
 "nbformat_minor": 2
}
