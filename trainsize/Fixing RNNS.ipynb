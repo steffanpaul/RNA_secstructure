{
 "cells": [
  {
   "cell_type": "code",
   "execution_count": 1,
   "metadata": {
    "collapsed": false
   },
   "outputs": [],
   "source": [
    "from __future__ import absolute_import\n",
    "from __future__ import division\n",
    "from __future__ import print_function\n",
    "\n",
    "import os, sys, h5py\n",
    "import numpy as np\n",
    "import matplotlib.pyplot as plt\n",
    "%matplotlib inline\n",
    "import seaborn as sb\n",
    "import tensorflow as tf\n",
    "import scipy\n",
    "\n",
    "from sklearn.metrics import roc_curve, auc, precision_recall_curve\n",
    "\n",
    "import sys\n",
    "sys.path.append('../../..')\n",
    "import mutagenesisfunctions as mf\n",
    "import helper \n",
    "\n",
    "from Bio import AlignIO\n",
    "import time as time\n",
    "import pandas as pd"
   ]
  },
  {
   "cell_type": "markdown",
   "metadata": {},
   "source": [
    "# Load Data, get base paired indices and remove gaps"
   ]
  },
  {
   "cell_type": "code",
   "execution_count": 2,
   "metadata": {
    "collapsed": false
   },
   "outputs": [
    {
     "name": "stdout",
     "output_type": "stream",
     "text": [
      "Data extraction and dict construction completed in: 6.1s\n"
     ]
    }
   ],
   "source": [
    "starttime = time.time()\n",
    "\n",
    "#Open data from h5py\n",
    "\n",
    "data_path = '../../data_background/trna_100k_sh25.hdf5'\n",
    "with h5py.File(data_path, 'r') as dataset:\n",
    "    X_data = np.array(dataset['X_data'])\n",
    "    Y_data = np.array(dataset['Y_data'])\n",
    "    \n",
    "numdata, seqlen, _, dims = X_data.shape\n",
    "dims = dims-1\n",
    "\n",
    "#remove gaps from sequences\n",
    "ungapped = True\n",
    "if ungapped:\n",
    "    X_data = X_data[:, :, :, :dims]\n",
    "    \n",
    "# get validation and test set from training set\n",
    "test_frac = 0.3\n",
    "valid_frac = 0.1\n",
    "N = numdata\n",
    "split_1 = int(N*(1-valid_frac-test_frac))\n",
    "split_2 = int(N*(1-test_frac))\n",
    "shuffle = np.random.permutation(N)\n",
    "\n",
    "X_train = X_data[shuffle[:split_1], :, 0, :]\n",
    "X_valid = X_data[shuffle[split_1:split_2], :, 0, :]\n",
    "X_test = X_data[shuffle[split_2:], :, 0, :]\n",
    "\n",
    "Y_train = Y_data[shuffle[:split_1]]\n",
    "Y_valid = Y_data[shuffle[split_1:split_2]]\n",
    "Y_test = Y_data[shuffle[split_2:]]\n",
    "    \n",
    "print ('Data extraction and dict construction completed in: ' + mf.sectotime(time.time() - starttime))"
   ]
  },
  {
   "cell_type": "code",
   "execution_count": 3,
   "metadata": {
    "collapsed": false
   },
   "outputs": [],
   "source": [
    "simalign_file = '../../data_RFAM/trnasim_100k.sto'\n",
    "\n",
    "#Get the full secondary structure and sequence consensus from the emission\n",
    "SS = mf.getSSconsensus(simalign_file)\n",
    "SQ = mf.getSQconsensus(simalign_file)\n",
    "\n",
    "#Get the ungapped sequence and the indices of ungapped nucleotides\n",
    "_, ugSS, ugidx = mf.rm_consensus_gaps(X_data, SS)\n",
    "_, ugSQ, _ = mf.rm_consensus_gaps(X_data, SQ)\n",
    "\n",
    "\n",
    "#Get the sequence and indices of the conserved base pairs\n",
    "bpchars = ['(',')','<','>','{','}']\n",
    "sig_bpchars = ['<','>']\n",
    "bpidx, bpSS, nonbpidx = mf.sigbasepair(SS, bpchars)\n",
    "numbp = len(bpidx)\n",
    "numug = len(ugidx)\n",
    "\n",
    "#Get the bpug information\n",
    "bpugSQ, bpugidx = mf.bpug(ugidx, bpidx, SQ)"
   ]
  },
  {
   "cell_type": "code",
   "execution_count": 4,
   "metadata": {
    "collapsed": false
   },
   "outputs": [
    {
     "data": {
      "text/plain": [
       "'...(.....(..(...(...(...(..(.....,.....,....<..<..<..<..._...._..._.........._....._......._.........._......>...>....>....>....,....<....<...<...<...<...._......_...._...._......_..._...._.....>...>..>.....>.....>....,...,............................................................................................................................................................,.....,..<...<...<....<...<...._......_......_...._......._...._......._........>..>.....>..>...>.....)..)....)..)...)...)....)...:...'"
      ]
     },
     "execution_count": 4,
     "metadata": {},
     "output_type": "execute_result"
    }
   ],
   "source": [
    "SS"
   ]
  },
  {
   "cell_type": "code",
   "execution_count": 5,
   "metadata": {
    "collapsed": true
   },
   "outputs": [],
   "source": [
    "def unalign(X):\n",
    "    nuc_index = np.where(np.sum(X, axis=1)!=0)\n",
    "    return (X[nuc_index])\n",
    "\n",
    "X_train_unalign = [unalign(X) for X in X_train]\n",
    "X_valid_unalign = [unalign(X) for X in X_valid]\n",
    "X_test_unalign = [unalign(X) for X in X_test]"
   ]
  },
  {
   "cell_type": "code",
   "execution_count": 6,
   "metadata": {
    "collapsed": false
   },
   "outputs": [
    {
     "name": "stderr",
     "output_type": "stream",
     "text": [
      "/home/peter/anaconda2/envs/tensorflow/lib/python2.7/site-packages/matplotlib/figure.py:1742: UserWarning: This figure includes Axes that are not compatible with tight_layout, so its results might be incorrect.\n",
      "  warnings.warn(\"This figure includes Axes that are not \"\n"
     ]
    },
    {
     "data": {
      "image/png": "[encoded data removed]",
      "text/plain": [
       "<matplotlib.figure.Figure at 0x7ff7d5602150>"
      ]
     },
     "metadata": {},
     "output_type": "display_data"
    },
    {
     "data": {
      "image/png": "[encoded data removed]",
      "text/plain": [
       "<matplotlib.figure.Figure at 0x7ff706513f90>"
      ]
     },
     "metadata": {},
     "output_type": "display_data"
    },
    {
     "name": "stdout",
     "output_type": "stream",
     "text": [
      "73.0 7.173881426701657\n"
     ]
    }
   ],
   "source": [
    "lengths = [len(x) for x in X_train_unalign]\n",
    "sortlengths = np.sort(lengths)\n",
    "plt.figure()\n",
    "plt.scatter(range(len(sortlengths)), sortlengths)\n",
    "plt.show()\n",
    "\n",
    "plt.figure()\n",
    "plt.hist(lengths, bins=100)\n",
    "plt.title('Distribution of lengths: tRNA')\n",
    "plt.xlabel('Sequence Length')\n",
    "plt.show()\n",
    "\n",
    "print (np.median(lengths), np.std(lengths))"
   ]
  },
  {
   "cell_type": "markdown",
   "metadata": {},
   "source": [
    "# Build the 2 layer LSTM"
   ]
  },
  {
   "cell_type": "code",
   "execution_count": 7,
   "metadata": {
    "collapsed": false
   },
   "outputs": [],
   "source": [
    "tf.reset_default_graph()\n",
    "\n",
    "num_hidden = 64\n",
    "num_layers = 2\n",
    "num_classes = Y_train.shape[1]\n",
    "\n",
    "# tf Graph input\n",
    "X = tf.placeholder(tf.float32, [None, None, X_train[0].shape[1]], name='inputs')\n",
    "Y = tf.placeholder(tf.float32, [None, num_classes], name='ouputs')\n",
    "keep_prob = tf.placeholder(tf.float32, name='keep_prob')\n",
    "\n",
    "lstm1_fw_cell = tf.nn.rnn_cell.LSTMCell(num_hidden)#, forget_bias=1.0)\n",
    "lstm1_fw_cell = tf.contrib.rnn.DropoutWrapper(lstm1_fw_cell, \n",
    "                                         output_keep_prob=keep_prob, \n",
    "                                         state_keep_prob=1.0,\n",
    "                                         variational_recurrent=False,\n",
    "                                         dtype=tf.float32)\n",
    "\n",
    "lstm1_bw_cell = tf.nn.rnn_cell.LSTMCell(num_hidden)#, forget_bias=1.0)\n",
    "lstm1_bw_cell = tf.contrib.rnn.DropoutWrapper(lstm1_bw_cell, \n",
    "                                         output_keep_prob=keep_prob, \n",
    "                                         state_keep_prob=1.0,\n",
    "                                         variational_recurrent=False,\n",
    "                                         dtype=tf.float32)\n",
    "\n",
    "outputs1, states1 = tf.nn.bidirectional_dynamic_rnn(lstm1_fw_cell, lstm1_bw_cell, X, \n",
    "                                                   sequence_length=helper.length(X), dtype=tf.float32,\n",
    "                                                   scope='BLSTM_1')\n",
    "\n",
    "outputs_forward, outputs_backward = outputs1\n",
    "\n",
    "# states_forward is a tuple of (c is the hidden state and h is the output)\n",
    "concat_outputs = tf.concat([outputs_forward, outputs_backward], axis=2, name='intermediate')\n",
    "\n",
    "lstm2_fw_cell = tf.nn.rnn_cell.LSTMCell(num_hidden)#, forget_bias=1.0)\n",
    "lstm2_fw_cell = tf.contrib.rnn.DropoutWrapper(lstm2_fw_cell, \n",
    "                                         output_keep_prob=keep_prob, \n",
    "                                         state_keep_prob=1.0,\n",
    "                                         variational_recurrent=False,\n",
    "                                         dtype=tf.float32)\n",
    "\n",
    "lstm2_bw_cell = tf.nn.rnn_cell.LSTMCell(num_hidden)#, forget_bias=1.0)\n",
    "lstm2_bw_cell = tf.contrib.rnn.DropoutWrapper(lstm2_bw_cell, \n",
    "                                         output_keep_prob=keep_prob, \n",
    "                                         state_keep_prob=1.0,\n",
    "                                         variational_recurrent=False,\n",
    "                                         dtype=tf.float32)\n",
    "\n",
    "outputs2, states2 = tf.nn.bidirectional_dynamic_rnn(lstm2_fw_cell, lstm2_bw_cell, concat_outputs,\n",
    "                                                    scope='BLSTM_2', dtype=tf.float32)\n",
    "\n",
    "states_forward, states_backward = states2\n",
    "\n",
    "# states_forward is a tuple of (c is the hidden state and h is the output)\n",
    "concat_states = tf.concat([states_forward[1], states_backward[1]], axis=1, name='output')\n",
    "\n",
    "# Linear activation, using rnn inner loop last output\n",
    "W_out = tf.Variable(tf.random_normal([num_hidden*2, num_classes]))\n",
    "b_out = tf.Variable(tf.random_normal([num_classes]))\n",
    "\n",
    "#last = tf.gather(outputs, int(outputs.get_shape()[1])-1)  \n",
    "#last = int(outputs.get_shape()[1]) - 1\n",
    "logits = tf.matmul(concat_states, W_out) + b_out\n",
    "predictions = tf.nn.sigmoid(logits)"
   ]
  },
  {
   "cell_type": "code",
   "execution_count": 8,
   "metadata": {
    "collapsed": true
   },
   "outputs": [],
   "source": [
    "# The Optimizer\n",
    "\n",
    "learning_rate = tf.placeholder(tf.float32, name='learning_rate')\n",
    "\n",
    "# Define loss and optimizer\n",
    "predictions = tf.clip_by_value(predictions, clip_value_max=1-1e-7, clip_value_min=1e-7)\n",
    "#cost = tf.reduce_sum(Y*tf.log(predictions), axis=1)\n",
    "cost = tf.reduce_sum(Y*tf.log(predictions)+(1-Y)*tf.log(1-predictions), axis=1)\n",
    "\n",
    "total_loss = tf.reduce_mean(-cost)\n",
    "\n",
    "optimizer = tf.train.AdamOptimizer(learning_rate=learning_rate)\n",
    "grads = optimizer.compute_gradients(total_loss)\n",
    "\n",
    "# Apply gradients.\n",
    "apply_gradient_op = optimizer.apply_gradients(grads)\n",
    "\n",
    "# Track the moving averages of all trainable variables.\n",
    "variable_averages = tf.train.ExponentialMovingAverage(0.9)\n",
    "variables_averages_op = variable_averages.apply(tf.trainable_variables())\n",
    "\n",
    "with tf.control_dependencies([apply_gradient_op, variables_averages_op]):\n",
    "    train_op = tf.no_op(name='train')\n",
    "\n",
    "# Evaluate model (with test logits, for dropout to be disabled)\n",
    "#correct_pred = tf.equal(tf.argmax(predictions, 1), tf.argmax(Y, 1))\n",
    "correct_pred = tf.equal(tf.round(predictions), Y)\n",
    "accuracy = tf.reduce_mean(tf.cast(correct_pred, tf.float32))"
   ]
  },
  {
   "cell_type": "markdown",
   "metadata": {},
   "source": [
    "# Train model"
   ]
  },
  {
   "cell_type": "code",
   "execution_count": 9,
   "metadata": {
    "collapsed": true
   },
   "outputs": [],
   "source": [
    "# start session\n",
    "sess = tf.Session()\n",
    "sess.run(tf.global_variables_initializer())"
   ]
  },
  {
   "cell_type": "code",
   "execution_count": 10,
   "metadata": {
    "collapsed": false
   },
   "outputs": [
    {
     "name": "stdout",
     "output_type": "stream",
     "text": [
      "epoch: 1\n",
      "[=========================] 99.9% -- elapsed time=114.39s -- loss=0.67629 -- acc=0.5658592\n",
      "\n",
      "  valid loss  = 0.639708782077595\n",
      "  valid acc   = 0.6128\n",
      "  valid AUROC = 0.664409366058937\n",
      "  valid AUPRC = 0.6356154007225918\n",
      "  Lower validation loss found. Saving parameters to: ../../../results/trna/RNN_t1_best\n",
      "epoch: 2\n",
      "[=========================] 99.9% -- elapsed time=115.04s -- loss=0.63570 -- acc=0.6244827\n",
      "\n",
      "  valid loss  = 0.6147776496638159\n",
      "  valid acc   = 0.64865\n",
      "  valid AUROC = 0.7134024517201342\n",
      "  valid AUPRC = 0.6831539714968959\n",
      "  Lower validation loss found. Saving parameters to: ../../../results/trna/RNN_t1_best\n",
      "epoch: 3\n",
      "[=========================] 99.9% -- elapsed time=114.68s -- loss=0.61059 -- acc=0.6576147\n",
      "\n",
      "  valid loss  = 0.6277218933697719\n",
      "  valid acc   = 0.63415\n",
      "  valid AUROC = 0.7481705453567224\n",
      "  valid AUPRC = 0.7234883579788436\n",
      "epoch: 4\n",
      "[=========================] 99.9% -- elapsed time=114.61s -- loss=0.53131 -- acc=0.7289038\n",
      "\n",
      "  valid loss  = 0.4451550205422055\n",
      "  valid acc   = 0.79245\n",
      "  valid AUROC = 0.8764328952118654\n",
      "  valid AUPRC = 0.8662692214759753\n",
      "  Lower validation loss found. Saving parameters to: ../../../results/trna/RNN_t1_best\n",
      "epoch: 5\n",
      "[=========================] 99.9% -- elapsed time=114.88s -- loss=0.40300 -- acc=0.8131466\n",
      "\n",
      "  valid loss  = 0.3718608101462103\n",
      "  valid acc   = 0.8303\n",
      "  valid AUROC = 0.9175029026422294\n",
      "  valid AUPRC = 0.9119508967201274\n",
      "  Lower validation loss found. Saving parameters to: ../../../results/trna/RNN_t1_best\n",
      "epoch: 6\n",
      "[=========================] 99.9% -- elapsed time=114.92s -- loss=0.35219 -- acc=0.8422675\n",
      "\n",
      "  valid loss  = 0.33259552256886366\n",
      "  valid acc   = 0.85315\n",
      "  valid AUROC = 0.9352780736256077\n",
      "  valid AUPRC = 0.9299508858591028\n",
      "  Lower validation loss found. Saving parameters to: ../../../results/trna/RNN_t1_best\n",
      "epoch: 7\n",
      "[=========================] 99.9% -- elapsed time=114.82s -- loss=0.31920 -- acc=0.8604274\n",
      "\n",
      "  valid loss  = 0.3052175164602365\n",
      "  valid acc   = 0.8686\n",
      "  valid AUROC = 0.9452351615229148\n",
      "  valid AUPRC = 0.9406688120950977\n",
      "  Lower validation loss found. Saving parameters to: ../../../results/trna/RNN_t1_best\n",
      "epoch: 8\n",
      "[=========================] 99.9% -- elapsed time=115.48s -- loss=0.30015 -- acc=0.8708286\n",
      "\n",
      "  valid loss  = 0.2800672560170957\n",
      "  valid acc   = 0.8812\n",
      "  valid AUROC = 0.9523083931112625\n",
      "  valid AUPRC = 0.9479712190819414\n",
      "  Lower validation loss found. Saving parameters to: ../../../results/trna/RNN_t1_best\n",
      "epoch: 9\n",
      "[=========================] 99.9% -- elapsed time=115.44s -- loss=0.27986 -- acc=0.8807616\n",
      "\n",
      "  valid loss  = 0.2625415512141149\n",
      "  valid acc   = 0.88965\n",
      "  valid AUROC = 0.9582471291093264\n",
      "  valid AUPRC = 0.9551227875125802\n",
      "  Lower validation loss found. Saving parameters to: ../../../results/trna/RNN_t1_best\n",
      "epoch: 10\n",
      "[=========================] 99.9% -- elapsed time=115.13s -- loss=0.25980 -- acc=0.8910489\n",
      "\n",
      "  valid loss  = 0.24257309241279676\n",
      "  valid acc   = 0.8997\n",
      "  valid AUROC = 0.964466433855259\n",
      "  valid AUPRC = 0.9614142832883961\n",
      "  Lower validation loss found. Saving parameters to: ../../../results/trna/RNN_t1_best\n",
      "epoch: 11\n",
      "[=========================] 99.9% -- elapsed time=115.98s -- loss=0.24177 -- acc=0.9001595\n",
      "\n",
      "  valid loss  = 0.24552432784608974\n",
      "  valid acc   = 0.89735\n",
      "  valid AUROC = 0.9670270243241919\n",
      "  valid AUPRC = 0.9643947066240066\n",
      "epoch: 12\n",
      "[=========================] 99.9% -- elapsed time=115.56s -- loss=0.22544 -- acc=0.9082883\n",
      "\n",
      "  valid loss  = 0.21412340902788624\n",
      "  valid acc   = 0.9129\n",
      "  valid AUROC = 0.9721571907023443\n",
      "  valid AUPRC = 0.9692052793493939\n",
      "  Lower validation loss found. Saving parameters to: ../../../results/trna/RNN_t1_best\n",
      "epoch: 13\n",
      "[=========================] 99.9% -- elapsed time=115.26s -- loss=0.21237 -- acc=0.9138686\n",
      "\n",
      "  valid loss  = 0.20586282071793915\n",
      "  valid acc   = 0.9184\n",
      "  valid AUROC = 0.974676384142823\n",
      "  valid AUPRC = 0.973052976306346\n",
      "  Lower validation loss found. Saving parameters to: ../../../results/trna/RNN_t1_best\n",
      "epoch: 14\n",
      "[=========================] 99.9% -- elapsed time=114.80s -- loss=0.19853 -- acc=0.9206862\n",
      "\n",
      "  valid loss  = 0.19766468848961932\n",
      "  valid acc   = 0.9219\n",
      "  valid AUROC = 0.9778654654078051\n",
      "  valid AUPRC = 0.9763315156570628\n",
      "  Lower validation loss found. Saving parameters to: ../../../results/trna/RNN_t1_best\n",
      "epoch: 15\n",
      "[=========================] 99.9% -- elapsed time=115.18s -- loss=0.18828 -- acc=0.9243093\n",
      "\n",
      "  valid loss  = 0.181659283009684\n",
      "  valid acc   = 0.92845\n",
      "  valid AUROC = 0.9801839840152168\n",
      "  valid AUPRC = 0.9787043860575515\n",
      "  Lower validation loss found. Saving parameters to: ../../../results/trna/RNN_t1_best\n",
      "epoch: 16\n",
      "[=========================] 99.9% -- elapsed time=116.39s -- loss=0.17925 -- acc=0.9294404\n",
      "\n",
      "  valid loss  = 0.17600208686985028\n",
      "  valid acc   = 0.92815\n",
      "  valid AUROC = 0.9815730820810218\n",
      "  valid AUPRC = 0.9802587950205361\n",
      "  Lower validation loss found. Saving parameters to: ../../../results/trna/RNN_t1_best\n",
      "epoch: 17\n",
      "[=========================] 99.9% -- elapsed time=114.82s -- loss=0.16786 -- acc=0.9331037\n",
      "\n",
      "  valid loss  = 0.17654796523653019\n",
      "  valid acc   = 0.9316\n",
      "  valid AUROC = 0.9825387393982304\n",
      "  valid AUPRC = 0.9812095719670771\n",
      "epoch: 18\n",
      "[=========================] 99.9% -- elapsed time=114.67s -- loss=0.16262 -- acc=0.9351745\n",
      "\n",
      "  valid loss  = 0.15994095261309557\n",
      "  valid acc   = 0.9382\n",
      "  valid AUROC = 0.9844407775981024\n",
      "  valid AUPRC = 0.9832814660443095\n",
      "  Lower validation loss found. Saving parameters to: ../../../results/trna/RNN_t1_best\n",
      "epoch: 19\n",
      "[=========================] 99.9% -- elapsed time=114.24s -- loss=0.15318 -- acc=0.9402211\n",
      "\n",
      "  valid loss  = 0.15441842220581262\n",
      "  valid acc   = 0.9396\n",
      "  valid AUROC = 0.9855096699738288\n",
      "  valid AUPRC = 0.9844512498472897\n",
      "  Lower validation loss found. Saving parameters to: ../../../results/trna/RNN_t1_best\n",
      "epoch: 20\n",
      "[=========================] 99.9% -- elapsed time=113.25s -- loss=0.14911 -- acc=0.9420599\n",
      "\n",
      "  valid loss  = 0.1460162222053215\n",
      "  valid acc   = 0.94355\n",
      "  valid AUROC = 0.9872355895438877\n",
      "  valid AUPRC = 0.9861625566261187\n",
      "  Lower validation loss found. Saving parameters to: ../../../results/trna/RNN_t1_best\n",
      "epoch: 21\n",
      "[=========================] 99.9% -- elapsed time=113.28s -- loss=0.14175 -- acc=0.9449356\n",
      "\n",
      "  valid loss  = 0.15334957809584915\n",
      "  valid acc   = 0.9421\n",
      "  valid AUROC = 0.9863325702959446\n",
      "  valid AUPRC = 0.9853524611407837\n",
      "epoch: 22\n",
      "[=========================] 99.9% -- elapsed time=112.75s -- loss=0.13520 -- acc=0.9474096\n",
      "\n",
      "  valid loss  = 0.14703543303878444\n",
      "  valid acc   = 0.94315\n",
      "  valid AUROC = 0.9880385638896306\n",
      "  valid AUPRC = 0.9871558308929678\n",
      "epoch: 23\n",
      "[=========================] 99.9% -- elapsed time=111.49s -- loss=0.13097 -- acc=0.9486900\n",
      "\n",
      "  valid loss  = 0.13775926275522846\n",
      "  valid acc   = 0.9472\n",
      "  valid AUROC = 0.9885535991263573\n",
      "  valid AUPRC = 0.9875599161019597\n",
      "  Lower validation loss found. Saving parameters to: ../../../results/trna/RNN_t1_best\n",
      "epoch: 24\n",
      "[=========================] 99.9% -- elapsed time=114.01s -- loss=0.12407 -- acc=0.9517817\n",
      "\n",
      "  valid loss  = 0.1589297471200205\n",
      "  valid acc   = 0.9395\n",
      "  valid AUROC = 0.9856883187276178\n",
      "  valid AUPRC = 0.9846451727328471\n",
      "epoch: 25\n",
      "[=========================] 99.9% -- elapsed time=111.53s -- loss=0.11959 -- acc=0.9538028\n",
      "\n",
      "  valid loss  = 0.13127418182742823\n",
      "  valid acc   = 0.9493\n",
      "  valid AUROC = 0.989885444386775\n",
      "  valid AUPRC = 0.9892213883338088\n",
      "  Lower validation loss found. Saving parameters to: ../../../results/trna/RNN_t1_best\n",
      "epoch: 26\n",
      "[=========================] 99.9% -- elapsed time=111.66s -- loss=0.11571 -- acc=0.9555455\n",
      "\n",
      "  valid loss  = 0.13166682386569156\n",
      "  valid acc   = 0.9514\n",
      "  valid AUROC = 0.9895983853208808\n",
      "  valid AUPRC = 0.9889453139727615\n",
      "epoch: 27\n",
      "[=========================] 99.9% -- elapsed time=111.19s -- loss=0.11068 -- acc=0.957809\n",
      "\n",
      "  valid loss  = 0.12695412272528098\n",
      "  valid acc   = 0.95175\n",
      "  valid AUROC = 0.9911002939144019\n",
      "  valid AUPRC = 0.990241195948643\n",
      "  Lower validation loss found. Saving parameters to: ../../../results/trna/RNN_t1_best\n",
      "epoch: 28\n",
      "[=========================] 99.9% -- elapsed time=111.20s -- loss=0.10723 -- acc=0.9589168\n",
      "\n",
      "  valid loss  = 0.12139907094893182\n",
      "  valid acc   = 0.95465\n",
      "  valid AUROC = 0.9914114341602739\n",
      "  valid AUPRC = 0.9904894514639385\n",
      "  Lower validation loss found. Saving parameters to: ../../../results/trna/RNN_t1_best\n",
      "epoch: 29\n",
      "[=========================] 99.9% -- elapsed time=111.28s -- loss=0.10338 -- acc=0.960394\n",
      "\n",
      "  valid loss  = 0.11725779251450566\n",
      "  valid acc   = 0.95535\n",
      "  valid AUROC = 0.9920308895135862\n",
      "  valid AUPRC = 0.9913022026042523\n",
      "  Lower validation loss found. Saving parameters to: ../../../results/trna/RNN_t1_best\n",
      "epoch: 30\n",
      "[=========================] 99.9% -- elapsed time=111.53s -- loss=0.09974 -- acc=0.962197\n",
      "\n",
      "  valid loss  = 0.11651968074499801\n",
      "  valid acc   = 0.95845\n",
      "  valid AUROC = 0.9916920879123078\n",
      "  valid AUPRC = 0.9907810135392219\n",
      "  Lower validation loss found. Saving parameters to: ../../../results/trna/RNN_t1_best\n",
      "epoch: 31\n",
      "[=========================] 99.9% -- elapsed time=111.36s -- loss=0.09644 -- acc=0.963289\n",
      "\n",
      "  valid loss  = 0.1192066239750689\n",
      "  valid acc   = 0.95655\n",
      "  valid AUROC = 0.9918842623288542\n",
      "  valid AUPRC = 0.9910016293112291\n",
      "epoch: 32\n",
      "[=========================] 99.9% -- elapsed time=112.12s -- loss=0.09363 -- acc=0.9642774\n",
      "\n",
      "  valid loss  = 0.11388408406904549\n",
      "  valid acc   = 0.95705\n",
      "  valid AUROC = 0.9924316841525235\n",
      "  valid AUPRC = 0.9917013155074923\n",
      "  Lower validation loss found. Saving parameters to: ../../../results/trna/RNN_t1_best\n",
      "epoch: 33\n",
      "[=========================] 99.9% -- elapsed time=111.43s -- loss=0.09237 -- acc=0.965474\n",
      "\n",
      "  valid loss  = 0.11238485931828143\n",
      "  valid acc   = 0.9587\n",
      "  valid AUROC = 0.992408203001947\n",
      "  valid AUPRC = 0.9916437622379519\n",
      "  Lower validation loss found. Saving parameters to: ../../../results/trna/RNN_t1_best\n",
      "epoch: 34\n",
      "[=========================] 99.9% -- elapsed time=111.61s -- loss=0.08775 -- acc=0.9666887\n",
      "\n",
      "  valid loss  = 0.12302108625080554\n",
      "  valid acc   = 0.95645\n",
      "  valid AUROC = 0.9909211851380717\n",
      "  valid AUPRC = 0.9899489070260572\n",
      "epoch: 35\n",
      "[=========================] 99.9% -- elapsed time=111.36s -- loss=0.08563 -- acc=0.967682\n",
      "\n",
      "  valid loss  = 0.11268089848101899\n",
      "  valid acc   = 0.9597\n",
      "  valid AUROC = 0.9929439292525335\n",
      "  valid AUPRC = 0.9920696787626763\n",
      "epoch: 36\n",
      "[=========================] 99.9% -- elapsed time=111.15s -- loss=0.08417 -- acc=0.967996\n",
      "\n",
      "  valid loss  = 0.10659299341214311\n",
      "  valid acc   = 0.96155\n",
      "  valid AUROC = 0.9932091622489502\n",
      "  valid AUPRC = 0.9927034277628684\n",
      "  Lower validation loss found. Saving parameters to: ../../../results/trna/RNN_t1_best\n",
      "epoch: 37\n",
      "[=========================] 99.9% -- elapsed time=111.71s -- loss=0.08093 -- acc=0.9692010\n",
      "\n",
      "  valid loss  = 0.10906146431140079\n",
      "  valid acc   = 0.9612\n",
      "  valid AUROC = 0.993452274161434\n",
      "  valid AUPRC = 0.9928049427128559\n",
      "epoch: 38\n",
      "[=========================] 99.9% -- elapsed time=111.92s -- loss=0.07810 -- acc=0.9703624\n",
      "\n",
      "  valid loss  = 0.10500668325004683\n",
      "  valid acc   = 0.96135\n",
      "  valid AUROC = 0.9933088471335095\n",
      "  valid AUPRC = 0.9924653188189252\n",
      "  Lower validation loss found. Saving parameters to: ../../../results/trna/RNN_t1_best\n",
      "epoch: 39\n",
      "[=========================] 99.9% -- elapsed time=111.56s -- loss=0.07652 -- acc=0.970926\n",
      "\n",
      "  valid loss  = 0.10736915744413995\n",
      "  valid acc   = 0.9616\n",
      "  valid AUROC = 0.9933966364351853\n",
      "  valid AUPRC = 0.99245005867844\n",
      "epoch: 40\n",
      "[=========================] 99.9% -- elapsed time=111.69s -- loss=0.07336 -- acc=0.9724834\n",
      "\n",
      "  valid loss  = 0.10409061946449386\n",
      "  valid acc   = 0.9632\n",
      "  valid AUROC = 0.9934111421459653\n",
      "  valid AUPRC = 0.9923790540804907\n",
      "  Lower validation loss found. Saving parameters to: ../../../results/trna/RNN_t1_best\n",
      "epoch: 41\n",
      "[=========================] 99.9% -- elapsed time=111.56s -- loss=0.07246 -- acc=0.9728151\n",
      "\n",
      "  valid loss  = 0.10289609535437101\n",
      "  valid acc   = 0.9629\n",
      "  valid AUROC = 0.9934051368517057\n",
      "  valid AUPRC = 0.9927217114594795\n",
      "  Lower validation loss found. Saving parameters to: ../../../results/trna/RNN_t1_best\n",
      "epoch: 42\n",
      "[=========================] 99.9% -- elapsed time=111.03s -- loss=0.07017 -- acc=0.973770\n",
      "\n",
      "  valid loss  = 0.10335823626607467\n",
      "  valid acc   = 0.9645\n",
      "  valid AUROC = 0.9935927360440661\n",
      "  valid AUPRC = 0.992972845221559\n",
      "epoch: 43\n",
      "[=========================] 99.9% -- elapsed time=111.33s -- loss=0.06731 -- acc=0.9747930\n",
      "\n",
      "  valid loss  = 0.10820000205829644\n",
      "  valid acc   = 0.9621\n",
      "  valid AUROC = 0.9941892752744884\n",
      "  valid AUPRC = 0.9933951543957442\n",
      "epoch: 44\n",
      "[=========================] 99.9% -- elapsed time=111.22s -- loss=0.06630 -- acc=0.975320\n",
      "\n",
      "  valid loss  = 0.1016227990554966\n",
      "  valid acc   = 0.96405\n",
      "  valid AUROC = 0.9940643291521285\n",
      "  valid AUPRC = 0.9933601250070987\n",
      "  Lower validation loss found. Saving parameters to: ../../../results/trna/RNN_t1_best\n",
      "epoch: 45\n",
      "[=========================] 99.9% -- elapsed time=111.54s -- loss=0.06401 -- acc=0.976157\n",
      "\n",
      "  valid loss  = 0.09721428062173591\n",
      "  valid acc   = 0.9665\n",
      "  valid AUROC = 0.9941725394544332\n",
      "  valid AUPRC = 0.9934686894665249\n",
      "  Lower validation loss found. Saving parameters to: ../../../results/trna/RNN_t1_best\n",
      "epoch: 46\n",
      "[=========================] 99.9% -- elapsed time=114.58s -- loss=0.06192 -- acc=0.9769347\n",
      "\n",
      "  valid loss  = 0.10152443676332759\n",
      "  valid acc   = 0.9656\n",
      "  valid AUROC = 0.9940631440940607\n",
      "  valid AUPRC = 0.9933886390030404\n",
      "epoch: 47\n",
      "[=========================] 99.9% -- elapsed time=112.65s -- loss=0.06330 -- acc=0.9759267\n",
      "\n",
      "  valid loss  = 0.10621372910489323\n",
      "  valid acc   = 0.9654\n",
      "  valid AUROC = 0.9935592944054259\n",
      "  valid AUPRC = 0.9923933538144136\n",
      "epoch: 48\n",
      "[=========================] 99.9% -- elapsed time=111.97s -- loss=0.05770 -- acc=0.9779459\n",
      "\n",
      "  valid loss  = 0.10185075059509391\n",
      "  valid acc   = 0.9652\n",
      "  valid AUROC = 0.9944548532878111\n",
      "  valid AUPRC = 0.9936788899771785\n",
      "epoch: 49\n",
      "[=========================] 99.9% -- elapsed time=112.27s -- loss=0.05894 -- acc=0.9777914\n",
      "\n",
      "  valid loss  = 0.0997599522363703\n",
      "  valid acc   = 0.96755\n",
      "  valid AUROC = 0.99443357224504\n",
      "  valid AUPRC = 0.9936954193367934\n",
      "epoch: 50\n",
      "[=========================] 99.9% -- elapsed time=116.05s -- loss=0.05654 -- acc=0.9787595\n",
      "\n",
      "  valid loss  = 0.1010229091432871\n",
      "  valid acc   = 0.9666\n",
      "  valid AUROC = 0.9944854347863046\n",
      "  valid AUPRC = 0.9937123722919249\n"
     ]
    }
   ],
   "source": [
    "batch_size = 128\n",
    "train_batches = helper.bucket_generator(X_train_unalign, Y_train, batch_size)\n",
    "valid_batches = helper.bucket_generator(X_valid_unalign, Y_valid, batch_size)\n",
    "num_epochs = 50\n",
    "bar_length = 25\n",
    "patience = 10\n",
    "\n",
    "\n",
    "# path to save results\n",
    "save_path = '../../../results/trna'\n",
    "if not os.path.isdir(save_path):\n",
    "    os.mkdir(save_path)\n",
    "    print(\"making directory: \" + save_path)\n",
    "params_filename = 'RNN_t1' + '_best'\n",
    "params_path = os.path.join(save_path, params_filename)\n",
    "    \n",
    "wait=0\n",
    "min_loss = 1e10\n",
    "for epoch in range(num_epochs):\n",
    "    print('epoch: '+ str(epoch+1))\n",
    "    \n",
    "    num_batches = len(train_batches)\n",
    "    shuffled_batches = []\n",
    "    for i in np.random.permutation(num_batches):\n",
    "        shuffled_batches.append(train_batches[i])\n",
    "        \n",
    "    loss = 0\n",
    "    acc = 0\n",
    "    start_time = time.time()\n",
    "    for i, batch in enumerate(shuffled_batches):\n",
    "        batch_loss, batch_acc, _ = sess.run([total_loss, accuracy, train_op], feed_dict={X: batch[0], \n",
    "                                                                                      Y: batch[1], \n",
    "                                                                                      keep_prob: 0.5,\n",
    "                                                                                      learning_rate: 0.0003})            \n",
    "        loss += batch_loss\n",
    "        acc += batch_acc\n",
    "\n",
    "        remaining_time = (time.time()-start_time)*(num_batches-(i+1))/(i+1)\n",
    "        percent = float(i)/num_batches\n",
    "        progress = '='*int(round(percent*bar_length))\n",
    "        spaces = ' '*int(bar_length-round(percent*bar_length))\n",
    "        sys.stdout.write(\"\\r[%s] %.1f%% -- remaining time=%.2fs -- loss=%.5f -- acc=%.5f\" \\\n",
    "        %(progress+spaces, percent*100, remaining_time, loss/(i+1), acc/(i+1)))\n",
    "        \n",
    "    sys.stdout.write(\"\\r[%s] %.1f%% -- elapsed time=%.2fs -- loss=%.5f -- acc=%.5f\\n\" \\\n",
    "    %(progress+spaces, percent*100, time.time()-start_time, loss/(i+1), acc/(i+1)))\n",
    "    sys.stdout.write(\"\\n\")\n",
    "    \n",
    "    \n",
    "    num_batches = len(valid_batches)\n",
    "    loss = 0\n",
    "    acc = 0\n",
    "    valid_predictions = []\n",
    "    valid_truth = []\n",
    "    start_time = time.time()\n",
    "    for i, batch in enumerate(valid_batches):\n",
    "        batch_loss, batch_predict = sess.run([total_loss, predictions], feed_dict={X: batch[0], \n",
    "                                                                                Y: batch[1], \n",
    "                                                                                keep_prob: 1.0})            \n",
    "        loss += batch_loss\n",
    "        valid_predictions.append(batch_predict)\n",
    "        valid_truth.append(batch[1])\n",
    "    valid_loss = loss/num_batches\n",
    "    valid_predictions = np.vstack(valid_predictions)\n",
    "    valid_truth = np.vstack(valid_truth)\n",
    "    \n",
    "    correct = np.mean(np.equal(valid_truth, np.round(valid_predictions)))\n",
    "    auc_roc, roc_curves = helper.roc(valid_truth, valid_predictions)\n",
    "    auc_pr, pr_curves = helper.pr(valid_truth, valid_predictions)\n",
    "    print(\"  valid loss  = \"+str(loss/num_batches))\n",
    "    print(\"  valid acc   = \"+str(np.nanmean(correct)))\n",
    "    print(\"  valid AUROC = \"+str(np.nanmean(auc_roc)))\n",
    "    print(\"  valid AUPRC = \"+str(np.nanmean(auc_pr)))\n",
    "    \n",
    "    # check if current validation loss is lower, if so, save parameters, if not check patience\n",
    "    if valid_loss < min_loss:\n",
    "        print(\"  Lower validation loss found. Saving parameters to: \"+params_path)\n",
    "        \n",
    "        # save model parameters\n",
    "        saver = tf.train.Saver()\n",
    "        saver.save(sess, save_path=params_path)\n",
    "        \n",
    "        # set minimum loss to the current validation loss\n",
    "        min_loss = valid_loss\n",
    "        \n",
    "        # reset wait time\n",
    "        wait = 0\n",
    "    else:\n",
    "        \n",
    "        # add to wait time\n",
    "        wait += 1\n",
    "        \n",
    "        # check to see if patience has run out\n",
    "        if wait == patience:\n",
    "            print(\"Patience ran out... early stopping!\")\n",
    "            break"
   ]
  },
  {
   "cell_type": "code",
   "execution_count": 16,
   "metadata": {
    "collapsed": true
   },
   "outputs": [],
   "source": [
    "# close tensorflow session (Note, the graph is still open)\n",
    "sess.close()"
   ]
  },
  {
   "cell_type": "markdown",
   "metadata": {},
   "source": [
    "# Test Model"
   ]
  },
  {
   "cell_type": "code",
   "execution_count": 9,
   "metadata": {
    "collapsed": false
   },
   "outputs": [
    {
     "name": "stdout",
     "output_type": "stream",
     "text": [
      "INFO:tensorflow:Restoring parameters from ../../results/trainsize/rnn_trna_tp030_best\n"
     ]
    }
   ],
   "source": [
    "\n",
    "sess = tf.Session()\n",
    "sess.run(tf.global_variables_initializer())\n",
    "\n",
    "# path to save results\n",
    "save_path = '../../results/trainsize'\n",
    "params_filename = 'rnn_trna_tp030' + '_best'\n",
    "params_path = os.path.join(save_path, params_filename)\n",
    "\n",
    "# restore trained parameters\n",
    "saver = tf.train.Saver()\n",
    "saver.restore(sess, save_path=params_path)"
   ]
  },
  {
   "cell_type": "code",
   "execution_count": 10,
   "metadata": {
    "collapsed": false
   },
   "outputs": [
    {
     "name": "stdout",
     "output_type": "stream",
     "text": [
      "[=========================] 99.8% -- elapsed time=19.54s -- loss=0.12452 -- acc=0.0000000\n",
      "\n",
      "  test loss  = 0.12451502674424064\n",
      "  test acc   = 0.9549\n",
      "  test AUROC = 0.9906611993006548\n",
      "  test AUPRC = 0.9901729358326938\n"
     ]
    }
   ],
   "source": [
    "batch_size = 128\n",
    "batches, sort_index = helper.bucket_generator(X_test_unalign, Y_test, batch_size, index=True)\n",
    "num_batches = len(batches)\n",
    "\n",
    "loss = 0\n",
    "acc = 0\n",
    "valid_predictions = []\n",
    "valid_truth = []\n",
    "start_time = time.time()\n",
    "num_batches = len(batches)\n",
    "bar_length = 25\n",
    "\n",
    "for i, batch in enumerate(batches):\n",
    "\n",
    "    batch_loss, batch_predict = sess.run([total_loss, predictions], feed_dict={X: batch[0], \n",
    "                                                                            Y: batch[1], \n",
    "                                                                            keep_prob: 1.0})            \n",
    "    loss += batch_loss\n",
    "    valid_predictions.append(batch_predict)\n",
    "    valid_truth.append(batch[1])\n",
    "    \n",
    "    remaining_time = (time.time()-start_time)*(num_batches-(i+1))/(i+1)\n",
    "    percent = float(i)/num_batches\n",
    "    progress = '='*int(round(percent*bar_length))\n",
    "    spaces = ' '*int(bar_length-round(percent*bar_length))\n",
    "    sys.stdout.write(\"\\r[%s] %.1f%% -- remaining time=%.2fs -- loss=%.5f -- acc=%.5f\" \\\n",
    "    %(progress+spaces, percent*100, remaining_time, loss/(i+1), acc/(i+1)))\n",
    "\n",
    "sys.stdout.write(\"\\r[%s] %.1f%% -- elapsed time=%.2fs -- loss=%.5f -- acc=%.5f\\n\" \\\n",
    "%(progress+spaces, percent*100, time.time()-start_time, loss/(i+1), acc/(i+1)))\n",
    "sys.stdout.write(\"\\n\")\n",
    "\n",
    "valid_predictions = np.vstack(valid_predictions)\n",
    "valid_truth = np.vstack(valid_truth)\n",
    "\n",
    "correct = np.mean(np.equal(valid_truth, np.round(valid_predictions)))\n",
    "auc_roc, roc_curves = helper.roc(valid_truth, valid_predictions)\n",
    "auc_pr, pr_curves = helper.pr(valid_truth, valid_predictions)\n",
    "mean = [np.nanmean(correct), np.nanmean(auc_roc), np.nanmean(auc_pr)]\n",
    "std = [np.nanstd(correct), np.nanstd(auc_roc), np.nanstd(auc_pr)]\n",
    "\n",
    "print(\"  test loss  = \"+str(loss/num_batches))\n",
    "print(\"  test acc   = \"+str(np.nanmean(correct)))\n",
    "print(\"  test AUROC = \"+str(np.nanmean(auc_roc)))\n",
    "print(\"  test AUPRC = \"+str(np.nanmean(auc_pr)))"
   ]
  },
  {
   "cell_type": "code",
   "execution_count": 14,
   "metadata": {
    "collapsed": false
   },
   "outputs": [],
   "source": [
    "WT_predictions = valid_predictions[np.argsort(sort_index)]\n",
    "plot_index = np.argsort(WT_predictions[:,0])[::-1]"
   ]
  },
  {
   "cell_type": "code",
   "execution_count": 15,
   "metadata": {
    "collapsed": false
   },
   "outputs": [
    {
     "data": {
      "image/png": "[encoded data removed]",
      "text/plain": [
       "<matplotlib.figure.Figure at 0x7ff7ddcc7090>"
      ]
     },
     "metadata": {},
     "output_type": "display_data"
    }
   ],
   "source": [
    "#Does score depend on length?\n",
    "lengths = np.asarray([len(x) for x in X_test_unalign])\n",
    "lengths = lengths[plot_index[:30000]]\n",
    "plt.figure()\n",
    "plt.scatter(range(len(lengths)), lengths)\n",
    "plt.show()"
   ]
  },
  {
   "cell_type": "markdown",
   "metadata": {},
   "source": [
    "# Second Order Mutagenesis"
   ]
  },
  {
   "cell_type": "code",
   "execution_count": 16,
   "metadata": {
    "collapsed": false
   },
   "outputs": [],
   "source": [
    "def second_order_mutagenesis(sess, predictions, X_val, ugidx):\n",
    "    seqlen, dims = X_val.shape\n",
    "    idxlen = len(ugidx)\n",
    "\n",
    "    # get wild-type score\n",
    "    wt_score = sess.run(predictions, feed_dict={X: np.expand_dims(unalign(X_val), axis=0), keep_prob: 1.0})[0]     \n",
    "\n",
    "    # generate mutagenesis sequences\n",
    "    num_mut = idxlen**2*dims**2\n",
    "    X_mut = np.einsum('nl,lka->nka', np.ones((num_mut, 1)), np.expand_dims(X_val, axis=0))\n",
    "\n",
    "    k=0\n",
    "    for position1 in ugidx:\n",
    "        for position2 in ugidx:\n",
    "            for nuc1 in range(dims):\n",
    "                for nuc2 in range(dims):\n",
    "                    X_mut[k, position1, :] = 0\n",
    "                    X_mut[k, position1, nuc1] = 1        \n",
    "                    X_mut[k, position2, :] = 0\n",
    "                    X_mut[k, position2, nuc2] = 1        \n",
    "                    k += 1\n",
    "\n",
    "    # get second order mutagenesis score\n",
    "    X_mut_unalign = [unalign(x) for x in X_mut]\n",
    "    mut_scores = []\n",
    "    batches = helper.batch_generator(X_mut_unalign, batch_size=512, MAX=None, shuffle_data=False)\n",
    "    for i, batch in enumerate(batches):\n",
    "        batch_predict = sess.run(predictions, feed_dict={X: batch, keep_prob: 1.0})            \n",
    "        mut_scores.append(batch_predict)\n",
    "    mut_scores = np.vstack(mut_scores)\n",
    "    \n",
    "    # calculate log-odds score\n",
    "    log_odds = np.log(mut_scores + 1e-7) - np.log(wt_score + 1e-7)\n",
    "\n",
    "\n",
    "    # reshape second order scores\n",
    "    second_mutagenesis_logodds = np.zeros((idxlen, idxlen, dims, dims))\n",
    "    #second_mutagenesis_just = np.zeros((idxlen, idxlen, dims, dims))\n",
    "    k = 0\n",
    "    for i in range(idxlen):\n",
    "        for j in range(idxlen):\n",
    "            for m in range(dims):\n",
    "                for n in range(dims):\n",
    "                    second_mutagenesis_logodds[i,j,m,n] = log_odds[k,0]\n",
    "                    #second_mutagenesis_just[i,j,m,n] = mut_scores[k,0]\n",
    "                    k += 1\n",
    "    return second_mutagenesis_logodds#, second_mutagenesis_just"
   ]
  },
  {
   "cell_type": "code",
   "execution_count": 17,
   "metadata": {
    "collapsed": false,
    "scrolled": true
   },
   "outputs": [
    {
     "name": "stdout",
     "output_type": "stream",
     "text": [
      "\r",
      "[                                                  ] 0.0% -- remaining time=23884.97s"
     ]
    },
    {
     "name": "stderr",
     "output_type": "stream",
     "text": [
      "/home/peter/anaconda2/envs/tensorflow/lib/python2.7/site-packages/ipykernel/__main__.py:33: RuntimeWarning: invalid value encountered in log\n"
     ]
    },
    {
     "name": "stdout",
     "output_type": "stream",
     "text": [
      "[==================================================] 100.0% -- elapsed time=20872.11ss\n"
     ]
    }
   ],
   "source": [
    "\n",
    "for layer in [logits]: #[predictions, logits]:\n",
    "    start_time = time.time()\n",
    "    np.random.seed(274)\n",
    "\n",
    "    bar_length = 50\n",
    "    N = 2000\n",
    "    mutagenesis_logodds = []\n",
    "    for i, index in enumerate(plot_index[:N]):\n",
    "        logresult = second_order_mutagenesis(sess, layer, X_test[index], ugidx)\n",
    "        mutagenesis_logodds.append(logresult)\n",
    "        #mutagenesis_just.append(justresult)\n",
    "\n",
    "\n",
    "        remaining_time = (time.time()-start_time)*(N-(i+1))/(i+1)\n",
    "        percent = float(i)/N\n",
    "        progress = '='*int(round(percent*bar_length))\n",
    "        spaces = ' '*int(bar_length-round(percent*bar_length))\n",
    "        sys.stdout.write(\"\\r[%s] %.1f%% -- remaining time=%.2fs\" \\\n",
    "        %(progress+spaces, percent*100, remaining_time))\n",
    "\n",
    "    sys.stdout.write(\"\\r[%s] %.1f%% -- elapsed time=%.2fs\" \\\n",
    "    %(progress+spaces, percent*100, time.time()-start_time))\n",
    "    sys.stdout.write(\"\\n\")\n",
    "    \n",
    "    \n"
   ]
  },
  {
   "cell_type": "code",
   "execution_count": 20,
   "metadata": {
    "collapsed": false
   },
   "outputs": [
    {
     "data": {
      "text/plain": [
       "(2000, 71, 71, 4, 4)"
      ]
     },
     "execution_count": 20,
     "metadata": {},
     "output_type": "execute_result"
    }
   ],
   "source": [
    "np.shape(mutagenesis_logodds)"
   ]
  },
  {
   "cell_type": "code",
   "execution_count": 21,
   "metadata": {
    "collapsed": false
   },
   "outputs": [],
   "source": [
    "savepath = 'Arrays/trainsize_rnntrna_tp030_so.npy'\n",
    "np.save(savepath, np.mean(mutagenesis_logodds, axis=0))"
   ]
  },
  {
   "cell_type": "code",
   "execution_count": 22,
   "metadata": {
    "collapsed": false
   },
   "outputs": [],
   "source": [
    "savepath = 'Arrays/trainsize_rnntrna_tp030_so.npy'\n"
   ]
  },
  {
   "cell_type": "code",
   "execution_count": 23,
   "metadata": {
    "collapsed": false
   },
   "outputs": [],
   "source": [
    "mut_scores = np.load(savepath)"
   ]
  },
  {
   "cell_type": "code",
   "execution_count": 24,
   "metadata": {
    "collapsed": true
   },
   "outputs": [],
   "source": [
    "def normalize_mut_hol(hol_mut, normfactor=None):\n",
    "    norm_hol_mut = np.copy(hol_mut)\n",
    "    for one in range(hol_mut.shape[0]):\n",
    "        for two in range(hol_mut.shape[0]):\n",
    "            norm_hol_mut[one, two] = mf.normalize_hol(hol_mut[one, two], factor=normfactor)\n",
    "    return norm_hol_mut"
   ]
  },
  {
   "cell_type": "code",
   "execution_count": null,
   "metadata": {
    "collapsed": true
   },
   "outputs": [],
   "source": []
  },
  {
   "cell_type": "code",
   "execution_count": 26,
   "metadata": {
    "collapsed": false
   },
   "outputs": [
    {
     "name": "stderr",
     "output_type": "stream",
     "text": [
      "/home/peter/anaconda2/envs/tensorflow/lib/python2.7/site-packages/numpy/core/_methods.py:26: RuntimeWarning: invalid value encountered in reduce\n",
      "  return umr_maximum(a, axis, None, out, keepdims)\n"
     ]
    },
    {
     "data": {
      "text/plain": [
       "<function matplotlib.pyplot.show>"
      ]
     },
     "execution_count": 26,
     "metadata": {},
     "output_type": "execute_result"
    },
    {
     "data": {
      "image/png": "[encoded data removed]",
      "text/plain": [
       "<matplotlib.figure.Figure at 0x7ff6741eb610>"
      ]
     },
     "metadata": {},
     "output_type": "display_data"
    }
   ],
   "source": [
    "#average the values\n",
    "#mean_mut2 = np.nanmean(mut_scores, axis=0)\n",
    "\n",
    "norm_mean_mut2 = normalize_mut_hol(mut_scores, normfactor=1)\n",
    "\n",
    "#Let's try something weird\n",
    "bpfilter = np.ones((4,4))*-1\n",
    "for i,j in zip(range(4), range(4)):\n",
    "    bpfilter[i, -(j+1)] = 1.\n",
    "\n",
    "#C = np.sum((mean_mut2*bpfilter).reshape(numug,numug,dims*dims), axis=2)\n",
    "#norm_mean_mut2= mean_mut2 + np.min(mean_mut2)#np.exp(norm_mean_mut2)  #\n",
    "C = np.sum((norm_mean_mut2*bpfilter).reshape(numug,numug,dims*dims), axis=2)\n",
    "#C = C - np.mean(C)\n",
    "#C = C/np.max(C)\n",
    "\n",
    "color = 'Oranges'\n",
    "\n",
    "plt.figure(figsize=(15,6))\n",
    "plt.subplot(1,2,1)\n",
    "sb.heatmap(C, xticklabels=bpugSQ, yticklabels=bpugSQ, vmin=None, cmap=color , linewidth=0.00)\n",
    "plt.title('Base Pair score for the ungapped consensus regions given by infernal')\n",
    "plt.xlabel('Ungapped nucleotides: pos 1')\n",
    "plt.ylabel('Ungapped nucleotides: pos 2')\n",
    "plt.subplot(1,2,2)\n",
    "sb.heatmap(C[bpugidx][:, bpugidx], xticklabels=bpSS, vmin=None, yticklabels=bpSS, cmap=color, linewidth=0.0)\n",
    "plt.title('Base Pair score for the base paired consensus regions given by infernal')\n",
    "plt.xlabel('Base Paired nucleotides: pos 1')\n",
    "plt.ylabel('Base Paired nucleotides: pos 2')\n",
    "plt.show"
   ]
  },
  {
   "cell_type": "code",
   "execution_count": 135,
   "metadata": {
    "collapsed": false
   },
   "outputs": [
    {
     "data": {
      "text/plain": [
       "array([list([5, 5, 5, 5, 5]), list([4]), list([3, 3, 3, 3]), list([2, 2]),\n",
       "       list([1, 1, 1])], dtype=object)"
      ]
     },
     "execution_count": 135,
     "metadata": {},
     "output_type": "execute_result"
    }
   ],
   "source": [
    "A = [1,1,1]\n",
    "B = [2,2]\n",
    "C = [3,3,3,3]\n",
    "D = [4]\n",
    "E = [5,5,5,5,5]\n",
    "\n",
    "p = np.array([D, E, B, A, C])\n",
    "\n",
    "lengths = []\n",
    "for i in p:\n",
    "    lengths.append(len(i))\n",
    "sort_idx = np.argsort(lengths)\n",
    "r = np.array([4,2,1,3,5])\n",
    "p[np.argsort(r[np.argsort(sort_idx)])[::-1]]\n"
   ]
  },
  {
   "cell_type": "code",
   "execution_count": null,
   "metadata": {
    "collapsed": true
   },
   "outputs": [],
   "source": []
  }
 ],
 "metadata": {
  "kernelspec": {
   "display_name": "Python 2",
   "language": "python",
   "name": "python2"
  },
  "language_info": {
   "codemirror_mode": {
    "name": "ipython",
    "version": 2
   },
   "file_extension": ".py",
   "mimetype": "text/x-python",
   "name": "python",
   "nbconvert_exporter": "python",
   "pygments_lexer": "ipython2",
   "version": "2.7.13"
  }
 },
 "nbformat": 4,
 "nbformat_minor": 2
}
